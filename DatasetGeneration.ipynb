{
 "cells": [
  {
   "cell_type": "code",
   "execution_count": 1,
   "metadata": {
    "colab": {
     "base_uri": "https://localhost:8080/"
    },
    "id": "yMSyS33VMlXl",
    "outputId": "22f37e83-b33d-4b48-c417-67c226f52ed9"
   },
   "outputs": [
    {
     "name": "stdout",
     "output_type": "stream",
     "text": [
      "Requirement already satisfied: yfinance in c:\\users\\ritik\\anaconda3\\lib\\site-packages (0.2.55)\n",
      "Requirement already satisfied: mplfinance in c:\\users\\ritik\\anaconda3\\lib\\site-packages (0.12.10b0)\n",
      "Requirement already satisfied: pandas in c:\\users\\ritik\\anaconda3\\lib\\site-packages (2.2.2)\n",
      "Requirement already satisfied: numpy in c:\\users\\ritik\\anaconda3\\lib\\site-packages (1.26.4)\n",
      "Requirement already satisfied: requests>=2.31 in c:\\users\\ritik\\anaconda3\\lib\\site-packages (from yfinance) (2.32.3)\n",
      "Requirement already satisfied: multitasking>=0.0.7 in c:\\users\\ritik\\anaconda3\\lib\\site-packages (from yfinance) (0.0.11)\n",
      "Requirement already satisfied: platformdirs>=2.0.0 in c:\\users\\ritik\\anaconda3\\lib\\site-packages (from yfinance) (3.10.0)\n",
      "Requirement already satisfied: pytz>=2022.5 in c:\\users\\ritik\\anaconda3\\lib\\site-packages (from yfinance) (2024.1)\n",
      "Requirement already satisfied: frozendict>=2.3.4 in c:\\users\\ritik\\anaconda3\\lib\\site-packages (from yfinance) (2.4.2)\n",
      "Requirement already satisfied: peewee>=3.16.2 in c:\\users\\ritik\\anaconda3\\lib\\site-packages (from yfinance) (3.17.9)\n",
      "Requirement already satisfied: beautifulsoup4>=4.11.1 in c:\\users\\ritik\\anaconda3\\lib\\site-packages (from yfinance) (4.12.3)\n",
      "Requirement already satisfied: matplotlib in c:\\users\\ritik\\anaconda3\\lib\\site-packages (from mplfinance) (3.9.2)\n",
      "Requirement already satisfied: python-dateutil>=2.8.2 in c:\\users\\ritik\\anaconda3\\lib\\site-packages (from pandas) (2.9.0.post0)\n",
      "Requirement already satisfied: tzdata>=2022.7 in c:\\users\\ritik\\anaconda3\\lib\\site-packages (from pandas) (2023.3)\n",
      "Requirement already satisfied: soupsieve>1.2 in c:\\users\\ritik\\anaconda3\\lib\\site-packages (from beautifulsoup4>=4.11.1->yfinance) (2.5)\n",
      "Requirement already satisfied: six>=1.5 in c:\\users\\ritik\\anaconda3\\lib\\site-packages (from python-dateutil>=2.8.2->pandas) (1.16.0)\n",
      "Requirement already satisfied: charset-normalizer<4,>=2 in c:\\users\\ritik\\anaconda3\\lib\\site-packages (from requests>=2.31->yfinance) (3.3.2)\n",
      "Requirement already satisfied: idna<4,>=2.5 in c:\\users\\ritik\\anaconda3\\lib\\site-packages (from requests>=2.31->yfinance) (3.7)\n",
      "Requirement already satisfied: urllib3<3,>=1.21.1 in c:\\users\\ritik\\anaconda3\\lib\\site-packages (from requests>=2.31->yfinance) (2.2.3)\n",
      "Requirement already satisfied: certifi>=2017.4.17 in c:\\users\\ritik\\anaconda3\\lib\\site-packages (from requests>=2.31->yfinance) (2024.12.14)\n",
      "Requirement already satisfied: contourpy>=1.0.1 in c:\\users\\ritik\\anaconda3\\lib\\site-packages (from matplotlib->mplfinance) (1.2.0)\n",
      "Requirement already satisfied: cycler>=0.10 in c:\\users\\ritik\\anaconda3\\lib\\site-packages (from matplotlib->mplfinance) (0.11.0)\n",
      "Requirement already satisfied: fonttools>=4.22.0 in c:\\users\\ritik\\anaconda3\\lib\\site-packages (from matplotlib->mplfinance) (4.51.0)\n",
      "Requirement already satisfied: kiwisolver>=1.3.1 in c:\\users\\ritik\\anaconda3\\lib\\site-packages (from matplotlib->mplfinance) (1.4.4)\n",
      "Requirement already satisfied: packaging>=20.0 in c:\\users\\ritik\\anaconda3\\lib\\site-packages (from matplotlib->mplfinance) (24.1)\n",
      "Requirement already satisfied: pillow>=8 in c:\\users\\ritik\\anaconda3\\lib\\site-packages (from matplotlib->mplfinance) (10.4.0)\n",
      "Requirement already satisfied: pyparsing>=2.3.1 in c:\\users\\ritik\\anaconda3\\lib\\site-packages (from matplotlib->mplfinance) (3.1.2)\n",
      "Note: you may need to restart the kernel to use updated packages.\n"
     ]
    }
   ],
   "source": [
    "pip install yfinance mplfinance pandas numpy"
   ]
  },
  {
   "cell_type": "code",
   "execution_count": 12,
   "metadata": {
    "colab": {
     "base_uri": "https://localhost:8080/"
    },
    "id": "_EMF1ZZcLtXD",
    "outputId": "a4142cf4-514d-4b33-b989-afe4d2824a06"
   },
   "outputs": [
    {
     "name": "stderr",
     "output_type": "stream",
     "text": [
      "[*********************100%***********************]  1 of 1 completed"
     ]
    },
    {
     "name": "stdout",
     "output_type": "stream",
     "text": [
      "🚀 Starting balanced dataset generation...\n",
      "🚀 Starting balanced dataset generation...\n",
      "🔁 Pass 1 over symbols...\n",
      "📈 Fetching data for AAPL\n"
     ]
    },
    {
     "name": "stderr",
     "output_type": "stream",
     "text": [
      "\n"
     ]
    },
    {
     "name": "stdout",
     "output_type": "stream",
     "text": [
      "✅ Double Bottom: 1/500\n",
      "✅ Double Bottom: 2/500\n",
      "✅ Double Bottom: 3/500\n",
      "✅ Double Bottom: 4/500\n",
      "✅ Double Top: 1/500\n",
      "✅ Double Bottom: 5/500\n",
      "✅ Double Bottom: 6/500\n",
      "✅ Hammer: 1/500\n",
      "✅ Double Top: 2/500\n",
      "✅ Double Top: 3/500\n",
      "✅ Double Top: 4/500\n",
      "✅ Double Top: 5/500\n",
      "✅ Double Top: 6/500\n",
      "✅ Double Top: 7/500\n",
      "✅ Double Top: 8/500\n",
      "✅ Double Top: 9/500\n",
      "✅ Cup and Handle: 1/500\n",
      "✅ Double Top: 10/500\n",
      "✅ Bearish Engulfing: 1/500\n",
      "✅ Double Top: 11/500\n",
      "✅ Bearish Engulfing: 2/500\n",
      "✅ Bearish Engulfing: 3/500\n",
      "✅ Double Bottom: 7/500\n",
      "✅ Double Top: 12/500\n",
      "✅ Double Top: 13/500\n",
      "✅ Double Top: 14/500\n",
      "✅ Double Top: 15/500\n",
      "✅ Double Top: 16/500\n",
      "✅ Double Top: 17/500\n",
      "✅ Double Top: 18/500\n",
      "✅ Bullish Engulfing: 1/500\n",
      "✅ Double Bottom: 8/500\n",
      "✅ Bullish Engulfing: 2/500\n",
      "✅ Bullish Engulfing: 3/500\n",
      "✅ Double Bottom: 9/500\n",
      "✅ Bullish Engulfing: 4/500\n",
      "✅ Bullish Engulfing: 5/500\n",
      "✅ Double Top: 19/500\n",
      "✅ Double Top: 20/500\n",
      "✅ Double Top: 21/500\n",
      "✅ Double Top: 22/500\n",
      "✅ Double Top: 23/500\n",
      "✅ Double Top: 24/500\n",
      "✅ Double Top: 25/500\n",
      "✅ Double Top: 26/500\n",
      "✅ Double Bottom: 10/500\n",
      "✅ Double Top: 27/500\n",
      "✅ Double Top: 28/500\n",
      "✅ Double Top: 29/500\n",
      "✅ Double Top: 30/500\n",
      "✅ Double Top: 31/500\n",
      "✅ Double Top: 32/500\n",
      "✅ Double Top: 33/500\n",
      "✅ Double Top: 34/500\n",
      "✅ Descending Triangle: 1/500\n",
      "✅ Cup and Handle: 2/500\n",
      "✅ Ascending Triangle: 1/500\n",
      "✅ Ascending Triangle: 2/500\n",
      "✅ Cup and Handle: 3/500\n",
      "✅ Ascending Triangle: 3/500\n",
      "✅ Double Top: 35/500\n",
      "✅ Double Top: 36/500\n",
      "✅ Double Top: 37/500\n",
      "✅ Double Top: 38/500\n",
      "✅ Double Top: 39/500\n",
      "✅ Double Top: 40/500\n",
      "✅ Double Top: 41/500\n",
      "✅ Double Top: 42/500\n",
      "✅ Double Top: 43/500\n",
      "✅ Bearish Engulfing: 4/500\n",
      "✅ Bearish Engulfing: 5/500\n",
      "✅ Bearish Engulfing: 6/500\n",
      "✅ Bearish Engulfing: 7/500\n",
      "✅ Bearish Engulfing: 8/500\n",
      "✅ Hanging Man: 1/500\n",
      "✅ Bearish Engulfing: 9/500\n",
      "✅ Double Bottom: 11/500\n",
      "✅ Double Bottom: 12/500\n",
      "✅ Double Bottom: 13/500\n",
      "✅ Double Bottom: 14/500\n",
      "✅ Double Bottom: 15/500\n",
      "✅ Cup and Handle: 4/500\n",
      "✅ Cup and Handle: 5/500\n",
      "✅ Double Bottom: 16/500\n",
      "✅ Double Bottom: 17/500\n",
      "✅ Double Bottom: 18/500\n",
      "✅ Double Bottom: 19/500\n",
      "✅ Cup and Handle: 6/500\n",
      "✅ Cup and Handle: 7/500\n",
      "✅ Cup and Handle: 8/500\n",
      "✅ Bullish Engulfing: 6/500\n",
      "✅ Bullish Engulfing: 7/500\n",
      "✅ Bullish Engulfing: 8/500\n",
      "✅ Bullish Engulfing: 9/500\n",
      "✅ Double Bottom: 20/500\n",
      "✅ Double Bottom: 21/500\n",
      "✅ Double Bottom: 22/500\n",
      "✅ Double Bottom: 23/500\n",
      "✅ Double Bottom: 24/500\n",
      "✅ Double Bottom: 25/500\n",
      "✅ Double Bottom: 26/500\n",
      "✅ Double Bottom: 27/500\n",
      "✅ Double Top: 44/500\n",
      "✅ Double Top: 45/500\n",
      "✅ Double Top: 46/500\n",
      "✅ Double Top: 47/500\n",
      "✅ Double Top: 48/500\n",
      "✅ Double Top: 49/500\n",
      "✅ Double Top: 50/500\n",
      "✅ Double Bottom: 28/500\n",
      "✅ Double Bottom: 29/500\n",
      "✅ Double Bottom: 30/500\n",
      "✅ Bullish Engulfing: 10/500\n",
      "✅ Double Bottom: 31/500\n",
      "✅ Double Bottom: 32/500\n",
      "✅ Double Top: 51/500\n",
      "✅ Double Bottom: 33/500\n",
      "✅ Double Bottom: 34/500\n",
      "✅ Double Bottom: 35/500\n",
      "✅ Double Bottom: 36/500\n",
      "✅ Double Top: 52/500\n",
      "✅ Double Top: 53/500\n",
      "✅ Double Top: 54/500\n",
      "✅ Double Top: 55/500\n",
      "✅ Double Top: 56/500\n",
      "✅ Double Top: 57/500\n",
      "✅ Double Top: 58/500\n",
      "✅ Double Top: 59/500\n",
      "✅ Double Top: 60/500\n",
      "✅ Double Top: 61/500\n",
      "✅ Double Top: 62/500\n",
      "✅ Double Bottom: 37/500\n",
      "✅ Double Top: 63/500\n",
      "✅ Double Bottom: 38/500\n",
      "✅ Double Bottom: 39/500\n",
      "✅ Double Bottom: 40/500\n",
      "✅ Double Top: 64/500\n",
      "✅ Double Bottom: 41/500\n",
      "✅ Double Bottom: 42/500\n",
      "✅ Bullish Engulfing: 11/500\n",
      "✅ Bullish Engulfing: 12/500\n",
      "✅ Double Top: 65/500\n",
      "✅ Double Top: 66/500\n",
      "✅ Double Top: 67/500\n",
      "✅ Double Top: 68/500\n",
      "✅ Double Top: 69/500\n",
      "✅ Double Top: 70/500\n",
      "✅ Double Top: 71/500\n",
      "✅ Double Top: 72/500\n",
      "✅ Double Top: 73/500\n",
      "✅ Double Top: 74/500\n",
      "✅ Double Top: 75/500\n",
      "✅ Double Top: 76/500\n",
      "✅ Double Top: 77/500\n",
      "✅ Double Bottom: 43/500\n",
      "✅ Cup and Handle: 9/500\n",
      "✅ Cup and Handle: 10/500\n",
      "✅ Cup and Handle: 11/500\n",
      "✅ Bearish Engulfing: 10/500\n",
      "✅ Cup and Handle: 12/500\n",
      "✅ Bearish Engulfing: 11/500\n",
      "✅ Bearish Engulfing: 12/500\n",
      "✅ Cup and Handle: 13/500\n",
      "✅ Cup and Handle: 14/500\n",
      "✅ Cup and Handle: 15/500\n",
      "✅ Double Top: 78/500\n",
      "✅ Cup and Handle: 16/500\n",
      "✅ Cup and Handle: 17/500\n",
      "✅ Cup and Handle: 18/500\n",
      "✅ Bearish Engulfing: 13/500\n",
      "✅ Bearish Engulfing: 14/500\n",
      "✅ Cup and Handle: 19/500\n",
      "✅ Cup and Handle: 20/500\n",
      "✅ Bearish Engulfing: 15/500\n",
      "✅ Bearish Engulfing: 16/500\n",
      "✅ Bearish Engulfing: 17/500\n",
      "✅ Bearish Engulfing: 18/500\n",
      "✅ Bearish Engulfing: 19/500\n",
      "✅ Bearish Engulfing: 20/500\n",
      "✅ Bearish Engulfing: 21/500\n",
      "✅ Bearish Engulfing: 22/500\n",
      "✅ Double Bottom: 44/500\n",
      "✅ Double Bottom: 45/500\n",
      "✅ Double Bottom: 46/500\n",
      "✅ Double Top: 79/500\n",
      "✅ Double Top: 80/500\n",
      "✅ Double Top: 81/500\n",
      "✅ Double Top: 82/500\n",
      "✅ Double Top: 83/500\n",
      "✅ Double Top: 84/500\n",
      "✅ Double Top: 85/500\n",
      "✅ Double Top: 86/500\n",
      "✅ Double Top: 87/500\n",
      "✅ Double Bottom: 47/500\n",
      "✅ Double Bottom: 48/500\n",
      "✅ Double Bottom: 49/500\n",
      "✅ Double Bottom: 50/500\n",
      "✅ Double Top: 88/500\n",
      "✅ Double Top: 89/500\n",
      "✅ Double Top: 90/500\n",
      "✅ Double Top: 91/500\n",
      "✅ Double Top: 92/500\n",
      "✅ Double Top: 93/500\n",
      "✅ Double Top: 94/500\n",
      "✅ Double Top: 95/500\n",
      "✅ Double Top: 96/500\n",
      "✅ Double Top: 97/500\n",
      "✅ Double Top: 98/500\n",
      "✅ Double Top: 99/500\n",
      "✅ Double Top: 100/500\n",
      "✅ Double Top: 101/500\n",
      "✅ Double Top: 102/500\n",
      "✅ Double Top: 103/500\n",
      "✅ Double Top: 104/500\n",
      "✅ Double Bottom: 51/500\n",
      "✅ Double Bottom: 52/500\n",
      "✅ Double Bottom: 53/500\n",
      "✅ Double Bottom: 54/500\n",
      "✅ Bullish Engulfing: 13/500\n",
      "✅ Double Top: 105/500\n",
      "✅ Double Top: 106/500\n",
      "✅ Double Top: 107/500\n",
      "✅ Double Top: 108/500\n",
      "✅ Double Top: 109/500\n",
      "✅ Double Top: 110/500\n",
      "✅ Double Top: 111/500\n",
      "✅ Double Top: 112/500\n",
      "✅ Double Top: 113/500\n",
      "✅ Double Top: 114/500\n",
      "✅ Double Bottom: 55/500\n",
      "✅ Double Bottom: 56/500\n",
      "✅ Double Top: 115/500\n",
      "✅ Double Top: 116/500\n",
      "✅ Double Top: 117/500\n",
      "✅ Double Top: 118/500\n",
      "✅ Double Top: 119/500\n",
      "✅ Double Top: 120/500\n",
      "✅ Double Top: 121/500\n",
      "✅ Double Top: 122/500\n",
      "✅ Double Top: 123/500\n",
      "✅ Bearish Engulfing: 23/500\n",
      "✅ Bearish Engulfing: 24/500\n",
      "✅ Bearish Engulfing: 25/500\n",
      "✅ Bearish Engulfing: 26/500\n",
      "✅ Double Bottom: 57/500\n",
      "✅ Double Top: 124/500\n",
      "✅ Double Top: 125/500\n",
      "✅ Double Top: 126/500\n",
      "✅ Double Top: 127/500\n",
      "✅ Double Top: 128/500\n",
      "✅ Double Top: 129/500\n",
      "✅ Double Top: 130/500\n",
      "✅ Double Top: 131/500\n"
     ]
    },
    {
     "name": "stderr",
     "output_type": "stream",
     "text": [
      "[*********************100%***********************]  1 of 1 completed"
     ]
    },
    {
     "name": "stdout",
     "output_type": "stream",
     "text": [
      "✅ Double Top: 132/500\n",
      "📈 Fetching data for MSFT\n"
     ]
    },
    {
     "name": "stderr",
     "output_type": "stream",
     "text": [
      "\n"
     ]
    },
    {
     "name": "stdout",
     "output_type": "stream",
     "text": [
      "✅ Double Top: 133/500\n",
      "✅ Double Top: 134/500\n",
      "✅ Double Top: 135/500\n",
      "✅ Double Top: 136/500\n",
      "✅ Double Bottom: 58/500\n",
      "✅ Bullish Engulfing: 14/500\n",
      "✅ Bullish Engulfing: 15/500\n",
      "✅ Double Top: 137/500\n",
      "✅ Double Top: 138/500\n",
      "✅ Double Top: 139/500\n",
      "✅ Double Top: 140/500\n",
      "✅ Double Top: 141/500\n",
      "✅ Double Top: 142/500\n",
      "✅ Double Top: 143/500\n",
      "✅ Double Top: 144/500\n",
      "✅ Double Bottom: 59/500\n",
      "✅ Double Bottom: 60/500\n",
      "✅ Double Top: 145/500\n",
      "✅ Double Top: 146/500\n",
      "✅ Double Top: 147/500\n",
      "✅ Double Top: 148/500\n",
      "✅ Double Top: 149/500\n",
      "✅ Double Top: 150/500\n",
      "✅ Double Top: 151/500\n",
      "✅ Double Top: 152/500\n",
      "✅ Double Top: 153/500\n",
      "✅ Double Top: 154/500\n",
      "✅ Double Top: 155/500\n",
      "✅ Double Top: 156/500\n",
      "✅ Double Top: 157/500\n",
      "✅ Double Top: 158/500\n",
      "✅ Double Top: 159/500\n",
      "✅ Double Top: 160/500\n",
      "✅ Double Top: 161/500\n",
      "✅ Double Top: 162/500\n",
      "✅ Double Top: 163/500\n",
      "✅ Double Top: 164/500\n",
      "✅ Double Top: 165/500\n",
      "✅ Bearish Engulfing: 27/500\n",
      "✅ Bearish Engulfing: 28/500\n",
      "✅ Hammer: 2/500\n",
      "✅ Hammer: 3/500\n",
      "✅ Double Bottom: 61/500\n",
      "✅ Double Bottom: 62/500\n",
      "✅ Double Bottom: 63/500\n",
      "✅ Double Bottom: 64/500\n",
      "✅ Double Top: 166/500\n",
      "✅ Double Top: 167/500\n",
      "✅ Double Top: 168/500\n",
      "✅ Double Top: 169/500\n",
      "✅ Head and Shoulders: 1/500\n",
      "✅ Double Top: 170/500\n",
      "✅ Double Top: 171/500\n",
      "✅ Double Top: 172/500\n",
      "✅ Cup and Handle: 21/500\n",
      "✅ Bearish Engulfing: 29/500\n",
      "✅ Cup and Handle: 22/500\n",
      "✅ Bullish Engulfing: 16/500\n",
      "✅ Double Top: 173/500\n",
      "✅ Double Top: 174/500\n",
      "✅ Double Top: 175/500\n",
      "✅ Double Top: 176/500\n",
      "✅ Double Top: 177/500\n",
      "✅ Double Top: 178/500\n",
      "✅ Double Top: 179/500\n",
      "✅ Double Top: 180/500\n",
      "✅ Double Top: 181/500\n",
      "✅ Double Top: 182/500\n",
      "✅ Double Top: 183/500\n",
      "✅ Double Top: 184/500\n",
      "✅ Double Top: 185/500\n",
      "✅ Double Top: 186/500\n",
      "✅ Double Top: 187/500\n",
      "✅ Double Top: 188/500\n",
      "✅ Double Top: 189/500\n",
      "✅ Double Top: 190/500\n",
      "✅ Double Top: 191/500\n",
      "✅ Double Bottom: 65/500\n",
      "✅ Double Bottom: 66/500\n",
      "✅ Double Bottom: 67/500\n",
      "✅ Double Bottom: 68/500\n",
      "✅ Double Bottom: 69/500\n",
      "✅ Double Top: 192/500\n",
      "✅ Double Top: 193/500\n",
      "✅ Double Top: 194/500\n",
      "✅ Double Top: 195/500\n",
      "✅ Double Top: 196/500\n",
      "✅ Double Top: 197/500\n",
      "✅ Double Bottom: 70/500\n",
      "✅ Double Bottom: 71/500\n",
      "✅ Double Bottom: 72/500\n",
      "✅ Double Bottom: 73/500\n",
      "✅ Double Top: 198/500\n",
      "✅ Double Bottom: 74/500\n",
      "✅ Double Bottom: 75/500\n",
      "✅ Double Bottom: 76/500\n",
      "✅ Double Bottom: 77/500\n",
      "✅ Double Bottom: 78/500\n",
      "✅ Double Bottom: 79/500\n",
      "✅ Double Bottom: 80/500\n",
      "✅ Double Top: 199/500\n",
      "✅ Double Top: 200/500\n",
      "✅ Double Top: 201/500\n",
      "✅ Double Top: 202/500\n",
      "✅ Double Top: 203/500\n",
      "✅ Double Top: 204/500\n",
      "✅ Double Top: 205/500\n",
      "✅ Double Bottom: 81/500\n",
      "✅ Double Bottom: 82/500\n",
      "✅ Double Top: 206/500\n",
      "✅ Double Top: 207/500\n",
      "✅ Double Top: 208/500\n",
      "✅ Double Top: 209/500\n",
      "✅ Double Top: 210/500\n",
      "✅ Double Top: 211/500\n",
      "✅ Double Top: 212/500\n",
      "✅ Double Top: 213/500\n",
      "✅ Double Top: 214/500\n",
      "✅ Double Top: 215/500\n",
      "✅ Double Top: 216/500\n",
      "✅ Double Top: 217/500\n",
      "✅ Double Top: 218/500\n",
      "✅ Double Top: 219/500\n",
      "✅ Double Top: 220/500\n",
      "✅ Double Top: 221/500\n",
      "✅ Double Top: 222/500\n",
      "✅ Double Top: 223/500\n",
      "✅ Double Top: 224/500\n",
      "✅ Double Top: 225/500\n",
      "✅ Double Top: 226/500\n",
      "✅ Double Top: 227/500\n",
      "✅ Double Bottom: 83/500\n",
      "✅ Bullish Engulfing: 17/500\n",
      "✅ Bullish Engulfing: 18/500\n",
      "✅ Double Top: 228/500\n",
      "✅ Double Top: 229/500\n",
      "✅ Double Top: 230/500\n",
      "✅ Double Top: 231/500\n",
      "✅ Double Top: 232/500\n",
      "✅ Double Top: 233/500\n",
      "✅ Double Top: 234/500\n",
      "✅ Double Top: 235/500\n",
      "✅ Double Top: 236/500\n",
      "✅ Double Top: 237/500\n",
      "✅ Double Top: 238/500\n",
      "✅ Double Top: 239/500\n",
      "✅ Double Top: 240/500\n",
      "✅ Double Top: 241/500\n",
      "✅ Double Top: 242/500\n",
      "✅ Double Top: 243/500\n",
      "✅ Double Top: 244/500\n",
      "✅ Double Top: 245/500\n",
      "✅ Double Bottom: 84/500\n",
      "✅ Double Bottom: 85/500\n",
      "✅ Double Bottom: 86/500\n",
      "✅ Double Top: 246/500\n",
      "✅ Double Bottom: 87/500\n",
      "✅ Double Bottom: 88/500\n",
      "✅ Double Bottom: 89/500\n",
      "✅ Cup and Handle: 23/500\n",
      "✅ Cup and Handle: 24/500\n",
      "✅ Cup and Handle: 25/500\n",
      "✅ Cup and Handle: 26/500\n",
      "✅ Double Top: 247/500\n",
      "✅ Double Top: 248/500\n",
      "✅ Double Top: 249/500\n",
      "✅ Double Top: 250/500\n",
      "✅ Double Top: 251/500\n",
      "✅ Double Top: 252/500\n",
      "✅ Double Top: 253/500\n",
      "✅ Double Top: 254/500\n",
      "✅ Double Top: 255/500\n",
      "✅ Double Top: 256/500\n",
      "✅ Double Top: 257/500\n",
      "✅ Double Bottom: 90/500\n",
      "✅ Double Bottom: 91/500\n",
      "✅ Double Bottom: 92/500\n",
      "✅ Bearish Engulfing: 30/500\n",
      "✅ Cup and Handle: 27/500\n",
      "✅ Bearish Engulfing: 31/500\n",
      "✅ Bearish Engulfing: 32/500\n",
      "✅ Double Top: 258/500\n",
      "✅ Double Top: 259/500\n",
      "✅ Double Top: 260/500\n",
      "✅ Double Top: 261/500\n",
      "✅ Double Top: 262/500\n",
      "✅ Double Top: 263/500\n",
      "✅ Double Top: 264/500\n",
      "✅ Double Top: 265/500\n",
      "✅ Double Top: 266/500\n",
      "✅ Double Top: 267/500\n",
      "✅ Double Top: 268/500\n",
      "✅ Double Top: 269/500\n",
      "✅ Double Top: 270/500\n",
      "✅ Double Top: 271/500\n",
      "✅ Double Top: 272/500\n",
      "✅ Cup and Handle: 28/500\n",
      "✅ Cup and Handle: 29/500\n",
      "✅ Cup and Handle: 30/500\n",
      "✅ Cup and Handle: 31/500\n",
      "✅ Double Bottom: 93/500\n",
      "✅ Double Bottom: 94/500\n",
      "✅ Double Bottom: 95/500\n",
      "✅ Double Bottom: 96/500\n",
      "✅ Double Bottom: 97/500\n",
      "✅ Double Bottom: 98/500\n",
      "✅ Double Bottom: 99/500\n",
      "✅ Double Bottom: 100/500\n",
      "✅ Double Bottom: 101/500\n",
      "✅ Double Bottom: 102/500\n",
      "✅ Double Bottom: 103/500\n",
      "✅ Double Bottom: 104/500\n",
      "✅ Double Bottom: 105/500\n",
      "✅ Double Bottom: 106/500\n",
      "✅ Double Bottom: 107/500\n",
      "✅ Double Bottom: 108/500\n",
      "✅ Double Bottom: 109/500\n",
      "✅ Double Bottom: 110/500\n",
      "✅ Double Bottom: 111/500\n",
      "✅ Double Bottom: 112/500\n",
      "✅ Double Bottom: 113/500\n",
      "✅ Double Bottom: 114/500\n",
      "✅ Double Bottom: 115/500\n",
      "✅ Double Bottom: 116/500\n",
      "✅ Bullish Engulfing: 19/500\n",
      "✅ Cup and Handle: 32/500\n",
      "✅ Cup and Handle: 33/500\n",
      "✅ Double Bottom: 117/500\n",
      "✅ Double Bottom: 118/500\n",
      "✅ Double Top: 273/500\n",
      "✅ Double Top: 274/500\n",
      "✅ Double Top: 275/500\n",
      "✅ Double Top: 276/500\n",
      "✅ Double Top: 277/500\n",
      "✅ Double Top: 278/500\n",
      "✅ Bearish Engulfing: 33/500\n",
      "✅ Bearish Engulfing: 34/500\n",
      "✅ Bearish Engulfing: 35/500\n",
      "✅ Double Top: 279/500\n",
      "✅ Double Top: 280/500\n",
      "✅ Double Top: 281/500\n",
      "✅ Double Top: 282/500\n",
      "✅ Double Top: 283/500\n",
      "✅ Double Top: 284/500\n",
      "✅ Double Top: 285/500\n",
      "✅ Double Top: 286/500\n",
      "✅ Double Top: 287/500\n",
      "✅ Double Top: 288/500\n",
      "✅ Double Bottom: 119/500\n",
      "✅ Double Top: 289/500\n",
      "✅ Double Top: 290/500\n"
     ]
    },
    {
     "name": "stderr",
     "output_type": "stream",
     "text": [
      "[*********************100%***********************]  1 of 1 completed"
     ]
    },
    {
     "name": "stdout",
     "output_type": "stream",
     "text": [
      "✅ Double Top: 291/500\n",
      "📈 Fetching data for GOOGL\n",
      "✅ Double Top: 292/500\n"
     ]
    },
    {
     "name": "stderr",
     "output_type": "stream",
     "text": [
      "\n"
     ]
    },
    {
     "name": "stdout",
     "output_type": "stream",
     "text": [
      "✅ Double Top: 293/500\n",
      "✅ Double Top: 294/500\n",
      "✅ Double Top: 295/500\n",
      "✅ Double Top: 296/500\n",
      "✅ Double Top: 297/500\n",
      "✅ Double Top: 298/500\n",
      "✅ Double Top: 299/500\n",
      "✅ Double Top: 300/500\n",
      "✅ Double Top: 301/500\n",
      "✅ Double Top: 302/500\n",
      "✅ Double Bottom: 120/500\n",
      "✅ Bullish Engulfing: 20/500\n",
      "✅ Bullish Engulfing: 21/500\n",
      "✅ Cup and Handle: 34/500\n",
      "✅ Cup and Handle: 35/500\n",
      "✅ Double Top: 303/500\n",
      "✅ Bullish Engulfing: 22/500\n",
      "✅ Double Top: 304/500\n",
      "✅ Double Top: 305/500\n",
      "✅ Double Top: 306/500\n",
      "✅ Double Top: 307/500\n",
      "✅ Double Top: 308/500\n",
      "✅ Double Top: 309/500\n",
      "✅ Double Top: 310/500\n",
      "✅ Double Bottom: 121/500\n",
      "✅ Double Bottom: 122/500\n",
      "✅ Double Bottom: 123/500\n",
      "✅ Double Top: 311/500\n",
      "✅ Double Top: 312/500\n",
      "✅ Double Top: 313/500\n",
      "✅ Double Top: 314/500\n",
      "✅ Double Top: 315/500\n",
      "✅ Double Top: 316/500\n",
      "✅ Double Top: 317/500\n",
      "✅ Double Top: 318/500\n",
      "✅ Double Top: 319/500\n",
      "✅ Double Bottom: 124/500\n",
      "✅ Double Bottom: 125/500\n",
      "✅ Double Top: 320/500\n",
      "✅ Double Top: 321/500\n",
      "✅ Double Top: 322/500\n",
      "✅ Double Top: 323/500\n",
      "✅ Double Top: 324/500\n",
      "✅ Double Top: 325/500\n",
      "✅ Double Top: 326/500\n",
      "✅ Bullish Engulfing: 23/500\n",
      "✅ Bullish Engulfing: 24/500\n",
      "✅ Double Top: 327/500\n",
      "✅ Double Top: 328/500\n",
      "✅ Double Top: 329/500\n",
      "✅ Double Top: 330/500\n",
      "✅ Double Top: 331/500\n",
      "✅ Double Top: 332/500\n",
      "✅ Bearish Engulfing: 36/500\n",
      "✅ Cup and Handle: 36/500\n",
      "✅ Cup and Handle: 37/500\n",
      "✅ Bearish Engulfing: 37/500\n",
      "✅ Bearish Engulfing: 38/500\n",
      "✅ Bearish Engulfing: 39/500\n",
      "✅ Double Top: 333/500\n",
      "✅ Bearish Engulfing: 40/500\n",
      "✅ Double Top: 334/500\n",
      "✅ Bearish Engulfing: 41/500\n",
      "✅ Bearish Engulfing: 42/500\n",
      "✅ Double Top: 335/500\n",
      "✅ Double Top: 336/500\n",
      "✅ Double Top: 337/500\n",
      "✅ Double Top: 338/500\n",
      "✅ Double Top: 339/500\n",
      "✅ Double Top: 340/500\n",
      "✅ Double Top: 341/500\n",
      "✅ Double Top: 342/500\n",
      "✅ Double Top: 343/500\n",
      "✅ Double Top: 344/500\n",
      "✅ Double Top: 345/500\n",
      "✅ Double Top: 346/500\n",
      "✅ Double Top: 347/500\n",
      "✅ Double Top: 348/500\n",
      "✅ Cup and Handle: 38/500\n",
      "✅ Double Bottom: 126/500\n",
      "✅ Double Bottom: 127/500\n",
      "✅ Double Bottom: 128/500\n",
      "✅ Double Bottom: 129/500\n",
      "✅ Double Bottom: 130/500\n",
      "✅ Double Top: 349/500\n",
      "✅ Double Top: 350/500\n",
      "✅ Double Top: 351/500\n",
      "✅ Double Top: 352/500\n",
      "✅ Double Top: 353/500\n",
      "✅ Double Top: 354/500\n",
      "✅ Double Top: 355/500\n",
      "✅ Double Top: 356/500\n",
      "✅ Double Top: 357/500\n",
      "✅ Double Top: 358/500\n",
      "✅ Double Top: 359/500\n",
      "✅ Double Top: 360/500\n",
      "✅ Double Top: 361/500\n",
      "✅ Double Top: 362/500\n",
      "✅ Double Top: 363/500\n",
      "✅ Double Top: 364/500\n",
      "✅ Double Top: 365/500\n",
      "✅ Double Top: 366/500\n",
      "✅ Double Top: 367/500\n",
      "✅ Double Top: 368/500\n",
      "✅ Double Top: 369/500\n",
      "✅ Double Top: 370/500\n",
      "✅ Double Bottom: 131/500\n",
      "✅ Double Bottom: 132/500\n",
      "✅ Double Bottom: 133/500\n",
      "✅ Double Bottom: 134/500\n",
      "✅ Double Bottom: 135/500\n",
      "✅ Double Top: 371/500\n",
      "✅ Double Bottom: 136/500\n",
      "✅ Double Top: 372/500\n",
      "✅ Double Top: 373/500\n",
      "✅ Double Top: 374/500\n",
      "✅ Double Bottom: 137/500\n",
      "✅ Double Bottom: 138/500\n",
      "✅ Double Bottom: 139/500\n",
      "✅ Double Bottom: 140/500\n",
      "✅ Double Top: 375/500\n",
      "✅ Double Bottom: 141/500\n",
      "✅ Double Top: 376/500\n",
      "✅ Double Bottom: 142/500\n",
      "✅ Double Bottom: 143/500\n",
      "✅ Double Bottom: 144/500\n",
      "✅ Double Top: 377/500\n",
      "✅ Double Top: 378/500\n",
      "✅ Double Top: 379/500\n",
      "✅ Double Top: 380/500\n",
      "✅ Double Top: 381/500\n",
      "✅ Double Top: 382/500\n",
      "✅ Double Top: 383/500\n",
      "✅ Double Top: 384/500\n",
      "✅ Double Top: 385/500\n",
      "✅ Double Top: 386/500\n",
      "✅ Double Top: 387/500\n",
      "✅ Double Top: 388/500\n",
      "✅ Double Top: 389/500\n",
      "✅ Double Top: 390/500\n",
      "✅ Double Top: 391/500\n",
      "✅ Double Top: 392/500\n",
      "✅ Double Top: 393/500\n",
      "✅ Double Top: 394/500\n",
      "✅ Double Top: 395/500\n",
      "✅ Double Top: 396/500\n",
      "✅ Double Top: 397/500\n",
      "✅ Cup and Handle: 39/500\n",
      "✅ Double Bottom: 145/500\n",
      "✅ Double Bottom: 146/500\n",
      "✅ Double Bottom: 147/500\n",
      "✅ Double Bottom: 148/500\n",
      "✅ Double Bottom: 149/500\n",
      "✅ Double Bottom: 150/500\n",
      "✅ Double Bottom: 151/500\n",
      "✅ Double Bottom: 152/500\n",
      "✅ Double Top: 398/500\n",
      "✅ Double Bottom: 153/500\n",
      "✅ Bearish Engulfing: 43/500\n",
      "✅ Double Bottom: 154/500\n",
      "✅ Double Bottom: 155/500\n",
      "✅ Double Bottom: 156/500\n",
      "✅ Double Top: 399/500\n",
      "✅ Double Top: 400/500\n",
      "✅ Double Top: 401/500\n",
      "✅ Double Top: 402/500\n",
      "✅ Double Top: 403/500\n",
      "✅ Double Top: 404/500\n",
      "✅ Double Top: 405/500\n",
      "✅ Double Top: 406/500\n",
      "✅ Double Top: 407/500\n",
      "✅ Double Top: 408/500\n",
      "✅ Double Top: 409/500\n",
      "✅ Double Top: 410/500\n",
      "✅ Double Top: 411/500\n",
      "✅ Double Bottom: 157/500\n",
      "✅ Morning Star: 1/500\n",
      "✅ Morning Star: 2/500\n",
      "✅ Bearish Engulfing: 44/500\n",
      "✅ Cup and Handle: 40/500\n",
      "✅ Cup and Handle: 41/500\n",
      "✅ Double Bottom: 158/500\n",
      "✅ Double Top: 412/500\n",
      "✅ Double Top: 413/500\n",
      "✅ Double Top: 414/500\n",
      "✅ Double Top: 415/500\n",
      "✅ Double Top: 416/500\n",
      "✅ Double Top: 417/500\n",
      "✅ Double Top: 418/500\n",
      "✅ Cup and Handle: 42/500\n",
      "✅ Cup and Handle: 43/500\n",
      "✅ Cup and Handle: 44/500\n",
      "✅ Bullish Engulfing: 25/500\n",
      "✅ Bullish Engulfing: 26/500\n",
      "✅ Double Top: 419/500\n",
      "✅ Bullish Engulfing: 27/500\n",
      "✅ Bullish Engulfing: 28/500\n",
      "✅ Bullish Engulfing: 29/500\n",
      "✅ Bullish Engulfing: 30/500\n",
      "✅ Bullish Engulfing: 31/500\n",
      "✅ Cup and Handle: 45/500\n",
      "✅ Double Bottom: 159/500\n",
      "✅ Double Bottom: 160/500\n",
      "✅ Double Bottom: 161/500\n",
      "✅ Double Top: 420/500\n",
      "✅ Double Bottom: 162/500\n",
      "✅ Double Top: 421/500\n",
      "✅ Double Top: 422/500\n",
      "✅ Double Top: 423/500\n",
      "✅ Double Top: 424/500\n",
      "✅ Double Top: 425/500\n",
      "✅ Double Top: 426/500\n",
      "✅ Double Top: 427/500\n",
      "✅ Double Top: 428/500\n",
      "✅ Double Top: 429/500\n",
      "✅ Double Top: 430/500\n",
      "✅ Double Top: 431/500\n",
      "✅ Double Top: 432/500\n",
      "✅ Double Top: 433/500\n",
      "✅ Double Top: 434/500\n",
      "✅ Double Top: 435/500\n",
      "✅ Double Top: 436/500\n",
      "✅ Double Top: 437/500\n",
      "✅ Double Top: 438/500\n",
      "✅ Double Top: 439/500\n",
      "✅ Double Top: 440/500\n",
      "✅ Double Bottom: 163/500\n",
      "✅ Double Bottom: 164/500\n",
      "✅ Double Bottom: 165/500\n",
      "✅ Double Bottom: 166/500\n",
      "✅ Double Top: 441/500\n",
      "✅ Double Top: 442/500\n",
      "✅ Double Top: 443/500\n",
      "✅ Double Top: 444/500\n",
      "✅ Double Top: 445/500\n",
      "✅ Double Top: 446/500\n",
      "✅ Double Top: 447/500\n",
      "✅ Double Top: 448/500\n",
      "✅ Double Top: 449/500\n",
      "✅ Double Top: 450/500\n",
      "✅ Double Top: 451/500\n",
      "✅ Double Top: 452/500\n",
      "✅ Double Top: 453/500\n",
      "✅ Double Top: 454/500\n",
      "✅ Double Top: 455/500\n",
      "✅ Double Top: 456/500\n",
      "✅ Double Bottom: 167/500\n",
      "✅ Double Top: 457/500\n",
      "✅ Double Top: 458/500\n",
      "✅ Double Top: 459/500\n",
      "✅ Double Top: 460/500\n",
      "✅ Double Top: 461/500\n"
     ]
    },
    {
     "name": "stderr",
     "output_type": "stream",
     "text": [
      "[*********************100%***********************]  1 of 1 completed"
     ]
    },
    {
     "name": "stdout",
     "output_type": "stream",
     "text": [
      "✅ Double Top: 462/500\n",
      "📈 Fetching data for AMZN\n",
      "✅ Double Top: 463/500\n"
     ]
    },
    {
     "name": "stderr",
     "output_type": "stream",
     "text": [
      "\n"
     ]
    },
    {
     "name": "stdout",
     "output_type": "stream",
     "text": [
      "✅ Double Top: 464/500\n",
      "✅ Double Top: 465/500\n",
      "✅ Double Top: 466/500\n",
      "✅ Double Top: 467/500\n",
      "✅ Double Top: 468/500\n",
      "✅ Double Top: 469/500\n",
      "✅ Double Top: 470/500\n",
      "✅ Double Top: 471/500\n",
      "✅ Double Top: 472/500\n",
      "✅ Double Top: 473/500\n",
      "✅ Double Top: 474/500\n",
      "✅ Double Top: 475/500\n",
      "✅ Double Top: 476/500\n",
      "✅ Double Top: 477/500\n",
      "✅ Double Top: 478/500\n",
      "✅ Double Top: 479/500\n",
      "✅ Double Top: 480/500\n",
      "✅ Double Top: 481/500\n",
      "✅ Double Top: 482/500\n",
      "✅ Double Top: 483/500\n",
      "✅ Double Top: 484/500\n",
      "✅ Double Top: 485/500\n",
      "✅ Double Top: 486/500\n",
      "✅ Double Top: 487/500\n",
      "✅ Double Top: 488/500\n",
      "✅ Double Top: 489/500\n",
      "✅ Double Top: 490/500\n",
      "✅ Double Top: 491/500\n",
      "✅ Double Top: 492/500\n",
      "✅ Double Top: 493/500\n",
      "✅ Double Top: 494/500\n",
      "✅ Double Top: 495/500\n",
      "✅ Double Top: 496/500\n",
      "✅ Double Top: 497/500\n",
      "✅ Double Top: 498/500\n",
      "✅ Double Top: 499/500\n",
      "✅ Double Top: 500/500\n",
      "✅ Double Bottom: 168/500\n",
      "✅ Double Bottom: 169/500\n",
      "✅ Double Bottom: 170/500\n",
      "✅ Double Bottom: 171/500\n",
      "✅ Bearish Engulfing: 45/500\n",
      "✅ Bullish Engulfing: 32/500\n",
      "✅ Cup and Handle: 46/500\n",
      "✅ Bullish Engulfing: 33/500\n",
      "✅ Bullish Engulfing: 34/500\n",
      "✅ Double Bottom: 172/500\n",
      "✅ Cup and Handle: 47/500\n",
      "✅ Cup and Handle: 48/500\n",
      "✅ Bearish Engulfing: 46/500\n",
      "✅ Cup and Handle: 49/500\n",
      "✅ Double Bottom: 173/500\n",
      "✅ Cup and Handle: 50/500\n",
      "✅ Double Bottom: 174/500\n",
      "✅ Double Bottom: 175/500\n",
      "✅ Double Bottom: 176/500\n",
      "✅ Cup and Handle: 51/500\n",
      "✅ Double Bottom: 177/500\n",
      "✅ Double Bottom: 178/500\n",
      "✅ Double Bottom: 179/500\n",
      "✅ Double Bottom: 180/500\n",
      "✅ Double Bottom: 181/500\n",
      "✅ Double Bottom: 182/500\n",
      "✅ Double Bottom: 183/500\n",
      "✅ Double Bottom: 184/500\n",
      "✅ Double Bottom: 185/500\n",
      "✅ Cup and Handle: 52/500\n",
      "✅ Cup and Handle: 53/500\n",
      "✅ Cup and Handle: 54/500\n",
      "✅ Cup and Handle: 55/500\n",
      "✅ Bearish Engulfing: 47/500\n",
      "✅ Morning Star: 3/500\n",
      "✅ Morning Star: 4/500\n",
      "✅ Double Bottom: 186/500\n",
      "✅ Double Bottom: 187/500\n",
      "✅ Double Bottom: 188/500\n",
      "✅ Double Bottom: 189/500\n",
      "✅ Double Bottom: 190/500\n",
      "✅ Double Bottom: 191/500\n",
      "✅ Bearish Engulfing: 48/500\n",
      "✅ Bearish Engulfing: 49/500\n",
      "✅ Bearish Engulfing: 50/500\n",
      "✅ Bearish Engulfing: 51/500\n",
      "✅ Cup and Handle: 56/500\n",
      "✅ Descending Triangle: 2/500\n",
      "✅ Descending Triangle: 3/500\n",
      "✅ Double Bottom: 192/500\n",
      "✅ Double Bottom: 193/500\n",
      "✅ Double Bottom: 194/500\n",
      "✅ Double Bottom: 195/500\n",
      "✅ Double Bottom: 196/500\n",
      "✅ Bullish Engulfing: 35/500\n",
      "✅ Cup and Handle: 57/500\n",
      "✅ Cup and Handle: 58/500\n",
      "✅ Bullish Engulfing: 36/500\n",
      "✅ Double Bottom: 197/500\n",
      "✅ Double Bottom: 198/500\n",
      "✅ Double Bottom: 199/500\n",
      "✅ Double Bottom: 200/500\n",
      "✅ Double Bottom: 201/500\n",
      "✅ Double Bottom: 202/500\n",
      "✅ Double Bottom: 203/500\n",
      "✅ Double Bottom: 204/500\n",
      "✅ Double Bottom: 205/500\n",
      "✅ Double Bottom: 206/500\n",
      "✅ Double Bottom: 207/500\n",
      "✅ Double Bottom: 208/500\n",
      "✅ Bullish Engulfing: 37/500\n",
      "✅ Bullish Engulfing: 38/500\n",
      "✅ Bullish Engulfing: 39/500\n",
      "✅ Double Bottom: 209/500\n",
      "✅ Double Bottom: 210/500\n",
      "✅ Double Bottom: 211/500\n",
      "✅ Double Bottom: 212/500\n",
      "✅ Double Bottom: 213/500\n",
      "✅ Double Bottom: 214/500\n",
      "✅ Double Bottom: 215/500\n",
      "✅ Double Bottom: 216/500\n",
      "✅ Double Bottom: 217/500\n",
      "✅ Double Bottom: 218/500\n",
      "✅ Double Bottom: 219/500\n",
      "✅ Double Bottom: 220/500\n",
      "✅ Cup and Handle: 59/500\n",
      "✅ Cup and Handle: 60/500\n",
      "✅ Cup and Handle: 61/500\n",
      "✅ Cup and Handle: 62/500\n",
      "✅ Cup and Handle: 63/500\n",
      "✅ Cup and Handle: 64/500\n",
      "✅ Bullish Engulfing: 40/500\n",
      "✅ Cup and Handle: 65/500\n",
      "✅ Cup and Handle: 66/500\n",
      "✅ Bullish Engulfing: 41/500\n",
      "✅ Bullish Engulfing: 42/500\n",
      "✅ Double Bottom: 221/500\n",
      "✅ Double Bottom: 222/500\n",
      "✅ Double Bottom: 223/500\n",
      "✅ Double Bottom: 224/500\n",
      "✅ Double Bottom: 225/500\n"
     ]
    },
    {
     "name": "stderr",
     "output_type": "stream",
     "text": [
      "[*********************100%***********************]  1 of 1 completed"
     ]
    },
    {
     "name": "stdout",
     "output_type": "stream",
     "text": [
      "✅ Double Bottom: 226/500\n",
      "✅ Hammer: 4/500\n",
      "📈 Fetching data for META\n"
     ]
    },
    {
     "name": "stderr",
     "output_type": "stream",
     "text": [
      "\n"
     ]
    },
    {
     "name": "stdout",
     "output_type": "stream",
     "text": [
      "✅ Double Bottom: 227/500\n",
      "✅ Double Bottom: 228/500\n",
      "✅ Double Bottom: 229/500\n",
      "✅ Bullish Engulfing: 43/500\n",
      "✅ Bullish Engulfing: 44/500\n",
      "✅ Double Bottom: 230/500\n",
      "✅ Bullish Engulfing: 45/500\n",
      "✅ Bullish Engulfing: 46/500\n",
      "✅ Bullish Engulfing: 47/500\n",
      "✅ Double Bottom: 231/500\n",
      "✅ Bullish Engulfing: 48/500\n",
      "✅ Bullish Engulfing: 49/500\n",
      "✅ Bullish Engulfing: 50/500\n",
      "✅ Cup and Handle: 67/500\n",
      "✅ Double Bottom: 232/500\n",
      "✅ Double Bottom: 233/500\n",
      "✅ Double Bottom: 234/500\n",
      "✅ Double Bottom: 235/500\n",
      "✅ Double Bottom: 236/500\n",
      "✅ Double Bottom: 237/500\n",
      "✅ Cup and Handle: 68/500\n",
      "✅ Bullish Engulfing: 51/500\n",
      "✅ Bullish Engulfing: 52/500\n",
      "✅ Bullish Engulfing: 53/500\n",
      "✅ Bearish Engulfing: 52/500\n",
      "✅ Bearish Engulfing: 53/500\n",
      "✅ Bearish Engulfing: 54/500\n",
      "✅ Bullish Engulfing: 54/500\n",
      "✅ Bullish Engulfing: 55/500\n",
      "✅ Cup and Handle: 69/500\n",
      "✅ Double Bottom: 238/500\n",
      "✅ Double Bottom: 239/500\n",
      "✅ Double Bottom: 240/500\n",
      "✅ Double Bottom: 241/500\n",
      "✅ Double Bottom: 242/500\n",
      "✅ Double Bottom: 243/500\n",
      "✅ Double Bottom: 244/500\n",
      "✅ Double Bottom: 245/500\n",
      "✅ Double Bottom: 246/500\n",
      "✅ Double Bottom: 247/500\n",
      "✅ Double Bottom: 248/500\n",
      "✅ Double Bottom: 249/500\n",
      "✅ Double Bottom: 250/500\n",
      "✅ Double Bottom: 251/500\n",
      "✅ Double Bottom: 252/500\n",
      "✅ Double Bottom: 253/500\n",
      "✅ Double Bottom: 254/500\n",
      "✅ Double Bottom: 255/500\n",
      "✅ Double Bottom: 256/500\n",
      "✅ Double Bottom: 257/500\n",
      "✅ Bullish Engulfing: 56/500\n",
      "✅ Double Bottom: 258/500\n",
      "✅ Double Bottom: 259/500\n",
      "✅ Bearish Engulfing: 55/500\n",
      "✅ Double Bottom: 260/500\n",
      "✅ Cup and Handle: 70/500\n",
      "✅ Head and Shoulders: 2/500\n",
      "✅ Head and Shoulders: 3/500\n",
      "✅ Head and Shoulders: 4/500\n",
      "✅ Double Bottom: 261/500\n",
      "✅ Bullish Engulfing: 57/500\n",
      "✅ Bullish Engulfing: 58/500\n",
      "✅ Bullish Engulfing: 59/500\n",
      "✅ Cup and Handle: 71/500\n",
      "✅ Cup and Handle: 72/500\n",
      "✅ Bullish Engulfing: 60/500\n",
      "✅ Double Bottom: 262/500\n",
      "✅ Cup and Handle: 73/500\n",
      "✅ Double Bottom: 263/500\n",
      "✅ Cup and Handle: 74/500\n",
      "✅ Cup and Handle: 75/500\n",
      "✅ Cup and Handle: 76/500\n",
      "✅ Double Bottom: 264/500\n",
      "✅ Double Bottom: 265/500\n",
      "✅ Bullish Engulfing: 61/500\n",
      "✅ Cup and Handle: 77/500\n",
      "✅ Cup and Handle: 78/500\n",
      "✅ Bullish Engulfing: 62/500\n",
      "✅ Bullish Engulfing: 63/500\n",
      "✅ Cup and Handle: 79/500\n",
      "✅ Cup and Handle: 80/500\n",
      "✅ Bullish Engulfing: 64/500\n",
      "✅ Bullish Engulfing: 65/500\n",
      "✅ Bullish Engulfing: 66/500\n",
      "✅ Bullish Engulfing: 67/500\n",
      "✅ Bullish Engulfing: 68/500\n",
      "✅ Bullish Engulfing: 69/500\n",
      "✅ Bullish Engulfing: 70/500\n",
      "✅ Double Bottom: 266/500\n",
      "✅ Bullish Engulfing: 71/500\n",
      "✅ Bullish Engulfing: 72/500\n",
      "✅ Bullish Engulfing: 73/500\n",
      "✅ Bullish Engulfing: 74/500\n",
      "✅ Bullish Engulfing: 75/500\n",
      "✅ Bullish Engulfing: 76/500\n",
      "✅ Double Bottom: 267/500\n",
      "✅ Double Bottom: 268/500\n",
      "✅ Double Bottom: 269/500\n",
      "✅ Double Bottom: 270/500\n",
      "✅ Cup and Handle: 81/500\n",
      "✅ Cup and Handle: 82/500\n",
      "✅ Cup and Handle: 83/500\n",
      "✅ Bullish Engulfing: 77/500\n",
      "✅ Bullish Engulfing: 78/500\n",
      "✅ Bullish Engulfing: 79/500\n",
      "✅ Bullish Engulfing: 80/500\n",
      "✅ Bullish Engulfing: 81/500\n",
      "✅ Bullish Engulfing: 82/500\n",
      "✅ Bullish Engulfing: 83/500\n",
      "✅ Double Bottom: 271/500\n",
      "✅ Hanging Man: 2/500\n",
      "✅ Bearish Engulfing: 56/500\n",
      "✅ Bearish Engulfing: 57/500\n",
      "📈 Fetching data for NVDA\n"
     ]
    },
    {
     "name": "stderr",
     "output_type": "stream",
     "text": [
      "[*********************100%***********************]  1 of 1 completed\n"
     ]
    },
    {
     "name": "stdout",
     "output_type": "stream",
     "text": [
      "✅ Double Bottom: 272/500\n",
      "✅ Double Bottom: 273/500\n",
      "✅ Double Bottom: 274/500\n",
      "✅ Double Bottom: 275/500\n",
      "✅ Double Bottom: 276/500\n",
      "✅ Cup and Handle: 84/500\n",
      "✅ Bullish Engulfing: 84/500\n",
      "✅ Cup and Handle: 85/500\n",
      "✅ Cup and Handle: 86/500\n",
      "✅ Bearish Engulfing: 58/500\n",
      "✅ Double Bottom: 277/500\n",
      "✅ Double Bottom: 278/500\n",
      "✅ Double Bottom: 279/500\n",
      "✅ Double Bottom: 280/500\n",
      "✅ Double Bottom: 281/500\n",
      "✅ Double Bottom: 282/500\n",
      "✅ Double Bottom: 283/500\n",
      "✅ Double Bottom: 284/500\n",
      "✅ Ascending Triangle: 4/500\n",
      "✅ Ascending Triangle: 5/500\n",
      "✅ Bearish Engulfing: 59/500\n",
      "✅ Bullish Engulfing: 85/500\n",
      "✅ Bullish Engulfing: 86/500\n",
      "✅ Bullish Engulfing: 87/500\n",
      "✅ Double Bottom: 285/500\n",
      "✅ Double Bottom: 286/500\n",
      "✅ Double Bottom: 287/500\n",
      "✅ Double Bottom: 288/500\n",
      "✅ Double Bottom: 289/500\n",
      "✅ Double Bottom: 290/500\n",
      "✅ Cup and Handle: 87/500\n",
      "✅ Cup and Handle: 88/500\n",
      "✅ Cup and Handle: 89/500\n",
      "✅ Bullish Engulfing: 88/500\n",
      "✅ Cup and Handle: 90/500\n",
      "✅ Ascending Triangle: 6/500\n",
      "✅ Double Bottom: 291/500\n",
      "✅ Double Bottom: 292/500\n",
      "✅ Double Bottom: 293/500\n",
      "✅ Double Bottom: 294/500\n",
      "✅ Double Bottom: 295/500\n",
      "✅ Double Bottom: 296/500\n",
      "✅ Double Bottom: 297/500\n",
      "✅ Cup and Handle: 91/500\n",
      "✅ Cup and Handle: 92/500\n",
      "✅ Cup and Handle: 93/500\n",
      "✅ Cup and Handle: 94/500\n",
      "✅ Cup and Handle: 95/500\n",
      "✅ Bearish Engulfing: 60/500\n",
      "✅ Bearish Engulfing: 61/500\n",
      "✅ Bearish Engulfing: 62/500\n",
      "✅ Bearish Engulfing: 63/500\n",
      "✅ Bullish Engulfing: 89/500\n",
      "✅ Cup and Handle: 96/500\n",
      "✅ Bullish Engulfing: 90/500\n",
      "✅ Bullish Engulfing: 91/500\n",
      "✅ Bullish Engulfing: 92/500\n",
      "✅ Bullish Engulfing: 93/500\n",
      "✅ Bullish Engulfing: 94/500\n",
      "✅ Bullish Engulfing: 95/500\n",
      "✅ Cup and Handle: 97/500\n",
      "✅ Bullish Engulfing: 96/500\n",
      "✅ Cup and Handle: 98/500\n",
      "✅ Cup and Handle: 99/500\n",
      "✅ Double Bottom: 298/500\n",
      "✅ Bullish Engulfing: 97/500\n",
      "✅ Bullish Engulfing: 98/500\n",
      "✅ Cup and Handle: 100/500\n",
      "✅ Cup and Handle: 101/500\n",
      "✅ Double Bottom: 299/500\n",
      "✅ Cup and Handle: 102/500\n",
      "✅ Cup and Handle: 103/500\n",
      "✅ Cup and Handle: 104/500\n",
      "✅ Cup and Handle: 105/500\n",
      "✅ Cup and Handle: 106/500\n",
      "✅ Double Bottom: 300/500\n",
      "✅ Double Bottom: 301/500\n",
      "✅ Double Bottom: 302/500\n",
      "✅ Double Bottom: 303/500\n",
      "✅ Double Bottom: 304/500\n",
      "✅ Cup and Handle: 107/500\n",
      "✅ Double Bottom: 305/500\n",
      "✅ Cup and Handle: 108/500\n",
      "✅ Cup and Handle: 109/500\n",
      "✅ Bullish Engulfing: 99/500\n",
      "✅ Bullish Engulfing: 100/500\n",
      "✅ Bullish Engulfing: 101/500\n",
      "✅ Double Bottom: 306/500\n",
      "✅ Double Bottom: 307/500\n",
      "✅ Double Bottom: 308/500\n",
      "✅ Double Bottom: 309/500\n",
      "✅ Double Bottom: 310/500\n",
      "✅ Double Bottom: 311/500\n",
      "✅ Double Bottom: 312/500\n",
      "✅ Double Bottom: 313/500\n",
      "✅ Cup and Handle: 110/500\n",
      "✅ Bullish Engulfing: 102/500\n",
      "✅ Cup and Handle: 111/500\n",
      "✅ Bullish Engulfing: 103/500\n",
      "✅ Bullish Engulfing: 104/500\n",
      "✅ Bullish Engulfing: 105/500\n",
      "✅ Bullish Engulfing: 106/500\n",
      "✅ Bullish Engulfing: 107/500\n",
      "✅ Cup and Handle: 112/500\n",
      "✅ Cup and Handle: 113/500\n",
      "✅ Bullish Engulfing: 108/500\n",
      "✅ Shooting Star: 1/500\n",
      "✅ Bearish Engulfing: 64/500\n",
      "✅ Bearish Engulfing: 65/500\n",
      "✅ Cup and Handle: 114/500\n",
      "✅ Bearish Engulfing: 66/500\n",
      "✅ Bearish Engulfing: 67/500\n",
      "✅ Cup and Handle: 115/500\n",
      "✅ Double Bottom: 314/500\n",
      "✅ Double Bottom: 315/500\n",
      "✅ Ascending Triangle: 7/500\n",
      "✅ Hanging Man: 3/500\n",
      "✅ Double Bottom: 316/500\n",
      "✅ Ascending Triangle: 8/500\n",
      "✅ Ascending Triangle: 9/500\n",
      "✅ Double Bottom: 317/500\n",
      "✅ Double Bottom: 318/500\n",
      "✅ Double Bottom: 319/500\n",
      "✅ Cup and Handle: 116/500\n",
      "✅ Double Bottom: 320/500\n",
      "✅ Double Bottom: 321/500\n",
      "✅ Double Bottom: 322/500\n",
      "✅ Double Bottom: 323/500\n",
      "✅ Cup and Handle: 117/500\n",
      "✅ Cup and Handle: 118/500\n",
      "✅ Cup and Handle: 119/500\n",
      "✅ Bullish Engulfing: 109/500\n",
      "✅ Bullish Engulfing: 110/500\n",
      "✅ Bullish Engulfing: 111/500\n",
      "✅ Bullish Engulfing: 112/500\n",
      "✅ Double Bottom: 324/500\n",
      "✅ Bearish Engulfing: 68/500\n",
      "✅ Bearish Engulfing: 69/500\n"
     ]
    },
    {
     "name": "stderr",
     "output_type": "stream",
     "text": [
      "[*********************100%***********************]  1 of 1 completed"
     ]
    },
    {
     "name": "stdout",
     "output_type": "stream",
     "text": [
      "✅ Bearish Engulfing: 70/500\n",
      "📈 Fetching data for TSLA\n",
      "✅ Double Bottom: 325/500\n"
     ]
    },
    {
     "name": "stderr",
     "output_type": "stream",
     "text": [
      "\n"
     ]
    },
    {
     "name": "stdout",
     "output_type": "stream",
     "text": [
      "✅ Double Bottom: 326/500\n",
      "✅ Bullish Engulfing: 113/500\n",
      "✅ Bullish Engulfing: 114/500\n",
      "✅ Cup and Handle: 120/500\n",
      "✅ Descending Triangle: 4/500\n",
      "✅ Cup and Handle: 121/500\n",
      "✅ Bearish Engulfing: 71/500\n",
      "✅ Bearish Engulfing: 72/500\n",
      "✅ Double Bottom: 327/500\n",
      "✅ Double Bottom: 328/500\n",
      "✅ Double Bottom: 329/500\n",
      "✅ Double Bottom: 330/500\n",
      "✅ Double Bottom: 331/500\n",
      "✅ Double Bottom: 332/500\n",
      "✅ Double Bottom: 333/500\n",
      "✅ Ascending Triangle: 10/500\n",
      "✅ Bullish Engulfing: 115/500\n",
      "✅ Bullish Engulfing: 116/500\n",
      "✅ Bullish Engulfing: 117/500\n",
      "✅ Cup and Handle: 122/500\n",
      "✅ Bullish Engulfing: 118/500\n",
      "✅ Bullish Engulfing: 119/500\n",
      "✅ Bullish Engulfing: 120/500\n",
      "✅ Cup and Handle: 123/500\n",
      "✅ Bullish Engulfing: 121/500\n",
      "✅ Bullish Engulfing: 122/500\n",
      "✅ Bullish Engulfing: 123/500\n",
      "✅ Bullish Engulfing: 124/500\n",
      "✅ Bullish Engulfing: 125/500\n",
      "✅ Bullish Engulfing: 126/500\n",
      "✅ Bullish Engulfing: 127/500\n",
      "✅ Bullish Engulfing: 128/500\n",
      "✅ Bullish Engulfing: 129/500\n",
      "✅ Bullish Engulfing: 130/500\n",
      "✅ Bullish Engulfing: 131/500\n",
      "✅ Bullish Engulfing: 132/500\n",
      "✅ Bullish Engulfing: 133/500\n",
      "✅ Double Bottom: 334/500\n",
      "✅ Double Bottom: 335/500\n",
      "✅ Shooting Star: 2/500\n",
      "✅ Cup and Handle: 124/500\n",
      "✅ Cup and Handle: 125/500\n",
      "✅ Cup and Handle: 126/500\n",
      "✅ Cup and Handle: 127/500\n",
      "✅ Cup and Handle: 128/500\n",
      "✅ Bearish Engulfing: 73/500\n",
      "✅ Bearish Engulfing: 74/500\n",
      "✅ Bearish Engulfing: 75/500\n",
      "✅ Bearish Engulfing: 76/500\n",
      "✅ Cup and Handle: 129/500\n",
      "✅ Cup and Handle: 130/500\n",
      "✅ Cup and Handle: 131/500\n",
      "✅ Cup and Handle: 132/500\n",
      "✅ Double Bottom: 336/500\n",
      "✅ Double Bottom: 337/500\n",
      "✅ Double Bottom: 338/500\n",
      "✅ Double Bottom: 339/500\n",
      "✅ Bullish Engulfing: 134/500\n",
      "✅ Bullish Engulfing: 135/500\n",
      "✅ Bullish Engulfing: 136/500\n",
      "✅ Bullish Engulfing: 137/500\n",
      "✅ Bullish Engulfing: 138/500\n",
      "✅ Bullish Engulfing: 139/500\n",
      "✅ Bullish Engulfing: 140/500\n",
      "✅ Double Bottom: 340/500\n",
      "✅ Bullish Engulfing: 141/500\n",
      "✅ Cup and Handle: 133/500\n",
      "✅ Double Bottom: 341/500\n",
      "✅ Cup and Handle: 134/500\n",
      "✅ Cup and Handle: 135/500\n",
      "✅ Cup and Handle: 136/500\n",
      "✅ Cup and Handle: 137/500\n",
      "✅ Cup and Handle: 138/500\n",
      "✅ Cup and Handle: 139/500\n",
      "✅ Cup and Handle: 140/500\n",
      "✅ Cup and Handle: 141/500\n",
      "✅ Bearish Engulfing: 77/500\n",
      "✅ Bearish Engulfing: 78/500\n",
      "✅ Bearish Engulfing: 79/500\n",
      "✅ Cup and Handle: 142/500\n",
      "✅ Cup and Handle: 143/500\n",
      "✅ Double Bottom: 342/500\n",
      "✅ Double Bottom: 343/500\n",
      "✅ Double Bottom: 344/500\n",
      "✅ Double Bottom: 345/500\n",
      "✅ Double Bottom: 346/500\n",
      "✅ Double Bottom: 347/500\n",
      "✅ Cup and Handle: 144/500\n",
      "✅ Bearish Engulfing: 80/500\n",
      "✅ Bearish Engulfing: 81/500\n",
      "✅ Bullish Engulfing: 142/500\n",
      "✅ Cup and Handle: 145/500\n",
      "✅ Double Bottom: 348/500\n",
      "✅ Double Bottom: 349/500\n",
      "✅ Double Bottom: 350/500\n",
      "✅ Double Bottom: 351/500\n",
      "✅ Cup and Handle: 146/500\n",
      "✅ Cup and Handle: 147/500\n",
      "✅ Cup and Handle: 148/500\n",
      "✅ Cup and Handle: 149/500\n",
      "✅ Bearish Engulfing: 82/500\n",
      "✅ Cup and Handle: 150/500\n",
      "✅ Cup and Handle: 151/500\n",
      "✅ Cup and Handle: 152/500\n",
      "✅ Cup and Handle: 153/500\n",
      "✅ Cup and Handle: 154/500\n",
      "✅ Cup and Handle: 155/500\n",
      "✅ Cup and Handle: 156/500\n",
      "✅ Bullish Engulfing: 143/500\n",
      "✅ Bullish Engulfing: 144/500\n",
      "✅ Bullish Engulfing: 145/500\n",
      "✅ Bullish Engulfing: 146/500\n",
      "✅ Double Bottom: 352/500\n",
      "✅ Bullish Engulfing: 147/500\n",
      "✅ Bullish Engulfing: 148/500\n",
      "✅ Cup and Handle: 157/500\n",
      "✅ Bearish Engulfing: 83/500\n",
      "✅ Cup and Handle: 158/500\n",
      "✅ Cup and Handle: 159/500\n",
      "✅ Cup and Handle: 160/500\n",
      "✅ Bearish Engulfing: 84/500\n",
      "✅ Bearish Engulfing: 85/500\n",
      "✅ Cup and Handle: 161/500\n",
      "✅ Bearish Engulfing: 86/500\n",
      "✅ Bearish Engulfing: 87/500\n",
      "✅ Bearish Engulfing: 88/500\n",
      "✅ Bearish Engulfing: 89/500\n",
      "✅ Cup and Handle: 162/500\n",
      "✅ Bearish Engulfing: 90/500\n",
      "✅ Bullish Engulfing: 149/500\n",
      "✅ Cup and Handle: 163/500\n",
      "✅ Cup and Handle: 164/500\n",
      "✅ Cup and Handle: 165/500\n",
      "✅ Cup and Handle: 166/500\n",
      "✅ Cup and Handle: 167/500\n",
      "✅ Cup and Handle: 168/500\n",
      "✅ Cup and Handle: 169/500\n",
      "✅ Cup and Handle: 170/500\n",
      "✅ Cup and Handle: 171/500\n",
      "✅ Cup and Handle: 172/500\n",
      "✅ Cup and Handle: 173/500\n",
      "✅ Double Bottom: 353/500\n",
      "✅ Double Bottom: 354/500\n",
      "✅ Double Bottom: 355/500\n",
      "✅ Double Bottom: 356/500\n"
     ]
    },
    {
     "name": "stderr",
     "output_type": "stream",
     "text": [
      "[*********************100%***********************]  1 of 1 completed"
     ]
    },
    {
     "name": "stdout",
     "output_type": "stream",
     "text": [
      "✅ Double Bottom: 357/500\n",
      "📈 Fetching data for NFLX\n",
      "✅ Double Bottom: 358/500\n"
     ]
    },
    {
     "name": "stderr",
     "output_type": "stream",
     "text": [
      "\n"
     ]
    },
    {
     "name": "stdout",
     "output_type": "stream",
     "text": [
      "✅ Double Bottom: 359/500\n",
      "✅ Double Bottom: 360/500\n",
      "✅ Bullish Engulfing: 150/500\n",
      "✅ Bullish Engulfing: 151/500\n",
      "✅ Double Bottom: 361/500\n",
      "✅ Double Bottom: 362/500\n",
      "✅ Double Bottom: 363/500\n",
      "✅ Double Bottom: 364/500\n",
      "✅ Double Bottom: 365/500\n",
      "✅ Cup and Handle: 174/500\n",
      "✅ Morning Star: 5/500\n",
      "✅ Double Bottom: 366/500\n",
      "✅ Cup and Handle: 175/500\n",
      "✅ Cup and Handle: 176/500\n",
      "✅ Bearish Engulfing: 91/500\n",
      "✅ Cup and Handle: 177/500\n",
      "✅ Double Bottom: 367/500\n",
      "✅ Double Bottom: 368/500\n",
      "✅ Double Bottom: 369/500\n",
      "✅ Double Bottom: 370/500\n",
      "✅ Double Bottom: 371/500\n",
      "✅ Double Bottom: 372/500\n",
      "✅ Double Bottom: 373/500\n",
      "✅ Double Bottom: 374/500\n",
      "✅ Double Bottom: 375/500\n",
      "✅ Double Bottom: 376/500\n",
      "✅ Double Bottom: 377/500\n",
      "✅ Double Bottom: 378/500\n",
      "✅ Double Bottom: 379/500\n",
      "✅ Double Bottom: 380/500\n",
      "✅ Double Bottom: 381/500\n",
      "✅ Double Bottom: 382/500\n",
      "✅ Double Bottom: 383/500\n",
      "✅ Double Bottom: 384/500\n",
      "✅ Double Bottom: 385/500\n",
      "✅ Double Bottom: 386/500\n",
      "✅ Double Bottom: 387/500\n",
      "✅ Double Bottom: 388/500\n",
      "✅ Double Bottom: 389/500\n",
      "✅ Double Bottom: 390/500\n",
      "✅ Double Bottom: 391/500\n",
      "✅ Double Bottom: 392/500\n",
      "✅ Bullish Engulfing: 152/500\n",
      "✅ Double Bottom: 393/500\n",
      "✅ Double Bottom: 394/500\n",
      "✅ Double Bottom: 395/500\n",
      "✅ Bearish Engulfing: 92/500\n",
      "✅ Double Bottom: 396/500\n",
      "✅ Double Bottom: 397/500\n",
      "✅ Double Bottom: 398/500\n",
      "✅ Double Bottom: 399/500\n",
      "✅ Bullish Engulfing: 153/500\n",
      "✅ Bullish Engulfing: 154/500\n",
      "✅ Bullish Engulfing: 155/500\n",
      "✅ Bullish Engulfing: 156/500\n",
      "✅ Bullish Engulfing: 157/500\n",
      "✅ Bullish Engulfing: 158/500\n",
      "✅ Double Bottom: 400/500\n",
      "✅ Double Bottom: 401/500\n",
      "✅ Double Bottom: 402/500\n",
      "✅ Evening Star: 1/500\n",
      "✅ Evening Star: 2/500\n",
      "✅ Cup and Handle: 178/500\n",
      "✅ Cup and Handle: 179/500\n",
      "✅ Cup and Handle: 180/500\n",
      "✅ Double Bottom: 403/500\n",
      "✅ Bullish Engulfing: 159/500\n",
      "✅ Cup and Handle: 181/500\n",
      "✅ Bullish Engulfing: 160/500\n",
      "✅ Head and Shoulders: 5/500\n",
      "✅ Cup and Handle: 182/500\n",
      "✅ Bearish Engulfing: 93/500\n",
      "✅ Bearish Engulfing: 94/500\n",
      "✅ Bearish Engulfing: 95/500\n",
      "✅ Bullish Engulfing: 161/500\n",
      "✅ Bullish Engulfing: 162/500\n",
      "✅ Bullish Engulfing: 163/500\n",
      "✅ Bullish Engulfing: 164/500\n",
      "✅ Bullish Engulfing: 165/500\n",
      "✅ Bullish Engulfing: 166/500\n",
      "✅ Bullish Engulfing: 167/500\n",
      "✅ Bullish Engulfing: 168/500\n",
      "✅ Bullish Engulfing: 169/500\n",
      "📈 Fetching data for JPM\n"
     ]
    },
    {
     "name": "stderr",
     "output_type": "stream",
     "text": [
      "[*********************100%***********************]  1 of 1 completed\n"
     ]
    },
    {
     "name": "stdout",
     "output_type": "stream",
     "text": [
      "✅ Evening Star: 3/500\n",
      "✅ Evening Star: 4/500\n",
      "✅ Head and Shoulders: 6/500\n",
      "✅ Double Bottom: 404/500\n",
      "✅ Double Bottom: 405/500\n",
      "✅ Bearish Engulfing: 96/500\n",
      "✅ Bullish Engulfing: 170/500\n",
      "✅ Bullish Engulfing: 171/500\n",
      "✅ Bullish Engulfing: 172/500\n",
      "✅ Double Bottom: 406/500\n",
      "✅ Double Bottom: 407/500\n",
      "✅ Double Bottom: 408/500\n",
      "✅ Double Bottom: 409/500\n",
      "✅ Double Bottom: 410/500\n",
      "✅ Shooting Star: 3/500\n",
      "✅ Cup and Handle: 183/500\n",
      "✅ Cup and Handle: 184/500\n",
      "✅ Cup and Handle: 185/500\n",
      "✅ Cup and Handle: 186/500\n",
      "✅ Cup and Handle: 187/500\n",
      "✅ Cup and Handle: 188/500\n",
      "✅ Cup and Handle: 189/500\n",
      "✅ Bearish Engulfing: 97/500\n",
      "✅ Cup and Handle: 190/500\n",
      "✅ Cup and Handle: 191/500\n",
      "✅ Cup and Handle: 192/500\n",
      "✅ Cup and Handle: 193/500\n",
      "✅ Double Bottom: 411/500\n",
      "✅ Double Bottom: 412/500\n",
      "✅ Double Bottom: 413/500\n",
      "✅ Double Bottom: 414/500\n",
      "✅ Bullish Engulfing: 173/500\n",
      "✅ Bullish Engulfing: 174/500\n",
      "✅ Cup and Handle: 194/500\n",
      "✅ Cup and Handle: 195/500\n",
      "✅ Cup and Handle: 196/500\n",
      "✅ Cup and Handle: 197/500\n",
      "✅ Cup and Handle: 198/500\n",
      "✅ Double Bottom: 415/500\n",
      "✅ Double Bottom: 416/500\n",
      "✅ Double Bottom: 417/500\n",
      "✅ Double Bottom: 418/500\n",
      "✅ Double Bottom: 419/500\n",
      "✅ Double Bottom: 420/500\n",
      "✅ Double Bottom: 421/500\n",
      "✅ Double Bottom: 422/500\n",
      "✅ Double Bottom: 423/500\n",
      "✅ Double Bottom: 424/500\n",
      "✅ Double Bottom: 425/500\n",
      "✅ Double Bottom: 426/500\n",
      "✅ Double Bottom: 427/500\n",
      "✅ Double Bottom: 428/500\n",
      "✅ Double Bottom: 429/500\n",
      "✅ Double Bottom: 430/500\n",
      "✅ Double Bottom: 431/500\n",
      "✅ Double Bottom: 432/500\n",
      "✅ Double Bottom: 433/500\n",
      "✅ Double Bottom: 434/500\n",
      "✅ Double Bottom: 435/500\n",
      "✅ Bullish Engulfing: 175/500\n",
      "✅ Bullish Engulfing: 176/500\n",
      "✅ Bullish Engulfing: 177/500\n",
      "✅ Bearish Engulfing: 98/500\n",
      "✅ Double Bottom: 436/500\n",
      "✅ Bullish Engulfing: 178/500\n",
      "✅ Bullish Engulfing: 179/500\n",
      "✅ Bullish Engulfing: 180/500\n",
      "✅ Bullish Engulfing: 181/500\n",
      "✅ Bearish Engulfing: 99/500\n",
      "✅ Bearish Engulfing: 100/500\n",
      "✅ Bearish Engulfing: 101/500\n"
     ]
    },
    {
     "name": "stderr",
     "output_type": "stream",
     "text": [
      "[*********************100%***********************]  1 of 1 completed"
     ]
    },
    {
     "name": "stdout",
     "output_type": "stream",
     "text": [
      "✅ Bullish Engulfing: 182/500\n",
      "📈 Fetching data for BAC\n"
     ]
    },
    {
     "name": "stderr",
     "output_type": "stream",
     "text": [
      "\n"
     ]
    },
    {
     "name": "stdout",
     "output_type": "stream",
     "text": [
      "✅ Bearish Engulfing: 102/500\n",
      "✅ Head and Shoulders: 7/500\n",
      "✅ Bearish Engulfing: 103/500\n",
      "✅ Bearish Engulfing: 104/500\n",
      "✅ Bearish Engulfing: 105/500\n",
      "✅ Bearish Engulfing: 106/500\n",
      "✅ Cup and Handle: 199/500\n",
      "✅ Cup and Handle: 200/500\n",
      "✅ Double Bottom: 437/500\n",
      "✅ Cup and Handle: 201/500\n",
      "✅ Bullish Engulfing: 183/500\n",
      "✅ Cup and Handle: 202/500\n",
      "✅ Cup and Handle: 203/500\n",
      "✅ Cup and Handle: 204/500\n",
      "✅ Bearish Engulfing: 107/500\n",
      "✅ Double Bottom: 438/500\n",
      "✅ Cup and Handle: 205/500\n",
      "✅ Cup and Handle: 206/500\n",
      "✅ Double Bottom: 439/500\n",
      "✅ Double Bottom: 440/500\n",
      "✅ Double Bottom: 441/500\n",
      "✅ Double Bottom: 442/500\n",
      "✅ Double Bottom: 443/500\n",
      "✅ Double Bottom: 444/500\n",
      "✅ Double Bottom: 445/500\n",
      "✅ Double Bottom: 446/500\n",
      "✅ Double Bottom: 447/500\n",
      "✅ Double Bottom: 448/500\n",
      "✅ Double Bottom: 449/500\n",
      "✅ Double Bottom: 450/500\n",
      "✅ Double Bottom: 451/500\n",
      "✅ Bullish Engulfing: 184/500\n",
      "✅ Bullish Engulfing: 185/500\n",
      "✅ Bullish Engulfing: 186/500\n",
      "✅ Bullish Engulfing: 187/500\n",
      "✅ Double Bottom: 452/500\n",
      "✅ Bullish Engulfing: 188/500\n",
      "✅ Double Bottom: 453/500\n",
      "✅ Bullish Engulfing: 189/500\n",
      "✅ Bullish Engulfing: 190/500\n",
      "✅ Cup and Handle: 207/500\n",
      "✅ Cup and Handle: 208/500\n",
      "✅ Cup and Handle: 209/500\n",
      "✅ Cup and Handle: 210/500\n",
      "✅ Bullish Engulfing: 191/500\n",
      "✅ Bullish Engulfing: 192/500\n",
      "✅ Bullish Engulfing: 193/500\n",
      "✅ Double Bottom: 454/500\n",
      "✅ Double Bottom: 455/500\n",
      "✅ Double Bottom: 456/500\n",
      "✅ Bullish Engulfing: 194/500\n",
      "✅ Double Bottom: 457/500\n",
      "✅ Double Bottom: 458/500\n",
      "✅ Cup and Handle: 211/500\n",
      "✅ Cup and Handle: 212/500\n",
      "✅ Double Bottom: 459/500\n",
      "✅ Double Bottom: 460/500\n",
      "✅ Bullish Engulfing: 195/500\n",
      "✅ Bullish Engulfing: 196/500\n",
      "✅ Double Bottom: 461/500\n",
      "✅ Cup and Handle: 213/500\n",
      "✅ Bearish Engulfing: 108/500\n",
      "✅ Bullish Engulfing: 197/500\n",
      "✅ Bullish Engulfing: 198/500\n",
      "✅ Cup and Handle: 214/500\n",
      "✅ Bullish Engulfing: 199/500\n",
      "✅ Double Bottom: 462/500\n",
      "✅ Double Bottom: 463/500\n",
      "✅ Double Bottom: 464/500\n",
      "✅ Double Bottom: 465/500\n",
      "✅ Double Bottom: 466/500\n",
      "✅ Double Bottom: 467/500\n",
      "✅ Double Bottom: 468/500\n",
      "✅ Double Bottom: 469/500\n",
      "✅ Double Bottom: 470/500\n",
      "✅ Double Bottom: 471/500\n",
      "✅ Double Bottom: 472/500\n",
      "✅ Bullish Engulfing: 200/500\n",
      "✅ Bullish Engulfing: 201/500\n",
      "✅ Cup and Handle: 215/500\n",
      "✅ Bullish Engulfing: 202/500\n",
      "✅ Bullish Engulfing: 203/500\n",
      "✅ Double Bottom: 473/500\n",
      "✅ Bullish Engulfing: 204/500\n",
      "✅ Double Bottom: 474/500\n",
      "✅ Bullish Engulfing: 205/500\n",
      "✅ Cup and Handle: 216/500\n",
      "✅ Double Bottom: 475/500\n",
      "✅ Double Bottom: 476/500\n",
      "✅ Double Bottom: 477/500\n",
      "✅ Double Bottom: 478/500\n",
      "✅ Double Bottom: 479/500\n",
      "✅ Double Bottom: 480/500\n",
      "✅ Double Bottom: 481/500\n",
      "✅ Double Bottom: 482/500\n",
      "✅ Double Bottom: 483/500\n",
      "✅ Double Bottom: 484/500\n",
      "✅ Bullish Engulfing: 206/500\n",
      "✅ Double Bottom: 485/500\n"
     ]
    },
    {
     "name": "stderr",
     "output_type": "stream",
     "text": [
      "[*********************100%***********************]  1 of 1 completed"
     ]
    },
    {
     "name": "stdout",
     "output_type": "stream",
     "text": [
      "✅ Double Bottom: 486/500\n",
      "📈 Fetching data for V\n"
     ]
    },
    {
     "name": "stderr",
     "output_type": "stream",
     "text": [
      "\n"
     ]
    },
    {
     "name": "stdout",
     "output_type": "stream",
     "text": [
      "✅ Bullish Engulfing: 207/500\n",
      "✅ Double Bottom: 487/500\n",
      "✅ Double Bottom: 488/500\n",
      "✅ Double Bottom: 489/500\n",
      "✅ Double Bottom: 490/500\n",
      "✅ Double Bottom: 491/500\n",
      "✅ Bullish Engulfing: 208/500\n",
      "✅ Cup and Handle: 217/500\n",
      "✅ Cup and Handle: 218/500\n",
      "✅ Cup and Handle: 219/500\n",
      "✅ Cup and Handle: 220/500\n",
      "✅ Double Bottom: 492/500\n",
      "✅ Cup and Handle: 221/500\n",
      "✅ Ascending Triangle: 11/500\n",
      "✅ Ascending Triangle: 12/500\n",
      "✅ Double Bottom: 493/500\n",
      "✅ Double Bottom: 494/500\n",
      "✅ Double Bottom: 495/500\n",
      "✅ Double Bottom: 496/500\n",
      "✅ Double Bottom: 497/500\n",
      "✅ Double Bottom: 498/500\n",
      "✅ Cup and Handle: 222/500\n",
      "✅ Bearish Engulfing: 109/500\n",
      "✅ Double Bottom: 499/500\n",
      "✅ Double Bottom: 500/500\n",
      "✅ Cup and Handle: 223/500\n",
      "✅ Cup and Handle: 224/500\n",
      "✅ Inverted Hammer: 1/500\n",
      "✅ Cup and Handle: 225/500\n",
      "✅ Cup and Handle: 226/500\n",
      "✅ Cup and Handle: 227/500\n",
      "✅ Cup and Handle: 228/500\n",
      "✅ Cup and Handle: 229/500\n",
      "✅ Cup and Handle: 230/500\n",
      "✅ Cup and Handle: 231/500\n"
     ]
    },
    {
     "name": "stderr",
     "output_type": "stream",
     "text": [
      "[*********************100%***********************]  1 of 1 completed"
     ]
    },
    {
     "name": "stdout",
     "output_type": "stream",
     "text": [
      "📈 Fetching data for MA\n"
     ]
    },
    {
     "name": "stderr",
     "output_type": "stream",
     "text": [
      "\n"
     ]
    },
    {
     "name": "stdout",
     "output_type": "stream",
     "text": [
      "✅ Bullish Engulfing: 209/500\n",
      "✅ Bullish Engulfing: 210/500\n",
      "✅ Bullish Engulfing: 211/500\n",
      "✅ Bullish Engulfing: 212/500\n",
      "✅ Bearish Engulfing: 110/500\n",
      "✅ Bearish Engulfing: 111/500\n",
      "✅ Bullish Engulfing: 213/500\n",
      "✅ Bullish Engulfing: 214/500\n",
      "✅ Bullish Engulfing: 215/500\n",
      "✅ Bullish Engulfing: 216/500\n",
      "✅ Bullish Engulfing: 217/500\n",
      "✅ Bullish Engulfing: 218/500\n",
      "✅ Bullish Engulfing: 219/500\n",
      "✅ Cup and Handle: 232/500\n",
      "✅ Bullish Engulfing: 220/500\n",
      "✅ Ascending Triangle: 13/500\n",
      "✅ Bullish Engulfing: 221/500\n",
      "✅ Cup and Handle: 233/500\n",
      "✅ Cup and Handle: 234/500\n",
      "✅ Cup and Handle: 235/500\n",
      "✅ Cup and Handle: 236/500\n",
      "✅ Bearish Engulfing: 112/500\n",
      "✅ Bearish Engulfing: 113/500\n",
      "✅ Bullish Engulfing: 222/500\n",
      "✅ Bullish Engulfing: 223/500\n",
      "✅ Cup and Handle: 237/500\n",
      "✅ Bullish Engulfing: 224/500\n"
     ]
    },
    {
     "name": "stderr",
     "output_type": "stream",
     "text": [
      "[*********************100%***********************]  1 of 1 completed"
     ]
    },
    {
     "name": "stdout",
     "output_type": "stream",
     "text": [
      "✅ Bullish Engulfing: 225/500\n",
      "📈 Fetching data for SOFI\n",
      "✅ Cup and Handle: 238/500\n"
     ]
    },
    {
     "name": "stderr",
     "output_type": "stream",
     "text": [
      "\n"
     ]
    },
    {
     "name": "stdout",
     "output_type": "stream",
     "text": [
      "✅ Cup and Handle: 239/500\n",
      "✅ Bullish Engulfing: 226/500\n",
      "✅ Bullish Engulfing: 227/500\n",
      "✅ Cup and Handle: 240/500\n",
      "✅ Bullish Engulfing: 228/500\n",
      "✅ Bullish Engulfing: 229/500\n",
      "✅ Cup and Handle: 241/500\n",
      "✅ Cup and Handle: 242/500\n",
      "✅ Cup and Handle: 243/500\n",
      "✅ Cup and Handle: 244/500\n",
      "✅ Cup and Handle: 245/500\n",
      "✅ Cup and Handle: 246/500\n",
      "✅ Cup and Handle: 247/500\n",
      "✅ Cup and Handle: 248/500\n",
      "✅ Cup and Handle: 249/500\n",
      "✅ Cup and Handle: 250/500\n",
      "✅ Cup and Handle: 251/500\n",
      "✅ Cup and Handle: 252/500\n",
      "✅ Ascending Triangle: 14/500\n",
      "✅ Ascending Triangle: 15/500\n",
      "✅ Ascending Triangle: 16/500\n",
      "✅ Bullish Engulfing: 230/500\n",
      "✅ Bullish Engulfing: 231/500\n",
      "✅ Cup and Handle: 253/500\n",
      "✅ Cup and Handle: 254/500\n",
      "✅ Cup and Handle: 255/500\n",
      "✅ Cup and Handle: 256/500\n",
      "✅ Bearish Engulfing: 114/500\n",
      "✅ Cup and Handle: 257/500\n",
      "✅ Cup and Handle: 258/500\n",
      "✅ Bearish Engulfing: 115/500\n",
      "✅ Bearish Engulfing: 116/500\n",
      "✅ Bearish Engulfing: 117/500\n",
      "✅ Bearish Engulfing: 118/500\n",
      "✅ Bearish Engulfing: 119/500\n",
      "✅ Cup and Handle: 259/500\n",
      "✅ Cup and Handle: 260/500\n",
      "✅ Bullish Engulfing: 232/500\n",
      "✅ Bullish Engulfing: 233/500\n",
      "✅ Cup and Handle: 261/500\n",
      "✅ Cup and Handle: 262/500\n",
      "✅ Cup and Handle: 263/500\n",
      "✅ Cup and Handle: 264/500\n",
      "✅ Cup and Handle: 265/500\n",
      "✅ Cup and Handle: 266/500\n",
      "✅ Cup and Handle: 267/500\n",
      "✅ Bullish Engulfing: 234/500\n",
      "✅ Cup and Handle: 268/500\n",
      "✅ Cup and Handle: 269/500\n",
      "✅ Cup and Handle: 270/500\n",
      "✅ Cup and Handle: 271/500\n",
      "✅ Cup and Handle: 272/500\n",
      "✅ Cup and Handle: 273/500\n",
      "✅ Cup and Handle: 274/500\n",
      "✅ Cup and Handle: 275/500\n",
      "✅ Cup and Handle: 276/500\n",
      "✅ Cup and Handle: 277/500\n",
      "✅ Cup and Handle: 278/500\n",
      "✅ Bullish Engulfing: 235/500\n",
      "✅ Cup and Handle: 279/500\n",
      "✅ Cup and Handle: 280/500\n",
      "✅ Bullish Engulfing: 236/500\n",
      "✅ Cup and Handle: 281/500\n"
     ]
    },
    {
     "name": "stderr",
     "output_type": "stream",
     "text": [
      "[*********************100%***********************]  1 of 1 completed"
     ]
    },
    {
     "name": "stdout",
     "output_type": "stream",
     "text": [
      "✅ Cup and Handle: 282/500\n",
      "📈 Fetching data for COIN\n",
      "✅ Cup and Handle: 283/500\n"
     ]
    },
    {
     "name": "stderr",
     "output_type": "stream",
     "text": [
      "\n"
     ]
    },
    {
     "name": "stdout",
     "output_type": "stream",
     "text": [
      "✅ Cup and Handle: 284/500\n",
      "✅ Cup and Handle: 285/500\n",
      "✅ Bearish Engulfing: 120/500\n",
      "✅ Bearish Engulfing: 121/500\n",
      "✅ Bearish Engulfing: 122/500\n",
      "✅ Bearish Engulfing: 123/500\n",
      "✅ Bullish Engulfing: 237/500\n",
      "✅ Cup and Handle: 286/500\n",
      "✅ Cup and Handle: 287/500\n",
      "✅ Cup and Handle: 288/500\n",
      "✅ Cup and Handle: 289/500\n",
      "✅ Cup and Handle: 290/500\n",
      "✅ Cup and Handle: 291/500\n",
      "✅ Bullish Engulfing: 238/500\n",
      "✅ Cup and Handle: 292/500\n",
      "✅ Cup and Handle: 293/500\n",
      "✅ Cup and Handle: 294/500\n",
      "✅ Cup and Handle: 295/500\n",
      "✅ Cup and Handle: 296/500\n",
      "✅ Morning Star: 6/500\n",
      "✅ Morning Star: 7/500\n",
      "✅ Bullish Engulfing: 239/500\n",
      "✅ Ascending Triangle: 17/500\n",
      "✅ Bullish Engulfing: 240/500\n",
      "✅ Bullish Engulfing: 241/500\n",
      "✅ Cup and Handle: 297/500\n",
      "✅ Descending Triangle: 5/500\n",
      "✅ Cup and Handle: 298/500\n",
      "✅ Descending Triangle: 6/500\n",
      "✅ Cup and Handle: 299/500\n",
      "✅ Cup and Handle: 300/500\n",
      "✅ Cup and Handle: 301/500\n",
      "✅ Cup and Handle: 302/500\n",
      "✅ Cup and Handle: 303/500\n",
      "✅ Cup and Handle: 304/500\n",
      "✅ Cup and Handle: 305/500\n",
      "✅ Cup and Handle: 306/500\n",
      "✅ Cup and Handle: 307/500\n",
      "✅ Cup and Handle: 308/500\n",
      "✅ Cup and Handle: 309/500\n",
      "✅ Bullish Engulfing: 242/500\n",
      "✅ Cup and Handle: 310/500\n",
      "✅ Cup and Handle: 311/500\n",
      "✅ Cup and Handle: 312/500\n",
      "✅ Cup and Handle: 313/500\n",
      "✅ Cup and Handle: 314/500\n",
      "✅ Cup and Handle: 315/500\n",
      "✅ Cup and Handle: 316/500\n",
      "✅ Cup and Handle: 317/500\n",
      "✅ Cup and Handle: 318/500\n",
      "✅ Cup and Handle: 319/500\n",
      "✅ Cup and Handle: 320/500\n",
      "✅ Bullish Engulfing: 243/500\n",
      "✅ Bullish Engulfing: 244/500\n",
      "✅ Cup and Handle: 321/500\n",
      "✅ Cup and Handle: 322/500\n",
      "✅ Cup and Handle: 323/500\n",
      "✅ Cup and Handle: 324/500\n",
      "✅ Cup and Handle: 325/500\n",
      "✅ Hanging Man: 4/500\n",
      "✅ Hanging Man: 5/500\n",
      "✅ Cup and Handle: 326/500\n",
      "✅ Hanging Man: 6/500\n",
      "✅ Hanging Man: 7/500\n",
      "✅ Hanging Man: 8/500\n",
      "✅ Bearish Engulfing: 124/500\n",
      "✅ Bearish Engulfing: 125/500\n",
      "✅ Bearish Engulfing: 126/500\n",
      "✅ Bearish Engulfing: 127/500\n",
      "✅ Bearish Engulfing: 128/500\n",
      "✅ Cup and Handle: 327/500\n",
      "✅ Bearish Engulfing: 129/500\n",
      "✅ Bearish Engulfing: 130/500\n",
      "✅ Cup and Handle: 328/500\n"
     ]
    },
    {
     "name": "stderr",
     "output_type": "stream",
     "text": [
      "[*********************100%***********************]  1 of 1 completed"
     ]
    },
    {
     "name": "stdout",
     "output_type": "stream",
     "text": [
      "✅ Bearish Engulfing: 131/500\n",
      "📈 Fetching data for XOM\n"
     ]
    },
    {
     "name": "stderr",
     "output_type": "stream",
     "text": [
      "\n"
     ]
    },
    {
     "name": "stdout",
     "output_type": "stream",
     "text": [
      "✅ Cup and Handle: 329/500\n",
      "✅ Cup and Handle: 330/500\n",
      "✅ Cup and Handle: 331/500\n",
      "✅ Bearish Engulfing: 132/500\n",
      "✅ Bearish Engulfing: 133/500\n",
      "✅ Bearish Engulfing: 134/500\n",
      "✅ Bearish Engulfing: 135/500\n",
      "✅ Bearish Engulfing: 136/500\n",
      "✅ Bearish Engulfing: 137/500\n",
      "✅ Bearish Engulfing: 138/500\n",
      "✅ Cup and Handle: 332/500\n",
      "✅ Cup and Handle: 333/500\n",
      "✅ Cup and Handle: 334/500\n",
      "✅ Cup and Handle: 335/500\n",
      "✅ Bullish Engulfing: 245/500\n",
      "✅ Shooting Star: 4/500\n",
      "✅ Cup and Handle: 336/500\n",
      "✅ Cup and Handle: 337/500\n",
      "✅ Cup and Handle: 338/500\n",
      "✅ Cup and Handle: 339/500\n",
      "✅ Cup and Handle: 340/500\n",
      "✅ Cup and Handle: 341/500\n",
      "✅ Bearish Engulfing: 139/500\n",
      "✅ Bearish Engulfing: 140/500\n",
      "✅ Cup and Handle: 342/500\n",
      "✅ Cup and Handle: 343/500\n",
      "✅ Morning Star: 8/500\n",
      "✅ Morning Star: 9/500\n",
      "✅ Bearish Engulfing: 141/500\n",
      "✅ Bearish Engulfing: 142/500\n",
      "✅ Bearish Engulfing: 143/500\n",
      "✅ Head and Shoulders: 8/500\n",
      "📈 Fetching data for CVX\n"
     ]
    },
    {
     "name": "stderr",
     "output_type": "stream",
     "text": [
      "[*********************100%***********************]  1 of 1 completed\n"
     ]
    },
    {
     "name": "stdout",
     "output_type": "stream",
     "text": [
      "✅ Bearish Engulfing: 144/500\n",
      "✅ Bearish Engulfing: 145/500\n",
      "✅ Cup and Handle: 344/500\n",
      "✅ Cup and Handle: 345/500\n",
      "✅ Cup and Handle: 346/500\n",
      "✅ Cup and Handle: 347/500\n",
      "✅ Cup and Handle: 348/500\n",
      "✅ Bearish Engulfing: 146/500\n",
      "✅ Cup and Handle: 349/500\n",
      "✅ Evening Star: 5/500\n",
      "✅ Cup and Handle: 350/500\n",
      "✅ Bearish Engulfing: 147/500\n",
      "✅ Cup and Handle: 351/500\n",
      "✅ Bullish Engulfing: 246/500\n",
      "✅ Bullish Engulfing: 247/500\n",
      "✅ Cup and Handle: 352/500\n",
      "✅ Cup and Handle: 353/500\n",
      "✅ Cup and Handle: 354/500\n",
      "✅ Cup and Handle: 355/500\n",
      "✅ Cup and Handle: 356/500\n",
      "✅ Cup and Handle: 357/500\n",
      "✅ Bearish Engulfing: 148/500\n",
      "✅ Bullish Engulfing: 248/500\n",
      "✅ Bullish Engulfing: 249/500\n",
      "✅ Bullish Engulfing: 250/500\n",
      "✅ Bullish Engulfing: 251/500\n",
      "✅ Bullish Engulfing: 252/500\n",
      "✅ Bullish Engulfing: 253/500\n",
      "✅ Bullish Engulfing: 254/500\n",
      "✅ Cup and Handle: 358/500\n",
      "✅ Bullish Engulfing: 255/500\n",
      "✅ Cup and Handle: 359/500\n",
      "✅ Bullish Engulfing: 256/500\n",
      "✅ Bullish Engulfing: 257/500\n",
      "✅ Bullish Engulfing: 258/500\n",
      "✅ Bullish Engulfing: 259/500\n",
      "✅ Bullish Engulfing: 260/500\n",
      "✅ Cup and Handle: 360/500\n",
      "✅ Head and Shoulders: 9/500\n",
      "✅ Cup and Handle: 361/500\n",
      "✅ Cup and Handle: 362/500\n",
      "✅ Cup and Handle: 363/500\n",
      "✅ Bullish Engulfing: 261/500\n"
     ]
    },
    {
     "name": "stderr",
     "output_type": "stream",
     "text": [
      "[*********************100%***********************]  1 of 1 completed"
     ]
    },
    {
     "name": "stdout",
     "output_type": "stream",
     "text": [
      "✅ Bullish Engulfing: 262/500\n",
      "📈 Fetching data for BA\n",
      "✅ Bullish Engulfing: 263/500\n"
     ]
    },
    {
     "name": "stderr",
     "output_type": "stream",
     "text": [
      "\n"
     ]
    },
    {
     "name": "stdout",
     "output_type": "stream",
     "text": [
      "✅ Bullish Engulfing: 264/500\n",
      "✅ Bullish Engulfing: 265/500\n",
      "✅ Bullish Engulfing: 266/500\n",
      "✅ Bullish Engulfing: 267/500\n",
      "✅ Bullish Engulfing: 268/500\n",
      "✅ Cup and Handle: 364/500\n",
      "✅ Descending Triangle: 7/500\n",
      "✅ Descending Triangle: 8/500\n",
      "✅ Cup and Handle: 365/500\n",
      "✅ Cup and Handle: 366/500\n",
      "✅ Morning Star: 10/500\n",
      "✅ Cup and Handle: 367/500\n",
      "✅ Cup and Handle: 368/500\n",
      "✅ Bearish Engulfing: 149/500\n",
      "✅ Cup and Handle: 369/500\n",
      "✅ Cup and Handle: 370/500\n",
      "✅ Morning Star: 11/500\n",
      "✅ Morning Star: 12/500\n",
      "✅ Morning Star: 13/500\n",
      "✅ Morning Star: 14/500\n",
      "✅ Cup and Handle: 371/500\n",
      "✅ Cup and Handle: 372/500\n",
      "✅ Cup and Handle: 373/500\n",
      "✅ Cup and Handle: 374/500\n",
      "✅ Cup and Handle: 375/500\n",
      "✅ Cup and Handle: 376/500\n",
      "✅ Cup and Handle: 377/500\n",
      "✅ Cup and Handle: 378/500\n",
      "✅ Cup and Handle: 379/500\n",
      "✅ Cup and Handle: 380/500\n",
      "✅ Cup and Handle: 381/500\n",
      "✅ Cup and Handle: 382/500\n",
      "✅ Bullish Engulfing: 269/500\n",
      "✅ Cup and Handle: 383/500\n",
      "✅ Bullish Engulfing: 270/500\n",
      "✅ Bullish Engulfing: 271/500\n",
      "✅ Bullish Engulfing: 272/500\n",
      "✅ Bullish Engulfing: 273/500\n",
      "✅ Bullish Engulfing: 274/500\n",
      "✅ Bullish Engulfing: 275/500\n",
      "✅ Bullish Engulfing: 276/500\n",
      "✅ Bullish Engulfing: 277/500\n",
      "✅ Cup and Handle: 384/500\n",
      "✅ Cup and Handle: 385/500\n",
      "✅ Bullish Engulfing: 278/500\n",
      "✅ Bullish Engulfing: 279/500\n",
      "✅ Cup and Handle: 386/500\n",
      "✅ Cup and Handle: 387/500\n",
      "✅ Bullish Engulfing: 280/500\n",
      "✅ Bullish Engulfing: 281/500\n",
      "✅ Cup and Handle: 388/500\n",
      "✅ Bullish Engulfing: 282/500\n",
      "✅ Bullish Engulfing: 283/500\n",
      "✅ Morning Star: 15/500\n",
      "✅ Morning Star: 16/500\n",
      "✅ Morning Star: 17/500\n",
      "📈 Fetching data for CAT\n"
     ]
    },
    {
     "name": "stderr",
     "output_type": "stream",
     "text": [
      "[*********************100%***********************]  1 of 1 completed\n"
     ]
    },
    {
     "name": "stdout",
     "output_type": "stream",
     "text": [
      "✅ Bearish Engulfing: 150/500\n",
      "✅ Hammer: 5/500\n",
      "✅ Hammer: 6/500\n",
      "✅ Hammer: 7/500\n",
      "✅ Hammer: 8/500\n",
      "✅ Hammer: 9/500\n",
      "✅ Hammer: 10/500\n",
      "✅ Bearish Engulfing: 151/500\n",
      "✅ Cup and Handle: 389/500\n",
      "✅ Cup and Handle: 390/500\n",
      "✅ Cup and Handle: 391/500\n",
      "✅ Cup and Handle: 392/500\n",
      "✅ Cup and Handle: 393/500\n",
      "✅ Cup and Handle: 394/500\n",
      "✅ Cup and Handle: 395/500\n",
      "✅ Cup and Handle: 396/500\n",
      "✅ Cup and Handle: 397/500\n",
      "✅ Bullish Engulfing: 284/500\n",
      "✅ Bullish Engulfing: 285/500\n",
      "✅ Bullish Engulfing: 286/500\n",
      "✅ Bullish Engulfing: 287/500\n",
      "✅ Bullish Engulfing: 288/500\n",
      "✅ Bullish Engulfing: 289/500\n",
      "✅ Cup and Handle: 398/500\n",
      "✅ Cup and Handle: 399/500\n",
      "✅ Cup and Handle: 400/500\n",
      "✅ Cup and Handle: 401/500\n",
      "✅ Cup and Handle: 402/500\n",
      "✅ Cup and Handle: 403/500\n",
      "✅ Cup and Handle: 404/500\n",
      "✅ Cup and Handle: 405/500\n",
      "✅ Cup and Handle: 406/500\n",
      "✅ Bullish Engulfing: 290/500\n",
      "✅ Bullish Engulfing: 291/500\n",
      "✅ Bullish Engulfing: 292/500\n",
      "✅ Bullish Engulfing: 293/500\n",
      "✅ Cup and Handle: 407/500\n",
      "✅ Cup and Handle: 408/500\n",
      "✅ Cup and Handle: 409/500\n",
      "✅ Cup and Handle: 410/500\n",
      "✅ Shooting Star: 5/500\n",
      "✅ Bearish Engulfing: 152/500\n",
      "✅ Bearish Engulfing: 153/500\n",
      "📈 Fetching data for DE\n"
     ]
    },
    {
     "name": "stderr",
     "output_type": "stream",
     "text": [
      "[*********************100%***********************]  1 of 1 completed\n"
     ]
    },
    {
     "name": "stdout",
     "output_type": "stream",
     "text": [
      "✅ Bullish Engulfing: 294/500\n",
      "✅ Cup and Handle: 411/500\n",
      "✅ Morning Star: 18/500\n",
      "✅ Cup and Handle: 412/500\n",
      "✅ Cup and Handle: 413/500\n",
      "✅ Cup and Handle: 414/500\n",
      "✅ Shooting Star: 6/500\n",
      "✅ Shooting Star: 7/500\n",
      "✅ Shooting Star: 8/500\n",
      "✅ Bullish Engulfing: 295/500\n",
      "✅ Bullish Engulfing: 296/500\n",
      "✅ Bullish Engulfing: 297/500\n",
      "✅ Ascending Triangle: 18/500\n",
      "✅ Bullish Engulfing: 298/500\n",
      "✅ Bullish Engulfing: 299/500\n",
      "✅ Ascending Triangle: 19/500\n",
      "✅ Bullish Engulfing: 300/500\n",
      "✅ Cup and Handle: 415/500\n",
      "✅ Cup and Handle: 416/500\n",
      "✅ Cup and Handle: 417/500\n",
      "✅ Cup and Handle: 418/500\n",
      "✅ Cup and Handle: 419/500\n",
      "✅ Cup and Handle: 420/500\n",
      "✅ Cup and Handle: 421/500\n",
      "✅ Head and Shoulders: 10/500\n",
      "✅ Head and Shoulders: 11/500\n",
      "✅ Head and Shoulders: 12/500\n",
      "✅ Head and Shoulders: 13/500\n",
      "✅ Cup and Handle: 422/500\n",
      "✅ Cup and Handle: 423/500\n",
      "✅ Bearish Engulfing: 154/500\n",
      "✅ Bearish Engulfing: 155/500\n",
      "✅ Bearish Engulfing: 156/500\n",
      "✅ Cup and Handle: 424/500\n",
      "✅ Bullish Engulfing: 301/500\n",
      "✅ Bullish Engulfing: 302/500\n",
      "✅ Bullish Engulfing: 303/500\n",
      "✅ Bullish Engulfing: 304/500\n",
      "✅ Bullish Engulfing: 305/500\n",
      "✅ Bullish Engulfing: 306/500\n",
      "✅ Bullish Engulfing: 307/500\n",
      "✅ Cup and Handle: 425/500\n",
      "✅ Bullish Engulfing: 308/500\n",
      "✅ Bullish Engulfing: 309/500\n"
     ]
    },
    {
     "name": "stderr",
     "output_type": "stream",
     "text": [
      "[*********************100%***********************]  1 of 1 completed"
     ]
    },
    {
     "name": "stdout",
     "output_type": "stream",
     "text": [
      "✅ Bullish Engulfing: 310/500\n",
      "📈 Fetching data for PFE\n"
     ]
    },
    {
     "name": "stderr",
     "output_type": "stream",
     "text": [
      "\n"
     ]
    },
    {
     "name": "stdout",
     "output_type": "stream",
     "text": [
      "✅ Cup and Handle: 426/500\n",
      "✅ Bullish Engulfing: 311/500\n",
      "✅ Bullish Engulfing: 312/500\n",
      "✅ Bullish Engulfing: 313/500\n",
      "✅ Cup and Handle: 427/500\n",
      "✅ Bullish Engulfing: 314/500\n",
      "✅ Bullish Engulfing: 315/500\n",
      "✅ Cup and Handle: 428/500\n",
      "✅ Cup and Handle: 429/500\n",
      "✅ Cup and Handle: 430/500\n",
      "✅ Cup and Handle: 431/500\n",
      "✅ Bullish Engulfing: 316/500\n",
      "✅ Shooting Star: 9/500\n",
      "✅ Morning Star: 19/500\n",
      "✅ Morning Star: 20/500\n",
      "✅ Morning Star: 21/500\n",
      "✅ Cup and Handle: 432/500\n",
      "✅ Cup and Handle: 433/500\n",
      "✅ Morning Star: 22/500\n",
      "✅ Bearish Engulfing: 157/500\n",
      "✅ Bearish Engulfing: 158/500\n",
      "✅ Hanging Man: 9/500\n",
      "✅ Hanging Man: 10/500\n",
      "✅ Hanging Man: 11/500\n",
      "✅ Hanging Man: 12/500\n",
      "✅ Bearish Engulfing: 159/500\n",
      "✅ Bearish Engulfing: 160/500\n",
      "✅ Bearish Engulfing: 161/500\n",
      "✅ Cup and Handle: 434/500\n",
      "✅ Bearish Engulfing: 162/500\n",
      "✅ Bearish Engulfing: 163/500\n",
      "✅ Bearish Engulfing: 164/500\n",
      "✅ Bearish Engulfing: 165/500\n",
      "✅ Bearish Engulfing: 166/500\n",
      "✅ Bearish Engulfing: 167/500\n",
      "✅ Bearish Engulfing: 168/500\n",
      "✅ Bearish Engulfing: 169/500\n",
      "✅ Bearish Engulfing: 170/500\n",
      "✅ Bearish Engulfing: 171/500\n",
      "✅ Ascending Triangle: 20/500\n",
      "✅ Bearish Engulfing: 172/500\n",
      "✅ Cup and Handle: 435/500\n",
      "✅ Cup and Handle: 436/500\n",
      "✅ Cup and Handle: 437/500\n",
      "✅ Bearish Engulfing: 173/500\n",
      "✅ Cup and Handle: 438/500\n",
      "✅ Cup and Handle: 439/500\n",
      "✅ Cup and Handle: 440/500\n",
      "✅ Cup and Handle: 441/500\n",
      "✅ Bullish Engulfing: 317/500\n",
      "✅ Bullish Engulfing: 318/500\n",
      "✅ Cup and Handle: 442/500\n",
      "✅ Cup and Handle: 443/500\n",
      "✅ Bullish Engulfing: 319/500\n",
      "✅ Bullish Engulfing: 320/500\n",
      "✅ Bullish Engulfing: 321/500\n",
      "✅ Bullish Engulfing: 322/500\n",
      "✅ Cup and Handle: 444/500\n",
      "✅ Cup and Handle: 445/500\n",
      "✅ Cup and Handle: 446/500\n",
      "✅ Bearish Engulfing: 174/500\n"
     ]
    },
    {
     "name": "stderr",
     "output_type": "stream",
     "text": [
      "[*********************100%***********************]  1 of 1 completed"
     ]
    },
    {
     "name": "stdout",
     "output_type": "stream",
     "text": [
      "✅ Bearish Engulfing: 175/500\n",
      "📈 Fetching data for JNJ\n"
     ]
    },
    {
     "name": "stderr",
     "output_type": "stream",
     "text": [
      "\n"
     ]
    },
    {
     "name": "stdout",
     "output_type": "stream",
     "text": [
      "✅ Head and Shoulders: 14/500\n",
      "✅ Bullish Engulfing: 323/500\n",
      "✅ Bullish Engulfing: 324/500\n",
      "✅ Bullish Engulfing: 325/500\n",
      "✅ Bullish Engulfing: 326/500\n",
      "✅ Bullish Engulfing: 327/500\n",
      "✅ Bullish Engulfing: 328/500\n",
      "✅ Bullish Engulfing: 329/500\n",
      "✅ Cup and Handle: 447/500\n",
      "✅ Cup and Handle: 448/500\n",
      "✅ Cup and Handle: 449/500\n",
      "✅ Cup and Handle: 450/500\n",
      "✅ Bullish Engulfing: 330/500\n"
     ]
    },
    {
     "name": "stderr",
     "output_type": "stream",
     "text": [
      "[*********************100%***********************]  1 of 1 completed"
     ]
    },
    {
     "name": "stdout",
     "output_type": "stream",
     "text": [
      "✅ Bullish Engulfing: 331/500\n",
      "📈 Fetching data for MRK\n"
     ]
    },
    {
     "name": "stderr",
     "output_type": "stream",
     "text": [
      "\n"
     ]
    },
    {
     "name": "stdout",
     "output_type": "stream",
     "text": [
      "✅ Cup and Handle: 451/500\n",
      "✅ Cup and Handle: 452/500\n",
      "✅ Cup and Handle: 453/500\n",
      "✅ Cup and Handle: 454/500\n",
      "✅ Bullish Engulfing: 332/500\n",
      "✅ Bullish Engulfing: 333/500\n",
      "✅ Bearish Engulfing: 176/500\n",
      "✅ Bearish Engulfing: 177/500\n",
      "✅ Ascending Triangle: 21/500\n",
      "✅ Bearish Engulfing: 178/500\n",
      "✅ Bearish Engulfing: 179/500\n",
      "✅ Bearish Engulfing: 180/500\n",
      "✅ Bullish Engulfing: 334/500\n",
      "✅ Cup and Handle: 455/500\n",
      "✅ Bullish Engulfing: 335/500\n",
      "✅ Bullish Engulfing: 336/500\n",
      "✅ Head and Shoulders: 15/500\n",
      "✅ Bullish Engulfing: 337/500\n",
      "✅ Bullish Engulfing: 338/500\n",
      "✅ Bullish Engulfing: 339/500\n",
      "✅ Bullish Engulfing: 340/500\n",
      "✅ Head and Shoulders: 16/500\n",
      "✅ Head and Shoulders: 17/500\n",
      "✅ Bullish Engulfing: 341/500\n",
      "✅ Bullish Engulfing: 342/500\n",
      "📈 Fetching data for LLY\n"
     ]
    },
    {
     "name": "stderr",
     "output_type": "stream",
     "text": [
      "[*********************100%***********************]  1 of 1 completed\n"
     ]
    },
    {
     "name": "stdout",
     "output_type": "stream",
     "text": [
      "✅ Bullish Engulfing: 343/500\n",
      "✅ Bullish Engulfing: 344/500\n",
      "✅ Bullish Engulfing: 345/500\n",
      "✅ Bullish Engulfing: 346/500\n",
      "✅ Hanging Man: 13/500\n",
      "✅ Hanging Man: 14/500\n",
      "✅ Hanging Man: 15/500\n",
      "✅ Head and Shoulders: 18/500\n",
      "✅ Head and Shoulders: 19/500\n",
      "✅ Head and Shoulders: 20/500\n",
      "✅ Ascending Triangle: 22/500\n",
      "✅ Bullish Engulfing: 347/500\n",
      "✅ Bearish Engulfing: 181/500\n",
      "✅ Bearish Engulfing: 182/500\n",
      "✅ Bearish Engulfing: 183/500\n",
      "✅ Bearish Engulfing: 184/500\n",
      "✅ Bearish Engulfing: 185/500\n",
      "✅ Bearish Engulfing: 186/500\n",
      "✅ Cup and Handle: 456/500\n",
      "✅ Shooting Star: 10/500\n",
      "✅ Bearish Engulfing: 187/500\n",
      "✅ Bearish Engulfing: 188/500\n",
      "✅ Bearish Engulfing: 189/500\n",
      "✅ Bearish Engulfing: 190/500\n",
      "✅ Cup and Handle: 457/500\n",
      "✅ Cup and Handle: 458/500\n",
      "✅ Cup and Handle: 459/500\n",
      "✅ Cup and Handle: 460/500\n",
      "✅ Cup and Handle: 461/500\n",
      "✅ Bullish Engulfing: 348/500\n",
      "✅ Bullish Engulfing: 349/500\n",
      "✅ Bullish Engulfing: 350/500\n",
      "✅ Bullish Engulfing: 351/500\n",
      "✅ Bullish Engulfing: 352/500\n",
      "✅ Bullish Engulfing: 353/500\n",
      "✅ Bullish Engulfing: 354/500\n",
      "✅ Bullish Engulfing: 355/500\n",
      "✅ Bullish Engulfing: 356/500\n",
      "✅ Bullish Engulfing: 357/500\n",
      "✅ Bearish Engulfing: 191/500\n"
     ]
    },
    {
     "name": "stderr",
     "output_type": "stream",
     "text": [
      "[*********************100%***********************]  1 of 1 completed"
     ]
    },
    {
     "name": "stdout",
     "output_type": "stream",
     "text": [
      "✅ Bearish Engulfing: 192/500\n",
      "✅ Bearish Engulfing: 193/500\n",
      "📈 Fetching data for PLTR\n"
     ]
    },
    {
     "name": "stderr",
     "output_type": "stream",
     "text": [
      "\n"
     ]
    },
    {
     "name": "stdout",
     "output_type": "stream",
     "text": [
      "✅ Cup and Handle: 462/500\n",
      "✅ Cup and Handle: 463/500\n",
      "✅ Bullish Engulfing: 358/500\n",
      "✅ Cup and Handle: 464/500\n",
      "✅ Bullish Engulfing: 359/500\n",
      "✅ Bullish Engulfing: 360/500\n",
      "✅ Bullish Engulfing: 361/500\n",
      "✅ Bearish Engulfing: 194/500\n",
      "✅ Bearish Engulfing: 195/500\n",
      "✅ Bearish Engulfing: 196/500\n",
      "✅ Head and Shoulders: 21/500\n",
      "✅ Bearish Engulfing: 197/500\n",
      "✅ Bearish Engulfing: 198/500\n",
      "✅ Bearish Engulfing: 199/500\n",
      "✅ Cup and Handle: 465/500\n",
      "✅ Cup and Handle: 466/500\n",
      "✅ Bearish Engulfing: 200/500\n",
      "✅ Bearish Engulfing: 201/500\n",
      "✅ Bullish Engulfing: 362/500\n",
      "✅ Bullish Engulfing: 363/500\n",
      "✅ Bullish Engulfing: 364/500\n",
      "✅ Bullish Engulfing: 365/500\n",
      "✅ Bullish Engulfing: 366/500\n",
      "✅ Bullish Engulfing: 367/500\n",
      "✅ Bullish Engulfing: 368/500\n",
      "✅ Cup and Handle: 467/500\n",
      "✅ Cup and Handle: 468/500\n",
      "✅ Cup and Handle: 469/500\n",
      "✅ Bullish Engulfing: 369/500\n",
      "✅ Bullish Engulfing: 370/500\n",
      "✅ Bullish Engulfing: 371/500\n",
      "✅ Bullish Engulfing: 372/500\n",
      "✅ Evening Star: 6/500\n",
      "✅ Bullish Engulfing: 373/500\n",
      "✅ Cup and Handle: 470/500\n",
      "✅ Cup and Handle: 471/500\n",
      "✅ Bullish Engulfing: 374/500\n",
      "✅ Bullish Engulfing: 375/500\n",
      "✅ Cup and Handle: 472/500\n",
      "✅ Bullish Engulfing: 376/500\n",
      "✅ Cup and Handle: 473/500\n",
      "✅ Bullish Engulfing: 377/500\n",
      "✅ Cup and Handle: 474/500\n",
      "✅ Cup and Handle: 475/500\n",
      "✅ Cup and Handle: 476/500\n",
      "✅ Cup and Handle: 477/500\n",
      "✅ Cup and Handle: 478/500\n",
      "✅ Cup and Handle: 479/500\n",
      "✅ Cup and Handle: 480/500\n",
      "✅ Cup and Handle: 481/500\n",
      "✅ Cup and Handle: 482/500\n",
      "✅ Cup and Handle: 483/500\n",
      "✅ Cup and Handle: 484/500\n",
      "✅ Cup and Handle: 485/500\n",
      "✅ Cup and Handle: 486/500\n",
      "✅ Cup and Handle: 487/500\n"
     ]
    },
    {
     "name": "stderr",
     "output_type": "stream",
     "text": [
      "[*********************100%***********************]  1 of 1 completed"
     ]
    },
    {
     "name": "stdout",
     "output_type": "stream",
     "text": [
      "✅ Cup and Handle: 488/500\n",
      "📈 Fetching data for SNOW\n",
      "✅ Bullish Engulfing: 378/500\n"
     ]
    },
    {
     "name": "stderr",
     "output_type": "stream",
     "text": [
      "\n"
     ]
    },
    {
     "name": "stdout",
     "output_type": "stream",
     "text": [
      "✅ Cup and Handle: 489/500\n",
      "✅ Cup and Handle: 490/500\n",
      "✅ Cup and Handle: 491/500\n",
      "✅ Cup and Handle: 492/500\n",
      "✅ Cup and Handle: 493/500\n",
      "✅ Bullish Engulfing: 379/500\n",
      "✅ Cup and Handle: 494/500\n",
      "✅ Bullish Engulfing: 380/500\n",
      "✅ Cup and Handle: 495/500\n",
      "✅ Bullish Engulfing: 381/500\n",
      "✅ Bullish Engulfing: 382/500\n",
      "✅ Bullish Engulfing: 383/500\n",
      "✅ Cup and Handle: 496/500\n",
      "✅ Cup and Handle: 497/500\n",
      "✅ Bullish Engulfing: 384/500\n",
      "✅ Cup and Handle: 498/500\n",
      "✅ Cup and Handle: 499/500\n",
      "✅ Cup and Handle: 500/500\n",
      "✅ Bearish Engulfing: 202/500\n",
      "✅ Bearish Engulfing: 203/500\n",
      "✅ Bearish Engulfing: 204/500\n",
      "✅ Bullish Engulfing: 385/500\n",
      "✅ Bullish Engulfing: 386/500\n",
      "✅ Bullish Engulfing: 387/500\n",
      "✅ Bullish Engulfing: 388/500\n",
      "✅ Bullish Engulfing: 389/500\n",
      "✅ Descending Triangle: 9/500\n",
      "✅ Bullish Engulfing: 390/500\n",
      "✅ Bullish Engulfing: 391/500\n",
      "✅ Bullish Engulfing: 392/500\n",
      "✅ Bullish Engulfing: 393/500\n",
      "✅ Bullish Engulfing: 394/500\n"
     ]
    },
    {
     "name": "stderr",
     "output_type": "stream",
     "text": [
      "[*********************100%***********************]  1 of 1 completed"
     ]
    },
    {
     "name": "stdout",
     "output_type": "stream",
     "text": [
      "✅ Bearish Engulfing: 205/500\n",
      "📈 Fetching data for SHOP\n",
      "✅ Bearish Engulfing: 206/500\n"
     ]
    },
    {
     "name": "stderr",
     "output_type": "stream",
     "text": [
      "\n"
     ]
    },
    {
     "name": "stdout",
     "output_type": "stream",
     "text": [
      "✅ Bearish Engulfing: 207/500\n",
      "✅ Bearish Engulfing: 208/500\n",
      "✅ Morning Star: 23/500\n",
      "✅ Morning Star: 24/500\n",
      "✅ Morning Star: 25/500\n",
      "✅ Bearish Engulfing: 209/500\n",
      "✅ Bearish Engulfing: 210/500\n",
      "✅ Bearish Engulfing: 211/500\n",
      "✅ Bullish Engulfing: 395/500\n",
      "✅ Bullish Engulfing: 396/500\n",
      "✅ Bullish Engulfing: 397/500\n",
      "✅ Bullish Engulfing: 398/500\n",
      "✅ Bullish Engulfing: 399/500\n",
      "✅ Bullish Engulfing: 400/500\n",
      "✅ Bearish Engulfing: 212/500\n",
      "✅ Bearish Engulfing: 213/500\n",
      "✅ Bearish Engulfing: 214/500\n",
      "✅ Bearish Engulfing: 215/500\n",
      "✅ Bullish Engulfing: 401/500\n",
      "✅ Bullish Engulfing: 402/500\n",
      "✅ Bullish Engulfing: 403/500\n",
      "✅ Bullish Engulfing: 404/500\n",
      "✅ Bullish Engulfing: 405/500\n",
      "✅ Bullish Engulfing: 406/500\n",
      "✅ Bullish Engulfing: 407/500\n",
      "✅ Bullish Engulfing: 408/500\n",
      "✅ Bullish Engulfing: 409/500\n",
      "✅ Bullish Engulfing: 410/500\n",
      "✅ Shooting Star: 11/500\n",
      "✅ Bullish Engulfing: 411/500\n",
      "✅ Bullish Engulfing: 412/500\n",
      "✅ Bearish Engulfing: 216/500\n",
      "✅ Bearish Engulfing: 217/500\n",
      "✅ Bearish Engulfing: 218/500\n",
      "✅ Ascending Triangle: 23/500\n",
      "✅ Bearish Engulfing: 219/500\n"
     ]
    },
    {
     "name": "stderr",
     "output_type": "stream",
     "text": [
      "[*********************100%***********************]  1 of 1 completed"
     ]
    },
    {
     "name": "stdout",
     "output_type": "stream",
     "text": [
      "✅ Bearish Engulfing: 220/500\n",
      "✅ Bullish Engulfing: 413/500\n",
      "📈 Fetching data for RIVN\n"
     ]
    },
    {
     "name": "stderr",
     "output_type": "stream",
     "text": [
      "\n"
     ]
    },
    {
     "name": "stdout",
     "output_type": "stream",
     "text": [
      "✅ Bullish Engulfing: 414/500\n",
      "✅ Descending Triangle: 10/500\n",
      "✅ Bullish Engulfing: 415/500\n",
      "✅ Bullish Engulfing: 416/500\n",
      "✅ Bullish Engulfing: 417/500\n",
      "✅ Bullish Engulfing: 418/500\n",
      "✅ Bullish Engulfing: 419/500\n",
      "✅ Bearish Engulfing: 221/500\n",
      "✅ Bullish Engulfing: 420/500\n",
      "✅ Bullish Engulfing: 421/500\n",
      "✅ Bullish Engulfing: 422/500\n",
      "✅ Bullish Engulfing: 423/500\n",
      "✅ Bullish Engulfing: 424/500\n",
      "✅ Bullish Engulfing: 425/500\n"
     ]
    },
    {
     "name": "stderr",
     "output_type": "stream",
     "text": [
      "[*********************100%***********************]  1 of 1 completed"
     ]
    },
    {
     "name": "stdout",
     "output_type": "stream",
     "text": [
      "✅ Bullish Engulfing: 426/500\n",
      "📈 Fetching data for UBER\n",
      "✅ Bearish Engulfing: 222/500\n"
     ]
    },
    {
     "name": "stderr",
     "output_type": "stream",
     "text": [
      "\n"
     ]
    },
    {
     "name": "stdout",
     "output_type": "stream",
     "text": [
      "✅ Bearish Engulfing: 223/500\n",
      "✅ Bearish Engulfing: 224/500\n",
      "✅ Bearish Engulfing: 225/500\n",
      "✅ Bearish Engulfing: 226/500\n",
      "✅ Bearish Engulfing: 227/500\n",
      "✅ Bearish Engulfing: 228/500\n",
      "✅ Bearish Engulfing: 229/500\n",
      "✅ Bearish Engulfing: 230/500\n",
      "✅ Bearish Engulfing: 231/500\n",
      "✅ Bearish Engulfing: 232/500\n",
      "✅ Bearish Engulfing: 233/500\n",
      "✅ Bearish Engulfing: 234/500\n",
      "✅ Bearish Engulfing: 235/500\n",
      "✅ Bullish Engulfing: 427/500\n",
      "✅ Bullish Engulfing: 428/500\n",
      "✅ Bullish Engulfing: 429/500\n",
      "✅ Bullish Engulfing: 430/500\n",
      "✅ Bullish Engulfing: 431/500\n",
      "✅ Bullish Engulfing: 432/500\n",
      "✅ Descending Triangle: 11/500\n",
      "✅ Bullish Engulfing: 433/500\n",
      "✅ Bullish Engulfing: 434/500\n",
      "✅ Bearish Engulfing: 236/500\n",
      "✅ Hanging Man: 16/500\n",
      "✅ Bullish Engulfing: 435/500\n",
      "✅ Bullish Engulfing: 436/500\n",
      "✅ Bullish Engulfing: 437/500\n",
      "✅ Bullish Engulfing: 438/500\n",
      "✅ Bullish Engulfing: 439/500\n"
     ]
    },
    {
     "name": "stderr",
     "output_type": "stream",
     "text": [
      "[*********************100%***********************]  1 of 1 completed"
     ]
    },
    {
     "name": "stdout",
     "output_type": "stream",
     "text": [
      "📈 Fetching data for SPY\n"
     ]
    },
    {
     "name": "stderr",
     "output_type": "stream",
     "text": [
      "\n"
     ]
    },
    {
     "name": "stdout",
     "output_type": "stream",
     "text": [
      "✅ Hanging Man: 17/500\n",
      "✅ Bullish Engulfing: 440/500\n",
      "✅ Bullish Engulfing: 441/500\n",
      "✅ Bullish Engulfing: 442/500\n",
      "✅ Bullish Engulfing: 443/500\n",
      "✅ Bullish Engulfing: 444/500\n",
      "✅ Bullish Engulfing: 445/500\n",
      "✅ Bearish Engulfing: 237/500\n",
      "✅ Bullish Engulfing: 446/500\n",
      "✅ Bullish Engulfing: 447/500\n",
      "✅ Bullish Engulfing: 448/500\n",
      "✅ Bullish Engulfing: 449/500\n",
      "✅ Head and Shoulders: 22/500\n",
      "✅ Head and Shoulders: 23/500\n",
      "✅ Head and Shoulders: 24/500\n",
      "✅ Head and Shoulders: 25/500\n",
      "✅ Bearish Engulfing: 238/500\n",
      "✅ Bullish Engulfing: 450/500\n",
      "✅ Bullish Engulfing: 451/500\n",
      "✅ Bullish Engulfing: 452/500\n",
      "✅ Bullish Engulfing: 453/500\n",
      "✅ Bearish Engulfing: 239/500\n",
      "✅ Bearish Engulfing: 240/500\n",
      "✅ Bearish Engulfing: 241/500\n",
      "✅ Bullish Engulfing: 454/500\n",
      "✅ Bullish Engulfing: 455/500\n"
     ]
    },
    {
     "name": "stderr",
     "output_type": "stream",
     "text": [
      "[*********************100%***********************]  1 of 1 completed"
     ]
    },
    {
     "name": "stdout",
     "output_type": "stream",
     "text": [
      "✅ Bullish Engulfing: 456/500\n",
      "📈 Fetching data for QQQ\n"
     ]
    },
    {
     "name": "stderr",
     "output_type": "stream",
     "text": [
      "\n"
     ]
    },
    {
     "name": "stdout",
     "output_type": "stream",
     "text": [
      "✅ Ascending Triangle: 24/500\n",
      "✅ Ascending Triangle: 25/500\n",
      "✅ Morning Star: 26/500\n",
      "✅ Hanging Man: 18/500\n",
      "✅ Bearish Engulfing: 242/500\n",
      "✅ Bearish Engulfing: 243/500\n",
      "✅ Bearish Engulfing: 244/500\n",
      "✅ Bearish Engulfing: 245/500\n",
      "✅ Bearish Engulfing: 246/500\n",
      "✅ Bearish Engulfing: 247/500\n",
      "✅ Bearish Engulfing: 248/500\n",
      "✅ Bearish Engulfing: 249/500\n",
      "✅ Bearish Engulfing: 250/500\n",
      "✅ Bearish Engulfing: 251/500\n",
      "✅ Bearish Engulfing: 252/500\n",
      "✅ Bearish Engulfing: 253/500\n",
      "✅ Hammer: 11/500\n",
      "✅ Bullish Engulfing: 457/500\n",
      "✅ Bullish Engulfing: 458/500\n",
      "✅ Bullish Engulfing: 459/500\n",
      "✅ Bullish Engulfing: 460/500\n",
      "✅ Bullish Engulfing: 461/500\n",
      "✅ Bullish Engulfing: 462/500\n",
      "✅ Bullish Engulfing: 463/500\n",
      "✅ Bullish Engulfing: 464/500\n",
      "✅ Bullish Engulfing: 465/500\n",
      "✅ Descending Triangle: 12/500\n",
      "✅ Bullish Engulfing: 466/500\n",
      "✅ Bullish Engulfing: 467/500\n",
      "✅ Bullish Engulfing: 468/500\n",
      "✅ Bullish Engulfing: 469/500\n",
      "✅ Bullish Engulfing: 470/500\n",
      "✅ Bearish Engulfing: 254/500\n",
      "✅ Bullish Engulfing: 471/500\n",
      "✅ Bullish Engulfing: 472/500\n",
      "✅ Bearish Engulfing: 255/500\n",
      "✅ Bearish Engulfing: 256/500\n",
      "✅ Bullish Engulfing: 473/500\n",
      "✅ Bullish Engulfing: 474/500\n",
      "✅ Bullish Engulfing: 475/500\n",
      "✅ Bullish Engulfing: 476/500\n",
      "✅ Bearish Engulfing: 257/500\n",
      "✅ Morning Star: 27/500\n",
      "✅ Morning Star: 28/500\n",
      "🔁 Pass 2 over symbols...\n",
      "📈 Fetching data for AAPL\n"
     ]
    },
    {
     "name": "stderr",
     "output_type": "stream",
     "text": [
      "[*********************100%***********************]  1 of 1 completed\n"
     ]
    },
    {
     "name": "stdout",
     "output_type": "stream",
     "text": [
      "✅ Hammer: 12/500\n",
      "✅ Bearish Engulfing: 258/500\n",
      "✅ Bearish Engulfing: 259/500\n",
      "✅ Bearish Engulfing: 260/500\n",
      "✅ Bullish Engulfing: 477/500\n",
      "✅ Bullish Engulfing: 478/500\n",
      "✅ Bullish Engulfing: 479/500\n",
      "✅ Bullish Engulfing: 480/500\n",
      "✅ Bullish Engulfing: 481/500\n",
      "✅ Descending Triangle: 13/500\n",
      "✅ Ascending Triangle: 26/500\n",
      "✅ Ascending Triangle: 27/500\n",
      "✅ Ascending Triangle: 28/500\n",
      "✅ Bearish Engulfing: 261/500\n",
      "✅ Bearish Engulfing: 262/500\n",
      "✅ Bearish Engulfing: 263/500\n",
      "✅ Bearish Engulfing: 264/500\n",
      "✅ Bearish Engulfing: 265/500\n",
      "✅ Hanging Man: 19/500\n",
      "✅ Bearish Engulfing: 266/500\n",
      "✅ Bullish Engulfing: 482/500\n",
      "✅ Bullish Engulfing: 483/500\n",
      "✅ Bullish Engulfing: 484/500\n",
      "✅ Bullish Engulfing: 485/500\n",
      "✅ Bullish Engulfing: 486/500\n",
      "✅ Bullish Engulfing: 487/500\n",
      "✅ Bullish Engulfing: 488/500\n",
      "✅ Bearish Engulfing: 267/500\n",
      "✅ Bearish Engulfing: 268/500\n",
      "✅ Bearish Engulfing: 269/500\n",
      "✅ Bearish Engulfing: 270/500\n",
      "✅ Bearish Engulfing: 271/500\n",
      "✅ Bearish Engulfing: 272/500\n",
      "✅ Bearish Engulfing: 273/500\n",
      "✅ Bearish Engulfing: 274/500\n",
      "✅ Bearish Engulfing: 275/500\n",
      "✅ Bearish Engulfing: 276/500\n",
      "✅ Bearish Engulfing: 277/500\n",
      "✅ Bearish Engulfing: 278/500\n",
      "✅ Bearish Engulfing: 279/500\n",
      "✅ Bullish Engulfing: 489/500\n",
      "✅ Bearish Engulfing: 280/500\n",
      "✅ Bearish Engulfing: 281/500\n",
      "✅ Bearish Engulfing: 282/500\n"
     ]
    },
    {
     "name": "stderr",
     "output_type": "stream",
     "text": [
      "[*********************100%***********************]  1 of 1 completed"
     ]
    },
    {
     "name": "stdout",
     "output_type": "stream",
     "text": [
      "✅ Bearish Engulfing: 283/500\n",
      "📈 Fetching data for MSFT\n"
     ]
    },
    {
     "name": "stderr",
     "output_type": "stream",
     "text": [
      "\n"
     ]
    },
    {
     "name": "stdout",
     "output_type": "stream",
     "text": [
      "✅ Bullish Engulfing: 490/500\n",
      "✅ Bullish Engulfing: 491/500\n",
      "✅ Bearish Engulfing: 284/500\n",
      "✅ Bearish Engulfing: 285/500\n",
      "✅ Hammer: 13/500\n",
      "✅ Hammer: 14/500\n",
      "✅ Head and Shoulders: 26/500\n",
      "✅ Bearish Engulfing: 286/500\n",
      "✅ Bullish Engulfing: 492/500\n",
      "✅ Bullish Engulfing: 493/500\n",
      "✅ Bullish Engulfing: 494/500\n",
      "✅ Bearish Engulfing: 287/500\n",
      "✅ Bearish Engulfing: 288/500\n",
      "✅ Bearish Engulfing: 289/500\n",
      "✅ Bullish Engulfing: 495/500\n",
      "✅ Bearish Engulfing: 290/500\n"
     ]
    },
    {
     "name": "stderr",
     "output_type": "stream",
     "text": [
      "[*********************100%***********************]  1 of 1 completed"
     ]
    },
    {
     "name": "stdout",
     "output_type": "stream",
     "text": [
      "✅ Bearish Engulfing: 291/500\n",
      "✅ Bearish Engulfing: 292/500\n",
      "📈 Fetching data for GOOGL\n"
     ]
    },
    {
     "name": "stderr",
     "output_type": "stream",
     "text": [
      "\n"
     ]
    },
    {
     "name": "stdout",
     "output_type": "stream",
     "text": [
      "✅ Bullish Engulfing: 496/500\n",
      "✅ Bullish Engulfing: 497/500\n",
      "✅ Bullish Engulfing: 498/500\n",
      "✅ Bullish Engulfing: 499/500\n",
      "✅ Bullish Engulfing: 500/500\n",
      "✅ Bearish Engulfing: 293/500\n",
      "✅ Bearish Engulfing: 294/500\n",
      "✅ Bearish Engulfing: 295/500\n",
      "✅ Bearish Engulfing: 296/500\n",
      "✅ Bearish Engulfing: 297/500\n",
      "✅ Bearish Engulfing: 298/500\n",
      "✅ Bearish Engulfing: 299/500\n",
      "✅ Bearish Engulfing: 300/500\n",
      "✅ Morning Star: 29/500\n",
      "✅ Morning Star: 30/500\n",
      "✅ Bearish Engulfing: 301/500\n",
      "📈 Fetching data for AMZN\n"
     ]
    },
    {
     "name": "stderr",
     "output_type": "stream",
     "text": [
      "[*********************100%***********************]  1 of 1 completed\n"
     ]
    },
    {
     "name": "stdout",
     "output_type": "stream",
     "text": [
      "✅ Bearish Engulfing: 302/500\n",
      "✅ Bearish Engulfing: 303/500\n",
      "✅ Bearish Engulfing: 304/500\n",
      "✅ Morning Star: 31/500\n",
      "✅ Morning Star: 32/500\n",
      "✅ Bearish Engulfing: 305/500\n",
      "✅ Bearish Engulfing: 306/500\n",
      "✅ Bearish Engulfing: 307/500\n",
      "✅ Bearish Engulfing: 308/500\n",
      "✅ Descending Triangle: 14/500\n",
      "✅ Descending Triangle: 15/500\n"
     ]
    },
    {
     "name": "stderr",
     "output_type": "stream",
     "text": [
      "[*********************100%***********************]  1 of 1 completed"
     ]
    },
    {
     "name": "stdout",
     "output_type": "stream",
     "text": [
      "✅ Hammer: 15/500\n",
      "📈 Fetching data for META\n"
     ]
    },
    {
     "name": "stderr",
     "output_type": "stream",
     "text": [
      "\n"
     ]
    },
    {
     "name": "stdout",
     "output_type": "stream",
     "text": [
      "✅ Bearish Engulfing: 309/500\n",
      "✅ Bearish Engulfing: 310/500\n",
      "✅ Bearish Engulfing: 311/500\n",
      "✅ Bearish Engulfing: 312/500\n",
      "✅ Head and Shoulders: 27/500\n",
      "✅ Head and Shoulders: 28/500\n",
      "✅ Head and Shoulders: 29/500\n",
      "✅ Hanging Man: 20/500\n",
      "✅ Bearish Engulfing: 313/500\n",
      "✅ Bearish Engulfing: 314/500\n",
      "📈 Fetching data for NVDA\n"
     ]
    },
    {
     "name": "stderr",
     "output_type": "stream",
     "text": [
      "[*********************100%***********************]  1 of 1 completed\n"
     ]
    },
    {
     "name": "stdout",
     "output_type": "stream",
     "text": [
      "✅ Bearish Engulfing: 315/500\n",
      "✅ Ascending Triangle: 29/500\n",
      "✅ Ascending Triangle: 30/500\n",
      "✅ Bearish Engulfing: 316/500\n",
      "✅ Ascending Triangle: 31/500\n",
      "✅ Bearish Engulfing: 317/500\n",
      "✅ Bearish Engulfing: 318/500\n",
      "✅ Bearish Engulfing: 319/500\n",
      "✅ Bearish Engulfing: 320/500\n",
      "✅ Shooting Star: 12/500\n",
      "✅ Bearish Engulfing: 321/500\n",
      "✅ Bearish Engulfing: 322/500\n",
      "✅ Bearish Engulfing: 323/500\n",
      "✅ Bearish Engulfing: 324/500\n",
      "✅ Ascending Triangle: 32/500\n",
      "✅ Hanging Man: 21/500\n",
      "✅ Ascending Triangle: 33/500\n",
      "✅ Ascending Triangle: 34/500\n",
      "✅ Bearish Engulfing: 325/500\n"
     ]
    },
    {
     "name": "stderr",
     "output_type": "stream",
     "text": [
      "[*********************100%***********************]  1 of 1 completed"
     ]
    },
    {
     "name": "stdout",
     "output_type": "stream",
     "text": [
      "✅ Bearish Engulfing: 326/500\n",
      "✅ Bearish Engulfing: 327/500\n",
      "📈 Fetching data for TSLA\n"
     ]
    },
    {
     "name": "stderr",
     "output_type": "stream",
     "text": [
      "\n"
     ]
    },
    {
     "name": "stdout",
     "output_type": "stream",
     "text": [
      "✅ Descending Triangle: 16/500\n",
      "✅ Bearish Engulfing: 328/500\n",
      "✅ Bearish Engulfing: 329/500\n",
      "✅ Ascending Triangle: 35/500\n",
      "✅ Shooting Star: 13/500\n",
      "✅ Bearish Engulfing: 330/500\n",
      "✅ Bearish Engulfing: 331/500\n",
      "✅ Bearish Engulfing: 332/500\n",
      "✅ Bearish Engulfing: 333/500\n",
      "✅ Bearish Engulfing: 334/500\n",
      "✅ Bearish Engulfing: 335/500\n",
      "✅ Bearish Engulfing: 336/500\n",
      "✅ Bearish Engulfing: 337/500\n",
      "✅ Bearish Engulfing: 338/500\n",
      "✅ Bearish Engulfing: 339/500\n",
      "✅ Bearish Engulfing: 340/500\n",
      "✅ Bearish Engulfing: 341/500\n",
      "✅ Bearish Engulfing: 342/500\n",
      "✅ Bearish Engulfing: 343/500\n",
      "✅ Bearish Engulfing: 344/500\n",
      "✅ Bearish Engulfing: 345/500\n",
      "✅ Bearish Engulfing: 346/500\n",
      "✅ Bearish Engulfing: 347/500\n",
      "📈 Fetching data for NFLX\n"
     ]
    },
    {
     "name": "stderr",
     "output_type": "stream",
     "text": [
      "[*********************100%***********************]  1 of 1 completed\n"
     ]
    },
    {
     "name": "stdout",
     "output_type": "stream",
     "text": [
      "✅ Morning Star: 33/500\n",
      "✅ Bearish Engulfing: 348/500\n",
      "✅ Bearish Engulfing: 349/500\n",
      "✅ Evening Star: 7/500\n",
      "✅ Evening Star: 8/500\n",
      "✅ Head and Shoulders: 30/500\n",
      "✅ Bearish Engulfing: 350/500\n",
      "✅ Bearish Engulfing: 351/500\n",
      "✅ Bearish Engulfing: 352/500\n",
      "📈 Fetching data for JPM\n"
     ]
    },
    {
     "name": "stderr",
     "output_type": "stream",
     "text": [
      "[*********************100%***********************]  1 of 1 completed\n"
     ]
    },
    {
     "name": "stdout",
     "output_type": "stream",
     "text": [
      "✅ Evening Star: 9/500\n",
      "✅ Evening Star: 10/500\n",
      "✅ Head and Shoulders: 31/500\n",
      "✅ Bearish Engulfing: 353/500\n",
      "✅ Shooting Star: 14/500\n",
      "✅ Bearish Engulfing: 354/500\n",
      "✅ Bearish Engulfing: 355/500\n",
      "✅ Bearish Engulfing: 356/500\n",
      "✅ Bearish Engulfing: 357/500\n"
     ]
    },
    {
     "name": "stderr",
     "output_type": "stream",
     "text": [
      "[*********************100%***********************]  1 of 1 completed"
     ]
    },
    {
     "name": "stdout",
     "output_type": "stream",
     "text": [
      "✅ Bearish Engulfing: 358/500\n",
      "📈 Fetching data for BAC\n"
     ]
    },
    {
     "name": "stderr",
     "output_type": "stream",
     "text": [
      "\n"
     ]
    },
    {
     "name": "stdout",
     "output_type": "stream",
     "text": [
      "✅ Bearish Engulfing: 359/500\n",
      "✅ Head and Shoulders: 32/500\n",
      "✅ Bearish Engulfing: 360/500\n",
      "✅ Bearish Engulfing: 361/500\n",
      "✅ Bearish Engulfing: 362/500\n",
      "✅ Bearish Engulfing: 363/500\n",
      "✅ Bearish Engulfing: 364/500\n",
      "✅ Bearish Engulfing: 365/500\n"
     ]
    },
    {
     "name": "stderr",
     "output_type": "stream",
     "text": [
      "[*********************100%***********************]  1 of 1 completed"
     ]
    },
    {
     "name": "stdout",
     "output_type": "stream",
     "text": [
      "📈 Fetching data for V\n"
     ]
    },
    {
     "name": "stderr",
     "output_type": "stream",
     "text": [
      "\n"
     ]
    },
    {
     "name": "stdout",
     "output_type": "stream",
     "text": [
      "✅ Ascending Triangle: 36/500\n",
      "✅ Ascending Triangle: 37/500\n",
      "✅ Bearish Engulfing: 366/500\n",
      "✅ Inverted Hammer: 2/500\n",
      "📈 Fetching data for MA\n"
     ]
    },
    {
     "name": "stderr",
     "output_type": "stream",
     "text": [
      "[*********************100%***********************]  1 of 1 completed\n"
     ]
    },
    {
     "name": "stdout",
     "output_type": "stream",
     "text": [
      "✅ Bearish Engulfing: 367/500\n",
      "✅ Bearish Engulfing: 368/500\n",
      "✅ Ascending Triangle: 38/500\n",
      "✅ Bearish Engulfing: 369/500\n"
     ]
    },
    {
     "name": "stderr",
     "output_type": "stream",
     "text": [
      "[*********************100%***********************]  1 of 1 completed"
     ]
    },
    {
     "name": "stdout",
     "output_type": "stream",
     "text": [
      "✅ Bearish Engulfing: 370/500\n",
      "📈 Fetching data for SOFI\n",
      "✅ Ascending Triangle: 39/500\n"
     ]
    },
    {
     "name": "stderr",
     "output_type": "stream",
     "text": [
      "\n"
     ]
    },
    {
     "name": "stdout",
     "output_type": "stream",
     "text": [
      "✅ Ascending Triangle: 40/500\n",
      "✅ Ascending Triangle: 41/500\n",
      "✅ Bearish Engulfing: 371/500\n",
      "✅ Bearish Engulfing: 372/500\n",
      "✅ Bearish Engulfing: 373/500\n",
      "✅ Bearish Engulfing: 374/500\n"
     ]
    },
    {
     "name": "stderr",
     "output_type": "stream",
     "text": [
      "[*********************100%***********************]  1 of 1 completed"
     ]
    },
    {
     "name": "stdout",
     "output_type": "stream",
     "text": [
      "✅ Bearish Engulfing: 375/500\n",
      "✅ Bearish Engulfing: 376/500\n",
      "📈 Fetching data for COIN\n"
     ]
    },
    {
     "name": "stderr",
     "output_type": "stream",
     "text": [
      "\n"
     ]
    },
    {
     "name": "stdout",
     "output_type": "stream",
     "text": [
      "✅ Bearish Engulfing: 377/500\n",
      "✅ Bearish Engulfing: 378/500\n",
      "✅ Bearish Engulfing: 379/500\n",
      "✅ Bearish Engulfing: 380/500\n",
      "✅ Morning Star: 34/500\n",
      "✅ Morning Star: 35/500\n",
      "✅ Ascending Triangle: 42/500\n",
      "✅ Descending Triangle: 17/500\n",
      "✅ Descending Triangle: 18/500\n",
      "✅ Hanging Man: 22/500\n",
      "✅ Hanging Man: 23/500\n",
      "✅ Hanging Man: 24/500\n",
      "✅ Hanging Man: 25/500\n",
      "✅ Hanging Man: 26/500\n",
      "✅ Bearish Engulfing: 381/500\n",
      "✅ Bearish Engulfing: 382/500\n",
      "✅ Bearish Engulfing: 383/500\n",
      "✅ Bearish Engulfing: 384/500\n",
      "✅ Bearish Engulfing: 385/500\n",
      "✅ Bearish Engulfing: 386/500\n",
      "✅ Bearish Engulfing: 387/500\n",
      "✅ Bearish Engulfing: 388/500\n",
      "📈 Fetching data for XOM\n"
     ]
    },
    {
     "name": "stderr",
     "output_type": "stream",
     "text": [
      "[*********************100%***********************]  1 of 1 completed\n"
     ]
    },
    {
     "name": "stdout",
     "output_type": "stream",
     "text": [
      "✅ Bearish Engulfing: 389/500\n",
      "✅ Bearish Engulfing: 390/500\n",
      "✅ Bearish Engulfing: 391/500\n",
      "✅ Bearish Engulfing: 392/500\n",
      "✅ Bearish Engulfing: 393/500\n",
      "✅ Bearish Engulfing: 394/500\n",
      "✅ Bearish Engulfing: 395/500\n",
      "✅ Shooting Star: 15/500\n",
      "✅ Bearish Engulfing: 396/500\n",
      "✅ Bearish Engulfing: 397/500\n",
      "✅ Morning Star: 36/500\n",
      "✅ Morning Star: 37/500\n",
      "✅ Bearish Engulfing: 398/500\n",
      "✅ Bearish Engulfing: 399/500\n",
      "✅ Bearish Engulfing: 400/500\n",
      "✅ Head and Shoulders: 33/500\n",
      "📈 Fetching data for CVX\n"
     ]
    },
    {
     "name": "stderr",
     "output_type": "stream",
     "text": [
      "[*********************100%***********************]  1 of 1 completed\n"
     ]
    },
    {
     "name": "stdout",
     "output_type": "stream",
     "text": [
      "✅ Bearish Engulfing: 401/500\n",
      "✅ Bearish Engulfing: 402/500\n",
      "✅ Bearish Engulfing: 403/500\n",
      "✅ Evening Star: 11/500\n",
      "✅ Bearish Engulfing: 404/500\n",
      "✅ Bearish Engulfing: 405/500\n"
     ]
    },
    {
     "name": "stderr",
     "output_type": "stream",
     "text": [
      "[*********************100%***********************]  1 of 1 completed"
     ]
    },
    {
     "name": "stdout",
     "output_type": "stream",
     "text": [
      "✅ Head and Shoulders: 34/500\n",
      "📈 Fetching data for BA\n"
     ]
    },
    {
     "name": "stderr",
     "output_type": "stream",
     "text": [
      "\n"
     ]
    },
    {
     "name": "stdout",
     "output_type": "stream",
     "text": [
      "✅ Descending Triangle: 19/500\n",
      "✅ Descending Triangle: 20/500\n",
      "✅ Morning Star: 38/500\n",
      "✅ Bearish Engulfing: 406/500\n",
      "✅ Morning Star: 39/500\n",
      "✅ Morning Star: 40/500\n",
      "✅ Morning Star: 41/500\n",
      "✅ Morning Star: 42/500\n",
      "✅ Morning Star: 43/500\n",
      "✅ Morning Star: 44/500\n"
     ]
    },
    {
     "name": "stderr",
     "output_type": "stream",
     "text": [
      "[*********************100%***********************]  1 of 1 completed"
     ]
    },
    {
     "name": "stdout",
     "output_type": "stream",
     "text": [
      "✅ Morning Star: 45/500\n",
      "📈 Fetching data for CAT\n"
     ]
    },
    {
     "name": "stderr",
     "output_type": "stream",
     "text": [
      "\n"
     ]
    },
    {
     "name": "stdout",
     "output_type": "stream",
     "text": [
      "✅ Bearish Engulfing: 407/500\n",
      "✅ Hammer: 16/500\n",
      "✅ Hammer: 17/500\n",
      "✅ Hammer: 18/500\n",
      "✅ Hammer: 19/500\n",
      "✅ Hammer: 20/500\n",
      "✅ Hammer: 21/500\n",
      "✅ Bearish Engulfing: 408/500\n",
      "✅ Shooting Star: 16/500\n",
      "✅ Bearish Engulfing: 409/500\n"
     ]
    },
    {
     "name": "stderr",
     "output_type": "stream",
     "text": [
      "[*********************100%***********************]  1 of 1 completed"
     ]
    },
    {
     "name": "stdout",
     "output_type": "stream",
     "text": [
      "✅ Bearish Engulfing: 410/500\n",
      "📈 Fetching data for DE\n"
     ]
    },
    {
     "name": "stderr",
     "output_type": "stream",
     "text": [
      "\n"
     ]
    },
    {
     "name": "stdout",
     "output_type": "stream",
     "text": [
      "✅ Morning Star: 46/500\n",
      "✅ Shooting Star: 17/500\n",
      "✅ Shooting Star: 18/500\n",
      "✅ Shooting Star: 19/500\n",
      "✅ Ascending Triangle: 43/500\n",
      "✅ Ascending Triangle: 44/500\n",
      "✅ Head and Shoulders: 35/500\n",
      "✅ Head and Shoulders: 36/500\n",
      "✅ Head and Shoulders: 37/500\n",
      "✅ Head and Shoulders: 38/500\n",
      "✅ Bearish Engulfing: 411/500\n",
      "✅ Bearish Engulfing: 412/500\n",
      "✅ Bearish Engulfing: 413/500\n",
      "📈 Fetching data for PFE\n"
     ]
    },
    {
     "name": "stderr",
     "output_type": "stream",
     "text": [
      "[*********************100%***********************]  1 of 1 completed\n"
     ]
    },
    {
     "name": "stdout",
     "output_type": "stream",
     "text": [
      "✅ Shooting Star: 20/500\n",
      "✅ Morning Star: 47/500\n",
      "✅ Morning Star: 48/500\n",
      "✅ Morning Star: 49/500\n",
      "✅ Morning Star: 50/500\n",
      "✅ Bearish Engulfing: 414/500\n",
      "✅ Bearish Engulfing: 415/500\n",
      "✅ Hanging Man: 27/500\n",
      "✅ Hanging Man: 28/500\n",
      "✅ Hanging Man: 29/500\n",
      "✅ Hanging Man: 30/500\n",
      "✅ Bearish Engulfing: 416/500\n",
      "✅ Bearish Engulfing: 417/500\n",
      "✅ Bearish Engulfing: 418/500\n",
      "✅ Bearish Engulfing: 419/500\n",
      "✅ Bearish Engulfing: 420/500\n",
      "✅ Bearish Engulfing: 421/500\n",
      "✅ Bearish Engulfing: 422/500\n",
      "✅ Bearish Engulfing: 423/500\n",
      "✅ Bearish Engulfing: 424/500\n",
      "✅ Bearish Engulfing: 425/500\n",
      "✅ Bearish Engulfing: 426/500\n",
      "✅ Bearish Engulfing: 427/500\n",
      "✅ Bearish Engulfing: 428/500\n",
      "✅ Ascending Triangle: 45/500\n",
      "✅ Bearish Engulfing: 429/500\n",
      "✅ Bearish Engulfing: 430/500\n",
      "✅ Bearish Engulfing: 431/500\n"
     ]
    },
    {
     "name": "stderr",
     "output_type": "stream",
     "text": [
      "[*********************100%***********************]  1 of 1 completed"
     ]
    },
    {
     "name": "stdout",
     "output_type": "stream",
     "text": [
      "✅ Bearish Engulfing: 432/500\n",
      "📈 Fetching data for JNJ\n"
     ]
    },
    {
     "name": "stderr",
     "output_type": "stream",
     "text": [
      "\n"
     ]
    },
    {
     "name": "stdout",
     "output_type": "stream",
     "text": [
      "✅ Head and Shoulders: 39/500\n",
      "📈 Fetching data for MRK\n"
     ]
    },
    {
     "name": "stderr",
     "output_type": "stream",
     "text": [
      "[*********************100%***********************]  1 of 1 completed\n"
     ]
    },
    {
     "name": "stdout",
     "output_type": "stream",
     "text": [
      "✅ Bearish Engulfing: 433/500\n",
      "✅ Bearish Engulfing: 434/500\n",
      "✅ Ascending Triangle: 46/500\n",
      "✅ Bearish Engulfing: 435/500\n",
      "✅ Bearish Engulfing: 436/500\n",
      "✅ Bearish Engulfing: 437/500\n",
      "✅ Head and Shoulders: 40/500\n",
      "✅ Head and Shoulders: 41/500\n"
     ]
    },
    {
     "name": "stderr",
     "output_type": "stream",
     "text": [
      "[*********************100%***********************]  1 of 1 completed"
     ]
    },
    {
     "name": "stdout",
     "output_type": "stream",
     "text": [
      "✅ Head and Shoulders: 42/500\n",
      "📈 Fetching data for LLY\n"
     ]
    },
    {
     "name": "stderr",
     "output_type": "stream",
     "text": [
      "\n"
     ]
    },
    {
     "name": "stdout",
     "output_type": "stream",
     "text": [
      "✅ Hanging Man: 31/500\n",
      "✅ Hanging Man: 32/500\n",
      "✅ Hanging Man: 33/500\n",
      "✅ Head and Shoulders: 43/500\n",
      "✅ Head and Shoulders: 44/500\n",
      "✅ Head and Shoulders: 45/500\n",
      "✅ Ascending Triangle: 47/500\n",
      "✅ Bearish Engulfing: 438/500\n",
      "✅ Bearish Engulfing: 439/500\n",
      "✅ Bearish Engulfing: 440/500\n",
      "✅ Bearish Engulfing: 441/500\n",
      "✅ Bearish Engulfing: 442/500\n",
      "✅ Bearish Engulfing: 443/500\n",
      "✅ Shooting Star: 21/500\n",
      "✅ Bearish Engulfing: 444/500\n",
      "✅ Bearish Engulfing: 445/500\n",
      "✅ Bearish Engulfing: 446/500\n",
      "✅ Bearish Engulfing: 447/500\n",
      "✅ Bearish Engulfing: 448/500\n",
      "✅ Bearish Engulfing: 449/500\n"
     ]
    },
    {
     "name": "stderr",
     "output_type": "stream",
     "text": [
      "[*********************100%***********************]  1 of 1 completed"
     ]
    },
    {
     "name": "stdout",
     "output_type": "stream",
     "text": [
      "✅ Bearish Engulfing: 450/500\n",
      "📈 Fetching data for PLTR\n",
      "✅ Bearish Engulfing: 451/500\n"
     ]
    },
    {
     "name": "stderr",
     "output_type": "stream",
     "text": [
      "\n"
     ]
    },
    {
     "name": "stdout",
     "output_type": "stream",
     "text": [
      "✅ Bearish Engulfing: 452/500\n",
      "✅ Bearish Engulfing: 453/500\n",
      "✅ Head and Shoulders: 46/500\n",
      "✅ Bearish Engulfing: 454/500\n",
      "✅ Bearish Engulfing: 455/500\n",
      "✅ Bearish Engulfing: 456/500\n",
      "✅ Bearish Engulfing: 457/500\n",
      "✅ Bearish Engulfing: 458/500\n"
     ]
    },
    {
     "name": "stderr",
     "output_type": "stream",
     "text": [
      "[*********************100%***********************]  1 of 1 completed"
     ]
    },
    {
     "name": "stdout",
     "output_type": "stream",
     "text": [
      "✅ Evening Star: 12/500\n",
      "📈 Fetching data for SNOW\n"
     ]
    },
    {
     "name": "stderr",
     "output_type": "stream",
     "text": [
      "\n"
     ]
    },
    {
     "name": "stdout",
     "output_type": "stream",
     "text": [
      "✅ Bearish Engulfing: 459/500\n",
      "✅ Bearish Engulfing: 460/500\n",
      "✅ Bearish Engulfing: 461/500\n",
      "✅ Descending Triangle: 21/500\n"
     ]
    },
    {
     "name": "stderr",
     "output_type": "stream",
     "text": [
      "[*********************100%***********************]  1 of 1 completed"
     ]
    },
    {
     "name": "stdout",
     "output_type": "stream",
     "text": [
      "✅ Bearish Engulfing: 462/500\n",
      "📈 Fetching data for SHOP\n",
      "✅ Bearish Engulfing: 463/500\n"
     ]
    },
    {
     "name": "stderr",
     "output_type": "stream",
     "text": [
      "\n"
     ]
    },
    {
     "name": "stdout",
     "output_type": "stream",
     "text": [
      "✅ Bearish Engulfing: 464/500\n",
      "✅ Bearish Engulfing: 465/500\n",
      "✅ Morning Star: 51/500\n",
      "✅ Morning Star: 52/500\n",
      "✅ Morning Star: 53/500\n",
      "✅ Bearish Engulfing: 466/500\n",
      "✅ Bearish Engulfing: 467/500\n",
      "✅ Bearish Engulfing: 468/500\n",
      "✅ Bearish Engulfing: 469/500\n",
      "✅ Bearish Engulfing: 470/500\n",
      "✅ Bearish Engulfing: 471/500\n",
      "✅ Bearish Engulfing: 472/500\n",
      "✅ Shooting Star: 22/500\n",
      "✅ Bearish Engulfing: 473/500\n",
      "✅ Bearish Engulfing: 474/500\n",
      "✅ Bearish Engulfing: 475/500\n",
      "✅ Ascending Triangle: 48/500\n",
      "✅ Bearish Engulfing: 476/500\n"
     ]
    },
    {
     "name": "stderr",
     "output_type": "stream",
     "text": [
      "[*********************100%***********************]  1 of 1 completed"
     ]
    },
    {
     "name": "stdout",
     "output_type": "stream",
     "text": [
      "✅ Bearish Engulfing: 477/500\n",
      "📈 Fetching data for RIVN\n",
      "✅ Descending Triangle: 22/500\n"
     ]
    },
    {
     "name": "stderr",
     "output_type": "stream",
     "text": [
      "\n",
      "[*********************100%***********************]  1 of 1 completed"
     ]
    },
    {
     "name": "stdout",
     "output_type": "stream",
     "text": [
      "✅ Bearish Engulfing: 478/500\n",
      "📈 Fetching data for UBER\n"
     ]
    },
    {
     "name": "stderr",
     "output_type": "stream",
     "text": [
      "\n"
     ]
    },
    {
     "name": "stdout",
     "output_type": "stream",
     "text": [
      "✅ Bearish Engulfing: 479/500\n",
      "✅ Bearish Engulfing: 480/500\n",
      "✅ Bearish Engulfing: 481/500\n",
      "✅ Bearish Engulfing: 482/500\n",
      "✅ Bearish Engulfing: 483/500\n",
      "✅ Bearish Engulfing: 484/500\n",
      "✅ Bearish Engulfing: 485/500\n",
      "✅ Bearish Engulfing: 486/500\n",
      "✅ Bearish Engulfing: 487/500\n",
      "✅ Bearish Engulfing: 488/500\n",
      "✅ Bearish Engulfing: 489/500\n",
      "✅ Bearish Engulfing: 490/500\n",
      "✅ Bearish Engulfing: 491/500\n",
      "✅ Bearish Engulfing: 492/500\n",
      "✅ Descending Triangle: 23/500\n",
      "✅ Bearish Engulfing: 493/500\n"
     ]
    },
    {
     "name": "stderr",
     "output_type": "stream",
     "text": [
      "[*********************100%***********************]  1 of 1 completed"
     ]
    },
    {
     "name": "stdout",
     "output_type": "stream",
     "text": [
      "✅ Hanging Man: 34/500\n",
      "📈 Fetching data for SPY\n"
     ]
    },
    {
     "name": "stderr",
     "output_type": "stream",
     "text": [
      "\n"
     ]
    },
    {
     "name": "stdout",
     "output_type": "stream",
     "text": [
      "✅ Hanging Man: 35/500\n",
      "✅ Bearish Engulfing: 494/500\n",
      "✅ Head and Shoulders: 47/500\n",
      "✅ Head and Shoulders: 48/500\n",
      "✅ Head and Shoulders: 49/500\n",
      "✅ Head and Shoulders: 50/500\n",
      "✅ Bearish Engulfing: 495/500\n",
      "✅ Bearish Engulfing: 496/500\n",
      "✅ Bearish Engulfing: 497/500\n",
      "✅ Bearish Engulfing: 498/500\n",
      "📈 Fetching data for QQQ\n"
     ]
    },
    {
     "name": "stderr",
     "output_type": "stream",
     "text": [
      "[*********************100%***********************]  1 of 1 completed\n"
     ]
    },
    {
     "name": "stdout",
     "output_type": "stream",
     "text": [
      "✅ Ascending Triangle: 49/500\n",
      "✅ Ascending Triangle: 50/500\n",
      "✅ Morning Star: 54/500\n",
      "✅ Hanging Man: 36/500\n",
      "✅ Bearish Engulfing: 499/500\n",
      "✅ Bearish Engulfing: 500/500\n",
      "✅ Hammer: 22/500\n",
      "✅ Descending Triangle: 24/500\n",
      "✅ Morning Star: 55/500\n",
      "✅ Morning Star: 56/500\n",
      "🔁 Pass 3 over symbols...\n",
      "📈 Fetching data for AAPL\n"
     ]
    },
    {
     "name": "stderr",
     "output_type": "stream",
     "text": [
      "[*********************100%***********************]  1 of 1 completed\n"
     ]
    },
    {
     "name": "stdout",
     "output_type": "stream",
     "text": [
      "✅ Hammer: 23/500\n",
      "✅ Descending Triangle: 25/500\n",
      "✅ Ascending Triangle: 51/500\n",
      "✅ Ascending Triangle: 52/500\n",
      "✅ Ascending Triangle: 53/500\n",
      "✅ Hanging Man: 37/500\n"
     ]
    },
    {
     "name": "stderr",
     "output_type": "stream",
     "text": [
      "[*********************100%***********************]  1 of 1 completed"
     ]
    },
    {
     "name": "stdout",
     "output_type": "stream",
     "text": [
      "📈 Fetching data for MSFT\n"
     ]
    },
    {
     "name": "stderr",
     "output_type": "stream",
     "text": [
      "\n"
     ]
    },
    {
     "name": "stdout",
     "output_type": "stream",
     "text": [
      "✅ Hammer: 24/500\n",
      "✅ Hammer: 25/500\n",
      "✅ Head and Shoulders: 51/500\n",
      "📈 Fetching data for GOOGL\n"
     ]
    },
    {
     "name": "stderr",
     "output_type": "stream",
     "text": [
      "[*********************100%***********************]  1 of 1 completed\n"
     ]
    },
    {
     "name": "stdout",
     "output_type": "stream",
     "text": [
      "✅ Morning Star: 57/500\n",
      "✅ Morning Star: 58/500\n",
      "📈 Fetching data for AMZN\n"
     ]
    },
    {
     "name": "stderr",
     "output_type": "stream",
     "text": [
      "[*********************100%***********************]  1 of 1 completed\n"
     ]
    },
    {
     "name": "stdout",
     "output_type": "stream",
     "text": [
      "✅ Morning Star: 59/500\n",
      "✅ Morning Star: 60/500\n",
      "✅ Descending Triangle: 26/500\n",
      "✅ Descending Triangle: 27/500\n"
     ]
    },
    {
     "name": "stderr",
     "output_type": "stream",
     "text": [
      "[*********************100%***********************]  1 of 1 completed"
     ]
    },
    {
     "name": "stdout",
     "output_type": "stream",
     "text": [
      "✅ Hammer: 26/500\n",
      "📈 Fetching data for META\n"
     ]
    },
    {
     "name": "stderr",
     "output_type": "stream",
     "text": [
      "\n"
     ]
    },
    {
     "name": "stdout",
     "output_type": "stream",
     "text": [
      "✅ Head and Shoulders: 52/500\n",
      "✅ Head and Shoulders: 53/500\n",
      "✅ Head and Shoulders: 54/500\n",
      "✅ Hanging Man: 38/500\n",
      "📈 Fetching data for NVDA\n"
     ]
    },
    {
     "name": "stderr",
     "output_type": "stream",
     "text": [
      "[*********************100%***********************]  1 of 1 completed\n"
     ]
    },
    {
     "name": "stdout",
     "output_type": "stream",
     "text": [
      "✅ Ascending Triangle: 54/500\n",
      "✅ Ascending Triangle: 55/500\n",
      "✅ Ascending Triangle: 56/500\n",
      "✅ Shooting Star: 23/500\n",
      "✅ Ascending Triangle: 57/500\n",
      "✅ Hanging Man: 39/500\n",
      "✅ Ascending Triangle: 58/500\n"
     ]
    },
    {
     "name": "stderr",
     "output_type": "stream",
     "text": [
      "[*********************100%***********************]  1 of 1 completed"
     ]
    },
    {
     "name": "stdout",
     "output_type": "stream",
     "text": [
      "✅ Ascending Triangle: 59/500\n",
      "📈 Fetching data for TSLA\n"
     ]
    },
    {
     "name": "stderr",
     "output_type": "stream",
     "text": [
      "\n"
     ]
    },
    {
     "name": "stdout",
     "output_type": "stream",
     "text": [
      "✅ Descending Triangle: 28/500\n",
      "✅ Ascending Triangle: 60/500\n",
      "✅ Shooting Star: 24/500\n"
     ]
    },
    {
     "name": "stderr",
     "output_type": "stream",
     "text": [
      "[*********************100%***********************]  1 of 1 completed"
     ]
    },
    {
     "name": "stdout",
     "output_type": "stream",
     "text": [
      "📈 Fetching data for NFLX\n"
     ]
    },
    {
     "name": "stderr",
     "output_type": "stream",
     "text": [
      "\n"
     ]
    },
    {
     "name": "stdout",
     "output_type": "stream",
     "text": [
      "✅ Morning Star: 61/500\n",
      "✅ Evening Star: 13/500\n",
      "✅ Evening Star: 14/500\n",
      "✅ Head and Shoulders: 55/500\n",
      "📈 Fetching data for JPM\n"
     ]
    },
    {
     "name": "stderr",
     "output_type": "stream",
     "text": [
      "[*********************100%***********************]  1 of 1 completed\n"
     ]
    },
    {
     "name": "stdout",
     "output_type": "stream",
     "text": [
      "✅ Evening Star: 15/500\n",
      "✅ Evening Star: 16/500\n",
      "✅ Head and Shoulders: 56/500\n",
      "✅ Shooting Star: 25/500\n"
     ]
    },
    {
     "name": "stderr",
     "output_type": "stream",
     "text": [
      "[*********************100%***********************]  1 of 1 completed"
     ]
    },
    {
     "name": "stdout",
     "output_type": "stream",
     "text": [
      "📈 Fetching data for BAC\n"
     ]
    },
    {
     "name": "stderr",
     "output_type": "stream",
     "text": [
      "\n"
     ]
    },
    {
     "name": "stdout",
     "output_type": "stream",
     "text": [
      "✅ Head and Shoulders: 57/500\n"
     ]
    },
    {
     "name": "stderr",
     "output_type": "stream",
     "text": [
      "[*********************100%***********************]  1 of 1 completed"
     ]
    },
    {
     "name": "stdout",
     "output_type": "stream",
     "text": [
      "📈 Fetching data for V\n"
     ]
    },
    {
     "name": "stderr",
     "output_type": "stream",
     "text": [
      "\n"
     ]
    },
    {
     "name": "stdout",
     "output_type": "stream",
     "text": [
      "✅ Ascending Triangle: 61/500\n",
      "✅ Ascending Triangle: 62/500\n"
     ]
    },
    {
     "name": "stderr",
     "output_type": "stream",
     "text": [
      "[*********************100%***********************]  1 of 1 completed"
     ]
    },
    {
     "name": "stdout",
     "output_type": "stream",
     "text": [
      "✅ Inverted Hammer: 3/500\n",
      "📈 Fetching data for MA\n"
     ]
    },
    {
     "name": "stderr",
     "output_type": "stream",
     "text": [
      "\n",
      "[*********************100%***********************]  1 of 1 completed"
     ]
    },
    {
     "name": "stdout",
     "output_type": "stream",
     "text": [
      "✅ Ascending Triangle: 63/500\n",
      "📈 Fetching data for SOFI\n"
     ]
    },
    {
     "name": "stderr",
     "output_type": "stream",
     "text": [
      "\n"
     ]
    },
    {
     "name": "stdout",
     "output_type": "stream",
     "text": [
      "✅ Ascending Triangle: 64/500\n",
      "✅ Ascending Triangle: 65/500\n",
      "✅ Ascending Triangle: 66/500\n"
     ]
    },
    {
     "name": "stderr",
     "output_type": "stream",
     "text": [
      "[*********************100%***********************]  1 of 1 completed"
     ]
    },
    {
     "name": "stdout",
     "output_type": "stream",
     "text": [
      "📈 Fetching data for COIN\n"
     ]
    },
    {
     "name": "stderr",
     "output_type": "stream",
     "text": [
      "\n"
     ]
    },
    {
     "name": "stdout",
     "output_type": "stream",
     "text": [
      "✅ Morning Star: 62/500\n",
      "✅ Morning Star: 63/500\n",
      "✅ Ascending Triangle: 67/500\n",
      "✅ Descending Triangle: 29/500\n",
      "✅ Descending Triangle: 30/500\n",
      "✅ Hanging Man: 40/500\n",
      "✅ Hanging Man: 41/500\n",
      "✅ Hanging Man: 42/500\n",
      "✅ Hanging Man: 43/500\n",
      "✅ Hanging Man: 44/500\n",
      "📈 Fetching data for XOM\n"
     ]
    },
    {
     "name": "stderr",
     "output_type": "stream",
     "text": [
      "[*********************100%***********************]  1 of 1 completed\n"
     ]
    },
    {
     "name": "stdout",
     "output_type": "stream",
     "text": [
      "✅ Shooting Star: 26/500\n",
      "✅ Morning Star: 64/500\n",
      "✅ Morning Star: 65/500\n",
      "✅ Head and Shoulders: 58/500\n",
      "📈 Fetching data for CVX\n"
     ]
    },
    {
     "name": "stderr",
     "output_type": "stream",
     "text": [
      "[*********************100%***********************]  1 of 1 completed\n"
     ]
    },
    {
     "name": "stdout",
     "output_type": "stream",
     "text": [
      "✅ Evening Star: 17/500\n"
     ]
    },
    {
     "name": "stderr",
     "output_type": "stream",
     "text": [
      "[*********************100%***********************]  1 of 1 completed"
     ]
    },
    {
     "name": "stdout",
     "output_type": "stream",
     "text": [
      "✅ Head and Shoulders: 59/500\n",
      "📈 Fetching data for BA\n"
     ]
    },
    {
     "name": "stderr",
     "output_type": "stream",
     "text": [
      "\n"
     ]
    },
    {
     "name": "stdout",
     "output_type": "stream",
     "text": [
      "✅ Descending Triangle: 31/500\n",
      "✅ Descending Triangle: 32/500\n",
      "✅ Morning Star: 66/500\n",
      "✅ Morning Star: 67/500\n",
      "✅ Morning Star: 68/500\n",
      "✅ Morning Star: 69/500\n",
      "✅ Morning Star: 70/500\n",
      "✅ Morning Star: 71/500\n",
      "✅ Morning Star: 72/500\n"
     ]
    },
    {
     "name": "stderr",
     "output_type": "stream",
     "text": [
      "[*********************100%***********************]  1 of 1 completed"
     ]
    },
    {
     "name": "stdout",
     "output_type": "stream",
     "text": [
      "✅ Morning Star: 73/500\n",
      "📈 Fetching data for CAT\n"
     ]
    },
    {
     "name": "stderr",
     "output_type": "stream",
     "text": [
      "\n"
     ]
    },
    {
     "name": "stdout",
     "output_type": "stream",
     "text": [
      "✅ Hammer: 27/500\n",
      "✅ Hammer: 28/500\n",
      "✅ Hammer: 29/500\n",
      "✅ Hammer: 30/500\n",
      "✅ Hammer: 31/500\n",
      "✅ Hammer: 32/500\n"
     ]
    },
    {
     "name": "stderr",
     "output_type": "stream",
     "text": [
      "[*********************100%***********************]  1 of 1 completed"
     ]
    },
    {
     "name": "stdout",
     "output_type": "stream",
     "text": [
      "✅ Shooting Star: 27/500\n",
      "📈 Fetching data for DE\n"
     ]
    },
    {
     "name": "stderr",
     "output_type": "stream",
     "text": [
      "\n"
     ]
    },
    {
     "name": "stdout",
     "output_type": "stream",
     "text": [
      "✅ Morning Star: 74/500\n",
      "✅ Shooting Star: 28/500\n",
      "✅ Shooting Star: 29/500\n",
      "✅ Shooting Star: 30/500\n",
      "✅ Ascending Triangle: 68/500\n",
      "✅ Ascending Triangle: 69/500\n",
      "✅ Head and Shoulders: 60/500\n",
      "✅ Head and Shoulders: 61/500\n",
      "✅ Head and Shoulders: 62/500\n",
      "✅ Head and Shoulders: 63/500\n"
     ]
    },
    {
     "name": "stderr",
     "output_type": "stream",
     "text": [
      "[*********************100%***********************]  1 of 1 completed"
     ]
    },
    {
     "name": "stdout",
     "output_type": "stream",
     "text": [
      "📈 Fetching data for PFE\n"
     ]
    },
    {
     "name": "stderr",
     "output_type": "stream",
     "text": [
      "\n"
     ]
    },
    {
     "name": "stdout",
     "output_type": "stream",
     "text": [
      "✅ Shooting Star: 31/500\n",
      "✅ Morning Star: 75/500\n",
      "✅ Morning Star: 76/500\n",
      "✅ Morning Star: 77/500\n",
      "✅ Morning Star: 78/500\n",
      "✅ Hanging Man: 45/500\n",
      "✅ Hanging Man: 46/500\n",
      "✅ Hanging Man: 47/500\n",
      "✅ Hanging Man: 48/500\n",
      "✅ Ascending Triangle: 70/500\n",
      "📈 Fetching data for JNJ\n"
     ]
    },
    {
     "name": "stderr",
     "output_type": "stream",
     "text": [
      "[*********************100%***********************]  1 of 1 completed\n"
     ]
    },
    {
     "name": "stdout",
     "output_type": "stream",
     "text": [
      "✅ Head and Shoulders: 64/500\n",
      "📈 Fetching data for MRK\n"
     ]
    },
    {
     "name": "stderr",
     "output_type": "stream",
     "text": [
      "[*********************100%***********************]  1 of 1 completed\n"
     ]
    },
    {
     "name": "stdout",
     "output_type": "stream",
     "text": [
      "✅ Ascending Triangle: 71/500\n",
      "✅ Head and Shoulders: 65/500\n",
      "✅ Head and Shoulders: 66/500\n",
      "✅ Head and Shoulders: 67/500\n",
      "📈 Fetching data for LLY\n"
     ]
    },
    {
     "name": "stderr",
     "output_type": "stream",
     "text": [
      "[*********************100%***********************]  1 of 1 completed\n"
     ]
    },
    {
     "name": "stdout",
     "output_type": "stream",
     "text": [
      "✅ Hanging Man: 49/500\n",
      "✅ Hanging Man: 50/500\n",
      "✅ Hanging Man: 51/500\n",
      "✅ Head and Shoulders: 68/500\n",
      "✅ Head and Shoulders: 69/500\n",
      "✅ Head and Shoulders: 70/500\n",
      "✅ Ascending Triangle: 72/500\n",
      "✅ Shooting Star: 32/500\n"
     ]
    },
    {
     "name": "stderr",
     "output_type": "stream",
     "text": [
      "[*********************100%***********************]  1 of 1 completed"
     ]
    },
    {
     "name": "stdout",
     "output_type": "stream",
     "text": [
      "📈 Fetching data for PLTR\n",
      "✅ Head and Shoulders: 71/500\n"
     ]
    },
    {
     "name": "stderr",
     "output_type": "stream",
     "text": [
      "\n",
      "[*********************100%***********************]  1 of 1 completed"
     ]
    },
    {
     "name": "stdout",
     "output_type": "stream",
     "text": [
      "✅ Evening Star: 18/500\n",
      "📈 Fetching data for SNOW\n"
     ]
    },
    {
     "name": "stderr",
     "output_type": "stream",
     "text": [
      "\n",
      "[*********************100%***********************]  1 of 1 completed"
     ]
    },
    {
     "name": "stdout",
     "output_type": "stream",
     "text": [
      "✅ Descending Triangle: 33/500\n",
      "📈 Fetching data for SHOP\n"
     ]
    },
    {
     "name": "stderr",
     "output_type": "stream",
     "text": [
      "\n"
     ]
    },
    {
     "name": "stdout",
     "output_type": "stream",
     "text": [
      "✅ Morning Star: 79/500\n",
      "✅ Morning Star: 80/500\n",
      "✅ Morning Star: 81/500\n",
      "✅ Shooting Star: 33/500\n",
      "✅ Ascending Triangle: 73/500\n"
     ]
    },
    {
     "name": "stderr",
     "output_type": "stream",
     "text": [
      "[*********************100%***********************]  1 of 1 completed"
     ]
    },
    {
     "name": "stdout",
     "output_type": "stream",
     "text": [
      "📈 Fetching data for RIVN\n",
      "✅ Descending Triangle: 34/500\n"
     ]
    },
    {
     "name": "stderr",
     "output_type": "stream",
     "text": [
      "\n",
      "[*********************100%***********************]  1 of 1 completed"
     ]
    },
    {
     "name": "stdout",
     "output_type": "stream",
     "text": [
      "📈 Fetching data for UBER\n"
     ]
    },
    {
     "name": "stderr",
     "output_type": "stream",
     "text": [
      "\n"
     ]
    },
    {
     "name": "stdout",
     "output_type": "stream",
     "text": [
      "✅ Descending Triangle: 35/500\n"
     ]
    },
    {
     "name": "stderr",
     "output_type": "stream",
     "text": [
      "[*********************100%***********************]  1 of 1 completed"
     ]
    },
    {
     "name": "stdout",
     "output_type": "stream",
     "text": [
      "✅ Hanging Man: 52/500\n",
      "📈 Fetching data for SPY\n"
     ]
    },
    {
     "name": "stderr",
     "output_type": "stream",
     "text": [
      "\n"
     ]
    },
    {
     "name": "stdout",
     "output_type": "stream",
     "text": [
      "✅ Hanging Man: 53/500\n",
      "✅ Head and Shoulders: 72/500\n",
      "✅ Head and Shoulders: 73/500\n",
      "✅ Head and Shoulders: 74/500\n",
      "✅ Head and Shoulders: 75/500\n"
     ]
    },
    {
     "name": "stderr",
     "output_type": "stream",
     "text": [
      "[*********************100%***********************]  1 of 1 completed"
     ]
    },
    {
     "name": "stdout",
     "output_type": "stream",
     "text": [
      "📈 Fetching data for QQQ\n"
     ]
    },
    {
     "name": "stderr",
     "output_type": "stream",
     "text": [
      "\n"
     ]
    },
    {
     "name": "stdout",
     "output_type": "stream",
     "text": [
      "✅ Ascending Triangle: 74/500\n",
      "✅ Ascending Triangle: 75/500\n",
      "✅ Morning Star: 82/500\n",
      "✅ Hanging Man: 54/500\n",
      "✅ Hammer: 33/500\n",
      "✅ Descending Triangle: 36/500\n",
      "✅ Morning Star: 83/500\n",
      "✅ Morning Star: 84/500\n",
      "🔁 Pass 4 over symbols...\n",
      "📈 Fetching data for AAPL\n"
     ]
    },
    {
     "name": "stderr",
     "output_type": "stream",
     "text": [
      "[*********************100%***********************]  1 of 1 completed\n"
     ]
    },
    {
     "name": "stdout",
     "output_type": "stream",
     "text": [
      "✅ Hammer: 34/500\n",
      "✅ Descending Triangle: 37/500\n",
      "✅ Ascending Triangle: 76/500\n",
      "✅ Ascending Triangle: 77/500\n",
      "✅ Ascending Triangle: 78/500\n",
      "✅ Hanging Man: 55/500\n"
     ]
    },
    {
     "name": "stderr",
     "output_type": "stream",
     "text": [
      "[*********************100%***********************]  1 of 1 completed"
     ]
    },
    {
     "name": "stdout",
     "output_type": "stream",
     "text": [
      "📈 Fetching data for MSFT\n"
     ]
    },
    {
     "name": "stderr",
     "output_type": "stream",
     "text": [
      "\n"
     ]
    },
    {
     "name": "stdout",
     "output_type": "stream",
     "text": [
      "✅ Hammer: 35/500\n",
      "✅ Hammer: 36/500\n",
      "✅ Head and Shoulders: 76/500\n",
      "📈 Fetching data for GOOGL\n"
     ]
    },
    {
     "name": "stderr",
     "output_type": "stream",
     "text": [
      "[*********************100%***********************]  1 of 1 completed\n"
     ]
    },
    {
     "name": "stdout",
     "output_type": "stream",
     "text": [
      "✅ Morning Star: 85/500\n",
      "✅ Morning Star: 86/500\n"
     ]
    },
    {
     "name": "stderr",
     "output_type": "stream",
     "text": [
      "[*********************100%***********************]  1 of 1 completed"
     ]
    },
    {
     "name": "stdout",
     "output_type": "stream",
     "text": [
      "📈 Fetching data for AMZN\n"
     ]
    },
    {
     "name": "stderr",
     "output_type": "stream",
     "text": [
      "\n"
     ]
    },
    {
     "name": "stdout",
     "output_type": "stream",
     "text": [
      "✅ Morning Star: 87/500\n",
      "✅ Morning Star: 88/500\n",
      "✅ Descending Triangle: 38/500\n",
      "✅ Descending Triangle: 39/500\n"
     ]
    },
    {
     "name": "stderr",
     "output_type": "stream",
     "text": [
      "[*********************100%***********************]  1 of 1 completed"
     ]
    },
    {
     "name": "stdout",
     "output_type": "stream",
     "text": [
      "✅ Hammer: 37/500\n",
      "📈 Fetching data for META\n"
     ]
    },
    {
     "name": "stderr",
     "output_type": "stream",
     "text": [
      "\n"
     ]
    },
    {
     "name": "stdout",
     "output_type": "stream",
     "text": [
      "✅ Head and Shoulders: 77/500\n",
      "✅ Head and Shoulders: 78/500\n",
      "✅ Head and Shoulders: 79/500\n",
      "✅ Hanging Man: 56/500\n",
      "📈 Fetching data for NVDA\n"
     ]
    },
    {
     "name": "stderr",
     "output_type": "stream",
     "text": [
      "[*********************100%***********************]  1 of 1 completed\n"
     ]
    },
    {
     "name": "stdout",
     "output_type": "stream",
     "text": [
      "✅ Ascending Triangle: 79/500\n",
      "✅ Ascending Triangle: 80/500\n",
      "✅ Ascending Triangle: 81/500\n",
      "✅ Shooting Star: 34/500\n",
      "✅ Ascending Triangle: 82/500\n",
      "✅ Hanging Man: 57/500\n",
      "✅ Ascending Triangle: 83/500\n"
     ]
    },
    {
     "name": "stderr",
     "output_type": "stream",
     "text": [
      "[*********************100%***********************]  1 of 1 completed"
     ]
    },
    {
     "name": "stdout",
     "output_type": "stream",
     "text": [
      "✅ Ascending Triangle: 84/500\n",
      "📈 Fetching data for TSLA\n"
     ]
    },
    {
     "name": "stderr",
     "output_type": "stream",
     "text": [
      "\n"
     ]
    },
    {
     "name": "stdout",
     "output_type": "stream",
     "text": [
      "✅ Descending Triangle: 40/500\n",
      "✅ Ascending Triangle: 85/500\n",
      "✅ Shooting Star: 35/500\n"
     ]
    },
    {
     "name": "stderr",
     "output_type": "stream",
     "text": [
      "[*********************100%***********************]  1 of 1 completed"
     ]
    },
    {
     "name": "stdout",
     "output_type": "stream",
     "text": [
      "📈 Fetching data for NFLX\n"
     ]
    },
    {
     "name": "stderr",
     "output_type": "stream",
     "text": [
      "\n"
     ]
    },
    {
     "name": "stdout",
     "output_type": "stream",
     "text": [
      "✅ Morning Star: 89/500\n",
      "✅ Evening Star: 19/500\n",
      "✅ Evening Star: 20/500\n"
     ]
    },
    {
     "name": "stderr",
     "output_type": "stream",
     "text": [
      "[*********************100%***********************]  1 of 1 completed"
     ]
    },
    {
     "name": "stdout",
     "output_type": "stream",
     "text": [
      "✅ Head and Shoulders: 80/500\n",
      "📈 Fetching data for JPM\n"
     ]
    },
    {
     "name": "stderr",
     "output_type": "stream",
     "text": [
      "\n"
     ]
    },
    {
     "name": "stdout",
     "output_type": "stream",
     "text": [
      "✅ Evening Star: 21/500\n",
      "✅ Evening Star: 22/500\n",
      "✅ Head and Shoulders: 81/500\n",
      "✅ Shooting Star: 36/500\n"
     ]
    },
    {
     "name": "stderr",
     "output_type": "stream",
     "text": [
      "[*********************100%***********************]  1 of 1 completed"
     ]
    },
    {
     "name": "stdout",
     "output_type": "stream",
     "text": [
      "📈 Fetching data for BAC\n"
     ]
    },
    {
     "name": "stderr",
     "output_type": "stream",
     "text": [
      "\n"
     ]
    },
    {
     "name": "stdout",
     "output_type": "stream",
     "text": [
      "✅ Head and Shoulders: 82/500\n"
     ]
    },
    {
     "name": "stderr",
     "output_type": "stream",
     "text": [
      "[*********************100%***********************]  1 of 1 completed"
     ]
    },
    {
     "name": "stdout",
     "output_type": "stream",
     "text": [
      "📈 Fetching data for V\n"
     ]
    },
    {
     "name": "stderr",
     "output_type": "stream",
     "text": [
      "\n"
     ]
    },
    {
     "name": "stdout",
     "output_type": "stream",
     "text": [
      "✅ Ascending Triangle: 86/500\n",
      "✅ Ascending Triangle: 87/500\n"
     ]
    },
    {
     "name": "stderr",
     "output_type": "stream",
     "text": [
      "[*********************100%***********************]  1 of 1 completed"
     ]
    },
    {
     "name": "stdout",
     "output_type": "stream",
     "text": [
      "✅ Inverted Hammer: 4/500\n",
      "📈 Fetching data for MA\n"
     ]
    },
    {
     "name": "stderr",
     "output_type": "stream",
     "text": [
      "\n",
      "[*********************100%***********************]  1 of 1 completed"
     ]
    },
    {
     "name": "stdout",
     "output_type": "stream",
     "text": [
      "✅ Ascending Triangle: 88/500\n",
      "📈 Fetching data for SOFI\n"
     ]
    },
    {
     "name": "stderr",
     "output_type": "stream",
     "text": [
      "\n"
     ]
    },
    {
     "name": "stdout",
     "output_type": "stream",
     "text": [
      "✅ Ascending Triangle: 89/500\n",
      "✅ Ascending Triangle: 90/500\n",
      "✅ Ascending Triangle: 91/500\n"
     ]
    },
    {
     "name": "stderr",
     "output_type": "stream",
     "text": [
      "[*********************100%***********************]  1 of 1 completed"
     ]
    },
    {
     "name": "stdout",
     "output_type": "stream",
     "text": [
      "📈 Fetching data for COIN\n"
     ]
    },
    {
     "name": "stderr",
     "output_type": "stream",
     "text": [
      "\n"
     ]
    },
    {
     "name": "stdout",
     "output_type": "stream",
     "text": [
      "✅ Morning Star: 90/500\n",
      "✅ Morning Star: 91/500\n",
      "✅ Ascending Triangle: 92/500\n",
      "✅ Descending Triangle: 41/500\n",
      "✅ Descending Triangle: 42/500\n",
      "✅ Hanging Man: 58/500\n",
      "✅ Hanging Man: 59/500\n",
      "✅ Hanging Man: 60/500\n",
      "✅ Hanging Man: 61/500\n"
     ]
    },
    {
     "name": "stderr",
     "output_type": "stream",
     "text": [
      "[*********************100%***********************]  1 of 1 completed"
     ]
    },
    {
     "name": "stdout",
     "output_type": "stream",
     "text": [
      "✅ Hanging Man: 62/500\n",
      "📈 Fetching data for XOM\n"
     ]
    },
    {
     "name": "stderr",
     "output_type": "stream",
     "text": [
      "\n"
     ]
    },
    {
     "name": "stdout",
     "output_type": "stream",
     "text": [
      "✅ Shooting Star: 37/500\n",
      "✅ Morning Star: 92/500\n",
      "✅ Morning Star: 93/500\n"
     ]
    },
    {
     "name": "stderr",
     "output_type": "stream",
     "text": [
      "[*********************100%***********************]  1 of 1 completed"
     ]
    },
    {
     "name": "stdout",
     "output_type": "stream",
     "text": [
      "✅ Head and Shoulders: 83/500\n",
      "📈 Fetching data for CVX\n"
     ]
    },
    {
     "name": "stderr",
     "output_type": "stream",
     "text": [
      "\n"
     ]
    },
    {
     "name": "stdout",
     "output_type": "stream",
     "text": [
      "✅ Evening Star: 23/500\n"
     ]
    },
    {
     "name": "stderr",
     "output_type": "stream",
     "text": [
      "[*********************100%***********************]  1 of 1 completed"
     ]
    },
    {
     "name": "stdout",
     "output_type": "stream",
     "text": [
      "✅ Head and Shoulders: 84/500\n",
      "📈 Fetching data for BA\n"
     ]
    },
    {
     "name": "stderr",
     "output_type": "stream",
     "text": [
      "\n"
     ]
    },
    {
     "name": "stdout",
     "output_type": "stream",
     "text": [
      "✅ Descending Triangle: 43/500\n",
      "✅ Descending Triangle: 44/500\n",
      "✅ Morning Star: 94/500\n",
      "✅ Morning Star: 95/500\n",
      "✅ Morning Star: 96/500\n",
      "✅ Morning Star: 97/500\n",
      "✅ Morning Star: 98/500\n",
      "✅ Morning Star: 99/500\n",
      "✅ Morning Star: 100/500\n"
     ]
    },
    {
     "name": "stderr",
     "output_type": "stream",
     "text": [
      "[*********************100%***********************]  1 of 1 completed"
     ]
    },
    {
     "name": "stdout",
     "output_type": "stream",
     "text": [
      "✅ Morning Star: 101/500\n",
      "📈 Fetching data for CAT\n"
     ]
    },
    {
     "name": "stderr",
     "output_type": "stream",
     "text": [
      "\n"
     ]
    },
    {
     "name": "stdout",
     "output_type": "stream",
     "text": [
      "✅ Hammer: 38/500\n",
      "✅ Hammer: 39/500\n",
      "✅ Hammer: 40/500\n",
      "✅ Hammer: 41/500\n",
      "✅ Hammer: 42/500\n",
      "✅ Hammer: 43/500\n"
     ]
    },
    {
     "name": "stderr",
     "output_type": "stream",
     "text": [
      "[*********************100%***********************]  1 of 1 completed"
     ]
    },
    {
     "name": "stdout",
     "output_type": "stream",
     "text": [
      "✅ Shooting Star: 38/500\n",
      "📈 Fetching data for DE\n"
     ]
    },
    {
     "name": "stderr",
     "output_type": "stream",
     "text": [
      "\n"
     ]
    },
    {
     "name": "stdout",
     "output_type": "stream",
     "text": [
      "✅ Morning Star: 102/500\n",
      "✅ Shooting Star: 39/500\n",
      "✅ Shooting Star: 40/500\n",
      "✅ Shooting Star: 41/500\n",
      "✅ Ascending Triangle: 93/500\n",
      "✅ Ascending Triangle: 94/500\n",
      "✅ Head and Shoulders: 85/500\n",
      "✅ Head and Shoulders: 86/500\n",
      "✅ Head and Shoulders: 87/500\n",
      "✅ Head and Shoulders: 88/500\n",
      "📈 Fetching data for PFE\n"
     ]
    },
    {
     "name": "stderr",
     "output_type": "stream",
     "text": [
      "[*********************100%***********************]  1 of 1 completed\n"
     ]
    },
    {
     "name": "stdout",
     "output_type": "stream",
     "text": [
      "✅ Shooting Star: 42/500\n",
      "✅ Morning Star: 103/500\n",
      "✅ Morning Star: 104/500\n",
      "✅ Morning Star: 105/500\n",
      "✅ Morning Star: 106/500\n",
      "✅ Hanging Man: 63/500\n",
      "✅ Hanging Man: 64/500\n",
      "✅ Hanging Man: 65/500\n",
      "✅ Hanging Man: 66/500\n",
      "✅ Ascending Triangle: 95/500\n",
      "📈 Fetching data for JNJ\n"
     ]
    },
    {
     "name": "stderr",
     "output_type": "stream",
     "text": [
      "[*********************100%***********************]  1 of 1 completed\n"
     ]
    },
    {
     "name": "stdout",
     "output_type": "stream",
     "text": [
      "✅ Head and Shoulders: 89/500\n",
      "📈 Fetching data for MRK\n"
     ]
    },
    {
     "name": "stderr",
     "output_type": "stream",
     "text": [
      "[*********************100%***********************]  1 of 1 completed\n"
     ]
    },
    {
     "name": "stdout",
     "output_type": "stream",
     "text": [
      "✅ Ascending Triangle: 96/500\n",
      "✅ Head and Shoulders: 90/500\n",
      "✅ Head and Shoulders: 91/500\n",
      "✅ Head and Shoulders: 92/500\n",
      "📈 Fetching data for LLY\n"
     ]
    },
    {
     "name": "stderr",
     "output_type": "stream",
     "text": [
      "[*********************100%***********************]  1 of 1 completed\n"
     ]
    },
    {
     "name": "stdout",
     "output_type": "stream",
     "text": [
      "✅ Hanging Man: 67/500\n",
      "✅ Hanging Man: 68/500\n",
      "✅ Hanging Man: 69/500\n",
      "✅ Head and Shoulders: 93/500\n",
      "✅ Head and Shoulders: 94/500\n",
      "✅ Head and Shoulders: 95/500\n",
      "✅ Ascending Triangle: 97/500\n"
     ]
    },
    {
     "name": "stderr",
     "output_type": "stream",
     "text": [
      "[*********************100%***********************]  1 of 1 completed"
     ]
    },
    {
     "name": "stdout",
     "output_type": "stream",
     "text": [
      "✅ Shooting Star: 43/500\n",
      "📈 Fetching data for PLTR\n"
     ]
    },
    {
     "name": "stderr",
     "output_type": "stream",
     "text": [
      "\n"
     ]
    },
    {
     "name": "stdout",
     "output_type": "stream",
     "text": [
      "✅ Head and Shoulders: 96/500\n"
     ]
    },
    {
     "name": "stderr",
     "output_type": "stream",
     "text": [
      "[*********************100%***********************]  1 of 1 completed"
     ]
    },
    {
     "name": "stdout",
     "output_type": "stream",
     "text": [
      "✅ Evening Star: 24/500\n",
      "📈 Fetching data for SNOW\n"
     ]
    },
    {
     "name": "stderr",
     "output_type": "stream",
     "text": [
      "\n",
      "[*********************100%***********************]  1 of 1 completed"
     ]
    },
    {
     "name": "stdout",
     "output_type": "stream",
     "text": [
      "✅ Descending Triangle: 45/500\n",
      "📈 Fetching data for SHOP\n"
     ]
    },
    {
     "name": "stderr",
     "output_type": "stream",
     "text": [
      "\n"
     ]
    },
    {
     "name": "stdout",
     "output_type": "stream",
     "text": [
      "✅ Morning Star: 107/500\n",
      "✅ Morning Star: 108/500\n",
      "✅ Morning Star: 109/500\n",
      "✅ Shooting Star: 44/500\n",
      "✅ Ascending Triangle: 98/500\n",
      "📈 Fetching data for RIVN\n"
     ]
    },
    {
     "name": "stderr",
     "output_type": "stream",
     "text": [
      "[*********************100%***********************]  1 of 1 completed\n",
      "[*********************100%***********************]  1 of 1 completed"
     ]
    },
    {
     "name": "stdout",
     "output_type": "stream",
     "text": [
      "✅ Descending Triangle: 46/500\n",
      "📈 Fetching data for UBER\n"
     ]
    },
    {
     "name": "stderr",
     "output_type": "stream",
     "text": [
      "\n"
     ]
    },
    {
     "name": "stdout",
     "output_type": "stream",
     "text": [
      "✅ Descending Triangle: 47/500\n"
     ]
    },
    {
     "name": "stderr",
     "output_type": "stream",
     "text": [
      "[*********************100%***********************]  1 of 1 completed"
     ]
    },
    {
     "name": "stdout",
     "output_type": "stream",
     "text": [
      "✅ Hanging Man: 70/500\n",
      "📈 Fetching data for SPY\n"
     ]
    },
    {
     "name": "stderr",
     "output_type": "stream",
     "text": [
      "\n"
     ]
    },
    {
     "name": "stdout",
     "output_type": "stream",
     "text": [
      "✅ Hanging Man: 71/500\n",
      "✅ Head and Shoulders: 97/500\n",
      "✅ Head and Shoulders: 98/500\n",
      "✅ Head and Shoulders: 99/500\n",
      "✅ Head and Shoulders: 100/500\n",
      "📈 Fetching data for QQQ\n"
     ]
    },
    {
     "name": "stderr",
     "output_type": "stream",
     "text": [
      "[*********************100%***********************]  1 of 1 completed\n"
     ]
    },
    {
     "name": "stdout",
     "output_type": "stream",
     "text": [
      "✅ Ascending Triangle: 99/500\n",
      "✅ Ascending Triangle: 100/500\n",
      "✅ Morning Star: 110/500\n",
      "✅ Hanging Man: 72/500\n",
      "✅ Hammer: 44/500\n",
      "✅ Descending Triangle: 48/500\n",
      "✅ Morning Star: 111/500\n",
      "✅ Morning Star: 112/500\n",
      "🔁 Pass 5 over symbols...\n",
      "📈 Fetching data for AAPL\n"
     ]
    },
    {
     "name": "stderr",
     "output_type": "stream",
     "text": [
      "[*********************100%***********************]  1 of 1 completed\n"
     ]
    },
    {
     "name": "stdout",
     "output_type": "stream",
     "text": [
      "✅ Hammer: 45/500\n",
      "✅ Descending Triangle: 49/500\n",
      "✅ Ascending Triangle: 101/500\n",
      "✅ Ascending Triangle: 102/500\n",
      "✅ Ascending Triangle: 103/500\n",
      "✅ Hanging Man: 73/500\n"
     ]
    },
    {
     "name": "stderr",
     "output_type": "stream",
     "text": [
      "[*********************100%***********************]  1 of 1 completed"
     ]
    },
    {
     "name": "stdout",
     "output_type": "stream",
     "text": [
      "📈 Fetching data for MSFT\n"
     ]
    },
    {
     "name": "stderr",
     "output_type": "stream",
     "text": [
      "\n"
     ]
    },
    {
     "name": "stdout",
     "output_type": "stream",
     "text": [
      "✅ Hammer: 46/500\n",
      "✅ Hammer: 47/500\n",
      "✅ Head and Shoulders: 101/500\n",
      "📈 Fetching data for GOOGL\n"
     ]
    },
    {
     "name": "stderr",
     "output_type": "stream",
     "text": [
      "[*********************100%***********************]  1 of 1 completed\n"
     ]
    },
    {
     "name": "stdout",
     "output_type": "stream",
     "text": [
      "✅ Morning Star: 113/500\n",
      "✅ Morning Star: 114/500\n",
      "📈 Fetching data for AMZN\n"
     ]
    },
    {
     "name": "stderr",
     "output_type": "stream",
     "text": [
      "[*********************100%***********************]  1 of 1 completed\n"
     ]
    },
    {
     "name": "stdout",
     "output_type": "stream",
     "text": [
      "✅ Morning Star: 115/500\n",
      "✅ Morning Star: 116/500\n",
      "✅ Descending Triangle: 50/500\n",
      "✅ Descending Triangle: 51/500\n"
     ]
    },
    {
     "name": "stderr",
     "output_type": "stream",
     "text": [
      "[*********************100%***********************]  1 of 1 completed"
     ]
    },
    {
     "name": "stdout",
     "output_type": "stream",
     "text": [
      "✅ Hammer: 48/500\n",
      "📈 Fetching data for META\n"
     ]
    },
    {
     "name": "stderr",
     "output_type": "stream",
     "text": [
      "\n"
     ]
    },
    {
     "name": "stdout",
     "output_type": "stream",
     "text": [
      "✅ Head and Shoulders: 102/500\n",
      "✅ Head and Shoulders: 103/500\n",
      "✅ Head and Shoulders: 104/500\n",
      "✅ Hanging Man: 74/500\n",
      "📈 Fetching data for NVDA\n"
     ]
    },
    {
     "name": "stderr",
     "output_type": "stream",
     "text": [
      "[*********************100%***********************]  1 of 1 completed\n"
     ]
    },
    {
     "name": "stdout",
     "output_type": "stream",
     "text": [
      "✅ Ascending Triangle: 104/500\n",
      "✅ Ascending Triangle: 105/500\n",
      "✅ Ascending Triangle: 106/500\n",
      "✅ Shooting Star: 45/500\n",
      "✅ Ascending Triangle: 107/500\n",
      "✅ Hanging Man: 75/500\n",
      "✅ Ascending Triangle: 108/500\n"
     ]
    },
    {
     "name": "stderr",
     "output_type": "stream",
     "text": [
      "[*********************100%***********************]  1 of 1 completed"
     ]
    },
    {
     "name": "stdout",
     "output_type": "stream",
     "text": [
      "✅ Ascending Triangle: 109/500\n",
      "📈 Fetching data for TSLA\n"
     ]
    },
    {
     "name": "stderr",
     "output_type": "stream",
     "text": [
      "\n"
     ]
    },
    {
     "name": "stdout",
     "output_type": "stream",
     "text": [
      "✅ Descending Triangle: 52/500\n",
      "✅ Ascending Triangle: 110/500\n",
      "✅ Shooting Star: 46/500\n"
     ]
    },
    {
     "name": "stderr",
     "output_type": "stream",
     "text": [
      "[*********************100%***********************]  1 of 1 completed"
     ]
    },
    {
     "name": "stdout",
     "output_type": "stream",
     "text": [
      "📈 Fetching data for NFLX\n"
     ]
    },
    {
     "name": "stderr",
     "output_type": "stream",
     "text": [
      "\n"
     ]
    },
    {
     "name": "stdout",
     "output_type": "stream",
     "text": [
      "✅ Morning Star: 117/500\n",
      "✅ Evening Star: 25/500\n",
      "✅ Evening Star: 26/500\n"
     ]
    },
    {
     "name": "stderr",
     "output_type": "stream",
     "text": [
      "[*********************100%***********************]  1 of 1 completed"
     ]
    },
    {
     "name": "stdout",
     "output_type": "stream",
     "text": [
      "✅ Head and Shoulders: 105/500\n",
      "📈 Fetching data for JPM\n"
     ]
    },
    {
     "name": "stderr",
     "output_type": "stream",
     "text": [
      "\n"
     ]
    },
    {
     "name": "stdout",
     "output_type": "stream",
     "text": [
      "✅ Evening Star: 27/500\n",
      "✅ Evening Star: 28/500\n",
      "✅ Head and Shoulders: 106/500\n",
      "✅ Shooting Star: 47/500\n"
     ]
    },
    {
     "name": "stderr",
     "output_type": "stream",
     "text": [
      "[*********************100%***********************]  1 of 1 completed"
     ]
    },
    {
     "name": "stdout",
     "output_type": "stream",
     "text": [
      "📈 Fetching data for BAC\n"
     ]
    },
    {
     "name": "stderr",
     "output_type": "stream",
     "text": [
      "\n"
     ]
    },
    {
     "name": "stdout",
     "output_type": "stream",
     "text": [
      "✅ Head and Shoulders: 107/500\n"
     ]
    },
    {
     "name": "stderr",
     "output_type": "stream",
     "text": [
      "[*********************100%***********************]  1 of 1 completed"
     ]
    },
    {
     "name": "stdout",
     "output_type": "stream",
     "text": [
      "📈 Fetching data for V\n"
     ]
    },
    {
     "name": "stderr",
     "output_type": "stream",
     "text": [
      "\n"
     ]
    },
    {
     "name": "stdout",
     "output_type": "stream",
     "text": [
      "✅ Ascending Triangle: 111/500\n",
      "✅ Ascending Triangle: 112/500\n"
     ]
    },
    {
     "name": "stderr",
     "output_type": "stream",
     "text": [
      "[*********************100%***********************]  1 of 1 completed"
     ]
    },
    {
     "name": "stdout",
     "output_type": "stream",
     "text": [
      "✅ Inverted Hammer: 5/500\n",
      "📈 Fetching data for MA\n"
     ]
    },
    {
     "name": "stderr",
     "output_type": "stream",
     "text": [
      "\n",
      "[*********************100%***********************]  1 of 1 completed"
     ]
    },
    {
     "name": "stdout",
     "output_type": "stream",
     "text": [
      "✅ Ascending Triangle: 113/500\n",
      "📈 Fetching data for SOFI\n"
     ]
    },
    {
     "name": "stderr",
     "output_type": "stream",
     "text": [
      "\n"
     ]
    },
    {
     "name": "stdout",
     "output_type": "stream",
     "text": [
      "✅ Ascending Triangle: 114/500\n",
      "✅ Ascending Triangle: 115/500\n"
     ]
    },
    {
     "name": "stderr",
     "output_type": "stream",
     "text": [
      "[*********************100%***********************]  1 of 1 completed"
     ]
    },
    {
     "name": "stdout",
     "output_type": "stream",
     "text": [
      "✅ Ascending Triangle: 116/500\n",
      "📈 Fetching data for COIN\n"
     ]
    },
    {
     "name": "stderr",
     "output_type": "stream",
     "text": [
      "\n"
     ]
    },
    {
     "name": "stdout",
     "output_type": "stream",
     "text": [
      "✅ Morning Star: 118/500\n",
      "✅ Morning Star: 119/500\n",
      "✅ Ascending Triangle: 117/500\n",
      "✅ Descending Triangle: 53/500\n",
      "✅ Descending Triangle: 54/500\n",
      "✅ Hanging Man: 76/500\n",
      "✅ Hanging Man: 77/500\n",
      "✅ Hanging Man: 78/500\n",
      "✅ Hanging Man: 79/500\n",
      "✅ Hanging Man: 80/500\n",
      "📈 Fetching data for XOM\n"
     ]
    },
    {
     "name": "stderr",
     "output_type": "stream",
     "text": [
      "[*********************100%***********************]  1 of 1 completed\n"
     ]
    },
    {
     "name": "stdout",
     "output_type": "stream",
     "text": [
      "✅ Shooting Star: 48/500\n",
      "✅ Morning Star: 120/500\n",
      "✅ Morning Star: 121/500\n",
      "✅ Head and Shoulders: 108/500\n",
      "📈 Fetching data for CVX\n"
     ]
    },
    {
     "name": "stderr",
     "output_type": "stream",
     "text": [
      "[*********************100%***********************]  1 of 1 completed\n"
     ]
    },
    {
     "name": "stdout",
     "output_type": "stream",
     "text": [
      "✅ Evening Star: 29/500\n"
     ]
    },
    {
     "name": "stderr",
     "output_type": "stream",
     "text": [
      "[*********************100%***********************]  1 of 1 completed"
     ]
    },
    {
     "name": "stdout",
     "output_type": "stream",
     "text": [
      "✅ Head and Shoulders: 109/500\n",
      "📈 Fetching data for BA\n"
     ]
    },
    {
     "name": "stderr",
     "output_type": "stream",
     "text": [
      "\n"
     ]
    },
    {
     "name": "stdout",
     "output_type": "stream",
     "text": [
      "✅ Descending Triangle: 55/500\n",
      "✅ Descending Triangle: 56/500\n",
      "✅ Morning Star: 122/500\n",
      "✅ Morning Star: 123/500\n",
      "✅ Morning Star: 124/500\n",
      "✅ Morning Star: 125/500\n",
      "✅ Morning Star: 126/500\n",
      "✅ Morning Star: 127/500\n",
      "✅ Morning Star: 128/500\n"
     ]
    },
    {
     "name": "stderr",
     "output_type": "stream",
     "text": [
      "[*********************100%***********************]  1 of 1 completed"
     ]
    },
    {
     "name": "stdout",
     "output_type": "stream",
     "text": [
      "✅ Morning Star: 129/500\n",
      "📈 Fetching data for CAT\n"
     ]
    },
    {
     "name": "stderr",
     "output_type": "stream",
     "text": [
      "\n"
     ]
    },
    {
     "name": "stdout",
     "output_type": "stream",
     "text": [
      "✅ Hammer: 49/500\n",
      "✅ Hammer: 50/500\n",
      "✅ Hammer: 51/500\n",
      "✅ Hammer: 52/500\n",
      "✅ Hammer: 53/500\n",
      "✅ Hammer: 54/500\n"
     ]
    },
    {
     "name": "stderr",
     "output_type": "stream",
     "text": [
      "[*********************100%***********************]  1 of 1 completed"
     ]
    },
    {
     "name": "stdout",
     "output_type": "stream",
     "text": [
      "✅ Shooting Star: 49/500\n",
      "📈 Fetching data for DE\n"
     ]
    },
    {
     "name": "stderr",
     "output_type": "stream",
     "text": [
      "\n"
     ]
    },
    {
     "name": "stdout",
     "output_type": "stream",
     "text": [
      "✅ Morning Star: 130/500\n",
      "✅ Shooting Star: 50/500\n",
      "✅ Shooting Star: 51/500\n",
      "✅ Shooting Star: 52/500\n",
      "✅ Ascending Triangle: 118/500\n",
      "✅ Ascending Triangle: 119/500\n",
      "✅ Head and Shoulders: 110/500\n",
      "✅ Head and Shoulders: 111/500\n",
      "✅ Head and Shoulders: 112/500\n",
      "✅ Head and Shoulders: 113/500\n",
      "📈 Fetching data for PFE\n"
     ]
    },
    {
     "name": "stderr",
     "output_type": "stream",
     "text": [
      "[*********************100%***********************]  1 of 1 completed\n"
     ]
    },
    {
     "name": "stdout",
     "output_type": "stream",
     "text": [
      "✅ Shooting Star: 53/500\n",
      "✅ Morning Star: 131/500\n",
      "✅ Morning Star: 132/500\n",
      "✅ Morning Star: 133/500\n",
      "✅ Morning Star: 134/500\n",
      "✅ Hanging Man: 81/500\n",
      "✅ Hanging Man: 82/500\n",
      "✅ Hanging Man: 83/500\n",
      "✅ Hanging Man: 84/500\n",
      "✅ Ascending Triangle: 120/500\n",
      "📈 Fetching data for JNJ\n"
     ]
    },
    {
     "name": "stderr",
     "output_type": "stream",
     "text": [
      "[*********************100%***********************]  1 of 1 completed\n"
     ]
    },
    {
     "name": "stdout",
     "output_type": "stream",
     "text": [
      "✅ Head and Shoulders: 114/500\n",
      "📈 Fetching data for MRK\n"
     ]
    },
    {
     "name": "stderr",
     "output_type": "stream",
     "text": [
      "[*********************100%***********************]  1 of 1 completed\n"
     ]
    },
    {
     "name": "stdout",
     "output_type": "stream",
     "text": [
      "✅ Ascending Triangle: 121/500\n",
      "✅ Head and Shoulders: 115/500\n",
      "✅ Head and Shoulders: 116/500\n",
      "✅ Head and Shoulders: 117/500\n",
      "📈 Fetching data for LLY\n"
     ]
    },
    {
     "name": "stderr",
     "output_type": "stream",
     "text": [
      "[*********************100%***********************]  1 of 1 completed\n"
     ]
    },
    {
     "name": "stdout",
     "output_type": "stream",
     "text": [
      "✅ Hanging Man: 85/500\n",
      "✅ Hanging Man: 86/500\n",
      "✅ Hanging Man: 87/500\n",
      "✅ Head and Shoulders: 118/500\n",
      "✅ Head and Shoulders: 119/500\n",
      "✅ Head and Shoulders: 120/500\n",
      "✅ Ascending Triangle: 122/500\n",
      "✅ Shooting Star: 54/500\n"
     ]
    },
    {
     "name": "stderr",
     "output_type": "stream",
     "text": [
      "[*********************100%***********************]  1 of 1 completed"
     ]
    },
    {
     "name": "stdout",
     "output_type": "stream",
     "text": [
      "📈 Fetching data for PLTR\n",
      "✅ Head and Shoulders: 121/500\n"
     ]
    },
    {
     "name": "stderr",
     "output_type": "stream",
     "text": [
      "\n",
      "[*********************100%***********************]  1 of 1 completed"
     ]
    },
    {
     "name": "stdout",
     "output_type": "stream",
     "text": [
      "✅ Evening Star: 30/500\n",
      "📈 Fetching data for SNOW\n"
     ]
    },
    {
     "name": "stderr",
     "output_type": "stream",
     "text": [
      "\n",
      "[*********************100%***********************]  1 of 1 completed"
     ]
    },
    {
     "name": "stdout",
     "output_type": "stream",
     "text": [
      "✅ Descending Triangle: 57/500\n",
      "📈 Fetching data for SHOP\n"
     ]
    },
    {
     "name": "stderr",
     "output_type": "stream",
     "text": [
      "\n"
     ]
    },
    {
     "name": "stdout",
     "output_type": "stream",
     "text": [
      "✅ Morning Star: 135/500\n",
      "✅ Morning Star: 136/500\n",
      "✅ Morning Star: 137/500\n",
      "✅ Shooting Star: 55/500\n",
      "✅ Ascending Triangle: 123/500\n",
      "📈 Fetching data for RIVN\n"
     ]
    },
    {
     "name": "stderr",
     "output_type": "stream",
     "text": [
      "[*********************100%***********************]  1 of 1 completed\n",
      "[*********************100%***********************]  1 of 1 completed"
     ]
    },
    {
     "name": "stdout",
     "output_type": "stream",
     "text": [
      "✅ Descending Triangle: 58/500\n",
      "📈 Fetching data for UBER\n"
     ]
    },
    {
     "name": "stderr",
     "output_type": "stream",
     "text": [
      "\n"
     ]
    },
    {
     "name": "stdout",
     "output_type": "stream",
     "text": [
      "✅ Descending Triangle: 59/500\n"
     ]
    },
    {
     "name": "stderr",
     "output_type": "stream",
     "text": [
      "[*********************100%***********************]  1 of 1 completed"
     ]
    },
    {
     "name": "stdout",
     "output_type": "stream",
     "text": [
      "✅ Hanging Man: 88/500\n",
      "📈 Fetching data for SPY\n"
     ]
    },
    {
     "name": "stderr",
     "output_type": "stream",
     "text": [
      "\n"
     ]
    },
    {
     "name": "stdout",
     "output_type": "stream",
     "text": [
      "✅ Hanging Man: 89/500\n",
      "✅ Head and Shoulders: 122/500\n",
      "✅ Head and Shoulders: 123/500\n",
      "✅ Head and Shoulders: 124/500\n",
      "✅ Head and Shoulders: 125/500\n",
      "📈 Fetching data for QQQ\n"
     ]
    },
    {
     "name": "stderr",
     "output_type": "stream",
     "text": [
      "[*********************100%***********************]  1 of 1 completed\n"
     ]
    },
    {
     "name": "stdout",
     "output_type": "stream",
     "text": [
      "✅ Ascending Triangle: 124/500\n",
      "✅ Ascending Triangle: 125/500\n",
      "✅ Morning Star: 138/500\n",
      "✅ Hanging Man: 90/500\n",
      "✅ Hammer: 55/500\n",
      "✅ Descending Triangle: 60/500\n",
      "✅ Morning Star: 139/500\n",
      "✅ Morning Star: 140/500\n",
      "🔁 Pass 6 over symbols...\n",
      "📈 Fetching data for AAPL\n"
     ]
    },
    {
     "name": "stderr",
     "output_type": "stream",
     "text": [
      "[*********************100%***********************]  1 of 1 completed\n"
     ]
    },
    {
     "name": "stdout",
     "output_type": "stream",
     "text": [
      "✅ Hammer: 56/500\n",
      "✅ Descending Triangle: 61/500\n",
      "✅ Ascending Triangle: 126/500\n",
      "✅ Ascending Triangle: 127/500\n",
      "✅ Ascending Triangle: 128/500\n",
      "✅ Hanging Man: 91/500\n"
     ]
    },
    {
     "name": "stderr",
     "output_type": "stream",
     "text": [
      "[*********************100%***********************]  1 of 1 completed"
     ]
    },
    {
     "name": "stdout",
     "output_type": "stream",
     "text": [
      "📈 Fetching data for MSFT\n"
     ]
    },
    {
     "name": "stderr",
     "output_type": "stream",
     "text": [
      "\n"
     ]
    },
    {
     "name": "stdout",
     "output_type": "stream",
     "text": [
      "✅ Hammer: 57/500\n",
      "✅ Hammer: 58/500\n",
      "✅ Head and Shoulders: 126/500\n"
     ]
    },
    {
     "name": "stderr",
     "output_type": "stream",
     "text": [
      "[*********************100%***********************]  1 of 1 completed"
     ]
    },
    {
     "name": "stdout",
     "output_type": "stream",
     "text": [
      "📈 Fetching data for GOOGL\n"
     ]
    },
    {
     "name": "stderr",
     "output_type": "stream",
     "text": [
      "\n"
     ]
    },
    {
     "name": "stdout",
     "output_type": "stream",
     "text": [
      "✅ Morning Star: 141/500\n",
      "✅ Morning Star: 142/500\n",
      "📈 Fetching data for AMZN\n"
     ]
    },
    {
     "name": "stderr",
     "output_type": "stream",
     "text": [
      "[*********************100%***********************]  1 of 1 completed\n"
     ]
    },
    {
     "name": "stdout",
     "output_type": "stream",
     "text": [
      "✅ Morning Star: 143/500\n",
      "✅ Morning Star: 144/500\n",
      "✅ Descending Triangle: 62/500\n",
      "✅ Descending Triangle: 63/500\n"
     ]
    },
    {
     "name": "stderr",
     "output_type": "stream",
     "text": [
      "[*********************100%***********************]  1 of 1 completed"
     ]
    },
    {
     "name": "stdout",
     "output_type": "stream",
     "text": [
      "✅ Hammer: 59/500\n",
      "📈 Fetching data for META\n"
     ]
    },
    {
     "name": "stderr",
     "output_type": "stream",
     "text": [
      "\n"
     ]
    },
    {
     "name": "stdout",
     "output_type": "stream",
     "text": [
      "✅ Head and Shoulders: 127/500\n",
      "✅ Head and Shoulders: 128/500\n",
      "✅ Head and Shoulders: 129/500\n",
      "✅ Hanging Man: 92/500\n",
      "📈 Fetching data for NVDA\n"
     ]
    },
    {
     "name": "stderr",
     "output_type": "stream",
     "text": [
      "[*********************100%***********************]  1 of 1 completed\n"
     ]
    },
    {
     "name": "stdout",
     "output_type": "stream",
     "text": [
      "✅ Ascending Triangle: 129/500\n",
      "✅ Ascending Triangle: 130/500\n",
      "✅ Ascending Triangle: 131/500\n",
      "✅ Shooting Star: 56/500\n",
      "✅ Ascending Triangle: 132/500\n",
      "✅ Hanging Man: 93/500\n",
      "✅ Ascending Triangle: 133/500\n"
     ]
    },
    {
     "name": "stderr",
     "output_type": "stream",
     "text": [
      "[*********************100%***********************]  1 of 1 completed"
     ]
    },
    {
     "name": "stdout",
     "output_type": "stream",
     "text": [
      "✅ Ascending Triangle: 134/500\n",
      "📈 Fetching data for TSLA\n"
     ]
    },
    {
     "name": "stderr",
     "output_type": "stream",
     "text": [
      "\n"
     ]
    },
    {
     "name": "stdout",
     "output_type": "stream",
     "text": [
      "✅ Descending Triangle: 64/500\n",
      "✅ Ascending Triangle: 135/500\n",
      "✅ Shooting Star: 57/500\n"
     ]
    },
    {
     "name": "stderr",
     "output_type": "stream",
     "text": [
      "[*********************100%***********************]  1 of 1 completed"
     ]
    },
    {
     "name": "stdout",
     "output_type": "stream",
     "text": [
      "📈 Fetching data for NFLX\n"
     ]
    },
    {
     "name": "stderr",
     "output_type": "stream",
     "text": [
      "\n"
     ]
    },
    {
     "name": "stdout",
     "output_type": "stream",
     "text": [
      "✅ Morning Star: 145/500\n",
      "✅ Evening Star: 31/500\n",
      "✅ Evening Star: 32/500\n"
     ]
    },
    {
     "name": "stderr",
     "output_type": "stream",
     "text": [
      "[*********************100%***********************]  1 of 1 completed"
     ]
    },
    {
     "name": "stdout",
     "output_type": "stream",
     "text": [
      "✅ Head and Shoulders: 130/500\n",
      "📈 Fetching data for JPM\n"
     ]
    },
    {
     "name": "stderr",
     "output_type": "stream",
     "text": [
      "\n"
     ]
    },
    {
     "name": "stdout",
     "output_type": "stream",
     "text": [
      "✅ Evening Star: 33/500\n",
      "✅ Evening Star: 34/500\n",
      "✅ Head and Shoulders: 131/500\n",
      "✅ Shooting Star: 58/500\n"
     ]
    },
    {
     "name": "stderr",
     "output_type": "stream",
     "text": [
      "[*********************100%***********************]  1 of 1 completed"
     ]
    },
    {
     "name": "stdout",
     "output_type": "stream",
     "text": [
      "📈 Fetching data for BAC\n"
     ]
    },
    {
     "name": "stderr",
     "output_type": "stream",
     "text": [
      "\n"
     ]
    },
    {
     "name": "stdout",
     "output_type": "stream",
     "text": [
      "✅ Head and Shoulders: 132/500\n"
     ]
    },
    {
     "name": "stderr",
     "output_type": "stream",
     "text": [
      "[*********************100%***********************]  1 of 1 completed"
     ]
    },
    {
     "name": "stdout",
     "output_type": "stream",
     "text": [
      "📈 Fetching data for V\n"
     ]
    },
    {
     "name": "stderr",
     "output_type": "stream",
     "text": [
      "\n"
     ]
    },
    {
     "name": "stdout",
     "output_type": "stream",
     "text": [
      "✅ Ascending Triangle: 136/500\n",
      "✅ Ascending Triangle: 137/500\n"
     ]
    },
    {
     "name": "stderr",
     "output_type": "stream",
     "text": [
      "[*********************100%***********************]  1 of 1 completed"
     ]
    },
    {
     "name": "stdout",
     "output_type": "stream",
     "text": [
      "✅ Inverted Hammer: 6/500\n",
      "📈 Fetching data for MA\n"
     ]
    },
    {
     "name": "stderr",
     "output_type": "stream",
     "text": [
      "\n",
      "[*********************100%***********************]  1 of 1 completed"
     ]
    },
    {
     "name": "stdout",
     "output_type": "stream",
     "text": [
      "✅ Ascending Triangle: 138/500\n",
      "📈 Fetching data for SOFI\n"
     ]
    },
    {
     "name": "stderr",
     "output_type": "stream",
     "text": [
      "\n"
     ]
    },
    {
     "name": "stdout",
     "output_type": "stream",
     "text": [
      "✅ Ascending Triangle: 139/500\n",
      "✅ Ascending Triangle: 140/500\n"
     ]
    },
    {
     "name": "stderr",
     "output_type": "stream",
     "text": [
      "[*********************100%***********************]  1 of 1 completed"
     ]
    },
    {
     "name": "stdout",
     "output_type": "stream",
     "text": [
      "✅ Ascending Triangle: 141/500\n",
      "📈 Fetching data for COIN\n"
     ]
    },
    {
     "name": "stderr",
     "output_type": "stream",
     "text": [
      "\n"
     ]
    },
    {
     "name": "stdout",
     "output_type": "stream",
     "text": [
      "✅ Morning Star: 146/500\n",
      "✅ Morning Star: 147/500\n",
      "✅ Ascending Triangle: 142/500\n",
      "✅ Descending Triangle: 65/500\n",
      "✅ Descending Triangle: 66/500\n",
      "✅ Hanging Man: 94/500\n",
      "✅ Hanging Man: 95/500\n",
      "✅ Hanging Man: 96/500\n",
      "✅ Hanging Man: 97/500\n",
      "✅ Hanging Man: 98/500\n"
     ]
    },
    {
     "name": "stderr",
     "output_type": "stream",
     "text": [
      "[*********************100%***********************]  1 of 1 completed"
     ]
    },
    {
     "name": "stdout",
     "output_type": "stream",
     "text": [
      "📈 Fetching data for XOM\n"
     ]
    },
    {
     "name": "stderr",
     "output_type": "stream",
     "text": [
      "\n"
     ]
    },
    {
     "name": "stdout",
     "output_type": "stream",
     "text": [
      "✅ Shooting Star: 59/500\n",
      "✅ Morning Star: 148/500\n",
      "✅ Morning Star: 149/500\n",
      "✅ Head and Shoulders: 133/500\n",
      "📈 Fetching data for CVX\n"
     ]
    },
    {
     "name": "stderr",
     "output_type": "stream",
     "text": [
      "[*********************100%***********************]  1 of 1 completed\n"
     ]
    },
    {
     "name": "stdout",
     "output_type": "stream",
     "text": [
      "✅ Evening Star: 35/500\n"
     ]
    },
    {
     "name": "stderr",
     "output_type": "stream",
     "text": [
      "[*********************100%***********************]  1 of 1 completed"
     ]
    },
    {
     "name": "stdout",
     "output_type": "stream",
     "text": [
      "✅ Head and Shoulders: 134/500\n",
      "📈 Fetching data for BA\n"
     ]
    },
    {
     "name": "stderr",
     "output_type": "stream",
     "text": [
      "\n"
     ]
    },
    {
     "name": "stdout",
     "output_type": "stream",
     "text": [
      "✅ Descending Triangle: 67/500\n",
      "✅ Descending Triangle: 68/500\n",
      "✅ Morning Star: 150/500\n",
      "✅ Morning Star: 151/500\n",
      "✅ Morning Star: 152/500\n",
      "✅ Morning Star: 153/500\n",
      "✅ Morning Star: 154/500\n",
      "✅ Morning Star: 155/500\n",
      "✅ Morning Star: 156/500\n"
     ]
    },
    {
     "name": "stderr",
     "output_type": "stream",
     "text": [
      "[*********************100%***********************]  1 of 1 completed"
     ]
    },
    {
     "name": "stdout",
     "output_type": "stream",
     "text": [
      "✅ Morning Star: 157/500\n",
      "📈 Fetching data for CAT\n"
     ]
    },
    {
     "name": "stderr",
     "output_type": "stream",
     "text": [
      "\n"
     ]
    },
    {
     "name": "stdout",
     "output_type": "stream",
     "text": [
      "✅ Hammer: 60/500\n",
      "✅ Hammer: 61/500\n",
      "✅ Hammer: 62/500\n",
      "✅ Hammer: 63/500\n",
      "✅ Hammer: 64/500\n",
      "✅ Hammer: 65/500\n"
     ]
    },
    {
     "name": "stderr",
     "output_type": "stream",
     "text": [
      "[*********************100%***********************]  1 of 1 completed"
     ]
    },
    {
     "name": "stdout",
     "output_type": "stream",
     "text": [
      "✅ Shooting Star: 60/500\n",
      "📈 Fetching data for DE\n"
     ]
    },
    {
     "name": "stderr",
     "output_type": "stream",
     "text": [
      "\n"
     ]
    },
    {
     "name": "stdout",
     "output_type": "stream",
     "text": [
      "✅ Morning Star: 158/500\n",
      "✅ Shooting Star: 61/500\n",
      "✅ Shooting Star: 62/500\n",
      "✅ Shooting Star: 63/500\n",
      "✅ Ascending Triangle: 143/500\n",
      "✅ Ascending Triangle: 144/500\n",
      "✅ Head and Shoulders: 135/500\n",
      "✅ Head and Shoulders: 136/500\n",
      "✅ Head and Shoulders: 137/500\n",
      "✅ Head and Shoulders: 138/500\n",
      "📈 Fetching data for PFE\n"
     ]
    },
    {
     "name": "stderr",
     "output_type": "stream",
     "text": [
      "[*********************100%***********************]  1 of 1 completed\n"
     ]
    },
    {
     "name": "stdout",
     "output_type": "stream",
     "text": [
      "✅ Shooting Star: 64/500\n",
      "✅ Morning Star: 159/500\n",
      "✅ Morning Star: 160/500\n",
      "✅ Morning Star: 161/500\n",
      "✅ Morning Star: 162/500\n",
      "✅ Hanging Man: 99/500\n",
      "✅ Hanging Man: 100/500\n",
      "✅ Hanging Man: 101/500\n",
      "✅ Hanging Man: 102/500\n",
      "✅ Ascending Triangle: 145/500\n",
      "📈 Fetching data for JNJ\n"
     ]
    },
    {
     "name": "stderr",
     "output_type": "stream",
     "text": [
      "[*********************100%***********************]  1 of 1 completed\n"
     ]
    },
    {
     "name": "stdout",
     "output_type": "stream",
     "text": [
      "✅ Head and Shoulders: 139/500\n",
      "📈 Fetching data for MRK\n"
     ]
    },
    {
     "name": "stderr",
     "output_type": "stream",
     "text": [
      "[*********************100%***********************]  1 of 1 completed\n"
     ]
    },
    {
     "name": "stdout",
     "output_type": "stream",
     "text": [
      "✅ Ascending Triangle: 146/500\n",
      "✅ Head and Shoulders: 140/500\n",
      "✅ Head and Shoulders: 141/500\n",
      "✅ Head and Shoulders: 142/500\n",
      "📈 Fetching data for LLY\n"
     ]
    },
    {
     "name": "stderr",
     "output_type": "stream",
     "text": [
      "[*********************100%***********************]  1 of 1 completed\n"
     ]
    },
    {
     "name": "stdout",
     "output_type": "stream",
     "text": [
      "✅ Hanging Man: 103/500\n",
      "✅ Hanging Man: 104/500\n",
      "✅ Hanging Man: 105/500\n",
      "✅ Head and Shoulders: 143/500\n",
      "✅ Head and Shoulders: 144/500\n",
      "✅ Head and Shoulders: 145/500\n",
      "✅ Ascending Triangle: 147/500\n"
     ]
    },
    {
     "name": "stderr",
     "output_type": "stream",
     "text": [
      "[*********************100%***********************]  1 of 1 completed"
     ]
    },
    {
     "name": "stdout",
     "output_type": "stream",
     "text": [
      "✅ Shooting Star: 65/500\n",
      "📈 Fetching data for PLTR\n"
     ]
    },
    {
     "name": "stderr",
     "output_type": "stream",
     "text": [
      "\n"
     ]
    },
    {
     "name": "stdout",
     "output_type": "stream",
     "text": [
      "✅ Head and Shoulders: 146/500\n"
     ]
    },
    {
     "name": "stderr",
     "output_type": "stream",
     "text": [
      "[*********************100%***********************]  1 of 1 completed"
     ]
    },
    {
     "name": "stdout",
     "output_type": "stream",
     "text": [
      "✅ Evening Star: 36/500\n",
      "📈 Fetching data for SNOW\n"
     ]
    },
    {
     "name": "stderr",
     "output_type": "stream",
     "text": [
      "\n",
      "[*********************100%***********************]  1 of 1 completed"
     ]
    },
    {
     "name": "stdout",
     "output_type": "stream",
     "text": [
      "✅ Descending Triangle: 69/500\n",
      "📈 Fetching data for SHOP\n"
     ]
    },
    {
     "name": "stderr",
     "output_type": "stream",
     "text": [
      "\n"
     ]
    },
    {
     "name": "stdout",
     "output_type": "stream",
     "text": [
      "✅ Morning Star: 163/500\n",
      "✅ Morning Star: 164/500\n",
      "✅ Morning Star: 165/500\n",
      "✅ Shooting Star: 66/500\n",
      "✅ Ascending Triangle: 148/500\n",
      "📈 Fetching data for RIVN\n"
     ]
    },
    {
     "name": "stderr",
     "output_type": "stream",
     "text": [
      "[*********************100%***********************]  1 of 1 completed\n",
      "[*********************100%***********************]  1 of 1 completed"
     ]
    },
    {
     "name": "stdout",
     "output_type": "stream",
     "text": [
      "✅ Descending Triangle: 70/500\n",
      "📈 Fetching data for UBER\n"
     ]
    },
    {
     "name": "stderr",
     "output_type": "stream",
     "text": [
      "\n"
     ]
    },
    {
     "name": "stdout",
     "output_type": "stream",
     "text": [
      "✅ Descending Triangle: 71/500\n"
     ]
    },
    {
     "name": "stderr",
     "output_type": "stream",
     "text": [
      "[*********************100%***********************]  1 of 1 completed"
     ]
    },
    {
     "name": "stdout",
     "output_type": "stream",
     "text": [
      "✅ Hanging Man: 106/500\n",
      "📈 Fetching data for SPY\n"
     ]
    },
    {
     "name": "stderr",
     "output_type": "stream",
     "text": [
      "\n"
     ]
    },
    {
     "name": "stdout",
     "output_type": "stream",
     "text": [
      "✅ Hanging Man: 107/500\n",
      "✅ Head and Shoulders: 147/500\n",
      "✅ Head and Shoulders: 148/500\n",
      "✅ Head and Shoulders: 149/500\n",
      "✅ Head and Shoulders: 150/500\n",
      "📈 Fetching data for QQQ\n"
     ]
    },
    {
     "name": "stderr",
     "output_type": "stream",
     "text": [
      "[*********************100%***********************]  1 of 1 completed\n"
     ]
    },
    {
     "name": "stdout",
     "output_type": "stream",
     "text": [
      "✅ Ascending Triangle: 149/500\n",
      "✅ Ascending Triangle: 150/500\n",
      "✅ Morning Star: 166/500\n",
      "✅ Hanging Man: 108/500\n",
      "✅ Hammer: 66/500\n",
      "✅ Descending Triangle: 72/500\n",
      "✅ Morning Star: 167/500\n",
      "✅ Morning Star: 168/500\n",
      "🔁 Pass 7 over symbols...\n",
      "📈 Fetching data for AAPL\n"
     ]
    },
    {
     "name": "stderr",
     "output_type": "stream",
     "text": [
      "[*********************100%***********************]  1 of 1 completed\n"
     ]
    },
    {
     "name": "stdout",
     "output_type": "stream",
     "text": [
      "✅ Hammer: 67/500\n",
      "✅ Descending Triangle: 73/500\n",
      "✅ Ascending Triangle: 151/500\n",
      "✅ Ascending Triangle: 152/500\n",
      "✅ Ascending Triangle: 153/500\n",
      "✅ Hanging Man: 109/500\n"
     ]
    },
    {
     "name": "stderr",
     "output_type": "stream",
     "text": [
      "[*********************100%***********************]  1 of 1 completed"
     ]
    },
    {
     "name": "stdout",
     "output_type": "stream",
     "text": [
      "📈 Fetching data for MSFT\n"
     ]
    },
    {
     "name": "stderr",
     "output_type": "stream",
     "text": [
      "\n"
     ]
    },
    {
     "name": "stdout",
     "output_type": "stream",
     "text": [
      "✅ Hammer: 68/500\n",
      "✅ Hammer: 69/500\n"
     ]
    },
    {
     "name": "stderr",
     "output_type": "stream",
     "text": [
      "[*********************100%***********************]  1 of 1 completed"
     ]
    },
    {
     "name": "stdout",
     "output_type": "stream",
     "text": [
      "✅ Head and Shoulders: 151/500\n",
      "📈 Fetching data for GOOGL\n"
     ]
    },
    {
     "name": "stderr",
     "output_type": "stream",
     "text": [
      "\n"
     ]
    },
    {
     "name": "stdout",
     "output_type": "stream",
     "text": [
      "✅ Morning Star: 169/500\n",
      "✅ Morning Star: 170/500\n"
     ]
    },
    {
     "name": "stderr",
     "output_type": "stream",
     "text": [
      "[*********************100%***********************]  1 of 1 completed"
     ]
    },
    {
     "name": "stdout",
     "output_type": "stream",
     "text": [
      "📈 Fetching data for AMZN\n"
     ]
    },
    {
     "name": "stderr",
     "output_type": "stream",
     "text": [
      "\n"
     ]
    },
    {
     "name": "stdout",
     "output_type": "stream",
     "text": [
      "✅ Morning Star: 171/500\n",
      "✅ Morning Star: 172/500\n",
      "✅ Descending Triangle: 74/500\n",
      "✅ Descending Triangle: 75/500\n"
     ]
    },
    {
     "name": "stderr",
     "output_type": "stream",
     "text": [
      "[*********************100%***********************]  1 of 1 completed"
     ]
    },
    {
     "name": "stdout",
     "output_type": "stream",
     "text": [
      "✅ Hammer: 70/500\n",
      "📈 Fetching data for META\n"
     ]
    },
    {
     "name": "stderr",
     "output_type": "stream",
     "text": [
      "\n"
     ]
    },
    {
     "name": "stdout",
     "output_type": "stream",
     "text": [
      "✅ Head and Shoulders: 152/500\n",
      "✅ Head and Shoulders: 153/500\n",
      "✅ Head and Shoulders: 154/500\n",
      "✅ Hanging Man: 110/500\n",
      "📈 Fetching data for NVDA\n"
     ]
    },
    {
     "name": "stderr",
     "output_type": "stream",
     "text": [
      "[*********************100%***********************]  1 of 1 completed\n"
     ]
    },
    {
     "name": "stdout",
     "output_type": "stream",
     "text": [
      "✅ Ascending Triangle: 154/500\n",
      "✅ Ascending Triangle: 155/500\n",
      "✅ Ascending Triangle: 156/500\n",
      "✅ Shooting Star: 67/500\n",
      "✅ Ascending Triangle: 157/500\n",
      "✅ Hanging Man: 111/500\n",
      "✅ Ascending Triangle: 158/500\n"
     ]
    },
    {
     "name": "stderr",
     "output_type": "stream",
     "text": [
      "[*********************100%***********************]  1 of 1 completed"
     ]
    },
    {
     "name": "stdout",
     "output_type": "stream",
     "text": [
      "✅ Ascending Triangle: 159/500\n",
      "📈 Fetching data for TSLA\n"
     ]
    },
    {
     "name": "stderr",
     "output_type": "stream",
     "text": [
      "\n"
     ]
    },
    {
     "name": "stdout",
     "output_type": "stream",
     "text": [
      "✅ Descending Triangle: 76/500\n",
      "✅ Ascending Triangle: 160/500\n",
      "✅ Shooting Star: 68/500\n"
     ]
    },
    {
     "name": "stderr",
     "output_type": "stream",
     "text": [
      "[*********************100%***********************]  1 of 1 completed"
     ]
    },
    {
     "name": "stdout",
     "output_type": "stream",
     "text": [
      "📈 Fetching data for NFLX\n"
     ]
    },
    {
     "name": "stderr",
     "output_type": "stream",
     "text": [
      "\n"
     ]
    },
    {
     "name": "stdout",
     "output_type": "stream",
     "text": [
      "✅ Morning Star: 173/500\n",
      "✅ Evening Star: 37/500\n",
      "✅ Evening Star: 38/500\n"
     ]
    },
    {
     "name": "stderr",
     "output_type": "stream",
     "text": [
      "[*********************100%***********************]  1 of 1 completed"
     ]
    },
    {
     "name": "stdout",
     "output_type": "stream",
     "text": [
      "✅ Head and Shoulders: 155/500\n",
      "📈 Fetching data for JPM\n"
     ]
    },
    {
     "name": "stderr",
     "output_type": "stream",
     "text": [
      "\n"
     ]
    },
    {
     "name": "stdout",
     "output_type": "stream",
     "text": [
      "✅ Evening Star: 39/500\n",
      "✅ Evening Star: 40/500\n",
      "✅ Head and Shoulders: 156/500\n",
      "✅ Shooting Star: 69/500\n"
     ]
    },
    {
     "name": "stderr",
     "output_type": "stream",
     "text": [
      "[*********************100%***********************]  1 of 1 completed"
     ]
    },
    {
     "name": "stdout",
     "output_type": "stream",
     "text": [
      "📈 Fetching data for BAC\n"
     ]
    },
    {
     "name": "stderr",
     "output_type": "stream",
     "text": [
      "\n"
     ]
    },
    {
     "name": "stdout",
     "output_type": "stream",
     "text": [
      "✅ Head and Shoulders: 157/500\n"
     ]
    },
    {
     "name": "stderr",
     "output_type": "stream",
     "text": [
      "[*********************100%***********************]  1 of 1 completed"
     ]
    },
    {
     "name": "stdout",
     "output_type": "stream",
     "text": [
      "📈 Fetching data for V\n"
     ]
    },
    {
     "name": "stderr",
     "output_type": "stream",
     "text": [
      "\n"
     ]
    },
    {
     "name": "stdout",
     "output_type": "stream",
     "text": [
      "✅ Ascending Triangle: 161/500\n",
      "✅ Ascending Triangle: 162/500\n"
     ]
    },
    {
     "name": "stderr",
     "output_type": "stream",
     "text": [
      "[*********************100%***********************]  1 of 1 completed"
     ]
    },
    {
     "name": "stdout",
     "output_type": "stream",
     "text": [
      "✅ Inverted Hammer: 7/500\n",
      "📈 Fetching data for MA\n"
     ]
    },
    {
     "name": "stderr",
     "output_type": "stream",
     "text": [
      "\n",
      "[*********************100%***********************]  1 of 1 completed"
     ]
    },
    {
     "name": "stdout",
     "output_type": "stream",
     "text": [
      "✅ Ascending Triangle: 163/500\n",
      "📈 Fetching data for SOFI\n"
     ]
    },
    {
     "name": "stderr",
     "output_type": "stream",
     "text": [
      "\n"
     ]
    },
    {
     "name": "stdout",
     "output_type": "stream",
     "text": [
      "✅ Ascending Triangle: 164/500\n",
      "✅ Ascending Triangle: 165/500\n"
     ]
    },
    {
     "name": "stderr",
     "output_type": "stream",
     "text": [
      "[*********************100%***********************]  1 of 1 completed"
     ]
    },
    {
     "name": "stdout",
     "output_type": "stream",
     "text": [
      "✅ Ascending Triangle: 166/500\n",
      "📈 Fetching data for COIN\n"
     ]
    },
    {
     "name": "stderr",
     "output_type": "stream",
     "text": [
      "\n"
     ]
    },
    {
     "name": "stdout",
     "output_type": "stream",
     "text": [
      "✅ Morning Star: 174/500\n",
      "✅ Morning Star: 175/500\n",
      "✅ Ascending Triangle: 167/500\n",
      "✅ Descending Triangle: 77/500\n",
      "✅ Descending Triangle: 78/500\n",
      "✅ Hanging Man: 112/500\n",
      "✅ Hanging Man: 113/500\n",
      "✅ Hanging Man: 114/500\n",
      "✅ Hanging Man: 115/500\n",
      "✅ Hanging Man: 116/500\n"
     ]
    },
    {
     "name": "stderr",
     "output_type": "stream",
     "text": [
      "[*********************100%***********************]  1 of 1 completed"
     ]
    },
    {
     "name": "stdout",
     "output_type": "stream",
     "text": [
      "📈 Fetching data for XOM\n"
     ]
    },
    {
     "name": "stderr",
     "output_type": "stream",
     "text": [
      "\n"
     ]
    },
    {
     "name": "stdout",
     "output_type": "stream",
     "text": [
      "✅ Shooting Star: 70/500\n",
      "✅ Morning Star: 176/500\n",
      "✅ Morning Star: 177/500\n"
     ]
    },
    {
     "name": "stderr",
     "output_type": "stream",
     "text": [
      "[*********************100%***********************]  1 of 1 completed"
     ]
    },
    {
     "name": "stdout",
     "output_type": "stream",
     "text": [
      "✅ Head and Shoulders: 158/500\n",
      "📈 Fetching data for CVX\n"
     ]
    },
    {
     "name": "stderr",
     "output_type": "stream",
     "text": [
      "\n"
     ]
    },
    {
     "name": "stdout",
     "output_type": "stream",
     "text": [
      "✅ Evening Star: 41/500\n"
     ]
    },
    {
     "name": "stderr",
     "output_type": "stream",
     "text": [
      "[*********************100%***********************]  1 of 1 completed"
     ]
    },
    {
     "name": "stdout",
     "output_type": "stream",
     "text": [
      "✅ Head and Shoulders: 159/500\n",
      "📈 Fetching data for BA\n"
     ]
    },
    {
     "name": "stderr",
     "output_type": "stream",
     "text": [
      "\n"
     ]
    },
    {
     "name": "stdout",
     "output_type": "stream",
     "text": [
      "✅ Descending Triangle: 79/500\n",
      "✅ Descending Triangle: 80/500\n",
      "✅ Morning Star: 178/500\n",
      "✅ Morning Star: 179/500\n",
      "✅ Morning Star: 180/500\n",
      "✅ Morning Star: 181/500\n",
      "✅ Morning Star: 182/500\n",
      "✅ Morning Star: 183/500\n",
      "✅ Morning Star: 184/500\n"
     ]
    },
    {
     "name": "stderr",
     "output_type": "stream",
     "text": [
      "[*********************100%***********************]  1 of 1 completed"
     ]
    },
    {
     "name": "stdout",
     "output_type": "stream",
     "text": [
      "✅ Morning Star: 185/500\n",
      "📈 Fetching data for CAT\n"
     ]
    },
    {
     "name": "stderr",
     "output_type": "stream",
     "text": [
      "\n"
     ]
    },
    {
     "name": "stdout",
     "output_type": "stream",
     "text": [
      "✅ Hammer: 71/500\n",
      "✅ Hammer: 72/500\n",
      "✅ Hammer: 73/500\n",
      "✅ Hammer: 74/500\n",
      "✅ Hammer: 75/500\n",
      "✅ Hammer: 76/500\n"
     ]
    },
    {
     "name": "stderr",
     "output_type": "stream",
     "text": [
      "[*********************100%***********************]  1 of 1 completed"
     ]
    },
    {
     "name": "stdout",
     "output_type": "stream",
     "text": [
      "✅ Shooting Star: 71/500\n",
      "📈 Fetching data for DE\n"
     ]
    },
    {
     "name": "stderr",
     "output_type": "stream",
     "text": [
      "\n"
     ]
    },
    {
     "name": "stdout",
     "output_type": "stream",
     "text": [
      "✅ Morning Star: 186/500\n",
      "✅ Shooting Star: 72/500\n",
      "✅ Shooting Star: 73/500\n",
      "✅ Shooting Star: 74/500\n",
      "✅ Ascending Triangle: 168/500\n",
      "✅ Ascending Triangle: 169/500\n",
      "✅ Head and Shoulders: 160/500\n",
      "✅ Head and Shoulders: 161/500\n",
      "✅ Head and Shoulders: 162/500\n",
      "✅ Head and Shoulders: 163/500\n",
      "📈 Fetching data for PFE\n"
     ]
    },
    {
     "name": "stderr",
     "output_type": "stream",
     "text": [
      "[*********************100%***********************]  1 of 1 completed\n"
     ]
    },
    {
     "name": "stdout",
     "output_type": "stream",
     "text": [
      "✅ Shooting Star: 75/500\n",
      "✅ Morning Star: 187/500\n",
      "✅ Morning Star: 188/500\n",
      "✅ Morning Star: 189/500\n",
      "✅ Morning Star: 190/500\n",
      "✅ Hanging Man: 117/500\n",
      "✅ Hanging Man: 118/500\n",
      "✅ Hanging Man: 119/500\n",
      "✅ Hanging Man: 120/500\n",
      "✅ Ascending Triangle: 170/500\n",
      "📈 Fetching data for JNJ\n"
     ]
    },
    {
     "name": "stderr",
     "output_type": "stream",
     "text": [
      "[*********************100%***********************]  1 of 1 completed\n"
     ]
    },
    {
     "name": "stdout",
     "output_type": "stream",
     "text": [
      "✅ Head and Shoulders: 164/500\n",
      "📈 Fetching data for MRK\n"
     ]
    },
    {
     "name": "stderr",
     "output_type": "stream",
     "text": [
      "[*********************100%***********************]  1 of 1 completed\n"
     ]
    },
    {
     "name": "stdout",
     "output_type": "stream",
     "text": [
      "✅ Ascending Triangle: 171/500\n",
      "✅ Head and Shoulders: 165/500\n",
      "✅ Head and Shoulders: 166/500\n",
      "✅ Head and Shoulders: 167/500\n"
     ]
    },
    {
     "name": "stderr",
     "output_type": "stream",
     "text": [
      "[*********************100%***********************]  1 of 1 completed"
     ]
    },
    {
     "name": "stdout",
     "output_type": "stream",
     "text": [
      "📈 Fetching data for LLY\n"
     ]
    },
    {
     "name": "stderr",
     "output_type": "stream",
     "text": [
      "\n"
     ]
    },
    {
     "name": "stdout",
     "output_type": "stream",
     "text": [
      "✅ Hanging Man: 121/500\n",
      "✅ Hanging Man: 122/500\n",
      "✅ Hanging Man: 123/500\n",
      "✅ Head and Shoulders: 168/500\n",
      "✅ Head and Shoulders: 169/500\n",
      "✅ Head and Shoulders: 170/500\n",
      "✅ Ascending Triangle: 172/500\n",
      "✅ Shooting Star: 76/500\n"
     ]
    },
    {
     "name": "stderr",
     "output_type": "stream",
     "text": [
      "[*********************100%***********************]  1 of 1 completed"
     ]
    },
    {
     "name": "stdout",
     "output_type": "stream",
     "text": [
      "📈 Fetching data for PLTR\n"
     ]
    },
    {
     "name": "stderr",
     "output_type": "stream",
     "text": [
      "\n"
     ]
    },
    {
     "name": "stdout",
     "output_type": "stream",
     "text": [
      "✅ Head and Shoulders: 171/500\n"
     ]
    },
    {
     "name": "stderr",
     "output_type": "stream",
     "text": [
      "[*********************100%***********************]  1 of 1 completed"
     ]
    },
    {
     "name": "stdout",
     "output_type": "stream",
     "text": [
      "✅ Evening Star: 42/500\n",
      "📈 Fetching data for SNOW\n"
     ]
    },
    {
     "name": "stderr",
     "output_type": "stream",
     "text": [
      "\n",
      "[*********************100%***********************]  1 of 1 completed"
     ]
    },
    {
     "name": "stdout",
     "output_type": "stream",
     "text": [
      "✅ Descending Triangle: 81/500\n",
      "📈 Fetching data for SHOP\n"
     ]
    },
    {
     "name": "stderr",
     "output_type": "stream",
     "text": [
      "\n"
     ]
    },
    {
     "name": "stdout",
     "output_type": "stream",
     "text": [
      "✅ Morning Star: 191/500\n",
      "✅ Morning Star: 192/500\n",
      "✅ Morning Star: 193/500\n",
      "✅ Shooting Star: 77/500\n"
     ]
    },
    {
     "name": "stderr",
     "output_type": "stream",
     "text": [
      "[*********************100%***********************]  1 of 1 completed"
     ]
    },
    {
     "name": "stdout",
     "output_type": "stream",
     "text": [
      "✅ Ascending Triangle: 173/500\n",
      "📈 Fetching data for RIVN\n"
     ]
    },
    {
     "name": "stderr",
     "output_type": "stream",
     "text": [
      "\n",
      "[*********************100%***********************]  1 of 1 completed"
     ]
    },
    {
     "name": "stdout",
     "output_type": "stream",
     "text": [
      "✅ Descending Triangle: 82/500\n",
      "📈 Fetching data for UBER\n"
     ]
    },
    {
     "name": "stderr",
     "output_type": "stream",
     "text": [
      "\n"
     ]
    },
    {
     "name": "stdout",
     "output_type": "stream",
     "text": [
      "✅ Descending Triangle: 83/500\n",
      "✅ Hanging Man: 124/500\n",
      "📈 Fetching data for SPY\n"
     ]
    },
    {
     "name": "stderr",
     "output_type": "stream",
     "text": [
      "[*********************100%***********************]  1 of 1 completed\n"
     ]
    },
    {
     "name": "stdout",
     "output_type": "stream",
     "text": [
      "✅ Hanging Man: 125/500\n",
      "✅ Head and Shoulders: 172/500\n",
      "✅ Head and Shoulders: 173/500\n",
      "✅ Head and Shoulders: 174/500\n",
      "✅ Head and Shoulders: 175/500\n"
     ]
    },
    {
     "name": "stderr",
     "output_type": "stream",
     "text": [
      "[*********************100%***********************]  1 of 1 completed"
     ]
    },
    {
     "name": "stdout",
     "output_type": "stream",
     "text": [
      "📈 Fetching data for QQQ\n"
     ]
    },
    {
     "name": "stderr",
     "output_type": "stream",
     "text": [
      "\n"
     ]
    },
    {
     "name": "stdout",
     "output_type": "stream",
     "text": [
      "✅ Ascending Triangle: 174/500\n",
      "✅ Ascending Triangle: 175/500\n",
      "✅ Morning Star: 194/500\n",
      "✅ Hanging Man: 126/500\n",
      "✅ Hammer: 77/500\n",
      "✅ Descending Triangle: 84/500\n",
      "✅ Morning Star: 195/500\n",
      "✅ Morning Star: 196/500\n",
      "🔁 Pass 8 over symbols...\n",
      "📈 Fetching data for AAPL\n"
     ]
    },
    {
     "name": "stderr",
     "output_type": "stream",
     "text": [
      "[*********************100%***********************]  1 of 1 completed\n"
     ]
    },
    {
     "name": "stdout",
     "output_type": "stream",
     "text": [
      "✅ Hammer: 78/500\n",
      "✅ Descending Triangle: 85/500\n",
      "✅ Ascending Triangle: 176/500\n",
      "✅ Ascending Triangle: 177/500\n",
      "✅ Ascending Triangle: 178/500\n",
      "✅ Hanging Man: 127/500\n"
     ]
    },
    {
     "name": "stderr",
     "output_type": "stream",
     "text": [
      "[*********************100%***********************]  1 of 1 completed"
     ]
    },
    {
     "name": "stdout",
     "output_type": "stream",
     "text": [
      "📈 Fetching data for MSFT\n"
     ]
    },
    {
     "name": "stderr",
     "output_type": "stream",
     "text": [
      "\n"
     ]
    },
    {
     "name": "stdout",
     "output_type": "stream",
     "text": [
      "✅ Hammer: 79/500\n",
      "✅ Hammer: 80/500\n",
      "✅ Head and Shoulders: 176/500\n"
     ]
    },
    {
     "name": "stderr",
     "output_type": "stream",
     "text": [
      "[*********************100%***********************]  1 of 1 completed"
     ]
    },
    {
     "name": "stdout",
     "output_type": "stream",
     "text": [
      "📈 Fetching data for GOOGL\n"
     ]
    },
    {
     "name": "stderr",
     "output_type": "stream",
     "text": [
      "\n"
     ]
    },
    {
     "name": "stdout",
     "output_type": "stream",
     "text": [
      "✅ Morning Star: 197/500\n",
      "✅ Morning Star: 198/500\n"
     ]
    },
    {
     "name": "stderr",
     "output_type": "stream",
     "text": [
      "[*********************100%***********************]  1 of 1 completed"
     ]
    },
    {
     "name": "stdout",
     "output_type": "stream",
     "text": [
      "📈 Fetching data for AMZN\n"
     ]
    },
    {
     "name": "stderr",
     "output_type": "stream",
     "text": [
      "\n"
     ]
    },
    {
     "name": "stdout",
     "output_type": "stream",
     "text": [
      "✅ Morning Star: 199/500\n",
      "✅ Morning Star: 200/500\n",
      "✅ Descending Triangle: 86/500\n",
      "✅ Descending Triangle: 87/500\n"
     ]
    },
    {
     "name": "stderr",
     "output_type": "stream",
     "text": [
      "[*********************100%***********************]  1 of 1 completed"
     ]
    },
    {
     "name": "stdout",
     "output_type": "stream",
     "text": [
      "✅ Hammer: 81/500\n",
      "📈 Fetching data for META\n"
     ]
    },
    {
     "name": "stderr",
     "output_type": "stream",
     "text": [
      "\n"
     ]
    },
    {
     "name": "stdout",
     "output_type": "stream",
     "text": [
      "✅ Head and Shoulders: 177/500\n",
      "✅ Head and Shoulders: 178/500\n",
      "✅ Head and Shoulders: 179/500\n",
      "✅ Hanging Man: 128/500\n",
      "📈 Fetching data for NVDA\n"
     ]
    },
    {
     "name": "stderr",
     "output_type": "stream",
     "text": [
      "[*********************100%***********************]  1 of 1 completed\n"
     ]
    },
    {
     "name": "stdout",
     "output_type": "stream",
     "text": [
      "✅ Ascending Triangle: 179/500\n",
      "✅ Ascending Triangle: 180/500\n",
      "✅ Ascending Triangle: 181/500\n",
      "✅ Shooting Star: 78/500\n",
      "✅ Ascending Triangle: 182/500\n",
      "✅ Hanging Man: 129/500\n",
      "✅ Ascending Triangle: 183/500\n"
     ]
    },
    {
     "name": "stderr",
     "output_type": "stream",
     "text": [
      "[*********************100%***********************]  1 of 1 completed"
     ]
    },
    {
     "name": "stdout",
     "output_type": "stream",
     "text": [
      "✅ Ascending Triangle: 184/500\n",
      "📈 Fetching data for TSLA\n"
     ]
    },
    {
     "name": "stderr",
     "output_type": "stream",
     "text": [
      "\n"
     ]
    },
    {
     "name": "stdout",
     "output_type": "stream",
     "text": [
      "✅ Descending Triangle: 88/500\n",
      "✅ Ascending Triangle: 185/500\n",
      "✅ Shooting Star: 79/500\n"
     ]
    },
    {
     "name": "stderr",
     "output_type": "stream",
     "text": [
      "[*********************100%***********************]  1 of 1 completed"
     ]
    },
    {
     "name": "stdout",
     "output_type": "stream",
     "text": [
      "📈 Fetching data for NFLX\n"
     ]
    },
    {
     "name": "stderr",
     "output_type": "stream",
     "text": [
      "\n"
     ]
    },
    {
     "name": "stdout",
     "output_type": "stream",
     "text": [
      "✅ Morning Star: 201/500\n",
      "✅ Evening Star: 43/500\n",
      "✅ Evening Star: 44/500\n"
     ]
    },
    {
     "name": "stderr",
     "output_type": "stream",
     "text": [
      "[*********************100%***********************]  1 of 1 completed"
     ]
    },
    {
     "name": "stdout",
     "output_type": "stream",
     "text": [
      "✅ Head and Shoulders: 180/500\n",
      "📈 Fetching data for JPM\n"
     ]
    },
    {
     "name": "stderr",
     "output_type": "stream",
     "text": [
      "\n"
     ]
    },
    {
     "name": "stdout",
     "output_type": "stream",
     "text": [
      "✅ Evening Star: 45/500\n",
      "✅ Evening Star: 46/500\n",
      "✅ Head and Shoulders: 181/500\n",
      "✅ Shooting Star: 80/500\n"
     ]
    },
    {
     "name": "stderr",
     "output_type": "stream",
     "text": [
      "[*********************100%***********************]  1 of 1 completed"
     ]
    },
    {
     "name": "stdout",
     "output_type": "stream",
     "text": [
      "📈 Fetching data for BAC\n"
     ]
    },
    {
     "name": "stderr",
     "output_type": "stream",
     "text": [
      "\n"
     ]
    },
    {
     "name": "stdout",
     "output_type": "stream",
     "text": [
      "✅ Head and Shoulders: 182/500\n"
     ]
    },
    {
     "name": "stderr",
     "output_type": "stream",
     "text": [
      "[*********************100%***********************]  1 of 1 completed"
     ]
    },
    {
     "name": "stdout",
     "output_type": "stream",
     "text": [
      "📈 Fetching data for V\n"
     ]
    },
    {
     "name": "stderr",
     "output_type": "stream",
     "text": [
      "\n"
     ]
    },
    {
     "name": "stdout",
     "output_type": "stream",
     "text": [
      "✅ Ascending Triangle: 186/500\n",
      "✅ Ascending Triangle: 187/500\n"
     ]
    },
    {
     "name": "stderr",
     "output_type": "stream",
     "text": [
      "[*********************100%***********************]  1 of 1 completed"
     ]
    },
    {
     "name": "stdout",
     "output_type": "stream",
     "text": [
      "✅ Inverted Hammer: 8/500\n",
      "📈 Fetching data for MA\n"
     ]
    },
    {
     "name": "stderr",
     "output_type": "stream",
     "text": [
      "\n",
      "[*********************100%***********************]  1 of 1 completed"
     ]
    },
    {
     "name": "stdout",
     "output_type": "stream",
     "text": [
      "✅ Ascending Triangle: 188/500\n",
      "📈 Fetching data for SOFI\n"
     ]
    },
    {
     "name": "stderr",
     "output_type": "stream",
     "text": [
      "\n"
     ]
    },
    {
     "name": "stdout",
     "output_type": "stream",
     "text": [
      "✅ Ascending Triangle: 189/500\n",
      "✅ Ascending Triangle: 190/500\n",
      "✅ Ascending Triangle: 191/500\n"
     ]
    },
    {
     "name": "stderr",
     "output_type": "stream",
     "text": [
      "[*********************100%***********************]  1 of 1 completed"
     ]
    },
    {
     "name": "stdout",
     "output_type": "stream",
     "text": [
      "📈 Fetching data for COIN\n"
     ]
    },
    {
     "name": "stderr",
     "output_type": "stream",
     "text": [
      "\n"
     ]
    },
    {
     "name": "stdout",
     "output_type": "stream",
     "text": [
      "✅ Morning Star: 202/500\n",
      "✅ Morning Star: 203/500\n",
      "✅ Ascending Triangle: 192/500\n",
      "✅ Descending Triangle: 89/500\n",
      "✅ Descending Triangle: 90/500\n",
      "✅ Hanging Man: 130/500\n",
      "✅ Hanging Man: 131/500\n",
      "✅ Hanging Man: 132/500\n",
      "✅ Hanging Man: 133/500\n",
      "✅ Hanging Man: 134/500\n"
     ]
    },
    {
     "name": "stderr",
     "output_type": "stream",
     "text": [
      "[*********************100%***********************]  1 of 1 completed"
     ]
    },
    {
     "name": "stdout",
     "output_type": "stream",
     "text": [
      "📈 Fetching data for XOM\n"
     ]
    },
    {
     "name": "stderr",
     "output_type": "stream",
     "text": [
      "\n"
     ]
    },
    {
     "name": "stdout",
     "output_type": "stream",
     "text": [
      "✅ Shooting Star: 81/500\n",
      "✅ Morning Star: 204/500\n",
      "✅ Morning Star: 205/500\n"
     ]
    },
    {
     "name": "stderr",
     "output_type": "stream",
     "text": [
      "[*********************100%***********************]  1 of 1 completed"
     ]
    },
    {
     "name": "stdout",
     "output_type": "stream",
     "text": [
      "✅ Head and Shoulders: 183/500\n",
      "📈 Fetching data for CVX\n"
     ]
    },
    {
     "name": "stderr",
     "output_type": "stream",
     "text": [
      "\n"
     ]
    },
    {
     "name": "stdout",
     "output_type": "stream",
     "text": [
      "✅ Evening Star: 47/500\n"
     ]
    },
    {
     "name": "stderr",
     "output_type": "stream",
     "text": [
      "[*********************100%***********************]  1 of 1 completed"
     ]
    },
    {
     "name": "stdout",
     "output_type": "stream",
     "text": [
      "✅ Head and Shoulders: 184/500\n",
      "📈 Fetching data for BA\n"
     ]
    },
    {
     "name": "stderr",
     "output_type": "stream",
     "text": [
      "\n"
     ]
    },
    {
     "name": "stdout",
     "output_type": "stream",
     "text": [
      "✅ Descending Triangle: 91/500\n",
      "✅ Descending Triangle: 92/500\n",
      "✅ Morning Star: 206/500\n",
      "✅ Morning Star: 207/500\n",
      "✅ Morning Star: 208/500\n",
      "✅ Morning Star: 209/500\n",
      "✅ Morning Star: 210/500\n",
      "✅ Morning Star: 211/500\n",
      "✅ Morning Star: 212/500\n"
     ]
    },
    {
     "name": "stderr",
     "output_type": "stream",
     "text": [
      "[*********************100%***********************]  1 of 1 completed"
     ]
    },
    {
     "name": "stdout",
     "output_type": "stream",
     "text": [
      "✅ Morning Star: 213/500\n",
      "📈 Fetching data for CAT\n"
     ]
    },
    {
     "name": "stderr",
     "output_type": "stream",
     "text": [
      "\n"
     ]
    },
    {
     "name": "stdout",
     "output_type": "stream",
     "text": [
      "✅ Hammer: 82/500\n",
      "✅ Hammer: 83/500\n",
      "✅ Hammer: 84/500\n",
      "✅ Hammer: 85/500\n",
      "✅ Hammer: 86/500\n",
      "✅ Hammer: 87/500\n"
     ]
    },
    {
     "name": "stderr",
     "output_type": "stream",
     "text": [
      "[*********************100%***********************]  1 of 1 completed"
     ]
    },
    {
     "name": "stdout",
     "output_type": "stream",
     "text": [
      "✅ Shooting Star: 82/500\n",
      "📈 Fetching data for DE\n"
     ]
    },
    {
     "name": "stderr",
     "output_type": "stream",
     "text": [
      "\n"
     ]
    },
    {
     "name": "stdout",
     "output_type": "stream",
     "text": [
      "✅ Morning Star: 214/500\n",
      "✅ Shooting Star: 83/500\n",
      "✅ Shooting Star: 84/500\n",
      "✅ Shooting Star: 85/500\n",
      "✅ Ascending Triangle: 193/500\n",
      "✅ Ascending Triangle: 194/500\n",
      "✅ Head and Shoulders: 185/500\n",
      "✅ Head and Shoulders: 186/500\n",
      "✅ Head and Shoulders: 187/500\n",
      "✅ Head and Shoulders: 188/500\n",
      "📈 Fetching data for PFE\n"
     ]
    },
    {
     "name": "stderr",
     "output_type": "stream",
     "text": [
      "[*********************100%***********************]  1 of 1 completed\n"
     ]
    },
    {
     "name": "stdout",
     "output_type": "stream",
     "text": [
      "✅ Shooting Star: 86/500\n",
      "✅ Morning Star: 215/500\n",
      "✅ Morning Star: 216/500\n",
      "✅ Morning Star: 217/500\n",
      "✅ Morning Star: 218/500\n",
      "✅ Hanging Man: 135/500\n",
      "✅ Hanging Man: 136/500\n",
      "✅ Hanging Man: 137/500\n",
      "✅ Hanging Man: 138/500\n",
      "✅ Ascending Triangle: 195/500\n",
      "📈 Fetching data for JNJ\n"
     ]
    },
    {
     "name": "stderr",
     "output_type": "stream",
     "text": [
      "[*********************100%***********************]  1 of 1 completed\n"
     ]
    },
    {
     "name": "stdout",
     "output_type": "stream",
     "text": [
      "✅ Head and Shoulders: 189/500\n",
      "📈 Fetching data for MRK\n"
     ]
    },
    {
     "name": "stderr",
     "output_type": "stream",
     "text": [
      "[*********************100%***********************]  1 of 1 completed\n"
     ]
    },
    {
     "name": "stdout",
     "output_type": "stream",
     "text": [
      "✅ Ascending Triangle: 196/500\n",
      "✅ Head and Shoulders: 190/500\n",
      "✅ Head and Shoulders: 191/500\n",
      "✅ Head and Shoulders: 192/500\n",
      "📈 Fetching data for LLY\n"
     ]
    },
    {
     "name": "stderr",
     "output_type": "stream",
     "text": [
      "[*********************100%***********************]  1 of 1 completed\n"
     ]
    },
    {
     "name": "stdout",
     "output_type": "stream",
     "text": [
      "✅ Hanging Man: 139/500\n",
      "✅ Hanging Man: 140/500\n",
      "✅ Hanging Man: 141/500\n",
      "✅ Head and Shoulders: 193/500\n",
      "✅ Head and Shoulders: 194/500\n",
      "✅ Head and Shoulders: 195/500\n",
      "✅ Ascending Triangle: 197/500\n",
      "✅ Shooting Star: 87/500\n"
     ]
    },
    {
     "name": "stderr",
     "output_type": "stream",
     "text": [
      "[*********************100%***********************]  1 of 1 completed"
     ]
    },
    {
     "name": "stdout",
     "output_type": "stream",
     "text": [
      "📈 Fetching data for PLTR\n"
     ]
    },
    {
     "name": "stderr",
     "output_type": "stream",
     "text": [
      "\n"
     ]
    },
    {
     "name": "stdout",
     "output_type": "stream",
     "text": [
      "✅ Head and Shoulders: 196/500\n"
     ]
    },
    {
     "name": "stderr",
     "output_type": "stream",
     "text": [
      "[*********************100%***********************]  1 of 1 completed"
     ]
    },
    {
     "name": "stdout",
     "output_type": "stream",
     "text": [
      "✅ Evening Star: 48/500\n",
      "📈 Fetching data for SNOW\n"
     ]
    },
    {
     "name": "stderr",
     "output_type": "stream",
     "text": [
      "\n",
      "[*********************100%***********************]  1 of 1 completed"
     ]
    },
    {
     "name": "stdout",
     "output_type": "stream",
     "text": [
      "✅ Descending Triangle: 93/500\n",
      "📈 Fetching data for SHOP\n"
     ]
    },
    {
     "name": "stderr",
     "output_type": "stream",
     "text": [
      "\n"
     ]
    },
    {
     "name": "stdout",
     "output_type": "stream",
     "text": [
      "✅ Morning Star: 219/500\n",
      "✅ Morning Star: 220/500\n",
      "✅ Morning Star: 221/500\n",
      "✅ Shooting Star: 88/500\n",
      "✅ Ascending Triangle: 198/500\n"
     ]
    },
    {
     "name": "stderr",
     "output_type": "stream",
     "text": [
      "[*********************100%***********************]  1 of 1 completed"
     ]
    },
    {
     "name": "stdout",
     "output_type": "stream",
     "text": [
      "📈 Fetching data for RIVN\n",
      "✅ Descending Triangle: 94/500\n"
     ]
    },
    {
     "name": "stderr",
     "output_type": "stream",
     "text": [
      "\n",
      "[*********************100%***********************]  1 of 1 completed"
     ]
    },
    {
     "name": "stdout",
     "output_type": "stream",
     "text": [
      "📈 Fetching data for UBER\n"
     ]
    },
    {
     "name": "stderr",
     "output_type": "stream",
     "text": [
      "\n"
     ]
    },
    {
     "name": "stdout",
     "output_type": "stream",
     "text": [
      "✅ Descending Triangle: 95/500\n"
     ]
    },
    {
     "name": "stderr",
     "output_type": "stream",
     "text": [
      "[*********************100%***********************]  1 of 1 completed"
     ]
    },
    {
     "name": "stdout",
     "output_type": "stream",
     "text": [
      "✅ Hanging Man: 142/500\n",
      "📈 Fetching data for SPY\n"
     ]
    },
    {
     "name": "stderr",
     "output_type": "stream",
     "text": [
      "\n"
     ]
    },
    {
     "name": "stdout",
     "output_type": "stream",
     "text": [
      "✅ Hanging Man: 143/500\n",
      "✅ Head and Shoulders: 197/500\n",
      "✅ Head and Shoulders: 198/500\n",
      "✅ Head and Shoulders: 199/500\n",
      "✅ Head and Shoulders: 200/500\n",
      "📈 Fetching data for QQQ\n"
     ]
    },
    {
     "name": "stderr",
     "output_type": "stream",
     "text": [
      "[*********************100%***********************]  1 of 1 completed\n"
     ]
    },
    {
     "name": "stdout",
     "output_type": "stream",
     "text": [
      "✅ Ascending Triangle: 199/500\n",
      "✅ Ascending Triangle: 200/500\n",
      "✅ Morning Star: 222/500\n",
      "✅ Hanging Man: 144/500\n",
      "✅ Hammer: 88/500\n",
      "✅ Descending Triangle: 96/500\n",
      "✅ Morning Star: 223/500\n",
      "✅ Morning Star: 224/500\n",
      "🔁 Pass 9 over symbols...\n",
      "📈 Fetching data for AAPL\n"
     ]
    },
    {
     "name": "stderr",
     "output_type": "stream",
     "text": [
      "[*********************100%***********************]  1 of 1 completed\n"
     ]
    },
    {
     "name": "stdout",
     "output_type": "stream",
     "text": [
      "✅ Hammer: 89/500\n",
      "✅ Descending Triangle: 97/500\n",
      "✅ Ascending Triangle: 201/500\n",
      "✅ Ascending Triangle: 202/500\n",
      "✅ Ascending Triangle: 203/500\n",
      "✅ Hanging Man: 145/500\n"
     ]
    },
    {
     "name": "stderr",
     "output_type": "stream",
     "text": [
      "[*********************100%***********************]  1 of 1 completed"
     ]
    },
    {
     "name": "stdout",
     "output_type": "stream",
     "text": [
      "📈 Fetching data for MSFT\n"
     ]
    },
    {
     "name": "stderr",
     "output_type": "stream",
     "text": [
      "\n"
     ]
    },
    {
     "name": "stdout",
     "output_type": "stream",
     "text": [
      "✅ Hammer: 90/500\n",
      "✅ Hammer: 91/500\n",
      "✅ Head and Shoulders: 201/500\n",
      "📈 Fetching data for GOOGL\n"
     ]
    },
    {
     "name": "stderr",
     "output_type": "stream",
     "text": [
      "[*********************100%***********************]  1 of 1 completed\n"
     ]
    },
    {
     "name": "stdout",
     "output_type": "stream",
     "text": [
      "✅ Morning Star: 225/500\n",
      "✅ Morning Star: 226/500\n"
     ]
    },
    {
     "name": "stderr",
     "output_type": "stream",
     "text": [
      "[*********************100%***********************]  1 of 1 completed"
     ]
    },
    {
     "name": "stdout",
     "output_type": "stream",
     "text": [
      "📈 Fetching data for AMZN\n"
     ]
    },
    {
     "name": "stderr",
     "output_type": "stream",
     "text": [
      "\n"
     ]
    },
    {
     "name": "stdout",
     "output_type": "stream",
     "text": [
      "✅ Morning Star: 227/500\n",
      "✅ Morning Star: 228/500\n",
      "✅ Descending Triangle: 98/500\n",
      "✅ Descending Triangle: 99/500\n"
     ]
    },
    {
     "name": "stderr",
     "output_type": "stream",
     "text": [
      "[*********************100%***********************]  1 of 1 completed"
     ]
    },
    {
     "name": "stdout",
     "output_type": "stream",
     "text": [
      "✅ Hammer: 92/500\n",
      "📈 Fetching data for META\n"
     ]
    },
    {
     "name": "stderr",
     "output_type": "stream",
     "text": [
      "\n"
     ]
    },
    {
     "name": "stdout",
     "output_type": "stream",
     "text": [
      "✅ Head and Shoulders: 202/500\n",
      "✅ Head and Shoulders: 203/500\n",
      "✅ Head and Shoulders: 204/500\n",
      "✅ Hanging Man: 146/500\n",
      "📈 Fetching data for NVDA\n"
     ]
    },
    {
     "name": "stderr",
     "output_type": "stream",
     "text": [
      "[*********************100%***********************]  1 of 1 completed\n"
     ]
    },
    {
     "name": "stdout",
     "output_type": "stream",
     "text": [
      "✅ Ascending Triangle: 204/500\n",
      "✅ Ascending Triangle: 205/500\n",
      "✅ Ascending Triangle: 206/500\n",
      "✅ Shooting Star: 89/500\n",
      "✅ Ascending Triangle: 207/500\n",
      "✅ Hanging Man: 147/500\n",
      "✅ Ascending Triangle: 208/500\n"
     ]
    },
    {
     "name": "stderr",
     "output_type": "stream",
     "text": [
      "[*********************100%***********************]  1 of 1 completed"
     ]
    },
    {
     "name": "stdout",
     "output_type": "stream",
     "text": [
      "✅ Ascending Triangle: 209/500\n",
      "📈 Fetching data for TSLA\n"
     ]
    },
    {
     "name": "stderr",
     "output_type": "stream",
     "text": [
      "\n"
     ]
    },
    {
     "name": "stdout",
     "output_type": "stream",
     "text": [
      "✅ Descending Triangle: 100/500\n",
      "✅ Ascending Triangle: 210/500\n",
      "✅ Shooting Star: 90/500\n"
     ]
    },
    {
     "name": "stderr",
     "output_type": "stream",
     "text": [
      "[*********************100%***********************]  1 of 1 completed"
     ]
    },
    {
     "name": "stdout",
     "output_type": "stream",
     "text": [
      "📈 Fetching data for NFLX\n"
     ]
    },
    {
     "name": "stderr",
     "output_type": "stream",
     "text": [
      "\n"
     ]
    },
    {
     "name": "stdout",
     "output_type": "stream",
     "text": [
      "✅ Morning Star: 229/500\n",
      "✅ Evening Star: 49/500\n",
      "✅ Evening Star: 50/500\n"
     ]
    },
    {
     "name": "stderr",
     "output_type": "stream",
     "text": [
      "[*********************100%***********************]  1 of 1 completed"
     ]
    },
    {
     "name": "stdout",
     "output_type": "stream",
     "text": [
      "✅ Head and Shoulders: 205/500\n",
      "📈 Fetching data for JPM\n"
     ]
    },
    {
     "name": "stderr",
     "output_type": "stream",
     "text": [
      "\n"
     ]
    },
    {
     "name": "stdout",
     "output_type": "stream",
     "text": [
      "✅ Evening Star: 51/500\n",
      "✅ Evening Star: 52/500\n",
      "✅ Head and Shoulders: 206/500\n",
      "✅ Shooting Star: 91/500\n"
     ]
    },
    {
     "name": "stderr",
     "output_type": "stream",
     "text": [
      "[*********************100%***********************]  1 of 1 completed"
     ]
    },
    {
     "name": "stdout",
     "output_type": "stream",
     "text": [
      "📈 Fetching data for BAC\n"
     ]
    },
    {
     "name": "stderr",
     "output_type": "stream",
     "text": [
      "\n"
     ]
    },
    {
     "name": "stdout",
     "output_type": "stream",
     "text": [
      "✅ Head and Shoulders: 207/500\n"
     ]
    },
    {
     "name": "stderr",
     "output_type": "stream",
     "text": [
      "[*********************100%***********************]  1 of 1 completed"
     ]
    },
    {
     "name": "stdout",
     "output_type": "stream",
     "text": [
      "📈 Fetching data for V\n"
     ]
    },
    {
     "name": "stderr",
     "output_type": "stream",
     "text": [
      "\n"
     ]
    },
    {
     "name": "stdout",
     "output_type": "stream",
     "text": [
      "✅ Ascending Triangle: 211/500\n",
      "✅ Ascending Triangle: 212/500\n"
     ]
    },
    {
     "name": "stderr",
     "output_type": "stream",
     "text": [
      "[*********************100%***********************]  1 of 1 completed"
     ]
    },
    {
     "name": "stdout",
     "output_type": "stream",
     "text": [
      "✅ Inverted Hammer: 9/500\n",
      "📈 Fetching data for MA\n"
     ]
    },
    {
     "name": "stderr",
     "output_type": "stream",
     "text": [
      "\n",
      "[*********************100%***********************]  1 of 1 completed"
     ]
    },
    {
     "name": "stdout",
     "output_type": "stream",
     "text": [
      "✅ Ascending Triangle: 213/500\n",
      "📈 Fetching data for SOFI\n"
     ]
    },
    {
     "name": "stderr",
     "output_type": "stream",
     "text": [
      "\n"
     ]
    },
    {
     "name": "stdout",
     "output_type": "stream",
     "text": [
      "✅ Ascending Triangle: 214/500\n",
      "✅ Ascending Triangle: 215/500\n",
      "✅ Ascending Triangle: 216/500\n"
     ]
    },
    {
     "name": "stderr",
     "output_type": "stream",
     "text": [
      "[*********************100%***********************]  1 of 1 completed"
     ]
    },
    {
     "name": "stdout",
     "output_type": "stream",
     "text": [
      "📈 Fetching data for COIN\n"
     ]
    },
    {
     "name": "stderr",
     "output_type": "stream",
     "text": [
      "\n"
     ]
    },
    {
     "name": "stdout",
     "output_type": "stream",
     "text": [
      "✅ Morning Star: 230/500\n",
      "✅ Morning Star: 231/500\n",
      "✅ Ascending Triangle: 217/500\n",
      "✅ Descending Triangle: 101/500\n",
      "✅ Descending Triangle: 102/500\n",
      "✅ Hanging Man: 148/500\n",
      "✅ Hanging Man: 149/500\n",
      "✅ Hanging Man: 150/500\n",
      "✅ Hanging Man: 151/500\n"
     ]
    },
    {
     "name": "stderr",
     "output_type": "stream",
     "text": [
      "[*********************100%***********************]  1 of 1 completed"
     ]
    },
    {
     "name": "stdout",
     "output_type": "stream",
     "text": [
      "✅ Hanging Man: 152/500\n",
      "📈 Fetching data for XOM\n"
     ]
    },
    {
     "name": "stderr",
     "output_type": "stream",
     "text": [
      "\n"
     ]
    },
    {
     "name": "stdout",
     "output_type": "stream",
     "text": [
      "✅ Shooting Star: 92/500\n",
      "✅ Morning Star: 232/500\n",
      "✅ Morning Star: 233/500\n"
     ]
    },
    {
     "name": "stderr",
     "output_type": "stream",
     "text": [
      "[*********************100%***********************]  1 of 1 completed"
     ]
    },
    {
     "name": "stdout",
     "output_type": "stream",
     "text": [
      "✅ Head and Shoulders: 208/500\n",
      "📈 Fetching data for CVX\n"
     ]
    },
    {
     "name": "stderr",
     "output_type": "stream",
     "text": [
      "\n"
     ]
    },
    {
     "name": "stdout",
     "output_type": "stream",
     "text": [
      "✅ Evening Star: 53/500\n"
     ]
    },
    {
     "name": "stderr",
     "output_type": "stream",
     "text": [
      "[*********************100%***********************]  1 of 1 completed"
     ]
    },
    {
     "name": "stdout",
     "output_type": "stream",
     "text": [
      "✅ Head and Shoulders: 209/500\n",
      "📈 Fetching data for BA\n"
     ]
    },
    {
     "name": "stderr",
     "output_type": "stream",
     "text": [
      "\n"
     ]
    },
    {
     "name": "stdout",
     "output_type": "stream",
     "text": [
      "✅ Descending Triangle: 103/500\n",
      "✅ Descending Triangle: 104/500\n",
      "✅ Morning Star: 234/500\n",
      "✅ Morning Star: 235/500\n",
      "✅ Morning Star: 236/500\n",
      "✅ Morning Star: 237/500\n",
      "✅ Morning Star: 238/500\n",
      "✅ Morning Star: 239/500\n",
      "✅ Morning Star: 240/500\n"
     ]
    },
    {
     "name": "stderr",
     "output_type": "stream",
     "text": [
      "[*********************100%***********************]  1 of 1 completed"
     ]
    },
    {
     "name": "stdout",
     "output_type": "stream",
     "text": [
      "✅ Morning Star: 241/500\n",
      "📈 Fetching data for CAT\n"
     ]
    },
    {
     "name": "stderr",
     "output_type": "stream",
     "text": [
      "\n"
     ]
    },
    {
     "name": "stdout",
     "output_type": "stream",
     "text": [
      "✅ Hammer: 93/500\n",
      "✅ Hammer: 94/500\n",
      "✅ Hammer: 95/500\n",
      "✅ Hammer: 96/500\n",
      "✅ Hammer: 97/500\n",
      "✅ Hammer: 98/500\n"
     ]
    },
    {
     "name": "stderr",
     "output_type": "stream",
     "text": [
      "[*********************100%***********************]  1 of 1 completed"
     ]
    },
    {
     "name": "stdout",
     "output_type": "stream",
     "text": [
      "✅ Shooting Star: 93/500\n",
      "📈 Fetching data for DE\n"
     ]
    },
    {
     "name": "stderr",
     "output_type": "stream",
     "text": [
      "\n"
     ]
    },
    {
     "name": "stdout",
     "output_type": "stream",
     "text": [
      "✅ Morning Star: 242/500\n",
      "✅ Shooting Star: 94/500\n",
      "✅ Shooting Star: 95/500\n",
      "✅ Shooting Star: 96/500\n",
      "✅ Ascending Triangle: 218/500\n",
      "✅ Ascending Triangle: 219/500\n",
      "✅ Head and Shoulders: 210/500\n",
      "✅ Head and Shoulders: 211/500\n",
      "✅ Head and Shoulders: 212/500\n",
      "✅ Head and Shoulders: 213/500\n",
      "📈 Fetching data for PFE\n"
     ]
    },
    {
     "name": "stderr",
     "output_type": "stream",
     "text": [
      "[*********************100%***********************]  1 of 1 completed\n"
     ]
    },
    {
     "name": "stdout",
     "output_type": "stream",
     "text": [
      "✅ Shooting Star: 97/500\n",
      "✅ Morning Star: 243/500\n",
      "✅ Morning Star: 244/500\n",
      "✅ Morning Star: 245/500\n",
      "✅ Morning Star: 246/500\n",
      "✅ Hanging Man: 153/500\n",
      "✅ Hanging Man: 154/500\n",
      "✅ Hanging Man: 155/500\n",
      "✅ Hanging Man: 156/500\n",
      "✅ Ascending Triangle: 220/500\n",
      "📈 Fetching data for JNJ\n"
     ]
    },
    {
     "name": "stderr",
     "output_type": "stream",
     "text": [
      "[*********************100%***********************]  1 of 1 completed\n"
     ]
    },
    {
     "name": "stdout",
     "output_type": "stream",
     "text": [
      "✅ Head and Shoulders: 214/500\n",
      "📈 Fetching data for MRK\n"
     ]
    },
    {
     "name": "stderr",
     "output_type": "stream",
     "text": [
      "[*********************100%***********************]  1 of 1 completed\n"
     ]
    },
    {
     "name": "stdout",
     "output_type": "stream",
     "text": [
      "✅ Ascending Triangle: 221/500\n",
      "✅ Head and Shoulders: 215/500\n",
      "✅ Head and Shoulders: 216/500\n",
      "✅ Head and Shoulders: 217/500\n",
      "📈 Fetching data for LLY\n"
     ]
    },
    {
     "name": "stderr",
     "output_type": "stream",
     "text": [
      "[*********************100%***********************]  1 of 1 completed\n"
     ]
    },
    {
     "name": "stdout",
     "output_type": "stream",
     "text": [
      "✅ Hanging Man: 157/500\n",
      "✅ Hanging Man: 158/500\n",
      "✅ Hanging Man: 159/500\n",
      "✅ Head and Shoulders: 218/500\n",
      "✅ Head and Shoulders: 219/500\n",
      "✅ Head and Shoulders: 220/500\n",
      "✅ Ascending Triangle: 222/500\n",
      "✅ Shooting Star: 98/500\n"
     ]
    },
    {
     "name": "stderr",
     "output_type": "stream",
     "text": [
      "[*********************100%***********************]  1 of 1 completed"
     ]
    },
    {
     "name": "stdout",
     "output_type": "stream",
     "text": [
      "📈 Fetching data for PLTR\n"
     ]
    },
    {
     "name": "stderr",
     "output_type": "stream",
     "text": [
      "\n"
     ]
    },
    {
     "name": "stdout",
     "output_type": "stream",
     "text": [
      "✅ Head and Shoulders: 221/500\n"
     ]
    },
    {
     "name": "stderr",
     "output_type": "stream",
     "text": [
      "[*********************100%***********************]  1 of 1 completed"
     ]
    },
    {
     "name": "stdout",
     "output_type": "stream",
     "text": [
      "✅ Evening Star: 54/500\n",
      "📈 Fetching data for SNOW\n"
     ]
    },
    {
     "name": "stderr",
     "output_type": "stream",
     "text": [
      "\n",
      "[*********************100%***********************]  1 of 1 completed"
     ]
    },
    {
     "name": "stdout",
     "output_type": "stream",
     "text": [
      "✅ Descending Triangle: 105/500\n",
      "📈 Fetching data for SHOP\n"
     ]
    },
    {
     "name": "stderr",
     "output_type": "stream",
     "text": [
      "\n"
     ]
    },
    {
     "name": "stdout",
     "output_type": "stream",
     "text": [
      "✅ Morning Star: 247/500\n",
      "✅ Morning Star: 248/500\n",
      "✅ Morning Star: 249/500\n",
      "✅ Shooting Star: 99/500\n",
      "✅ Ascending Triangle: 223/500\n",
      "📈 Fetching data for RIVN\n"
     ]
    },
    {
     "name": "stderr",
     "output_type": "stream",
     "text": [
      "[*********************100%***********************]  1 of 1 completed\n",
      "[*********************100%***********************]  1 of 1 completed"
     ]
    },
    {
     "name": "stdout",
     "output_type": "stream",
     "text": [
      "✅ Descending Triangle: 106/500\n",
      "📈 Fetching data for UBER\n"
     ]
    },
    {
     "name": "stderr",
     "output_type": "stream",
     "text": [
      "\n"
     ]
    },
    {
     "name": "stdout",
     "output_type": "stream",
     "text": [
      "✅ Descending Triangle: 107/500\n"
     ]
    },
    {
     "name": "stderr",
     "output_type": "stream",
     "text": [
      "[*********************100%***********************]  1 of 1 completed"
     ]
    },
    {
     "name": "stdout",
     "output_type": "stream",
     "text": [
      "✅ Hanging Man: 160/500\n",
      "📈 Fetching data for SPY\n"
     ]
    },
    {
     "name": "stderr",
     "output_type": "stream",
     "text": [
      "\n"
     ]
    },
    {
     "name": "stdout",
     "output_type": "stream",
     "text": [
      "✅ Hanging Man: 161/500\n",
      "✅ Head and Shoulders: 222/500\n",
      "✅ Head and Shoulders: 223/500\n",
      "✅ Head and Shoulders: 224/500\n",
      "✅ Head and Shoulders: 225/500\n"
     ]
    },
    {
     "name": "stderr",
     "output_type": "stream",
     "text": [
      "[*********************100%***********************]  1 of 1 completed"
     ]
    },
    {
     "name": "stdout",
     "output_type": "stream",
     "text": [
      "📈 Fetching data for QQQ\n"
     ]
    },
    {
     "name": "stderr",
     "output_type": "stream",
     "text": [
      "\n"
     ]
    },
    {
     "name": "stdout",
     "output_type": "stream",
     "text": [
      "✅ Ascending Triangle: 224/500\n",
      "✅ Ascending Triangle: 225/500\n",
      "✅ Morning Star: 250/500\n",
      "✅ Hanging Man: 162/500\n",
      "✅ Hammer: 99/500\n",
      "✅ Descending Triangle: 108/500\n",
      "✅ Morning Star: 251/500\n",
      "✅ Morning Star: 252/500\n",
      "🔁 Pass 10 over symbols...\n",
      "📈 Fetching data for AAPL\n"
     ]
    },
    {
     "name": "stderr",
     "output_type": "stream",
     "text": [
      "[*********************100%***********************]  1 of 1 completed\n"
     ]
    },
    {
     "name": "stdout",
     "output_type": "stream",
     "text": [
      "✅ Hammer: 100/500\n",
      "✅ Descending Triangle: 109/500\n",
      "✅ Ascending Triangle: 226/500\n",
      "✅ Ascending Triangle: 227/500\n",
      "✅ Ascending Triangle: 228/500\n",
      "✅ Hanging Man: 163/500\n"
     ]
    },
    {
     "name": "stderr",
     "output_type": "stream",
     "text": [
      "[*********************100%***********************]  1 of 1 completed"
     ]
    },
    {
     "name": "stdout",
     "output_type": "stream",
     "text": [
      "📈 Fetching data for MSFT\n"
     ]
    },
    {
     "name": "stderr",
     "output_type": "stream",
     "text": [
      "\n"
     ]
    },
    {
     "name": "stdout",
     "output_type": "stream",
     "text": [
      "✅ Hammer: 101/500\n",
      "✅ Hammer: 102/500\n"
     ]
    },
    {
     "name": "stderr",
     "output_type": "stream",
     "text": [
      "[*********************100%***********************]  1 of 1 completed"
     ]
    },
    {
     "name": "stdout",
     "output_type": "stream",
     "text": [
      "✅ Head and Shoulders: 226/500\n",
      "📈 Fetching data for GOOGL\n"
     ]
    },
    {
     "name": "stderr",
     "output_type": "stream",
     "text": [
      "\n"
     ]
    },
    {
     "name": "stdout",
     "output_type": "stream",
     "text": [
      "✅ Morning Star: 253/500\n",
      "✅ Morning Star: 254/500\n"
     ]
    },
    {
     "name": "stderr",
     "output_type": "stream",
     "text": [
      "[*********************100%***********************]  1 of 1 completed"
     ]
    },
    {
     "name": "stdout",
     "output_type": "stream",
     "text": [
      "📈 Fetching data for AMZN\n"
     ]
    },
    {
     "name": "stderr",
     "output_type": "stream",
     "text": [
      "\n"
     ]
    },
    {
     "name": "stdout",
     "output_type": "stream",
     "text": [
      "✅ Morning Star: 255/500\n",
      "✅ Morning Star: 256/500\n",
      "✅ Descending Triangle: 110/500\n",
      "✅ Descending Triangle: 111/500\n"
     ]
    },
    {
     "name": "stderr",
     "output_type": "stream",
     "text": [
      "[*********************100%***********************]  1 of 1 completed"
     ]
    },
    {
     "name": "stdout",
     "output_type": "stream",
     "text": [
      "✅ Hammer: 103/500\n",
      "📈 Fetching data for META\n"
     ]
    },
    {
     "name": "stderr",
     "output_type": "stream",
     "text": [
      "\n"
     ]
    },
    {
     "name": "stdout",
     "output_type": "stream",
     "text": [
      "✅ Head and Shoulders: 227/500\n",
      "✅ Head and Shoulders: 228/500\n",
      "✅ Head and Shoulders: 229/500\n",
      "✅ Hanging Man: 164/500\n",
      "📈 Fetching data for NVDA\n"
     ]
    },
    {
     "name": "stderr",
     "output_type": "stream",
     "text": [
      "[*********************100%***********************]  1 of 1 completed\n"
     ]
    },
    {
     "name": "stdout",
     "output_type": "stream",
     "text": [
      "✅ Ascending Triangle: 229/500\n",
      "✅ Ascending Triangle: 230/500\n",
      "✅ Ascending Triangle: 231/500\n",
      "✅ Shooting Star: 100/500\n",
      "✅ Ascending Triangle: 232/500\n",
      "✅ Hanging Man: 165/500\n",
      "✅ Ascending Triangle: 233/500\n",
      "✅ Ascending Triangle: 234/500\n",
      "📈 Fetching data for TSLA\n"
     ]
    },
    {
     "name": "stderr",
     "output_type": "stream",
     "text": [
      "[*********************100%***********************]  1 of 1 completed\n"
     ]
    },
    {
     "name": "stdout",
     "output_type": "stream",
     "text": [
      "✅ Descending Triangle: 112/500\n",
      "✅ Ascending Triangle: 235/500\n",
      "✅ Shooting Star: 101/500\n"
     ]
    },
    {
     "name": "stderr",
     "output_type": "stream",
     "text": [
      "[*********************100%***********************]  1 of 1 completed"
     ]
    },
    {
     "name": "stdout",
     "output_type": "stream",
     "text": [
      "📈 Fetching data for NFLX\n"
     ]
    },
    {
     "name": "stderr",
     "output_type": "stream",
     "text": [
      "\n"
     ]
    },
    {
     "name": "stdout",
     "output_type": "stream",
     "text": [
      "✅ Morning Star: 257/500\n",
      "✅ Evening Star: 55/500\n",
      "✅ Evening Star: 56/500\n"
     ]
    },
    {
     "name": "stderr",
     "output_type": "stream",
     "text": [
      "[*********************100%***********************]  1 of 1 completed"
     ]
    },
    {
     "name": "stdout",
     "output_type": "stream",
     "text": [
      "✅ Head and Shoulders: 230/500\n",
      "📈 Fetching data for JPM\n"
     ]
    },
    {
     "name": "stderr",
     "output_type": "stream",
     "text": [
      "\n"
     ]
    },
    {
     "name": "stdout",
     "output_type": "stream",
     "text": [
      "✅ Evening Star: 57/500\n",
      "✅ Evening Star: 58/500\n",
      "✅ Head and Shoulders: 231/500\n",
      "✅ Shooting Star: 102/500\n"
     ]
    },
    {
     "name": "stderr",
     "output_type": "stream",
     "text": [
      "[*********************100%***********************]  1 of 1 completed"
     ]
    },
    {
     "name": "stdout",
     "output_type": "stream",
     "text": [
      "📈 Fetching data for BAC\n"
     ]
    },
    {
     "name": "stderr",
     "output_type": "stream",
     "text": [
      "\n"
     ]
    },
    {
     "name": "stdout",
     "output_type": "stream",
     "text": [
      "✅ Head and Shoulders: 232/500\n"
     ]
    },
    {
     "name": "stderr",
     "output_type": "stream",
     "text": [
      "[*********************100%***********************]  1 of 1 completed"
     ]
    },
    {
     "name": "stdout",
     "output_type": "stream",
     "text": [
      "📈 Fetching data for V\n"
     ]
    },
    {
     "name": "stderr",
     "output_type": "stream",
     "text": [
      "\n"
     ]
    },
    {
     "name": "stdout",
     "output_type": "stream",
     "text": [
      "✅ Ascending Triangle: 236/500\n",
      "✅ Ascending Triangle: 237/500\n"
     ]
    },
    {
     "name": "stderr",
     "output_type": "stream",
     "text": [
      "[*********************100%***********************]  1 of 1 completed"
     ]
    },
    {
     "name": "stdout",
     "output_type": "stream",
     "text": [
      "✅ Inverted Hammer: 10/500\n",
      "📈 Fetching data for MA\n"
     ]
    },
    {
     "name": "stderr",
     "output_type": "stream",
     "text": [
      "\n",
      "[*********************100%***********************]  1 of 1 completed"
     ]
    },
    {
     "name": "stdout",
     "output_type": "stream",
     "text": [
      "✅ Ascending Triangle: 238/500\n",
      "📈 Fetching data for SOFI\n"
     ]
    },
    {
     "name": "stderr",
     "output_type": "stream",
     "text": [
      "\n"
     ]
    },
    {
     "name": "stdout",
     "output_type": "stream",
     "text": [
      "✅ Ascending Triangle: 239/500\n",
      "✅ Ascending Triangle: 240/500\n"
     ]
    },
    {
     "name": "stderr",
     "output_type": "stream",
     "text": [
      "[*********************100%***********************]  1 of 1 completed"
     ]
    },
    {
     "name": "stdout",
     "output_type": "stream",
     "text": [
      "✅ Ascending Triangle: 241/500\n",
      "📈 Fetching data for COIN\n"
     ]
    },
    {
     "name": "stderr",
     "output_type": "stream",
     "text": [
      "\n"
     ]
    },
    {
     "name": "stdout",
     "output_type": "stream",
     "text": [
      "✅ Morning Star: 258/500\n",
      "✅ Morning Star: 259/500\n",
      "✅ Ascending Triangle: 242/500\n",
      "✅ Descending Triangle: 113/500\n",
      "✅ Descending Triangle: 114/500\n",
      "✅ Hanging Man: 166/500\n",
      "✅ Hanging Man: 167/500\n",
      "✅ Hanging Man: 168/500\n",
      "✅ Hanging Man: 169/500\n",
      "✅ Hanging Man: 170/500\n"
     ]
    },
    {
     "name": "stderr",
     "output_type": "stream",
     "text": [
      "[*********************100%***********************]  1 of 1 completed"
     ]
    },
    {
     "name": "stdout",
     "output_type": "stream",
     "text": [
      "📈 Fetching data for XOM\n"
     ]
    },
    {
     "name": "stderr",
     "output_type": "stream",
     "text": [
      "\n"
     ]
    },
    {
     "name": "stdout",
     "output_type": "stream",
     "text": [
      "✅ Shooting Star: 103/500\n",
      "✅ Morning Star: 260/500\n",
      "✅ Morning Star: 261/500\n"
     ]
    },
    {
     "name": "stderr",
     "output_type": "stream",
     "text": [
      "[*********************100%***********************]  1 of 1 completed"
     ]
    },
    {
     "name": "stdout",
     "output_type": "stream",
     "text": [
      "✅ Head and Shoulders: 233/500\n",
      "📈 Fetching data for CVX\n"
     ]
    },
    {
     "name": "stderr",
     "output_type": "stream",
     "text": [
      "\n"
     ]
    },
    {
     "name": "stdout",
     "output_type": "stream",
     "text": [
      "✅ Evening Star: 59/500\n"
     ]
    },
    {
     "name": "stderr",
     "output_type": "stream",
     "text": [
      "[*********************100%***********************]  1 of 1 completed"
     ]
    },
    {
     "name": "stdout",
     "output_type": "stream",
     "text": [
      "✅ Head and Shoulders: 234/500\n",
      "📈 Fetching data for BA\n"
     ]
    },
    {
     "name": "stderr",
     "output_type": "stream",
     "text": [
      "\n"
     ]
    },
    {
     "name": "stdout",
     "output_type": "stream",
     "text": [
      "✅ Descending Triangle: 115/500\n",
      "✅ Descending Triangle: 116/500\n",
      "✅ Morning Star: 262/500\n",
      "✅ Morning Star: 263/500\n",
      "✅ Morning Star: 264/500\n",
      "✅ Morning Star: 265/500\n",
      "✅ Morning Star: 266/500\n",
      "✅ Morning Star: 267/500\n",
      "✅ Morning Star: 268/500\n"
     ]
    },
    {
     "name": "stderr",
     "output_type": "stream",
     "text": [
      "[*********************100%***********************]  1 of 1 completed"
     ]
    },
    {
     "name": "stdout",
     "output_type": "stream",
     "text": [
      "✅ Morning Star: 269/500\n",
      "📈 Fetching data for CAT\n"
     ]
    },
    {
     "name": "stderr",
     "output_type": "stream",
     "text": [
      "\n"
     ]
    },
    {
     "name": "stdout",
     "output_type": "stream",
     "text": [
      "✅ Hammer: 104/500\n",
      "✅ Hammer: 105/500\n",
      "✅ Hammer: 106/500\n",
      "✅ Hammer: 107/500\n",
      "✅ Hammer: 108/500\n",
      "✅ Hammer: 109/500\n"
     ]
    },
    {
     "name": "stderr",
     "output_type": "stream",
     "text": [
      "[*********************100%***********************]  1 of 1 completed"
     ]
    },
    {
     "name": "stdout",
     "output_type": "stream",
     "text": [
      "✅ Shooting Star: 104/500\n",
      "📈 Fetching data for DE\n"
     ]
    },
    {
     "name": "stderr",
     "output_type": "stream",
     "text": [
      "\n"
     ]
    },
    {
     "name": "stdout",
     "output_type": "stream",
     "text": [
      "✅ Morning Star: 270/500\n",
      "✅ Shooting Star: 105/500\n",
      "✅ Shooting Star: 106/500\n",
      "✅ Shooting Star: 107/500\n",
      "✅ Ascending Triangle: 243/500\n",
      "✅ Ascending Triangle: 244/500\n",
      "✅ Head and Shoulders: 235/500\n",
      "✅ Head and Shoulders: 236/500\n",
      "✅ Head and Shoulders: 237/500\n",
      "✅ Head and Shoulders: 238/500\n"
     ]
    },
    {
     "name": "stderr",
     "output_type": "stream",
     "text": [
      "[*********************100%***********************]  1 of 1 completed"
     ]
    },
    {
     "name": "stdout",
     "output_type": "stream",
     "text": [
      "📈 Fetching data for PFE\n"
     ]
    },
    {
     "name": "stderr",
     "output_type": "stream",
     "text": [
      "\n"
     ]
    },
    {
     "name": "stdout",
     "output_type": "stream",
     "text": [
      "✅ Shooting Star: 108/500\n",
      "✅ Morning Star: 271/500\n",
      "✅ Morning Star: 272/500\n",
      "✅ Morning Star: 273/500\n",
      "✅ Morning Star: 274/500\n",
      "✅ Hanging Man: 171/500\n",
      "✅ Hanging Man: 172/500\n",
      "✅ Hanging Man: 173/500\n",
      "✅ Hanging Man: 174/500\n",
      "✅ Ascending Triangle: 245/500\n",
      "📈 Fetching data for JNJ\n"
     ]
    },
    {
     "name": "stderr",
     "output_type": "stream",
     "text": [
      "[*********************100%***********************]  1 of 1 completed\n"
     ]
    },
    {
     "name": "stdout",
     "output_type": "stream",
     "text": [
      "✅ Head and Shoulders: 239/500\n",
      "📈 Fetching data for MRK\n"
     ]
    },
    {
     "name": "stderr",
     "output_type": "stream",
     "text": [
      "[*********************100%***********************]  1 of 1 completed\n"
     ]
    },
    {
     "name": "stdout",
     "output_type": "stream",
     "text": [
      "✅ Ascending Triangle: 246/500\n",
      "✅ Head and Shoulders: 240/500\n",
      "✅ Head and Shoulders: 241/500\n",
      "✅ Head and Shoulders: 242/500\n",
      "📈 Fetching data for LLY\n"
     ]
    },
    {
     "name": "stderr",
     "output_type": "stream",
     "text": [
      "[*********************100%***********************]  1 of 1 completed\n"
     ]
    },
    {
     "name": "stdout",
     "output_type": "stream",
     "text": [
      "✅ Hanging Man: 175/500\n",
      "✅ Hanging Man: 176/500\n",
      "✅ Hanging Man: 177/500\n",
      "✅ Head and Shoulders: 243/500\n",
      "✅ Head and Shoulders: 244/500\n",
      "✅ Head and Shoulders: 245/500\n",
      "✅ Ascending Triangle: 247/500\n",
      "✅ Shooting Star: 109/500\n"
     ]
    },
    {
     "name": "stderr",
     "output_type": "stream",
     "text": [
      "[*********************100%***********************]  1 of 1 completed"
     ]
    },
    {
     "name": "stdout",
     "output_type": "stream",
     "text": [
      "📈 Fetching data for PLTR\n",
      "✅ Head and Shoulders: 246/500\n"
     ]
    },
    {
     "name": "stderr",
     "output_type": "stream",
     "text": [
      "\n",
      "[*********************100%***********************]  1 of 1 completed"
     ]
    },
    {
     "name": "stdout",
     "output_type": "stream",
     "text": [
      "✅ Evening Star: 60/500\n",
      "📈 Fetching data for SNOW\n"
     ]
    },
    {
     "name": "stderr",
     "output_type": "stream",
     "text": [
      "\n",
      "[*********************100%***********************]  1 of 1 completed"
     ]
    },
    {
     "name": "stdout",
     "output_type": "stream",
     "text": [
      "✅ Descending Triangle: 117/500\n",
      "📈 Fetching data for SHOP\n"
     ]
    },
    {
     "name": "stderr",
     "output_type": "stream",
     "text": [
      "\n"
     ]
    },
    {
     "name": "stdout",
     "output_type": "stream",
     "text": [
      "✅ Morning Star: 275/500\n",
      "✅ Morning Star: 276/500\n",
      "✅ Morning Star: 277/500\n",
      "✅ Shooting Star: 110/500\n",
      "✅ Ascending Triangle: 248/500\n"
     ]
    },
    {
     "name": "stderr",
     "output_type": "stream",
     "text": [
      "[*********************100%***********************]  1 of 1 completed"
     ]
    },
    {
     "name": "stdout",
     "output_type": "stream",
     "text": [
      "📈 Fetching data for RIVN\n",
      "✅ Descending Triangle: 118/500\n"
     ]
    },
    {
     "name": "stderr",
     "output_type": "stream",
     "text": [
      "\n",
      "[*********************100%***********************]  1 of 1 completed"
     ]
    },
    {
     "name": "stdout",
     "output_type": "stream",
     "text": [
      "📈 Fetching data for UBER\n"
     ]
    },
    {
     "name": "stderr",
     "output_type": "stream",
     "text": [
      "\n"
     ]
    },
    {
     "name": "stdout",
     "output_type": "stream",
     "text": [
      "✅ Descending Triangle: 119/500\n"
     ]
    },
    {
     "name": "stderr",
     "output_type": "stream",
     "text": [
      "[*********************100%***********************]  1 of 1 completed"
     ]
    },
    {
     "name": "stdout",
     "output_type": "stream",
     "text": [
      "✅ Hanging Man: 178/500\n",
      "📈 Fetching data for SPY\n"
     ]
    },
    {
     "name": "stderr",
     "output_type": "stream",
     "text": [
      "\n"
     ]
    },
    {
     "name": "stdout",
     "output_type": "stream",
     "text": [
      "✅ Hanging Man: 179/500\n",
      "✅ Head and Shoulders: 247/500\n",
      "✅ Head and Shoulders: 248/500\n",
      "✅ Head and Shoulders: 249/500\n",
      "✅ Head and Shoulders: 250/500\n",
      "📈 Fetching data for QQQ\n"
     ]
    },
    {
     "name": "stderr",
     "output_type": "stream",
     "text": [
      "[*********************100%***********************]  1 of 1 completed\n"
     ]
    },
    {
     "name": "stdout",
     "output_type": "stream",
     "text": [
      "✅ Ascending Triangle: 249/500\n",
      "✅ Ascending Triangle: 250/500\n",
      "✅ Morning Star: 278/500\n",
      "✅ Hanging Man: 180/500\n",
      "✅ Hammer: 110/500\n",
      "✅ Descending Triangle: 120/500\n",
      "✅ Morning Star: 279/500\n",
      "✅ Morning Star: 280/500\n",
      "🔁 Pass 11 over symbols...\n",
      "📈 Fetching data for AAPL\n"
     ]
    },
    {
     "name": "stderr",
     "output_type": "stream",
     "text": [
      "[*********************100%***********************]  1 of 1 completed\n"
     ]
    },
    {
     "name": "stdout",
     "output_type": "stream",
     "text": [
      "✅ Hammer: 111/500\n",
      "✅ Descending Triangle: 121/500\n",
      "✅ Ascending Triangle: 251/500\n",
      "✅ Ascending Triangle: 252/500\n",
      "✅ Ascending Triangle: 253/500\n",
      "✅ Hanging Man: 181/500\n"
     ]
    },
    {
     "name": "stderr",
     "output_type": "stream",
     "text": [
      "[*********************100%***********************]  1 of 1 completed"
     ]
    },
    {
     "name": "stdout",
     "output_type": "stream",
     "text": [
      "📈 Fetching data for MSFT\n"
     ]
    },
    {
     "name": "stderr",
     "output_type": "stream",
     "text": [
      "\n"
     ]
    },
    {
     "name": "stdout",
     "output_type": "stream",
     "text": [
      "✅ Hammer: 112/500\n",
      "✅ Hammer: 113/500\n",
      "✅ Head and Shoulders: 251/500\n"
     ]
    },
    {
     "name": "stderr",
     "output_type": "stream",
     "text": [
      "[*********************100%***********************]  1 of 1 completed"
     ]
    },
    {
     "name": "stdout",
     "output_type": "stream",
     "text": [
      "📈 Fetching data for GOOGL\n"
     ]
    },
    {
     "name": "stderr",
     "output_type": "stream",
     "text": [
      "\n"
     ]
    },
    {
     "name": "stdout",
     "output_type": "stream",
     "text": [
      "✅ Morning Star: 281/500\n",
      "✅ Morning Star: 282/500\n",
      "📈 Fetching data for AMZN\n"
     ]
    },
    {
     "name": "stderr",
     "output_type": "stream",
     "text": [
      "[*********************100%***********************]  1 of 1 completed\n"
     ]
    },
    {
     "name": "stdout",
     "output_type": "stream",
     "text": [
      "✅ Morning Star: 283/500\n",
      "✅ Morning Star: 284/500\n",
      "✅ Descending Triangle: 122/500\n",
      "✅ Descending Triangle: 123/500\n"
     ]
    },
    {
     "name": "stderr",
     "output_type": "stream",
     "text": [
      "[*********************100%***********************]  1 of 1 completed"
     ]
    },
    {
     "name": "stdout",
     "output_type": "stream",
     "text": [
      "✅ Hammer: 114/500\n",
      "📈 Fetching data for META\n"
     ]
    },
    {
     "name": "stderr",
     "output_type": "stream",
     "text": [
      "\n"
     ]
    },
    {
     "name": "stdout",
     "output_type": "stream",
     "text": [
      "✅ Head and Shoulders: 252/500\n",
      "✅ Head and Shoulders: 253/500\n",
      "✅ Head and Shoulders: 254/500\n",
      "✅ Hanging Man: 182/500\n",
      "📈 Fetching data for NVDA\n"
     ]
    },
    {
     "name": "stderr",
     "output_type": "stream",
     "text": [
      "[*********************100%***********************]  1 of 1 completed\n"
     ]
    },
    {
     "name": "stdout",
     "output_type": "stream",
     "text": [
      "✅ Ascending Triangle: 254/500\n",
      "✅ Ascending Triangle: 255/500\n",
      "✅ Ascending Triangle: 256/500\n",
      "✅ Shooting Star: 111/500\n",
      "✅ Ascending Triangle: 257/500\n",
      "✅ Hanging Man: 183/500\n",
      "✅ Ascending Triangle: 258/500\n"
     ]
    },
    {
     "name": "stderr",
     "output_type": "stream",
     "text": [
      "[*********************100%***********************]  1 of 1 completed"
     ]
    },
    {
     "name": "stdout",
     "output_type": "stream",
     "text": [
      "✅ Ascending Triangle: 259/500\n",
      "📈 Fetching data for TSLA\n"
     ]
    },
    {
     "name": "stderr",
     "output_type": "stream",
     "text": [
      "\n"
     ]
    },
    {
     "name": "stdout",
     "output_type": "stream",
     "text": [
      "✅ Descending Triangle: 124/500\n",
      "✅ Ascending Triangle: 260/500\n",
      "✅ Shooting Star: 112/500\n"
     ]
    },
    {
     "name": "stderr",
     "output_type": "stream",
     "text": [
      "[*********************100%***********************]  1 of 1 completed"
     ]
    },
    {
     "name": "stdout",
     "output_type": "stream",
     "text": [
      "📈 Fetching data for NFLX\n"
     ]
    },
    {
     "name": "stderr",
     "output_type": "stream",
     "text": [
      "\n"
     ]
    },
    {
     "name": "stdout",
     "output_type": "stream",
     "text": [
      "✅ Morning Star: 285/500\n",
      "✅ Evening Star: 61/500\n",
      "✅ Evening Star: 62/500\n",
      "✅ Head and Shoulders: 255/500\n",
      "📈 Fetching data for JPM\n"
     ]
    },
    {
     "name": "stderr",
     "output_type": "stream",
     "text": [
      "[*********************100%***********************]  1 of 1 completed\n"
     ]
    },
    {
     "name": "stdout",
     "output_type": "stream",
     "text": [
      "✅ Evening Star: 63/500\n",
      "✅ Evening Star: 64/500\n",
      "✅ Head and Shoulders: 256/500\n",
      "✅ Shooting Star: 113/500\n"
     ]
    },
    {
     "name": "stderr",
     "output_type": "stream",
     "text": [
      "[*********************100%***********************]  1 of 1 completed"
     ]
    },
    {
     "name": "stdout",
     "output_type": "stream",
     "text": [
      "📈 Fetching data for BAC\n"
     ]
    },
    {
     "name": "stderr",
     "output_type": "stream",
     "text": [
      "\n"
     ]
    },
    {
     "name": "stdout",
     "output_type": "stream",
     "text": [
      "✅ Head and Shoulders: 257/500\n"
     ]
    },
    {
     "name": "stderr",
     "output_type": "stream",
     "text": [
      "[*********************100%***********************]  1 of 1 completed"
     ]
    },
    {
     "name": "stdout",
     "output_type": "stream",
     "text": [
      "📈 Fetching data for V\n"
     ]
    },
    {
     "name": "stderr",
     "output_type": "stream",
     "text": [
      "\n"
     ]
    },
    {
     "name": "stdout",
     "output_type": "stream",
     "text": [
      "✅ Ascending Triangle: 261/500\n",
      "✅ Ascending Triangle: 262/500\n"
     ]
    },
    {
     "name": "stderr",
     "output_type": "stream",
     "text": [
      "[*********************100%***********************]  1 of 1 completed"
     ]
    },
    {
     "name": "stdout",
     "output_type": "stream",
     "text": [
      "✅ Inverted Hammer: 11/500\n",
      "📈 Fetching data for MA\n"
     ]
    },
    {
     "name": "stderr",
     "output_type": "stream",
     "text": [
      "\n",
      "[*********************100%***********************]  1 of 1 completed"
     ]
    },
    {
     "name": "stdout",
     "output_type": "stream",
     "text": [
      "✅ Ascending Triangle: 263/500\n",
      "📈 Fetching data for SOFI\n"
     ]
    },
    {
     "name": "stderr",
     "output_type": "stream",
     "text": [
      "\n"
     ]
    },
    {
     "name": "stdout",
     "output_type": "stream",
     "text": [
      "✅ Ascending Triangle: 264/500\n",
      "✅ Ascending Triangle: 265/500\n"
     ]
    },
    {
     "name": "stderr",
     "output_type": "stream",
     "text": [
      "[*********************100%***********************]  1 of 1 completed"
     ]
    },
    {
     "name": "stdout",
     "output_type": "stream",
     "text": [
      "✅ Ascending Triangle: 266/500\n",
      "📈 Fetching data for COIN\n"
     ]
    },
    {
     "name": "stderr",
     "output_type": "stream",
     "text": [
      "\n"
     ]
    },
    {
     "name": "stdout",
     "output_type": "stream",
     "text": [
      "✅ Morning Star: 286/500\n",
      "✅ Morning Star: 287/500\n",
      "✅ Ascending Triangle: 267/500\n",
      "✅ Descending Triangle: 125/500\n",
      "✅ Descending Triangle: 126/500\n",
      "✅ Hanging Man: 184/500\n",
      "✅ Hanging Man: 185/500\n",
      "✅ Hanging Man: 186/500\n",
      "✅ Hanging Man: 187/500\n"
     ]
    },
    {
     "name": "stderr",
     "output_type": "stream",
     "text": [
      "[*********************100%***********************]  1 of 1 completed"
     ]
    },
    {
     "name": "stdout",
     "output_type": "stream",
     "text": [
      "✅ Hanging Man: 188/500\n",
      "📈 Fetching data for XOM\n"
     ]
    },
    {
     "name": "stderr",
     "output_type": "stream",
     "text": [
      "\n"
     ]
    },
    {
     "name": "stdout",
     "output_type": "stream",
     "text": [
      "✅ Shooting Star: 114/500\n",
      "✅ Morning Star: 288/500\n",
      "✅ Morning Star: 289/500\n",
      "✅ Head and Shoulders: 258/500\n",
      "📈 Fetching data for CVX\n"
     ]
    },
    {
     "name": "stderr",
     "output_type": "stream",
     "text": [
      "[*********************100%***********************]  1 of 1 completed\n"
     ]
    },
    {
     "name": "stdout",
     "output_type": "stream",
     "text": [
      "✅ Evening Star: 65/500\n"
     ]
    },
    {
     "name": "stderr",
     "output_type": "stream",
     "text": [
      "[*********************100%***********************]  1 of 1 completed"
     ]
    },
    {
     "name": "stdout",
     "output_type": "stream",
     "text": [
      "✅ Head and Shoulders: 259/500\n",
      "📈 Fetching data for BA\n"
     ]
    },
    {
     "name": "stderr",
     "output_type": "stream",
     "text": [
      "\n"
     ]
    },
    {
     "name": "stdout",
     "output_type": "stream",
     "text": [
      "✅ Descending Triangle: 127/500\n",
      "✅ Descending Triangle: 128/500\n",
      "✅ Morning Star: 290/500\n",
      "✅ Morning Star: 291/500\n",
      "✅ Morning Star: 292/500\n",
      "✅ Morning Star: 293/500\n",
      "✅ Morning Star: 294/500\n",
      "✅ Morning Star: 295/500\n",
      "✅ Morning Star: 296/500\n"
     ]
    },
    {
     "name": "stderr",
     "output_type": "stream",
     "text": [
      "[*********************100%***********************]  1 of 1 completed"
     ]
    },
    {
     "name": "stdout",
     "output_type": "stream",
     "text": [
      "✅ Morning Star: 297/500\n",
      "📈 Fetching data for CAT\n"
     ]
    },
    {
     "name": "stderr",
     "output_type": "stream",
     "text": [
      "\n"
     ]
    },
    {
     "name": "stdout",
     "output_type": "stream",
     "text": [
      "✅ Hammer: 115/500\n",
      "✅ Hammer: 116/500\n",
      "✅ Hammer: 117/500\n",
      "✅ Hammer: 118/500\n",
      "✅ Hammer: 119/500\n",
      "✅ Hammer: 120/500\n"
     ]
    },
    {
     "name": "stderr",
     "output_type": "stream",
     "text": [
      "[*********************100%***********************]  1 of 1 completed"
     ]
    },
    {
     "name": "stdout",
     "output_type": "stream",
     "text": [
      "✅ Shooting Star: 115/500\n",
      "📈 Fetching data for DE\n"
     ]
    },
    {
     "name": "stderr",
     "output_type": "stream",
     "text": [
      "\n"
     ]
    },
    {
     "name": "stdout",
     "output_type": "stream",
     "text": [
      "✅ Morning Star: 298/500\n",
      "✅ Shooting Star: 116/500\n",
      "✅ Shooting Star: 117/500\n",
      "✅ Shooting Star: 118/500\n",
      "✅ Ascending Triangle: 268/500\n",
      "✅ Ascending Triangle: 269/500\n",
      "✅ Head and Shoulders: 260/500\n",
      "✅ Head and Shoulders: 261/500\n",
      "✅ Head and Shoulders: 262/500\n",
      "✅ Head and Shoulders: 263/500\n"
     ]
    },
    {
     "name": "stderr",
     "output_type": "stream",
     "text": [
      "[*********************100%***********************]  1 of 1 completed"
     ]
    },
    {
     "name": "stdout",
     "output_type": "stream",
     "text": [
      "📈 Fetching data for PFE\n"
     ]
    },
    {
     "name": "stderr",
     "output_type": "stream",
     "text": [
      "\n"
     ]
    },
    {
     "name": "stdout",
     "output_type": "stream",
     "text": [
      "✅ Shooting Star: 119/500\n",
      "✅ Morning Star: 299/500\n",
      "✅ Morning Star: 300/500\n",
      "✅ Morning Star: 301/500\n",
      "✅ Morning Star: 302/500\n",
      "✅ Hanging Man: 189/500\n",
      "✅ Hanging Man: 190/500\n",
      "✅ Hanging Man: 191/500\n",
      "✅ Hanging Man: 192/500\n",
      "✅ Ascending Triangle: 270/500\n",
      "📈 Fetching data for JNJ\n"
     ]
    },
    {
     "name": "stderr",
     "output_type": "stream",
     "text": [
      "[*********************100%***********************]  1 of 1 completed\n"
     ]
    },
    {
     "name": "stdout",
     "output_type": "stream",
     "text": [
      "✅ Head and Shoulders: 264/500\n",
      "📈 Fetching data for MRK\n"
     ]
    },
    {
     "name": "stderr",
     "output_type": "stream",
     "text": [
      "[*********************100%***********************]  1 of 1 completed\n"
     ]
    },
    {
     "name": "stdout",
     "output_type": "stream",
     "text": [
      "✅ Ascending Triangle: 271/500\n",
      "✅ Head and Shoulders: 265/500\n",
      "✅ Head and Shoulders: 266/500\n",
      "✅ Head and Shoulders: 267/500\n",
      "📈 Fetching data for LLY\n"
     ]
    },
    {
     "name": "stderr",
     "output_type": "stream",
     "text": [
      "[*********************100%***********************]  1 of 1 completed\n"
     ]
    },
    {
     "name": "stdout",
     "output_type": "stream",
     "text": [
      "✅ Hanging Man: 193/500\n",
      "✅ Hanging Man: 194/500\n",
      "✅ Hanging Man: 195/500\n",
      "✅ Head and Shoulders: 268/500\n",
      "✅ Head and Shoulders: 269/500\n",
      "✅ Head and Shoulders: 270/500\n",
      "✅ Ascending Triangle: 272/500\n",
      "✅ Shooting Star: 120/500\n"
     ]
    },
    {
     "name": "stderr",
     "output_type": "stream",
     "text": [
      "[*********************100%***********************]  1 of 1 completed"
     ]
    },
    {
     "name": "stdout",
     "output_type": "stream",
     "text": [
      "📈 Fetching data for PLTR\n",
      "✅ Head and Shoulders: 271/500\n"
     ]
    },
    {
     "name": "stderr",
     "output_type": "stream",
     "text": [
      "\n",
      "[*********************100%***********************]  1 of 1 completed"
     ]
    },
    {
     "name": "stdout",
     "output_type": "stream",
     "text": [
      "✅ Evening Star: 66/500\n",
      "📈 Fetching data for SNOW\n"
     ]
    },
    {
     "name": "stderr",
     "output_type": "stream",
     "text": [
      "\n",
      "[*********************100%***********************]  1 of 1 completed"
     ]
    },
    {
     "name": "stdout",
     "output_type": "stream",
     "text": [
      "✅ Descending Triangle: 129/500\n",
      "📈 Fetching data for SHOP\n"
     ]
    },
    {
     "name": "stderr",
     "output_type": "stream",
     "text": [
      "\n"
     ]
    },
    {
     "name": "stdout",
     "output_type": "stream",
     "text": [
      "✅ Morning Star: 303/500\n",
      "✅ Morning Star: 304/500\n",
      "✅ Morning Star: 305/500\n",
      "✅ Shooting Star: 121/500\n",
      "✅ Ascending Triangle: 273/500\n"
     ]
    },
    {
     "name": "stderr",
     "output_type": "stream",
     "text": [
      "[*********************100%***********************]  1 of 1 completed"
     ]
    },
    {
     "name": "stdout",
     "output_type": "stream",
     "text": [
      "📈 Fetching data for RIVN\n",
      "✅ Descending Triangle: 130/500\n"
     ]
    },
    {
     "name": "stderr",
     "output_type": "stream",
     "text": [
      "\n",
      "[*********************100%***********************]  1 of 1 completed"
     ]
    },
    {
     "name": "stdout",
     "output_type": "stream",
     "text": [
      "📈 Fetching data for UBER\n"
     ]
    },
    {
     "name": "stderr",
     "output_type": "stream",
     "text": [
      "\n"
     ]
    },
    {
     "name": "stdout",
     "output_type": "stream",
     "text": [
      "✅ Descending Triangle: 131/500\n"
     ]
    },
    {
     "name": "stderr",
     "output_type": "stream",
     "text": [
      "[*********************100%***********************]  1 of 1 completed"
     ]
    },
    {
     "name": "stdout",
     "output_type": "stream",
     "text": [
      "✅ Hanging Man: 196/500\n",
      "📈 Fetching data for SPY\n"
     ]
    },
    {
     "name": "stderr",
     "output_type": "stream",
     "text": [
      "\n"
     ]
    },
    {
     "name": "stdout",
     "output_type": "stream",
     "text": [
      "✅ Hanging Man: 197/500\n",
      "✅ Head and Shoulders: 272/500\n",
      "✅ Head and Shoulders: 273/500\n",
      "✅ Head and Shoulders: 274/500\n",
      "✅ Head and Shoulders: 275/500\n",
      "📈 Fetching data for QQQ\n"
     ]
    },
    {
     "name": "stderr",
     "output_type": "stream",
     "text": [
      "[*********************100%***********************]  1 of 1 completed\n"
     ]
    },
    {
     "name": "stdout",
     "output_type": "stream",
     "text": [
      "✅ Ascending Triangle: 274/500\n",
      "✅ Ascending Triangle: 275/500\n",
      "✅ Morning Star: 306/500\n",
      "✅ Hanging Man: 198/500\n",
      "✅ Hammer: 121/500\n",
      "✅ Descending Triangle: 132/500\n",
      "✅ Morning Star: 307/500\n",
      "✅ Morning Star: 308/500\n",
      "🔁 Pass 12 over symbols...\n",
      "📈 Fetching data for AAPL\n"
     ]
    },
    {
     "name": "stderr",
     "output_type": "stream",
     "text": [
      "[*********************100%***********************]  1 of 1 completed\n"
     ]
    },
    {
     "name": "stdout",
     "output_type": "stream",
     "text": [
      "✅ Hammer: 122/500\n",
      "✅ Descending Triangle: 133/500\n",
      "✅ Ascending Triangle: 276/500\n",
      "✅ Ascending Triangle: 277/500\n",
      "✅ Ascending Triangle: 278/500\n",
      "✅ Hanging Man: 199/500\n"
     ]
    },
    {
     "name": "stderr",
     "output_type": "stream",
     "text": [
      "[*********************100%***********************]  1 of 1 completed"
     ]
    },
    {
     "name": "stdout",
     "output_type": "stream",
     "text": [
      "📈 Fetching data for MSFT\n"
     ]
    },
    {
     "name": "stderr",
     "output_type": "stream",
     "text": [
      "\n"
     ]
    },
    {
     "name": "stdout",
     "output_type": "stream",
     "text": [
      "✅ Hammer: 123/500\n",
      "✅ Hammer: 124/500\n",
      "✅ Head and Shoulders: 276/500\n",
      "📈 Fetching data for GOOGL\n"
     ]
    },
    {
     "name": "stderr",
     "output_type": "stream",
     "text": [
      "[*********************100%***********************]  1 of 1 completed\n"
     ]
    },
    {
     "name": "stdout",
     "output_type": "stream",
     "text": [
      "✅ Morning Star: 309/500\n",
      "✅ Morning Star: 310/500\n"
     ]
    },
    {
     "name": "stderr",
     "output_type": "stream",
     "text": [
      "[*********************100%***********************]  1 of 1 completed"
     ]
    },
    {
     "name": "stdout",
     "output_type": "stream",
     "text": [
      "📈 Fetching data for AMZN\n"
     ]
    },
    {
     "name": "stderr",
     "output_type": "stream",
     "text": [
      "\n"
     ]
    },
    {
     "name": "stdout",
     "output_type": "stream",
     "text": [
      "✅ Morning Star: 311/500\n",
      "✅ Morning Star: 312/500\n",
      "✅ Descending Triangle: 134/500\n",
      "✅ Descending Triangle: 135/500\n"
     ]
    },
    {
     "name": "stderr",
     "output_type": "stream",
     "text": [
      "[*********************100%***********************]  1 of 1 completed"
     ]
    },
    {
     "name": "stdout",
     "output_type": "stream",
     "text": [
      "✅ Hammer: 125/500\n",
      "📈 Fetching data for META\n"
     ]
    },
    {
     "name": "stderr",
     "output_type": "stream",
     "text": [
      "\n"
     ]
    },
    {
     "name": "stdout",
     "output_type": "stream",
     "text": [
      "✅ Head and Shoulders: 277/500\n",
      "✅ Head and Shoulders: 278/500\n",
      "✅ Head and Shoulders: 279/500\n",
      "✅ Hanging Man: 200/500\n",
      "📈 Fetching data for NVDA\n"
     ]
    },
    {
     "name": "stderr",
     "output_type": "stream",
     "text": [
      "[*********************100%***********************]  1 of 1 completed\n"
     ]
    },
    {
     "name": "stdout",
     "output_type": "stream",
     "text": [
      "✅ Ascending Triangle: 279/500\n",
      "✅ Ascending Triangle: 280/500\n",
      "✅ Ascending Triangle: 281/500\n",
      "✅ Shooting Star: 122/500\n",
      "✅ Ascending Triangle: 282/500\n",
      "✅ Hanging Man: 201/500\n",
      "✅ Ascending Triangle: 283/500\n"
     ]
    },
    {
     "name": "stderr",
     "output_type": "stream",
     "text": [
      "[*********************100%***********************]  1 of 1 completed"
     ]
    },
    {
     "name": "stdout",
     "output_type": "stream",
     "text": [
      "✅ Ascending Triangle: 284/500\n",
      "📈 Fetching data for TSLA\n"
     ]
    },
    {
     "name": "stderr",
     "output_type": "stream",
     "text": [
      "\n"
     ]
    },
    {
     "name": "stdout",
     "output_type": "stream",
     "text": [
      "✅ Descending Triangle: 136/500\n",
      "✅ Ascending Triangle: 285/500\n",
      "✅ Shooting Star: 123/500\n"
     ]
    },
    {
     "name": "stderr",
     "output_type": "stream",
     "text": [
      "[*********************100%***********************]  1 of 1 completed"
     ]
    },
    {
     "name": "stdout",
     "output_type": "stream",
     "text": [
      "📈 Fetching data for NFLX\n"
     ]
    },
    {
     "name": "stderr",
     "output_type": "stream",
     "text": [
      "\n"
     ]
    },
    {
     "name": "stdout",
     "output_type": "stream",
     "text": [
      "✅ Morning Star: 313/500\n",
      "✅ Evening Star: 67/500\n",
      "✅ Evening Star: 68/500\n",
      "✅ Head and Shoulders: 280/500\n",
      "📈 Fetching data for JPM\n"
     ]
    },
    {
     "name": "stderr",
     "output_type": "stream",
     "text": [
      "[*********************100%***********************]  1 of 1 completed\n"
     ]
    },
    {
     "name": "stdout",
     "output_type": "stream",
     "text": [
      "✅ Evening Star: 69/500\n",
      "✅ Evening Star: 70/500\n",
      "✅ Head and Shoulders: 281/500\n",
      "✅ Shooting Star: 124/500\n"
     ]
    },
    {
     "name": "stderr",
     "output_type": "stream",
     "text": [
      "[*********************100%***********************]  1 of 1 completed"
     ]
    },
    {
     "name": "stdout",
     "output_type": "stream",
     "text": [
      "📈 Fetching data for BAC\n"
     ]
    },
    {
     "name": "stderr",
     "output_type": "stream",
     "text": [
      "\n"
     ]
    },
    {
     "name": "stdout",
     "output_type": "stream",
     "text": [
      "✅ Head and Shoulders: 282/500\n"
     ]
    },
    {
     "name": "stderr",
     "output_type": "stream",
     "text": [
      "[*********************100%***********************]  1 of 1 completed"
     ]
    },
    {
     "name": "stdout",
     "output_type": "stream",
     "text": [
      "📈 Fetching data for V\n"
     ]
    },
    {
     "name": "stderr",
     "output_type": "stream",
     "text": [
      "\n"
     ]
    },
    {
     "name": "stdout",
     "output_type": "stream",
     "text": [
      "✅ Ascending Triangle: 286/500\n",
      "✅ Ascending Triangle: 287/500\n"
     ]
    },
    {
     "name": "stderr",
     "output_type": "stream",
     "text": [
      "[*********************100%***********************]  1 of 1 completed"
     ]
    },
    {
     "name": "stdout",
     "output_type": "stream",
     "text": [
      "✅ Inverted Hammer: 12/500\n",
      "📈 Fetching data for MA\n"
     ]
    },
    {
     "name": "stderr",
     "output_type": "stream",
     "text": [
      "\n",
      "[*********************100%***********************]  1 of 1 completed"
     ]
    },
    {
     "name": "stdout",
     "output_type": "stream",
     "text": [
      "✅ Ascending Triangle: 288/500\n",
      "📈 Fetching data for SOFI\n"
     ]
    },
    {
     "name": "stderr",
     "output_type": "stream",
     "text": [
      "\n"
     ]
    },
    {
     "name": "stdout",
     "output_type": "stream",
     "text": [
      "✅ Ascending Triangle: 289/500\n",
      "✅ Ascending Triangle: 290/500\n"
     ]
    },
    {
     "name": "stderr",
     "output_type": "stream",
     "text": [
      "[*********************100%***********************]  1 of 1 completed"
     ]
    },
    {
     "name": "stdout",
     "output_type": "stream",
     "text": [
      "✅ Ascending Triangle: 291/500\n",
      "📈 Fetching data for COIN\n"
     ]
    },
    {
     "name": "stderr",
     "output_type": "stream",
     "text": [
      "\n"
     ]
    },
    {
     "name": "stdout",
     "output_type": "stream",
     "text": [
      "✅ Morning Star: 314/500\n",
      "✅ Morning Star: 315/500\n",
      "✅ Ascending Triangle: 292/500\n",
      "✅ Descending Triangle: 137/500\n",
      "✅ Descending Triangle: 138/500\n",
      "✅ Hanging Man: 202/500\n",
      "✅ Hanging Man: 203/500\n",
      "✅ Hanging Man: 204/500\n",
      "✅ Hanging Man: 205/500\n",
      "✅ Hanging Man: 206/500\n"
     ]
    },
    {
     "name": "stderr",
     "output_type": "stream",
     "text": [
      "[*********************100%***********************]  1 of 1 completed"
     ]
    },
    {
     "name": "stdout",
     "output_type": "stream",
     "text": [
      "📈 Fetching data for XOM\n"
     ]
    },
    {
     "name": "stderr",
     "output_type": "stream",
     "text": [
      "\n"
     ]
    },
    {
     "name": "stdout",
     "output_type": "stream",
     "text": [
      "✅ Shooting Star: 125/500\n",
      "✅ Morning Star: 316/500\n",
      "✅ Morning Star: 317/500\n"
     ]
    },
    {
     "name": "stderr",
     "output_type": "stream",
     "text": [
      "[*********************100%***********************]  1 of 1 completed"
     ]
    },
    {
     "name": "stdout",
     "output_type": "stream",
     "text": [
      "✅ Head and Shoulders: 283/500\n",
      "📈 Fetching data for CVX\n"
     ]
    },
    {
     "name": "stderr",
     "output_type": "stream",
     "text": [
      "\n"
     ]
    },
    {
     "name": "stdout",
     "output_type": "stream",
     "text": [
      "✅ Evening Star: 71/500\n"
     ]
    },
    {
     "name": "stderr",
     "output_type": "stream",
     "text": [
      "[*********************100%***********************]  1 of 1 completed"
     ]
    },
    {
     "name": "stdout",
     "output_type": "stream",
     "text": [
      "✅ Head and Shoulders: 284/500\n",
      "📈 Fetching data for BA\n"
     ]
    },
    {
     "name": "stderr",
     "output_type": "stream",
     "text": [
      "\n"
     ]
    },
    {
     "name": "stdout",
     "output_type": "stream",
     "text": [
      "✅ Descending Triangle: 139/500\n",
      "✅ Descending Triangle: 140/500\n",
      "✅ Morning Star: 318/500\n",
      "✅ Morning Star: 319/500\n",
      "✅ Morning Star: 320/500\n",
      "✅ Morning Star: 321/500\n",
      "✅ Morning Star: 322/500\n",
      "✅ Morning Star: 323/500\n",
      "✅ Morning Star: 324/500\n"
     ]
    },
    {
     "name": "stderr",
     "output_type": "stream",
     "text": [
      "[*********************100%***********************]  1 of 1 completed"
     ]
    },
    {
     "name": "stdout",
     "output_type": "stream",
     "text": [
      "✅ Morning Star: 325/500\n",
      "📈 Fetching data for CAT\n"
     ]
    },
    {
     "name": "stderr",
     "output_type": "stream",
     "text": [
      "\n"
     ]
    },
    {
     "name": "stdout",
     "output_type": "stream",
     "text": [
      "✅ Hammer: 126/500\n",
      "✅ Hammer: 127/500\n",
      "✅ Hammer: 128/500\n",
      "✅ Hammer: 129/500\n",
      "✅ Hammer: 130/500\n",
      "✅ Hammer: 131/500\n"
     ]
    },
    {
     "name": "stderr",
     "output_type": "stream",
     "text": [
      "[*********************100%***********************]  1 of 1 completed"
     ]
    },
    {
     "name": "stdout",
     "output_type": "stream",
     "text": [
      "✅ Shooting Star: 126/500\n",
      "📈 Fetching data for DE\n"
     ]
    },
    {
     "name": "stderr",
     "output_type": "stream",
     "text": [
      "\n"
     ]
    },
    {
     "name": "stdout",
     "output_type": "stream",
     "text": [
      "✅ Morning Star: 326/500\n",
      "✅ Shooting Star: 127/500\n",
      "✅ Shooting Star: 128/500\n",
      "✅ Shooting Star: 129/500\n",
      "✅ Ascending Triangle: 293/500\n",
      "✅ Ascending Triangle: 294/500\n",
      "✅ Head and Shoulders: 285/500\n",
      "✅ Head and Shoulders: 286/500\n",
      "✅ Head and Shoulders: 287/500\n",
      "✅ Head and Shoulders: 288/500\n",
      "📈 Fetching data for PFE\n"
     ]
    },
    {
     "name": "stderr",
     "output_type": "stream",
     "text": [
      "[*********************100%***********************]  1 of 1 completed\n"
     ]
    },
    {
     "name": "stdout",
     "output_type": "stream",
     "text": [
      "✅ Shooting Star: 130/500\n",
      "✅ Morning Star: 327/500\n",
      "✅ Morning Star: 328/500\n",
      "✅ Morning Star: 329/500\n",
      "✅ Morning Star: 330/500\n",
      "✅ Hanging Man: 207/500\n",
      "✅ Hanging Man: 208/500\n",
      "✅ Hanging Man: 209/500\n",
      "✅ Hanging Man: 210/500\n",
      "✅ Ascending Triangle: 295/500\n",
      "📈 Fetching data for JNJ\n"
     ]
    },
    {
     "name": "stderr",
     "output_type": "stream",
     "text": [
      "[*********************100%***********************]  1 of 1 completed\n"
     ]
    },
    {
     "name": "stdout",
     "output_type": "stream",
     "text": [
      "✅ Head and Shoulders: 289/500\n",
      "📈 Fetching data for MRK\n"
     ]
    },
    {
     "name": "stderr",
     "output_type": "stream",
     "text": [
      "[*********************100%***********************]  1 of 1 completed\n"
     ]
    },
    {
     "name": "stdout",
     "output_type": "stream",
     "text": [
      "✅ Ascending Triangle: 296/500\n",
      "✅ Head and Shoulders: 290/500\n",
      "✅ Head and Shoulders: 291/500\n",
      "✅ Head and Shoulders: 292/500\n",
      "📈 Fetching data for LLY\n"
     ]
    },
    {
     "name": "stderr",
     "output_type": "stream",
     "text": [
      "[*********************100%***********************]  1 of 1 completed\n"
     ]
    },
    {
     "name": "stdout",
     "output_type": "stream",
     "text": [
      "✅ Hanging Man: 211/500\n",
      "✅ Hanging Man: 212/500\n",
      "✅ Hanging Man: 213/500\n",
      "✅ Head and Shoulders: 293/500\n",
      "✅ Head and Shoulders: 294/500\n",
      "✅ Head and Shoulders: 295/500\n",
      "✅ Ascending Triangle: 297/500\n",
      "✅ Shooting Star: 131/500\n"
     ]
    },
    {
     "name": "stderr",
     "output_type": "stream",
     "text": [
      "[*********************100%***********************]  1 of 1 completed"
     ]
    },
    {
     "name": "stdout",
     "output_type": "stream",
     "text": [
      "📈 Fetching data for PLTR\n",
      "✅ Head and Shoulders: 296/500\n"
     ]
    },
    {
     "name": "stderr",
     "output_type": "stream",
     "text": [
      "\n",
      "[*********************100%***********************]  1 of 1 completed"
     ]
    },
    {
     "name": "stdout",
     "output_type": "stream",
     "text": [
      "✅ Evening Star: 72/500\n",
      "📈 Fetching data for SNOW\n"
     ]
    },
    {
     "name": "stderr",
     "output_type": "stream",
     "text": [
      "\n",
      "[*********************100%***********************]  1 of 1 completed"
     ]
    },
    {
     "name": "stdout",
     "output_type": "stream",
     "text": [
      "✅ Descending Triangle: 141/500\n",
      "📈 Fetching data for SHOP\n"
     ]
    },
    {
     "name": "stderr",
     "output_type": "stream",
     "text": [
      "\n"
     ]
    },
    {
     "name": "stdout",
     "output_type": "stream",
     "text": [
      "✅ Morning Star: 331/500\n",
      "✅ Morning Star: 332/500\n",
      "✅ Morning Star: 333/500\n",
      "✅ Shooting Star: 132/500\n",
      "✅ Ascending Triangle: 298/500\n",
      "📈 Fetching data for RIVN\n"
     ]
    },
    {
     "name": "stderr",
     "output_type": "stream",
     "text": [
      "[*********************100%***********************]  1 of 1 completed\n",
      "[*********************100%***********************]  1 of 1 completed"
     ]
    },
    {
     "name": "stdout",
     "output_type": "stream",
     "text": [
      "✅ Descending Triangle: 142/500\n",
      "📈 Fetching data for UBER\n"
     ]
    },
    {
     "name": "stderr",
     "output_type": "stream",
     "text": [
      "\n"
     ]
    },
    {
     "name": "stdout",
     "output_type": "stream",
     "text": [
      "✅ Descending Triangle: 143/500\n"
     ]
    },
    {
     "name": "stderr",
     "output_type": "stream",
     "text": [
      "[*********************100%***********************]  1 of 1 completed"
     ]
    },
    {
     "name": "stdout",
     "output_type": "stream",
     "text": [
      "✅ Hanging Man: 214/500\n",
      "📈 Fetching data for SPY\n"
     ]
    },
    {
     "name": "stderr",
     "output_type": "stream",
     "text": [
      "\n"
     ]
    },
    {
     "name": "stdout",
     "output_type": "stream",
     "text": [
      "✅ Hanging Man: 215/500\n",
      "✅ Head and Shoulders: 297/500\n",
      "✅ Head and Shoulders: 298/500\n",
      "✅ Head and Shoulders: 299/500\n",
      "✅ Head and Shoulders: 300/500\n"
     ]
    },
    {
     "name": "stderr",
     "output_type": "stream",
     "text": [
      "[*********************100%***********************]  1 of 1 completed"
     ]
    },
    {
     "name": "stdout",
     "output_type": "stream",
     "text": [
      "📈 Fetching data for QQQ\n"
     ]
    },
    {
     "name": "stderr",
     "output_type": "stream",
     "text": [
      "\n"
     ]
    },
    {
     "name": "stdout",
     "output_type": "stream",
     "text": [
      "✅ Ascending Triangle: 299/500\n",
      "✅ Ascending Triangle: 300/500\n",
      "✅ Morning Star: 334/500\n",
      "✅ Hanging Man: 216/500\n",
      "✅ Hammer: 132/500\n",
      "✅ Descending Triangle: 144/500\n",
      "✅ Morning Star: 335/500\n",
      "✅ Morning Star: 336/500\n",
      "🔁 Pass 13 over symbols...\n",
      "📈 Fetching data for AAPL\n"
     ]
    },
    {
     "name": "stderr",
     "output_type": "stream",
     "text": [
      "[*********************100%***********************]  1 of 1 completed\n"
     ]
    },
    {
     "name": "stdout",
     "output_type": "stream",
     "text": [
      "✅ Hammer: 133/500\n",
      "✅ Descending Triangle: 145/500\n",
      "✅ Ascending Triangle: 301/500\n",
      "✅ Ascending Triangle: 302/500\n",
      "✅ Ascending Triangle: 303/500\n",
      "✅ Hanging Man: 217/500\n"
     ]
    },
    {
     "name": "stderr",
     "output_type": "stream",
     "text": [
      "[*********************100%***********************]  1 of 1 completed"
     ]
    },
    {
     "name": "stdout",
     "output_type": "stream",
     "text": [
      "📈 Fetching data for MSFT\n"
     ]
    },
    {
     "name": "stderr",
     "output_type": "stream",
     "text": [
      "\n"
     ]
    },
    {
     "name": "stdout",
     "output_type": "stream",
     "text": [
      "✅ Hammer: 134/500\n",
      "✅ Hammer: 135/500\n",
      "✅ Head and Shoulders: 301/500\n",
      "📈 Fetching data for GOOGL\n"
     ]
    },
    {
     "name": "stderr",
     "output_type": "stream",
     "text": [
      "[*********************100%***********************]  1 of 1 completed\n"
     ]
    },
    {
     "name": "stdout",
     "output_type": "stream",
     "text": [
      "✅ Morning Star: 337/500\n",
      "✅ Morning Star: 338/500\n",
      "📈 Fetching data for AMZN\n"
     ]
    },
    {
     "name": "stderr",
     "output_type": "stream",
     "text": [
      "[*********************100%***********************]  1 of 1 completed\n"
     ]
    },
    {
     "name": "stdout",
     "output_type": "stream",
     "text": [
      "✅ Morning Star: 339/500\n",
      "✅ Morning Star: 340/500\n",
      "✅ Descending Triangle: 146/500\n",
      "✅ Descending Triangle: 147/500\n"
     ]
    },
    {
     "name": "stderr",
     "output_type": "stream",
     "text": [
      "[*********************100%***********************]  1 of 1 completed"
     ]
    },
    {
     "name": "stdout",
     "output_type": "stream",
     "text": [
      "✅ Hammer: 136/500\n",
      "📈 Fetching data for META\n"
     ]
    },
    {
     "name": "stderr",
     "output_type": "stream",
     "text": [
      "\n"
     ]
    },
    {
     "name": "stdout",
     "output_type": "stream",
     "text": [
      "✅ Head and Shoulders: 302/500\n",
      "✅ Head and Shoulders: 303/500\n",
      "✅ Head and Shoulders: 304/500\n",
      "✅ Hanging Man: 218/500\n",
      "📈 Fetching data for NVDA\n"
     ]
    },
    {
     "name": "stderr",
     "output_type": "stream",
     "text": [
      "[*********************100%***********************]  1 of 1 completed\n"
     ]
    },
    {
     "name": "stdout",
     "output_type": "stream",
     "text": [
      "✅ Ascending Triangle: 304/500\n",
      "✅ Ascending Triangle: 305/500\n",
      "✅ Ascending Triangle: 306/500\n",
      "✅ Shooting Star: 133/500\n",
      "✅ Ascending Triangle: 307/500\n",
      "✅ Hanging Man: 219/500\n",
      "✅ Ascending Triangle: 308/500\n"
     ]
    },
    {
     "name": "stderr",
     "output_type": "stream",
     "text": [
      "[*********************100%***********************]  1 of 1 completed"
     ]
    },
    {
     "name": "stdout",
     "output_type": "stream",
     "text": [
      "✅ Ascending Triangle: 309/500\n",
      "📈 Fetching data for TSLA\n"
     ]
    },
    {
     "name": "stderr",
     "output_type": "stream",
     "text": [
      "\n"
     ]
    },
    {
     "name": "stdout",
     "output_type": "stream",
     "text": [
      "✅ Descending Triangle: 148/500\n",
      "✅ Ascending Triangle: 310/500\n",
      "✅ Shooting Star: 134/500\n"
     ]
    },
    {
     "name": "stderr",
     "output_type": "stream",
     "text": [
      "[*********************100%***********************]  1 of 1 completed"
     ]
    },
    {
     "name": "stdout",
     "output_type": "stream",
     "text": [
      "📈 Fetching data for NFLX\n"
     ]
    },
    {
     "name": "stderr",
     "output_type": "stream",
     "text": [
      "\n"
     ]
    },
    {
     "name": "stdout",
     "output_type": "stream",
     "text": [
      "✅ Morning Star: 341/500\n",
      "✅ Evening Star: 73/500\n",
      "✅ Evening Star: 74/500\n"
     ]
    },
    {
     "name": "stderr",
     "output_type": "stream",
     "text": [
      "[*********************100%***********************]  1 of 1 completed"
     ]
    },
    {
     "name": "stdout",
     "output_type": "stream",
     "text": [
      "✅ Head and Shoulders: 305/500\n",
      "📈 Fetching data for JPM\n"
     ]
    },
    {
     "name": "stderr",
     "output_type": "stream",
     "text": [
      "\n"
     ]
    },
    {
     "name": "stdout",
     "output_type": "stream",
     "text": [
      "✅ Evening Star: 75/500\n",
      "✅ Evening Star: 76/500\n",
      "✅ Head and Shoulders: 306/500\n",
      "✅ Shooting Star: 135/500\n"
     ]
    },
    {
     "name": "stderr",
     "output_type": "stream",
     "text": [
      "[*********************100%***********************]  1 of 1 completed"
     ]
    },
    {
     "name": "stdout",
     "output_type": "stream",
     "text": [
      "📈 Fetching data for BAC\n"
     ]
    },
    {
     "name": "stderr",
     "output_type": "stream",
     "text": [
      "\n"
     ]
    },
    {
     "name": "stdout",
     "output_type": "stream",
     "text": [
      "✅ Head and Shoulders: 307/500\n"
     ]
    },
    {
     "name": "stderr",
     "output_type": "stream",
     "text": [
      "[*********************100%***********************]  1 of 1 completed"
     ]
    },
    {
     "name": "stdout",
     "output_type": "stream",
     "text": [
      "📈 Fetching data for V\n"
     ]
    },
    {
     "name": "stderr",
     "output_type": "stream",
     "text": [
      "\n"
     ]
    },
    {
     "name": "stdout",
     "output_type": "stream",
     "text": [
      "✅ Ascending Triangle: 311/500\n",
      "✅ Ascending Triangle: 312/500\n"
     ]
    },
    {
     "name": "stderr",
     "output_type": "stream",
     "text": [
      "[*********************100%***********************]  1 of 1 completed"
     ]
    },
    {
     "name": "stdout",
     "output_type": "stream",
     "text": [
      "✅ Inverted Hammer: 13/500\n",
      "📈 Fetching data for MA\n"
     ]
    },
    {
     "name": "stderr",
     "output_type": "stream",
     "text": [
      "\n",
      "[*********************100%***********************]  1 of 1 completed"
     ]
    },
    {
     "name": "stdout",
     "output_type": "stream",
     "text": [
      "✅ Ascending Triangle: 313/500\n",
      "📈 Fetching data for SOFI\n"
     ]
    },
    {
     "name": "stderr",
     "output_type": "stream",
     "text": [
      "\n"
     ]
    },
    {
     "name": "stdout",
     "output_type": "stream",
     "text": [
      "✅ Ascending Triangle: 314/500\n",
      "✅ Ascending Triangle: 315/500\n",
      "✅ Ascending Triangle: 316/500\n"
     ]
    },
    {
     "name": "stderr",
     "output_type": "stream",
     "text": [
      "[*********************100%***********************]  1 of 1 completed"
     ]
    },
    {
     "name": "stdout",
     "output_type": "stream",
     "text": [
      "📈 Fetching data for COIN\n"
     ]
    },
    {
     "name": "stderr",
     "output_type": "stream",
     "text": [
      "\n"
     ]
    },
    {
     "name": "stdout",
     "output_type": "stream",
     "text": [
      "✅ Morning Star: 342/500\n",
      "✅ Morning Star: 343/500\n",
      "✅ Ascending Triangle: 317/500\n",
      "✅ Descending Triangle: 149/500\n",
      "✅ Descending Triangle: 150/500\n",
      "✅ Hanging Man: 220/500\n",
      "✅ Hanging Man: 221/500\n",
      "✅ Hanging Man: 222/500\n",
      "✅ Hanging Man: 223/500\n",
      "✅ Hanging Man: 224/500\n",
      "📈 Fetching data for XOM\n"
     ]
    },
    {
     "name": "stderr",
     "output_type": "stream",
     "text": [
      "[*********************100%***********************]  1 of 1 completed\n"
     ]
    },
    {
     "name": "stdout",
     "output_type": "stream",
     "text": [
      "✅ Shooting Star: 136/500\n",
      "✅ Morning Star: 344/500\n",
      "✅ Morning Star: 345/500\n"
     ]
    },
    {
     "name": "stderr",
     "output_type": "stream",
     "text": [
      "[*********************100%***********************]  1 of 1 completed"
     ]
    },
    {
     "name": "stdout",
     "output_type": "stream",
     "text": [
      "✅ Head and Shoulders: 308/500\n",
      "📈 Fetching data for CVX\n"
     ]
    },
    {
     "name": "stderr",
     "output_type": "stream",
     "text": [
      "\n"
     ]
    },
    {
     "name": "stdout",
     "output_type": "stream",
     "text": [
      "✅ Evening Star: 77/500\n"
     ]
    },
    {
     "name": "stderr",
     "output_type": "stream",
     "text": [
      "[*********************100%***********************]  1 of 1 completed"
     ]
    },
    {
     "name": "stdout",
     "output_type": "stream",
     "text": [
      "✅ Head and Shoulders: 309/500\n",
      "📈 Fetching data for BA\n"
     ]
    },
    {
     "name": "stderr",
     "output_type": "stream",
     "text": [
      "\n"
     ]
    },
    {
     "name": "stdout",
     "output_type": "stream",
     "text": [
      "✅ Descending Triangle: 151/500\n",
      "✅ Descending Triangle: 152/500\n",
      "✅ Morning Star: 346/500\n",
      "✅ Morning Star: 347/500\n",
      "✅ Morning Star: 348/500\n",
      "✅ Morning Star: 349/500\n",
      "✅ Morning Star: 350/500\n",
      "✅ Morning Star: 351/500\n",
      "✅ Morning Star: 352/500\n"
     ]
    },
    {
     "name": "stderr",
     "output_type": "stream",
     "text": [
      "[*********************100%***********************]  1 of 1 completed"
     ]
    },
    {
     "name": "stdout",
     "output_type": "stream",
     "text": [
      "✅ Morning Star: 353/500\n",
      "📈 Fetching data for CAT\n"
     ]
    },
    {
     "name": "stderr",
     "output_type": "stream",
     "text": [
      "\n"
     ]
    },
    {
     "name": "stdout",
     "output_type": "stream",
     "text": [
      "✅ Hammer: 137/500\n",
      "✅ Hammer: 138/500\n",
      "✅ Hammer: 139/500\n",
      "✅ Hammer: 140/500\n",
      "✅ Hammer: 141/500\n",
      "✅ Hammer: 142/500\n"
     ]
    },
    {
     "name": "stderr",
     "output_type": "stream",
     "text": [
      "[*********************100%***********************]  1 of 1 completed"
     ]
    },
    {
     "name": "stdout",
     "output_type": "stream",
     "text": [
      "✅ Shooting Star: 137/500\n",
      "📈 Fetching data for DE\n"
     ]
    },
    {
     "name": "stderr",
     "output_type": "stream",
     "text": [
      "\n"
     ]
    },
    {
     "name": "stdout",
     "output_type": "stream",
     "text": [
      "✅ Morning Star: 354/500\n",
      "✅ Shooting Star: 138/500\n",
      "✅ Shooting Star: 139/500\n",
      "✅ Shooting Star: 140/500\n",
      "✅ Ascending Triangle: 318/500\n",
      "✅ Ascending Triangle: 319/500\n",
      "✅ Head and Shoulders: 310/500\n",
      "✅ Head and Shoulders: 311/500\n",
      "✅ Head and Shoulders: 312/500\n",
      "✅ Head and Shoulders: 313/500\n",
      "📈 Fetching data for PFE\n"
     ]
    },
    {
     "name": "stderr",
     "output_type": "stream",
     "text": [
      "[*********************100%***********************]  1 of 1 completed\n"
     ]
    },
    {
     "name": "stdout",
     "output_type": "stream",
     "text": [
      "✅ Shooting Star: 141/500\n",
      "✅ Morning Star: 355/500\n",
      "✅ Morning Star: 356/500\n",
      "✅ Morning Star: 357/500\n",
      "✅ Morning Star: 358/500\n",
      "✅ Hanging Man: 225/500\n",
      "✅ Hanging Man: 226/500\n",
      "✅ Hanging Man: 227/500\n",
      "✅ Hanging Man: 228/500\n",
      "✅ Ascending Triangle: 320/500\n",
      "📈 Fetching data for JNJ\n"
     ]
    },
    {
     "name": "stderr",
     "output_type": "stream",
     "text": [
      "[*********************100%***********************]  1 of 1 completed\n"
     ]
    },
    {
     "name": "stdout",
     "output_type": "stream",
     "text": [
      "✅ Head and Shoulders: 314/500\n",
      "📈 Fetching data for MRK\n"
     ]
    },
    {
     "name": "stderr",
     "output_type": "stream",
     "text": [
      "[*********************100%***********************]  1 of 1 completed\n"
     ]
    },
    {
     "name": "stdout",
     "output_type": "stream",
     "text": [
      "✅ Ascending Triangle: 321/500\n",
      "✅ Head and Shoulders: 315/500\n",
      "✅ Head and Shoulders: 316/500\n",
      "✅ Head and Shoulders: 317/500\n",
      "📈 Fetching data for LLY\n"
     ]
    },
    {
     "name": "stderr",
     "output_type": "stream",
     "text": [
      "[*********************100%***********************]  1 of 1 completed\n"
     ]
    },
    {
     "name": "stdout",
     "output_type": "stream",
     "text": [
      "✅ Hanging Man: 229/500\n",
      "✅ Hanging Man: 230/500\n",
      "✅ Hanging Man: 231/500\n",
      "✅ Head and Shoulders: 318/500\n",
      "✅ Head and Shoulders: 319/500\n",
      "✅ Head and Shoulders: 320/500\n",
      "✅ Ascending Triangle: 322/500\n"
     ]
    },
    {
     "name": "stderr",
     "output_type": "stream",
     "text": [
      "[*********************100%***********************]  1 of 1 completed"
     ]
    },
    {
     "name": "stdout",
     "output_type": "stream",
     "text": [
      "✅ Shooting Star: 142/500\n",
      "📈 Fetching data for PLTR\n"
     ]
    },
    {
     "name": "stderr",
     "output_type": "stream",
     "text": [
      "\n"
     ]
    },
    {
     "name": "stdout",
     "output_type": "stream",
     "text": [
      "✅ Head and Shoulders: 321/500\n"
     ]
    },
    {
     "name": "stderr",
     "output_type": "stream",
     "text": [
      "[*********************100%***********************]  1 of 1 completed"
     ]
    },
    {
     "name": "stdout",
     "output_type": "stream",
     "text": [
      "✅ Evening Star: 78/500\n",
      "📈 Fetching data for SNOW\n"
     ]
    },
    {
     "name": "stderr",
     "output_type": "stream",
     "text": [
      "\n",
      "[*********************100%***********************]  1 of 1 completed"
     ]
    },
    {
     "name": "stdout",
     "output_type": "stream",
     "text": [
      "✅ Descending Triangle: 153/500\n",
      "📈 Fetching data for SHOP\n"
     ]
    },
    {
     "name": "stderr",
     "output_type": "stream",
     "text": [
      "\n"
     ]
    },
    {
     "name": "stdout",
     "output_type": "stream",
     "text": [
      "✅ Morning Star: 359/500\n",
      "✅ Morning Star: 360/500\n",
      "✅ Morning Star: 361/500\n",
      "✅ Shooting Star: 143/500\n",
      "✅ Ascending Triangle: 323/500\n",
      "📈 Fetching data for RIVN\n"
     ]
    },
    {
     "name": "stderr",
     "output_type": "stream",
     "text": [
      "[*********************100%***********************]  1 of 1 completed\n",
      "[*********************100%***********************]  1 of 1 completed"
     ]
    },
    {
     "name": "stdout",
     "output_type": "stream",
     "text": [
      "✅ Descending Triangle: 154/500\n",
      "📈 Fetching data for UBER\n"
     ]
    },
    {
     "name": "stderr",
     "output_type": "stream",
     "text": [
      "\n"
     ]
    },
    {
     "name": "stdout",
     "output_type": "stream",
     "text": [
      "✅ Descending Triangle: 155/500\n"
     ]
    },
    {
     "name": "stderr",
     "output_type": "stream",
     "text": [
      "[*********************100%***********************]  1 of 1 completed"
     ]
    },
    {
     "name": "stdout",
     "output_type": "stream",
     "text": [
      "✅ Hanging Man: 232/500\n",
      "📈 Fetching data for SPY\n"
     ]
    },
    {
     "name": "stderr",
     "output_type": "stream",
     "text": [
      "\n"
     ]
    },
    {
     "name": "stdout",
     "output_type": "stream",
     "text": [
      "✅ Hanging Man: 233/500\n",
      "✅ Head and Shoulders: 322/500\n",
      "✅ Head and Shoulders: 323/500\n",
      "✅ Head and Shoulders: 324/500\n",
      "✅ Head and Shoulders: 325/500\n"
     ]
    },
    {
     "name": "stderr",
     "output_type": "stream",
     "text": [
      "[*********************100%***********************]  1 of 1 completed"
     ]
    },
    {
     "name": "stdout",
     "output_type": "stream",
     "text": [
      "📈 Fetching data for QQQ\n"
     ]
    },
    {
     "name": "stderr",
     "output_type": "stream",
     "text": [
      "\n"
     ]
    },
    {
     "name": "stdout",
     "output_type": "stream",
     "text": [
      "✅ Ascending Triangle: 324/500\n",
      "✅ Ascending Triangle: 325/500\n",
      "✅ Morning Star: 362/500\n",
      "✅ Hanging Man: 234/500\n",
      "✅ Hammer: 143/500\n",
      "✅ Descending Triangle: 156/500\n",
      "✅ Morning Star: 363/500\n",
      "✅ Morning Star: 364/500\n",
      "🔁 Pass 14 over symbols...\n",
      "📈 Fetching data for AAPL\n"
     ]
    },
    {
     "name": "stderr",
     "output_type": "stream",
     "text": [
      "[*********************100%***********************]  1 of 1 completed\n"
     ]
    },
    {
     "name": "stdout",
     "output_type": "stream",
     "text": [
      "✅ Hammer: 144/500\n",
      "✅ Descending Triangle: 157/500\n",
      "✅ Ascending Triangle: 326/500\n",
      "✅ Ascending Triangle: 327/500\n",
      "✅ Ascending Triangle: 328/500\n",
      "✅ Hanging Man: 235/500\n"
     ]
    },
    {
     "name": "stderr",
     "output_type": "stream",
     "text": [
      "[*********************100%***********************]  1 of 1 completed"
     ]
    },
    {
     "name": "stdout",
     "output_type": "stream",
     "text": [
      "📈 Fetching data for MSFT\n"
     ]
    },
    {
     "name": "stderr",
     "output_type": "stream",
     "text": [
      "\n"
     ]
    },
    {
     "name": "stdout",
     "output_type": "stream",
     "text": [
      "✅ Hammer: 145/500\n",
      "✅ Hammer: 146/500\n",
      "✅ Head and Shoulders: 326/500\n"
     ]
    },
    {
     "name": "stderr",
     "output_type": "stream",
     "text": [
      "[*********************100%***********************]  1 of 1 completed"
     ]
    },
    {
     "name": "stdout",
     "output_type": "stream",
     "text": [
      "📈 Fetching data for GOOGL\n"
     ]
    },
    {
     "name": "stderr",
     "output_type": "stream",
     "text": [
      "\n"
     ]
    },
    {
     "name": "stdout",
     "output_type": "stream",
     "text": [
      "✅ Morning Star: 365/500\n",
      "✅ Morning Star: 366/500\n"
     ]
    },
    {
     "name": "stderr",
     "output_type": "stream",
     "text": [
      "[*********************100%***********************]  1 of 1 completed"
     ]
    },
    {
     "name": "stdout",
     "output_type": "stream",
     "text": [
      "📈 Fetching data for AMZN\n"
     ]
    },
    {
     "name": "stderr",
     "output_type": "stream",
     "text": [
      "\n"
     ]
    },
    {
     "name": "stdout",
     "output_type": "stream",
     "text": [
      "✅ Morning Star: 367/500\n",
      "✅ Morning Star: 368/500\n",
      "✅ Descending Triangle: 158/500\n",
      "✅ Descending Triangle: 159/500\n"
     ]
    },
    {
     "name": "stderr",
     "output_type": "stream",
     "text": [
      "[*********************100%***********************]  1 of 1 completed"
     ]
    },
    {
     "name": "stdout",
     "output_type": "stream",
     "text": [
      "✅ Hammer: 147/500\n",
      "📈 Fetching data for META\n"
     ]
    },
    {
     "name": "stderr",
     "output_type": "stream",
     "text": [
      "\n"
     ]
    },
    {
     "name": "stdout",
     "output_type": "stream",
     "text": [
      "✅ Head and Shoulders: 327/500\n",
      "✅ Head and Shoulders: 328/500\n",
      "✅ Head and Shoulders: 329/500\n",
      "✅ Hanging Man: 236/500\n",
      "📈 Fetching data for NVDA\n"
     ]
    },
    {
     "name": "stderr",
     "output_type": "stream",
     "text": [
      "[*********************100%***********************]  1 of 1 completed\n"
     ]
    },
    {
     "name": "stdout",
     "output_type": "stream",
     "text": [
      "✅ Ascending Triangle: 329/500\n",
      "✅ Ascending Triangle: 330/500\n",
      "✅ Ascending Triangle: 331/500\n",
      "✅ Shooting Star: 144/500\n",
      "✅ Ascending Triangle: 332/500\n",
      "✅ Hanging Man: 237/500\n",
      "✅ Ascending Triangle: 333/500\n"
     ]
    },
    {
     "name": "stderr",
     "output_type": "stream",
     "text": [
      "[*********************100%***********************]  1 of 1 completed"
     ]
    },
    {
     "name": "stdout",
     "output_type": "stream",
     "text": [
      "✅ Ascending Triangle: 334/500\n",
      "📈 Fetching data for TSLA\n"
     ]
    },
    {
     "name": "stderr",
     "output_type": "stream",
     "text": [
      "\n"
     ]
    },
    {
     "name": "stdout",
     "output_type": "stream",
     "text": [
      "✅ Descending Triangle: 160/500\n",
      "✅ Ascending Triangle: 335/500\n",
      "✅ Shooting Star: 145/500\n"
     ]
    },
    {
     "name": "stderr",
     "output_type": "stream",
     "text": [
      "[*********************100%***********************]  1 of 1 completed"
     ]
    },
    {
     "name": "stdout",
     "output_type": "stream",
     "text": [
      "📈 Fetching data for NFLX\n"
     ]
    },
    {
     "name": "stderr",
     "output_type": "stream",
     "text": [
      "\n"
     ]
    },
    {
     "name": "stdout",
     "output_type": "stream",
     "text": [
      "✅ Morning Star: 369/500\n",
      "✅ Evening Star: 79/500\n",
      "✅ Evening Star: 80/500\n",
      "✅ Head and Shoulders: 330/500\n",
      "📈 Fetching data for JPM\n"
     ]
    },
    {
     "name": "stderr",
     "output_type": "stream",
     "text": [
      "[*********************100%***********************]  1 of 1 completed\n"
     ]
    },
    {
     "name": "stdout",
     "output_type": "stream",
     "text": [
      "✅ Evening Star: 81/500\n",
      "✅ Evening Star: 82/500\n",
      "✅ Head and Shoulders: 331/500\n",
      "✅ Shooting Star: 146/500\n"
     ]
    },
    {
     "name": "stderr",
     "output_type": "stream",
     "text": [
      "[*********************100%***********************]  1 of 1 completed"
     ]
    },
    {
     "name": "stdout",
     "output_type": "stream",
     "text": [
      "📈 Fetching data for BAC\n"
     ]
    },
    {
     "name": "stderr",
     "output_type": "stream",
     "text": [
      "\n"
     ]
    },
    {
     "name": "stdout",
     "output_type": "stream",
     "text": [
      "✅ Head and Shoulders: 332/500\n"
     ]
    },
    {
     "name": "stderr",
     "output_type": "stream",
     "text": [
      "[*********************100%***********************]  1 of 1 completed"
     ]
    },
    {
     "name": "stdout",
     "output_type": "stream",
     "text": [
      "📈 Fetching data for V\n"
     ]
    },
    {
     "name": "stderr",
     "output_type": "stream",
     "text": [
      "\n"
     ]
    },
    {
     "name": "stdout",
     "output_type": "stream",
     "text": [
      "✅ Ascending Triangle: 336/500\n",
      "✅ Ascending Triangle: 337/500\n"
     ]
    },
    {
     "name": "stderr",
     "output_type": "stream",
     "text": [
      "[*********************100%***********************]  1 of 1 completed"
     ]
    },
    {
     "name": "stdout",
     "output_type": "stream",
     "text": [
      "✅ Inverted Hammer: 14/500\n",
      "📈 Fetching data for MA\n"
     ]
    },
    {
     "name": "stderr",
     "output_type": "stream",
     "text": [
      "\n",
      "[*********************100%***********************]  1 of 1 completed"
     ]
    },
    {
     "name": "stdout",
     "output_type": "stream",
     "text": [
      "✅ Ascending Triangle: 338/500\n",
      "📈 Fetching data for SOFI\n"
     ]
    },
    {
     "name": "stderr",
     "output_type": "stream",
     "text": [
      "\n"
     ]
    },
    {
     "name": "stdout",
     "output_type": "stream",
     "text": [
      "✅ Ascending Triangle: 339/500\n",
      "✅ Ascending Triangle: 340/500\n"
     ]
    },
    {
     "name": "stderr",
     "output_type": "stream",
     "text": [
      "[*********************100%***********************]  1 of 1 completed"
     ]
    },
    {
     "name": "stdout",
     "output_type": "stream",
     "text": [
      "✅ Ascending Triangle: 341/500\n",
      "📈 Fetching data for COIN\n"
     ]
    },
    {
     "name": "stderr",
     "output_type": "stream",
     "text": [
      "\n"
     ]
    },
    {
     "name": "stdout",
     "output_type": "stream",
     "text": [
      "✅ Morning Star: 370/500\n",
      "✅ Morning Star: 371/500\n",
      "✅ Ascending Triangle: 342/500\n",
      "✅ Descending Triangle: 161/500\n",
      "✅ Descending Triangle: 162/500\n",
      "✅ Hanging Man: 238/500\n",
      "✅ Hanging Man: 239/500\n",
      "✅ Hanging Man: 240/500\n",
      "✅ Hanging Man: 241/500\n"
     ]
    },
    {
     "name": "stderr",
     "output_type": "stream",
     "text": [
      "[*********************100%***********************]  1 of 1 completed"
     ]
    },
    {
     "name": "stdout",
     "output_type": "stream",
     "text": [
      "✅ Hanging Man: 242/500\n",
      "📈 Fetching data for XOM\n"
     ]
    },
    {
     "name": "stderr",
     "output_type": "stream",
     "text": [
      "\n"
     ]
    },
    {
     "name": "stdout",
     "output_type": "stream",
     "text": [
      "✅ Shooting Star: 147/500\n",
      "✅ Morning Star: 372/500\n",
      "✅ Morning Star: 373/500\n"
     ]
    },
    {
     "name": "stderr",
     "output_type": "stream",
     "text": [
      "[*********************100%***********************]  1 of 1 completed"
     ]
    },
    {
     "name": "stdout",
     "output_type": "stream",
     "text": [
      "✅ Head and Shoulders: 333/500\n",
      "📈 Fetching data for CVX\n"
     ]
    },
    {
     "name": "stderr",
     "output_type": "stream",
     "text": [
      "\n"
     ]
    },
    {
     "name": "stdout",
     "output_type": "stream",
     "text": [
      "✅ Evening Star: 83/500\n"
     ]
    },
    {
     "name": "stderr",
     "output_type": "stream",
     "text": [
      "[*********************100%***********************]  1 of 1 completed"
     ]
    },
    {
     "name": "stdout",
     "output_type": "stream",
     "text": [
      "✅ Head and Shoulders: 334/500\n",
      "📈 Fetching data for BA\n"
     ]
    },
    {
     "name": "stderr",
     "output_type": "stream",
     "text": [
      "\n"
     ]
    },
    {
     "name": "stdout",
     "output_type": "stream",
     "text": [
      "✅ Descending Triangle: 163/500\n",
      "✅ Descending Triangle: 164/500\n",
      "✅ Morning Star: 374/500\n",
      "✅ Morning Star: 375/500\n",
      "✅ Morning Star: 376/500\n",
      "✅ Morning Star: 377/500\n",
      "✅ Morning Star: 378/500\n",
      "✅ Morning Star: 379/500\n",
      "✅ Morning Star: 380/500\n"
     ]
    },
    {
     "name": "stderr",
     "output_type": "stream",
     "text": [
      "[*********************100%***********************]  1 of 1 completed"
     ]
    },
    {
     "name": "stdout",
     "output_type": "stream",
     "text": [
      "✅ Morning Star: 381/500\n",
      "📈 Fetching data for CAT\n"
     ]
    },
    {
     "name": "stderr",
     "output_type": "stream",
     "text": [
      "\n"
     ]
    },
    {
     "name": "stdout",
     "output_type": "stream",
     "text": [
      "✅ Hammer: 148/500\n",
      "✅ Hammer: 149/500\n",
      "✅ Hammer: 150/500\n",
      "✅ Hammer: 151/500\n",
      "✅ Hammer: 152/500\n",
      "✅ Hammer: 153/500\n"
     ]
    },
    {
     "name": "stderr",
     "output_type": "stream",
     "text": [
      "[*********************100%***********************]  1 of 1 completed"
     ]
    },
    {
     "name": "stdout",
     "output_type": "stream",
     "text": [
      "✅ Shooting Star: 148/500\n",
      "📈 Fetching data for DE\n"
     ]
    },
    {
     "name": "stderr",
     "output_type": "stream",
     "text": [
      "\n"
     ]
    },
    {
     "name": "stdout",
     "output_type": "stream",
     "text": [
      "✅ Morning Star: 382/500\n",
      "✅ Shooting Star: 149/500\n",
      "✅ Shooting Star: 150/500\n",
      "✅ Shooting Star: 151/500\n",
      "✅ Ascending Triangle: 343/500\n",
      "✅ Ascending Triangle: 344/500\n",
      "✅ Head and Shoulders: 335/500\n",
      "✅ Head and Shoulders: 336/500\n",
      "✅ Head and Shoulders: 337/500\n",
      "✅ Head and Shoulders: 338/500\n",
      "📈 Fetching data for PFE\n"
     ]
    },
    {
     "name": "stderr",
     "output_type": "stream",
     "text": [
      "[*********************100%***********************]  1 of 1 completed\n"
     ]
    },
    {
     "name": "stdout",
     "output_type": "stream",
     "text": [
      "✅ Shooting Star: 152/500\n",
      "✅ Morning Star: 383/500\n",
      "✅ Morning Star: 384/500\n",
      "✅ Morning Star: 385/500\n",
      "✅ Morning Star: 386/500\n",
      "✅ Hanging Man: 243/500\n",
      "✅ Hanging Man: 244/500\n",
      "✅ Hanging Man: 245/500\n",
      "✅ Hanging Man: 246/500\n",
      "✅ Ascending Triangle: 345/500\n",
      "📈 Fetching data for JNJ\n"
     ]
    },
    {
     "name": "stderr",
     "output_type": "stream",
     "text": [
      "[*********************100%***********************]  1 of 1 completed\n"
     ]
    },
    {
     "name": "stdout",
     "output_type": "stream",
     "text": [
      "✅ Head and Shoulders: 339/500\n",
      "📈 Fetching data for MRK\n"
     ]
    },
    {
     "name": "stderr",
     "output_type": "stream",
     "text": [
      "[*********************100%***********************]  1 of 1 completed\n"
     ]
    },
    {
     "name": "stdout",
     "output_type": "stream",
     "text": [
      "✅ Ascending Triangle: 346/500\n",
      "✅ Head and Shoulders: 340/500\n",
      "✅ Head and Shoulders: 341/500\n",
      "✅ Head and Shoulders: 342/500\n",
      "📈 Fetching data for LLY\n"
     ]
    },
    {
     "name": "stderr",
     "output_type": "stream",
     "text": [
      "[*********************100%***********************]  1 of 1 completed\n"
     ]
    },
    {
     "name": "stdout",
     "output_type": "stream",
     "text": [
      "✅ Hanging Man: 247/500\n",
      "✅ Hanging Man: 248/500\n",
      "✅ Hanging Man: 249/500\n",
      "✅ Head and Shoulders: 343/500\n",
      "✅ Head and Shoulders: 344/500\n",
      "✅ Head and Shoulders: 345/500\n",
      "✅ Ascending Triangle: 347/500\n",
      "✅ Shooting Star: 153/500\n"
     ]
    },
    {
     "name": "stderr",
     "output_type": "stream",
     "text": [
      "[*********************100%***********************]  1 of 1 completed"
     ]
    },
    {
     "name": "stdout",
     "output_type": "stream",
     "text": [
      "📈 Fetching data for PLTR\n"
     ]
    },
    {
     "name": "stderr",
     "output_type": "stream",
     "text": [
      "\n"
     ]
    },
    {
     "name": "stdout",
     "output_type": "stream",
     "text": [
      "✅ Head and Shoulders: 346/500\n"
     ]
    },
    {
     "name": "stderr",
     "output_type": "stream",
     "text": [
      "[*********************100%***********************]  1 of 1 completed"
     ]
    },
    {
     "name": "stdout",
     "output_type": "stream",
     "text": [
      "✅ Evening Star: 84/500\n",
      "📈 Fetching data for SNOW\n"
     ]
    },
    {
     "name": "stderr",
     "output_type": "stream",
     "text": [
      "\n",
      "[*********************100%***********************]  1 of 1 completed"
     ]
    },
    {
     "name": "stdout",
     "output_type": "stream",
     "text": [
      "✅ Descending Triangle: 165/500\n",
      "📈 Fetching data for SHOP\n"
     ]
    },
    {
     "name": "stderr",
     "output_type": "stream",
     "text": [
      "\n"
     ]
    },
    {
     "name": "stdout",
     "output_type": "stream",
     "text": [
      "✅ Morning Star: 387/500\n",
      "✅ Morning Star: 388/500\n",
      "✅ Morning Star: 389/500\n",
      "✅ Shooting Star: 154/500\n",
      "✅ Ascending Triangle: 348/500\n"
     ]
    },
    {
     "name": "stderr",
     "output_type": "stream",
     "text": [
      "[*********************100%***********************]  1 of 1 completed"
     ]
    },
    {
     "name": "stdout",
     "output_type": "stream",
     "text": [
      "📈 Fetching data for RIVN\n",
      "✅ Descending Triangle: 166/500\n"
     ]
    },
    {
     "name": "stderr",
     "output_type": "stream",
     "text": [
      "\n",
      "[*********************100%***********************]  1 of 1 completed"
     ]
    },
    {
     "name": "stdout",
     "output_type": "stream",
     "text": [
      "📈 Fetching data for UBER\n"
     ]
    },
    {
     "name": "stderr",
     "output_type": "stream",
     "text": [
      "\n"
     ]
    },
    {
     "name": "stdout",
     "output_type": "stream",
     "text": [
      "✅ Descending Triangle: 167/500\n"
     ]
    },
    {
     "name": "stderr",
     "output_type": "stream",
     "text": [
      "[*********************100%***********************]  1 of 1 completed"
     ]
    },
    {
     "name": "stdout",
     "output_type": "stream",
     "text": [
      "✅ Hanging Man: 250/500\n",
      "📈 Fetching data for SPY\n"
     ]
    },
    {
     "name": "stderr",
     "output_type": "stream",
     "text": [
      "\n"
     ]
    },
    {
     "name": "stdout",
     "output_type": "stream",
     "text": [
      "✅ Hanging Man: 251/500\n",
      "✅ Head and Shoulders: 347/500\n",
      "✅ Head and Shoulders: 348/500\n",
      "✅ Head and Shoulders: 349/500\n",
      "✅ Head and Shoulders: 350/500\n",
      "📈 Fetching data for QQQ\n"
     ]
    },
    {
     "name": "stderr",
     "output_type": "stream",
     "text": [
      "[*********************100%***********************]  1 of 1 completed\n"
     ]
    },
    {
     "name": "stdout",
     "output_type": "stream",
     "text": [
      "✅ Ascending Triangle: 349/500\n",
      "✅ Ascending Triangle: 350/500\n",
      "✅ Morning Star: 390/500\n",
      "✅ Hanging Man: 252/500\n",
      "✅ Hammer: 154/500\n",
      "✅ Descending Triangle: 168/500\n",
      "✅ Morning Star: 391/500\n",
      "✅ Morning Star: 392/500\n",
      "🔁 Pass 15 over symbols...\n",
      "📈 Fetching data for AAPL\n"
     ]
    },
    {
     "name": "stderr",
     "output_type": "stream",
     "text": [
      "[*********************100%***********************]  1 of 1 completed\n"
     ]
    },
    {
     "name": "stdout",
     "output_type": "stream",
     "text": [
      "✅ Hammer: 155/500\n",
      "✅ Descending Triangle: 169/500\n",
      "✅ Ascending Triangle: 351/500\n",
      "✅ Ascending Triangle: 352/500\n",
      "✅ Ascending Triangle: 353/500\n",
      "✅ Hanging Man: 253/500\n"
     ]
    },
    {
     "name": "stderr",
     "output_type": "stream",
     "text": [
      "[*********************100%***********************]  1 of 1 completed"
     ]
    },
    {
     "name": "stdout",
     "output_type": "stream",
     "text": [
      "📈 Fetching data for MSFT\n"
     ]
    },
    {
     "name": "stderr",
     "output_type": "stream",
     "text": [
      "\n"
     ]
    },
    {
     "name": "stdout",
     "output_type": "stream",
     "text": [
      "✅ Hammer: 156/500\n",
      "✅ Hammer: 157/500\n",
      "✅ Head and Shoulders: 351/500\n"
     ]
    },
    {
     "name": "stderr",
     "output_type": "stream",
     "text": [
      "[*********************100%***********************]  1 of 1 completed"
     ]
    },
    {
     "name": "stdout",
     "output_type": "stream",
     "text": [
      "📈 Fetching data for GOOGL\n"
     ]
    },
    {
     "name": "stderr",
     "output_type": "stream",
     "text": [
      "\n"
     ]
    },
    {
     "name": "stdout",
     "output_type": "stream",
     "text": [
      "✅ Morning Star: 393/500\n",
      "✅ Morning Star: 394/500\n"
     ]
    },
    {
     "name": "stderr",
     "output_type": "stream",
     "text": [
      "[*********************100%***********************]  1 of 1 completed"
     ]
    },
    {
     "name": "stdout",
     "output_type": "stream",
     "text": [
      "📈 Fetching data for AMZN\n"
     ]
    },
    {
     "name": "stderr",
     "output_type": "stream",
     "text": [
      "\n"
     ]
    },
    {
     "name": "stdout",
     "output_type": "stream",
     "text": [
      "✅ Morning Star: 395/500\n",
      "✅ Morning Star: 396/500\n",
      "✅ Descending Triangle: 170/500\n",
      "✅ Descending Triangle: 171/500\n"
     ]
    },
    {
     "name": "stderr",
     "output_type": "stream",
     "text": [
      "[*********************100%***********************]  1 of 1 completed"
     ]
    },
    {
     "name": "stdout",
     "output_type": "stream",
     "text": [
      "✅ Hammer: 158/500\n",
      "📈 Fetching data for META\n"
     ]
    },
    {
     "name": "stderr",
     "output_type": "stream",
     "text": [
      "\n"
     ]
    },
    {
     "name": "stdout",
     "output_type": "stream",
     "text": [
      "✅ Head and Shoulders: 352/500\n",
      "✅ Head and Shoulders: 353/500\n",
      "✅ Head and Shoulders: 354/500\n",
      "✅ Hanging Man: 254/500\n",
      "📈 Fetching data for NVDA\n"
     ]
    },
    {
     "name": "stderr",
     "output_type": "stream",
     "text": [
      "[*********************100%***********************]  1 of 1 completed\n"
     ]
    },
    {
     "name": "stdout",
     "output_type": "stream",
     "text": [
      "✅ Ascending Triangle: 354/500\n",
      "✅ Ascending Triangle: 355/500\n",
      "✅ Ascending Triangle: 356/500\n",
      "✅ Shooting Star: 155/500\n",
      "✅ Ascending Triangle: 357/500\n",
      "✅ Hanging Man: 255/500\n",
      "✅ Ascending Triangle: 358/500\n"
     ]
    },
    {
     "name": "stderr",
     "output_type": "stream",
     "text": [
      "[*********************100%***********************]  1 of 1 completed"
     ]
    },
    {
     "name": "stdout",
     "output_type": "stream",
     "text": [
      "✅ Ascending Triangle: 359/500\n",
      "📈 Fetching data for TSLA\n"
     ]
    },
    {
     "name": "stderr",
     "output_type": "stream",
     "text": [
      "\n"
     ]
    },
    {
     "name": "stdout",
     "output_type": "stream",
     "text": [
      "✅ Descending Triangle: 172/500\n",
      "✅ Ascending Triangle: 360/500\n",
      "✅ Shooting Star: 156/500\n"
     ]
    },
    {
     "name": "stderr",
     "output_type": "stream",
     "text": [
      "[*********************100%***********************]  1 of 1 completed"
     ]
    },
    {
     "name": "stdout",
     "output_type": "stream",
     "text": [
      "📈 Fetching data for NFLX\n"
     ]
    },
    {
     "name": "stderr",
     "output_type": "stream",
     "text": [
      "\n"
     ]
    },
    {
     "name": "stdout",
     "output_type": "stream",
     "text": [
      "✅ Morning Star: 397/500\n",
      "✅ Evening Star: 85/500\n",
      "✅ Evening Star: 86/500\n"
     ]
    },
    {
     "name": "stderr",
     "output_type": "stream",
     "text": [
      "[*********************100%***********************]  1 of 1 completed"
     ]
    },
    {
     "name": "stdout",
     "output_type": "stream",
     "text": [
      "✅ Head and Shoulders: 355/500\n",
      "📈 Fetching data for JPM\n"
     ]
    },
    {
     "name": "stderr",
     "output_type": "stream",
     "text": [
      "\n"
     ]
    },
    {
     "name": "stdout",
     "output_type": "stream",
     "text": [
      "✅ Evening Star: 87/500\n",
      "✅ Evening Star: 88/500\n",
      "✅ Head and Shoulders: 356/500\n",
      "✅ Shooting Star: 157/500\n"
     ]
    },
    {
     "name": "stderr",
     "output_type": "stream",
     "text": [
      "[*********************100%***********************]  1 of 1 completed"
     ]
    },
    {
     "name": "stdout",
     "output_type": "stream",
     "text": [
      "📈 Fetching data for BAC\n"
     ]
    },
    {
     "name": "stderr",
     "output_type": "stream",
     "text": [
      "\n"
     ]
    },
    {
     "name": "stdout",
     "output_type": "stream",
     "text": [
      "✅ Head and Shoulders: 357/500\n"
     ]
    },
    {
     "name": "stderr",
     "output_type": "stream",
     "text": [
      "[*********************100%***********************]  1 of 1 completed"
     ]
    },
    {
     "name": "stdout",
     "output_type": "stream",
     "text": [
      "📈 Fetching data for V\n"
     ]
    },
    {
     "name": "stderr",
     "output_type": "stream",
     "text": [
      "\n"
     ]
    },
    {
     "name": "stdout",
     "output_type": "stream",
     "text": [
      "✅ Ascending Triangle: 361/500\n",
      "✅ Ascending Triangle: 362/500\n"
     ]
    },
    {
     "name": "stderr",
     "output_type": "stream",
     "text": [
      "[*********************100%***********************]  1 of 1 completed"
     ]
    },
    {
     "name": "stdout",
     "output_type": "stream",
     "text": [
      "✅ Inverted Hammer: 15/500\n",
      "📈 Fetching data for MA\n"
     ]
    },
    {
     "name": "stderr",
     "output_type": "stream",
     "text": [
      "\n",
      "[*********************100%***********************]  1 of 1 completed"
     ]
    },
    {
     "name": "stdout",
     "output_type": "stream",
     "text": [
      "✅ Ascending Triangle: 363/500\n",
      "📈 Fetching data for SOFI\n"
     ]
    },
    {
     "name": "stderr",
     "output_type": "stream",
     "text": [
      "\n"
     ]
    },
    {
     "name": "stdout",
     "output_type": "stream",
     "text": [
      "✅ Ascending Triangle: 364/500\n",
      "✅ Ascending Triangle: 365/500\n",
      "✅ Ascending Triangle: 366/500\n"
     ]
    },
    {
     "name": "stderr",
     "output_type": "stream",
     "text": [
      "[*********************100%***********************]  1 of 1 completed"
     ]
    },
    {
     "name": "stdout",
     "output_type": "stream",
     "text": [
      "📈 Fetching data for COIN\n"
     ]
    },
    {
     "name": "stderr",
     "output_type": "stream",
     "text": [
      "\n"
     ]
    },
    {
     "name": "stdout",
     "output_type": "stream",
     "text": [
      "✅ Morning Star: 398/500\n",
      "✅ Morning Star: 399/500\n",
      "✅ Ascending Triangle: 367/500\n",
      "✅ Descending Triangle: 173/500\n",
      "✅ Descending Triangle: 174/500\n",
      "✅ Hanging Man: 256/500\n",
      "✅ Hanging Man: 257/500\n",
      "✅ Hanging Man: 258/500\n",
      "✅ Hanging Man: 259/500\n",
      "✅ Hanging Man: 260/500\n"
     ]
    },
    {
     "name": "stderr",
     "output_type": "stream",
     "text": [
      "[*********************100%***********************]  1 of 1 completed"
     ]
    },
    {
     "name": "stdout",
     "output_type": "stream",
     "text": [
      "📈 Fetching data for XOM\n"
     ]
    },
    {
     "name": "stderr",
     "output_type": "stream",
     "text": [
      "\n"
     ]
    },
    {
     "name": "stdout",
     "output_type": "stream",
     "text": [
      "✅ Shooting Star: 158/500\n",
      "✅ Morning Star: 400/500\n",
      "✅ Morning Star: 401/500\n"
     ]
    },
    {
     "name": "stderr",
     "output_type": "stream",
     "text": [
      "[*********************100%***********************]  1 of 1 completed"
     ]
    },
    {
     "name": "stdout",
     "output_type": "stream",
     "text": [
      "✅ Head and Shoulders: 358/500\n",
      "📈 Fetching data for CVX\n"
     ]
    },
    {
     "name": "stderr",
     "output_type": "stream",
     "text": [
      "\n"
     ]
    },
    {
     "name": "stdout",
     "output_type": "stream",
     "text": [
      "✅ Evening Star: 89/500\n"
     ]
    },
    {
     "name": "stderr",
     "output_type": "stream",
     "text": [
      "[*********************100%***********************]  1 of 1 completed"
     ]
    },
    {
     "name": "stdout",
     "output_type": "stream",
     "text": [
      "✅ Head and Shoulders: 359/500\n",
      "📈 Fetching data for BA\n"
     ]
    },
    {
     "name": "stderr",
     "output_type": "stream",
     "text": [
      "\n"
     ]
    },
    {
     "name": "stdout",
     "output_type": "stream",
     "text": [
      "✅ Descending Triangle: 175/500\n",
      "✅ Descending Triangle: 176/500\n",
      "✅ Morning Star: 402/500\n",
      "✅ Morning Star: 403/500\n",
      "✅ Morning Star: 404/500\n",
      "✅ Morning Star: 405/500\n",
      "✅ Morning Star: 406/500\n",
      "✅ Morning Star: 407/500\n",
      "✅ Morning Star: 408/500\n"
     ]
    },
    {
     "name": "stderr",
     "output_type": "stream",
     "text": [
      "[*********************100%***********************]  1 of 1 completed"
     ]
    },
    {
     "name": "stdout",
     "output_type": "stream",
     "text": [
      "✅ Morning Star: 409/500\n",
      "📈 Fetching data for CAT\n"
     ]
    },
    {
     "name": "stderr",
     "output_type": "stream",
     "text": [
      "\n"
     ]
    },
    {
     "name": "stdout",
     "output_type": "stream",
     "text": [
      "✅ Hammer: 159/500\n",
      "✅ Hammer: 160/500\n",
      "✅ Hammer: 161/500\n",
      "✅ Hammer: 162/500\n",
      "✅ Hammer: 163/500\n",
      "✅ Hammer: 164/500\n"
     ]
    },
    {
     "name": "stderr",
     "output_type": "stream",
     "text": [
      "[*********************100%***********************]  1 of 1 completed"
     ]
    },
    {
     "name": "stdout",
     "output_type": "stream",
     "text": [
      "✅ Shooting Star: 159/500\n",
      "📈 Fetching data for DE\n"
     ]
    },
    {
     "name": "stderr",
     "output_type": "stream",
     "text": [
      "\n"
     ]
    },
    {
     "name": "stdout",
     "output_type": "stream",
     "text": [
      "✅ Morning Star: 410/500\n",
      "✅ Shooting Star: 160/500\n",
      "✅ Shooting Star: 161/500\n",
      "✅ Shooting Star: 162/500\n",
      "✅ Ascending Triangle: 368/500\n",
      "✅ Ascending Triangle: 369/500\n",
      "✅ Head and Shoulders: 360/500\n",
      "✅ Head and Shoulders: 361/500\n",
      "✅ Head and Shoulders: 362/500\n",
      "✅ Head and Shoulders: 363/500\n",
      "📈 Fetching data for PFE\n"
     ]
    },
    {
     "name": "stderr",
     "output_type": "stream",
     "text": [
      "[*********************100%***********************]  1 of 1 completed\n"
     ]
    },
    {
     "name": "stdout",
     "output_type": "stream",
     "text": [
      "✅ Shooting Star: 163/500\n",
      "✅ Morning Star: 411/500\n",
      "✅ Morning Star: 412/500\n",
      "✅ Morning Star: 413/500\n",
      "✅ Morning Star: 414/500\n",
      "✅ Hanging Man: 261/500\n",
      "✅ Hanging Man: 262/500\n",
      "✅ Hanging Man: 263/500\n",
      "✅ Hanging Man: 264/500\n",
      "✅ Ascending Triangle: 370/500\n",
      "📈 Fetching data for JNJ\n"
     ]
    },
    {
     "name": "stderr",
     "output_type": "stream",
     "text": [
      "[*********************100%***********************]  1 of 1 completed\n"
     ]
    },
    {
     "name": "stdout",
     "output_type": "stream",
     "text": [
      "✅ Head and Shoulders: 364/500\n",
      "📈 Fetching data for MRK\n"
     ]
    },
    {
     "name": "stderr",
     "output_type": "stream",
     "text": [
      "[*********************100%***********************]  1 of 1 completed\n"
     ]
    },
    {
     "name": "stdout",
     "output_type": "stream",
     "text": [
      "✅ Ascending Triangle: 371/500\n",
      "✅ Head and Shoulders: 365/500\n",
      "✅ Head and Shoulders: 366/500\n",
      "✅ Head and Shoulders: 367/500\n",
      "📈 Fetching data for LLY\n"
     ]
    },
    {
     "name": "stderr",
     "output_type": "stream",
     "text": [
      "[*********************100%***********************]  1 of 1 completed\n"
     ]
    },
    {
     "name": "stdout",
     "output_type": "stream",
     "text": [
      "✅ Hanging Man: 265/500\n",
      "✅ Hanging Man: 266/500\n",
      "✅ Hanging Man: 267/500\n",
      "✅ Head and Shoulders: 368/500\n",
      "✅ Head and Shoulders: 369/500\n",
      "✅ Head and Shoulders: 370/500\n",
      "✅ Ascending Triangle: 372/500\n"
     ]
    },
    {
     "name": "stderr",
     "output_type": "stream",
     "text": [
      "[*********************100%***********************]  1 of 1 completed"
     ]
    },
    {
     "name": "stdout",
     "output_type": "stream",
     "text": [
      "✅ Shooting Star: 164/500\n",
      "📈 Fetching data for PLTR\n"
     ]
    },
    {
     "name": "stderr",
     "output_type": "stream",
     "text": [
      "\n"
     ]
    },
    {
     "name": "stdout",
     "output_type": "stream",
     "text": [
      "✅ Head and Shoulders: 371/500\n"
     ]
    },
    {
     "name": "stderr",
     "output_type": "stream",
     "text": [
      "[*********************100%***********************]  1 of 1 completed"
     ]
    },
    {
     "name": "stdout",
     "output_type": "stream",
     "text": [
      "✅ Evening Star: 90/500\n",
      "📈 Fetching data for SNOW\n"
     ]
    },
    {
     "name": "stderr",
     "output_type": "stream",
     "text": [
      "\n",
      "[*********************100%***********************]  1 of 1 completed"
     ]
    },
    {
     "name": "stdout",
     "output_type": "stream",
     "text": [
      "✅ Descending Triangle: 177/500\n",
      "📈 Fetching data for SHOP\n"
     ]
    },
    {
     "name": "stderr",
     "output_type": "stream",
     "text": [
      "\n"
     ]
    },
    {
     "name": "stdout",
     "output_type": "stream",
     "text": [
      "✅ Morning Star: 415/500\n",
      "✅ Morning Star: 416/500\n",
      "✅ Morning Star: 417/500\n",
      "✅ Shooting Star: 165/500\n",
      "✅ Ascending Triangle: 373/500\n",
      "📈 Fetching data for RIVN\n"
     ]
    },
    {
     "name": "stderr",
     "output_type": "stream",
     "text": [
      "[*********************100%***********************]  1 of 1 completed\n",
      "[*********************100%***********************]  1 of 1 completed"
     ]
    },
    {
     "name": "stdout",
     "output_type": "stream",
     "text": [
      "✅ Descending Triangle: 178/500\n",
      "📈 Fetching data for UBER\n"
     ]
    },
    {
     "name": "stderr",
     "output_type": "stream",
     "text": [
      "\n"
     ]
    },
    {
     "name": "stdout",
     "output_type": "stream",
     "text": [
      "✅ Descending Triangle: 179/500\n"
     ]
    },
    {
     "name": "stderr",
     "output_type": "stream",
     "text": [
      "[*********************100%***********************]  1 of 1 completed"
     ]
    },
    {
     "name": "stdout",
     "output_type": "stream",
     "text": [
      "✅ Hanging Man: 268/500\n",
      "📈 Fetching data for SPY\n"
     ]
    },
    {
     "name": "stderr",
     "output_type": "stream",
     "text": [
      "\n"
     ]
    },
    {
     "name": "stdout",
     "output_type": "stream",
     "text": [
      "✅ Hanging Man: 269/500\n",
      "✅ Head and Shoulders: 372/500\n",
      "✅ Head and Shoulders: 373/500\n",
      "✅ Head and Shoulders: 374/500\n",
      "✅ Head and Shoulders: 375/500\n",
      "📈 Fetching data for QQQ\n"
     ]
    },
    {
     "name": "stderr",
     "output_type": "stream",
     "text": [
      "[*********************100%***********************]  1 of 1 completed\n"
     ]
    },
    {
     "name": "stdout",
     "output_type": "stream",
     "text": [
      "✅ Ascending Triangle: 374/500\n",
      "✅ Ascending Triangle: 375/500\n",
      "✅ Morning Star: 418/500\n",
      "✅ Hanging Man: 270/500\n",
      "✅ Hammer: 165/500\n",
      "✅ Descending Triangle: 180/500\n",
      "✅ Morning Star: 419/500\n",
      "✅ Morning Star: 420/500\n",
      "🔁 Pass 16 over symbols...\n",
      "📈 Fetching data for AAPL\n"
     ]
    },
    {
     "name": "stderr",
     "output_type": "stream",
     "text": [
      "[*********************100%***********************]  1 of 1 completed\n"
     ]
    },
    {
     "name": "stdout",
     "output_type": "stream",
     "text": [
      "✅ Hammer: 166/500\n",
      "✅ Descending Triangle: 181/500\n",
      "✅ Ascending Triangle: 376/500\n",
      "✅ Ascending Triangle: 377/500\n",
      "✅ Ascending Triangle: 378/500\n",
      "✅ Hanging Man: 271/500\n"
     ]
    },
    {
     "name": "stderr",
     "output_type": "stream",
     "text": [
      "[*********************100%***********************]  1 of 1 completed"
     ]
    },
    {
     "name": "stdout",
     "output_type": "stream",
     "text": [
      "📈 Fetching data for MSFT\n"
     ]
    },
    {
     "name": "stderr",
     "output_type": "stream",
     "text": [
      "\n"
     ]
    },
    {
     "name": "stdout",
     "output_type": "stream",
     "text": [
      "✅ Hammer: 167/500\n",
      "✅ Hammer: 168/500\n",
      "✅ Head and Shoulders: 376/500\n",
      "📈 Fetching data for GOOGL\n"
     ]
    },
    {
     "name": "stderr",
     "output_type": "stream",
     "text": [
      "[*********************100%***********************]  1 of 1 completed\n"
     ]
    },
    {
     "name": "stdout",
     "output_type": "stream",
     "text": [
      "✅ Morning Star: 421/500\n",
      "✅ Morning Star: 422/500\n"
     ]
    },
    {
     "name": "stderr",
     "output_type": "stream",
     "text": [
      "[*********************100%***********************]  1 of 1 completed"
     ]
    },
    {
     "name": "stdout",
     "output_type": "stream",
     "text": [
      "📈 Fetching data for AMZN\n"
     ]
    },
    {
     "name": "stderr",
     "output_type": "stream",
     "text": [
      "\n"
     ]
    },
    {
     "name": "stdout",
     "output_type": "stream",
     "text": [
      "✅ Morning Star: 423/500\n",
      "✅ Morning Star: 424/500\n",
      "✅ Descending Triangle: 182/500\n",
      "✅ Descending Triangle: 183/500\n"
     ]
    },
    {
     "name": "stderr",
     "output_type": "stream",
     "text": [
      "[*********************100%***********************]  1 of 1 completed"
     ]
    },
    {
     "name": "stdout",
     "output_type": "stream",
     "text": [
      "✅ Hammer: 169/500\n",
      "📈 Fetching data for META\n"
     ]
    },
    {
     "name": "stderr",
     "output_type": "stream",
     "text": [
      "\n"
     ]
    },
    {
     "name": "stdout",
     "output_type": "stream",
     "text": [
      "✅ Head and Shoulders: 377/500\n",
      "✅ Head and Shoulders: 378/500\n",
      "✅ Head and Shoulders: 379/500\n",
      "✅ Hanging Man: 272/500\n",
      "📈 Fetching data for NVDA\n"
     ]
    },
    {
     "name": "stderr",
     "output_type": "stream",
     "text": [
      "[*********************100%***********************]  1 of 1 completed\n"
     ]
    },
    {
     "name": "stdout",
     "output_type": "stream",
     "text": [
      "✅ Ascending Triangle: 379/500\n",
      "✅ Ascending Triangle: 380/500\n",
      "✅ Ascending Triangle: 381/500\n",
      "✅ Shooting Star: 166/500\n",
      "✅ Ascending Triangle: 382/500\n",
      "✅ Hanging Man: 273/500\n",
      "✅ Ascending Triangle: 383/500\n"
     ]
    },
    {
     "name": "stderr",
     "output_type": "stream",
     "text": [
      "[*********************100%***********************]  1 of 1 completed"
     ]
    },
    {
     "name": "stdout",
     "output_type": "stream",
     "text": [
      "✅ Ascending Triangle: 384/500\n",
      "📈 Fetching data for TSLA\n"
     ]
    },
    {
     "name": "stderr",
     "output_type": "stream",
     "text": [
      "\n"
     ]
    },
    {
     "name": "stdout",
     "output_type": "stream",
     "text": [
      "✅ Descending Triangle: 184/500\n",
      "✅ Ascending Triangle: 385/500\n",
      "✅ Shooting Star: 167/500\n"
     ]
    },
    {
     "name": "stderr",
     "output_type": "stream",
     "text": [
      "[*********************100%***********************]  1 of 1 completed"
     ]
    },
    {
     "name": "stdout",
     "output_type": "stream",
     "text": [
      "📈 Fetching data for NFLX\n"
     ]
    },
    {
     "name": "stderr",
     "output_type": "stream",
     "text": [
      "\n"
     ]
    },
    {
     "name": "stdout",
     "output_type": "stream",
     "text": [
      "✅ Morning Star: 425/500\n",
      "✅ Evening Star: 91/500\n",
      "✅ Evening Star: 92/500\n"
     ]
    },
    {
     "name": "stderr",
     "output_type": "stream",
     "text": [
      "[*********************100%***********************]  1 of 1 completed"
     ]
    },
    {
     "name": "stdout",
     "output_type": "stream",
     "text": [
      "✅ Head and Shoulders: 380/500\n",
      "📈 Fetching data for JPM\n"
     ]
    },
    {
     "name": "stderr",
     "output_type": "stream",
     "text": [
      "\n"
     ]
    },
    {
     "name": "stdout",
     "output_type": "stream",
     "text": [
      "✅ Evening Star: 93/500\n",
      "✅ Evening Star: 94/500\n",
      "✅ Head and Shoulders: 381/500\n",
      "✅ Shooting Star: 168/500\n"
     ]
    },
    {
     "name": "stderr",
     "output_type": "stream",
     "text": [
      "[*********************100%***********************]  1 of 1 completed"
     ]
    },
    {
     "name": "stdout",
     "output_type": "stream",
     "text": [
      "📈 Fetching data for BAC\n"
     ]
    },
    {
     "name": "stderr",
     "output_type": "stream",
     "text": [
      "\n"
     ]
    },
    {
     "name": "stdout",
     "output_type": "stream",
     "text": [
      "✅ Head and Shoulders: 382/500\n"
     ]
    },
    {
     "name": "stderr",
     "output_type": "stream",
     "text": [
      "[*********************100%***********************]  1 of 1 completed"
     ]
    },
    {
     "name": "stdout",
     "output_type": "stream",
     "text": [
      "📈 Fetching data for V\n"
     ]
    },
    {
     "name": "stderr",
     "output_type": "stream",
     "text": [
      "\n"
     ]
    },
    {
     "name": "stdout",
     "output_type": "stream",
     "text": [
      "✅ Ascending Triangle: 386/500\n",
      "✅ Ascending Triangle: 387/500\n"
     ]
    },
    {
     "name": "stderr",
     "output_type": "stream",
     "text": [
      "[*********************100%***********************]  1 of 1 completed"
     ]
    },
    {
     "name": "stdout",
     "output_type": "stream",
     "text": [
      "✅ Inverted Hammer: 16/500\n",
      "📈 Fetching data for MA\n"
     ]
    },
    {
     "name": "stderr",
     "output_type": "stream",
     "text": [
      "\n",
      "[*********************100%***********************]  1 of 1 completed"
     ]
    },
    {
     "name": "stdout",
     "output_type": "stream",
     "text": [
      "✅ Ascending Triangle: 388/500\n",
      "📈 Fetching data for SOFI\n"
     ]
    },
    {
     "name": "stderr",
     "output_type": "stream",
     "text": [
      "\n"
     ]
    },
    {
     "name": "stdout",
     "output_type": "stream",
     "text": [
      "✅ Ascending Triangle: 389/500\n",
      "✅ Ascending Triangle: 390/500\n",
      "✅ Ascending Triangle: 391/500\n"
     ]
    },
    {
     "name": "stderr",
     "output_type": "stream",
     "text": [
      "[*********************100%***********************]  1 of 1 completed"
     ]
    },
    {
     "name": "stdout",
     "output_type": "stream",
     "text": [
      "📈 Fetching data for COIN\n"
     ]
    },
    {
     "name": "stderr",
     "output_type": "stream",
     "text": [
      "\n"
     ]
    },
    {
     "name": "stdout",
     "output_type": "stream",
     "text": [
      "✅ Morning Star: 426/500\n",
      "✅ Morning Star: 427/500\n",
      "✅ Ascending Triangle: 392/500\n",
      "✅ Descending Triangle: 185/500\n",
      "✅ Descending Triangle: 186/500\n",
      "✅ Hanging Man: 274/500\n",
      "✅ Hanging Man: 275/500\n",
      "✅ Hanging Man: 276/500\n",
      "✅ Hanging Man: 277/500\n"
     ]
    },
    {
     "name": "stderr",
     "output_type": "stream",
     "text": [
      "[*********************100%***********************]  1 of 1 completed"
     ]
    },
    {
     "name": "stdout",
     "output_type": "stream",
     "text": [
      "✅ Hanging Man: 278/500\n",
      "📈 Fetching data for XOM\n"
     ]
    },
    {
     "name": "stderr",
     "output_type": "stream",
     "text": [
      "\n"
     ]
    },
    {
     "name": "stdout",
     "output_type": "stream",
     "text": [
      "✅ Shooting Star: 169/500\n",
      "✅ Morning Star: 428/500\n",
      "✅ Morning Star: 429/500\n"
     ]
    },
    {
     "name": "stderr",
     "output_type": "stream",
     "text": [
      "[*********************100%***********************]  1 of 1 completed"
     ]
    },
    {
     "name": "stdout",
     "output_type": "stream",
     "text": [
      "✅ Head and Shoulders: 383/500\n",
      "📈 Fetching data for CVX\n"
     ]
    },
    {
     "name": "stderr",
     "output_type": "stream",
     "text": [
      "\n"
     ]
    },
    {
     "name": "stdout",
     "output_type": "stream",
     "text": [
      "✅ Evening Star: 95/500\n"
     ]
    },
    {
     "name": "stderr",
     "output_type": "stream",
     "text": [
      "[*********************100%***********************]  1 of 1 completed"
     ]
    },
    {
     "name": "stdout",
     "output_type": "stream",
     "text": [
      "✅ Head and Shoulders: 384/500\n",
      "📈 Fetching data for BA\n"
     ]
    },
    {
     "name": "stderr",
     "output_type": "stream",
     "text": [
      "\n"
     ]
    },
    {
     "name": "stdout",
     "output_type": "stream",
     "text": [
      "✅ Descending Triangle: 187/500\n",
      "✅ Descending Triangle: 188/500\n",
      "✅ Morning Star: 430/500\n",
      "✅ Morning Star: 431/500\n",
      "✅ Morning Star: 432/500\n",
      "✅ Morning Star: 433/500\n",
      "✅ Morning Star: 434/500\n",
      "✅ Morning Star: 435/500\n",
      "✅ Morning Star: 436/500\n"
     ]
    },
    {
     "name": "stderr",
     "output_type": "stream",
     "text": [
      "[*********************100%***********************]  1 of 1 completed"
     ]
    },
    {
     "name": "stdout",
     "output_type": "stream",
     "text": [
      "✅ Morning Star: 437/500\n",
      "📈 Fetching data for CAT\n"
     ]
    },
    {
     "name": "stderr",
     "output_type": "stream",
     "text": [
      "\n"
     ]
    },
    {
     "name": "stdout",
     "output_type": "stream",
     "text": [
      "✅ Hammer: 170/500\n",
      "✅ Hammer: 171/500\n",
      "✅ Hammer: 172/500\n",
      "✅ Hammer: 173/500\n",
      "✅ Hammer: 174/500\n",
      "✅ Hammer: 175/500\n"
     ]
    },
    {
     "name": "stderr",
     "output_type": "stream",
     "text": [
      "[*********************100%***********************]  1 of 1 completed"
     ]
    },
    {
     "name": "stdout",
     "output_type": "stream",
     "text": [
      "✅ Shooting Star: 170/500\n",
      "📈 Fetching data for DE\n"
     ]
    },
    {
     "name": "stderr",
     "output_type": "stream",
     "text": [
      "\n"
     ]
    },
    {
     "name": "stdout",
     "output_type": "stream",
     "text": [
      "✅ Morning Star: 438/500\n",
      "✅ Shooting Star: 171/500\n",
      "✅ Shooting Star: 172/500\n",
      "✅ Shooting Star: 173/500\n",
      "✅ Ascending Triangle: 393/500\n",
      "✅ Ascending Triangle: 394/500\n",
      "✅ Head and Shoulders: 385/500\n",
      "✅ Head and Shoulders: 386/500\n",
      "✅ Head and Shoulders: 387/500\n",
      "✅ Head and Shoulders: 388/500\n",
      "📈 Fetching data for PFE\n"
     ]
    },
    {
     "name": "stderr",
     "output_type": "stream",
     "text": [
      "[*********************100%***********************]  1 of 1 completed\n"
     ]
    },
    {
     "name": "stdout",
     "output_type": "stream",
     "text": [
      "✅ Shooting Star: 174/500\n",
      "✅ Morning Star: 439/500\n",
      "✅ Morning Star: 440/500\n",
      "✅ Morning Star: 441/500\n",
      "✅ Morning Star: 442/500\n",
      "✅ Hanging Man: 279/500\n",
      "✅ Hanging Man: 280/500\n",
      "✅ Hanging Man: 281/500\n",
      "✅ Hanging Man: 282/500\n",
      "✅ Ascending Triangle: 395/500\n",
      "📈 Fetching data for JNJ\n"
     ]
    },
    {
     "name": "stderr",
     "output_type": "stream",
     "text": [
      "[*********************100%***********************]  1 of 1 completed\n"
     ]
    },
    {
     "name": "stdout",
     "output_type": "stream",
     "text": [
      "✅ Head and Shoulders: 389/500\n",
      "📈 Fetching data for MRK\n"
     ]
    },
    {
     "name": "stderr",
     "output_type": "stream",
     "text": [
      "[*********************100%***********************]  1 of 1 completed\n"
     ]
    },
    {
     "name": "stdout",
     "output_type": "stream",
     "text": [
      "✅ Ascending Triangle: 396/500\n",
      "✅ Head and Shoulders: 390/500\n",
      "✅ Head and Shoulders: 391/500\n",
      "✅ Head and Shoulders: 392/500\n",
      "📈 Fetching data for LLY\n"
     ]
    },
    {
     "name": "stderr",
     "output_type": "stream",
     "text": [
      "[*********************100%***********************]  1 of 1 completed\n"
     ]
    },
    {
     "name": "stdout",
     "output_type": "stream",
     "text": [
      "✅ Hanging Man: 283/500\n",
      "✅ Hanging Man: 284/500\n",
      "✅ Hanging Man: 285/500\n",
      "✅ Head and Shoulders: 393/500\n",
      "✅ Head and Shoulders: 394/500\n",
      "✅ Head and Shoulders: 395/500\n",
      "✅ Ascending Triangle: 397/500\n",
      "✅ Shooting Star: 175/500\n"
     ]
    },
    {
     "name": "stderr",
     "output_type": "stream",
     "text": [
      "[*********************100%***********************]  1 of 1 completed"
     ]
    },
    {
     "name": "stdout",
     "output_type": "stream",
     "text": [
      "📈 Fetching data for PLTR\n"
     ]
    },
    {
     "name": "stderr",
     "output_type": "stream",
     "text": [
      "\n"
     ]
    },
    {
     "name": "stdout",
     "output_type": "stream",
     "text": [
      "✅ Head and Shoulders: 396/500\n"
     ]
    },
    {
     "name": "stderr",
     "output_type": "stream",
     "text": [
      "[*********************100%***********************]  1 of 1 completed"
     ]
    },
    {
     "name": "stdout",
     "output_type": "stream",
     "text": [
      "✅ Evening Star: 96/500\n",
      "📈 Fetching data for SNOW\n"
     ]
    },
    {
     "name": "stderr",
     "output_type": "stream",
     "text": [
      "\n",
      "[*********************100%***********************]  1 of 1 completed"
     ]
    },
    {
     "name": "stdout",
     "output_type": "stream",
     "text": [
      "✅ Descending Triangle: 189/500\n",
      "📈 Fetching data for SHOP\n"
     ]
    },
    {
     "name": "stderr",
     "output_type": "stream",
     "text": [
      "\n"
     ]
    },
    {
     "name": "stdout",
     "output_type": "stream",
     "text": [
      "✅ Morning Star: 443/500\n",
      "✅ Morning Star: 444/500\n",
      "✅ Morning Star: 445/500\n",
      "✅ Shooting Star: 176/500\n",
      "✅ Ascending Triangle: 398/500\n",
      "📈 Fetching data for RIVN\n"
     ]
    },
    {
     "name": "stderr",
     "output_type": "stream",
     "text": [
      "[*********************100%***********************]  1 of 1 completed\n",
      "[*********************100%***********************]  1 of 1 completed"
     ]
    },
    {
     "name": "stdout",
     "output_type": "stream",
     "text": [
      "✅ Descending Triangle: 190/500\n",
      "📈 Fetching data for UBER\n"
     ]
    },
    {
     "name": "stderr",
     "output_type": "stream",
     "text": [
      "\n"
     ]
    },
    {
     "name": "stdout",
     "output_type": "stream",
     "text": [
      "✅ Descending Triangle: 191/500\n"
     ]
    },
    {
     "name": "stderr",
     "output_type": "stream",
     "text": [
      "[*********************100%***********************]  1 of 1 completed"
     ]
    },
    {
     "name": "stdout",
     "output_type": "stream",
     "text": [
      "✅ Hanging Man: 286/500\n",
      "📈 Fetching data for SPY\n"
     ]
    },
    {
     "name": "stderr",
     "output_type": "stream",
     "text": [
      "\n"
     ]
    },
    {
     "name": "stdout",
     "output_type": "stream",
     "text": [
      "✅ Hanging Man: 287/500\n",
      "✅ Head and Shoulders: 397/500\n",
      "✅ Head and Shoulders: 398/500\n",
      "✅ Head and Shoulders: 399/500\n",
      "✅ Head and Shoulders: 400/500\n",
      "📈 Fetching data for QQQ\n"
     ]
    },
    {
     "name": "stderr",
     "output_type": "stream",
     "text": [
      "[*********************100%***********************]  1 of 1 completed\n"
     ]
    },
    {
     "name": "stdout",
     "output_type": "stream",
     "text": [
      "✅ Ascending Triangle: 399/500\n",
      "✅ Ascending Triangle: 400/500\n",
      "✅ Morning Star: 446/500\n",
      "✅ Hanging Man: 288/500\n",
      "✅ Hammer: 176/500\n",
      "✅ Descending Triangle: 192/500\n",
      "✅ Morning Star: 447/500\n",
      "✅ Morning Star: 448/500\n",
      "🔁 Pass 17 over symbols...\n",
      "📈 Fetching data for AAPL\n"
     ]
    },
    {
     "name": "stderr",
     "output_type": "stream",
     "text": [
      "[*********************100%***********************]  1 of 1 completed\n"
     ]
    },
    {
     "name": "stdout",
     "output_type": "stream",
     "text": [
      "✅ Hammer: 177/500\n",
      "✅ Descending Triangle: 193/500\n",
      "✅ Ascending Triangle: 401/500\n",
      "✅ Ascending Triangle: 402/500\n",
      "✅ Ascending Triangle: 403/500\n",
      "✅ Hanging Man: 289/500\n"
     ]
    },
    {
     "name": "stderr",
     "output_type": "stream",
     "text": [
      "[*********************100%***********************]  1 of 1 completed"
     ]
    },
    {
     "name": "stdout",
     "output_type": "stream",
     "text": [
      "📈 Fetching data for MSFT\n"
     ]
    },
    {
     "name": "stderr",
     "output_type": "stream",
     "text": [
      "\n"
     ]
    },
    {
     "name": "stdout",
     "output_type": "stream",
     "text": [
      "✅ Hammer: 178/500\n",
      "✅ Hammer: 179/500\n"
     ]
    },
    {
     "name": "stderr",
     "output_type": "stream",
     "text": [
      "[*********************100%***********************]  1 of 1 completed"
     ]
    },
    {
     "name": "stdout",
     "output_type": "stream",
     "text": [
      "✅ Head and Shoulders: 401/500\n",
      "📈 Fetching data for GOOGL\n"
     ]
    },
    {
     "name": "stderr",
     "output_type": "stream",
     "text": [
      "\n"
     ]
    },
    {
     "name": "stdout",
     "output_type": "stream",
     "text": [
      "✅ Morning Star: 449/500\n",
      "✅ Morning Star: 450/500\n",
      "📈 Fetching data for AMZN\n"
     ]
    },
    {
     "name": "stderr",
     "output_type": "stream",
     "text": [
      "[*********************100%***********************]  1 of 1 completed\n"
     ]
    },
    {
     "name": "stdout",
     "output_type": "stream",
     "text": [
      "✅ Morning Star: 451/500\n",
      "✅ Morning Star: 452/500\n",
      "✅ Descending Triangle: 194/500\n",
      "✅ Descending Triangle: 195/500\n"
     ]
    },
    {
     "name": "stderr",
     "output_type": "stream",
     "text": [
      "[*********************100%***********************]  1 of 1 completed"
     ]
    },
    {
     "name": "stdout",
     "output_type": "stream",
     "text": [
      "✅ Hammer: 180/500\n",
      "📈 Fetching data for META\n"
     ]
    },
    {
     "name": "stderr",
     "output_type": "stream",
     "text": [
      "\n"
     ]
    },
    {
     "name": "stdout",
     "output_type": "stream",
     "text": [
      "✅ Head and Shoulders: 402/500\n",
      "✅ Head and Shoulders: 403/500\n",
      "✅ Head and Shoulders: 404/500\n",
      "✅ Hanging Man: 290/500\n",
      "📈 Fetching data for NVDA\n"
     ]
    },
    {
     "name": "stderr",
     "output_type": "stream",
     "text": [
      "[*********************100%***********************]  1 of 1 completed\n"
     ]
    },
    {
     "name": "stdout",
     "output_type": "stream",
     "text": [
      "✅ Ascending Triangle: 404/500\n",
      "✅ Ascending Triangle: 405/500\n",
      "✅ Ascending Triangle: 406/500\n",
      "✅ Shooting Star: 177/500\n",
      "✅ Ascending Triangle: 407/500\n",
      "✅ Hanging Man: 291/500\n",
      "✅ Ascending Triangle: 408/500\n"
     ]
    },
    {
     "name": "stderr",
     "output_type": "stream",
     "text": [
      "[*********************100%***********************]  1 of 1 completed"
     ]
    },
    {
     "name": "stdout",
     "output_type": "stream",
     "text": [
      "✅ Ascending Triangle: 409/500\n",
      "📈 Fetching data for TSLA\n"
     ]
    },
    {
     "name": "stderr",
     "output_type": "stream",
     "text": [
      "\n"
     ]
    },
    {
     "name": "stdout",
     "output_type": "stream",
     "text": [
      "✅ Descending Triangle: 196/500\n",
      "✅ Ascending Triangle: 410/500\n",
      "✅ Shooting Star: 178/500\n"
     ]
    },
    {
     "name": "stderr",
     "output_type": "stream",
     "text": [
      "[*********************100%***********************]  1 of 1 completed"
     ]
    },
    {
     "name": "stdout",
     "output_type": "stream",
     "text": [
      "📈 Fetching data for NFLX\n"
     ]
    },
    {
     "name": "stderr",
     "output_type": "stream",
     "text": [
      "\n"
     ]
    },
    {
     "name": "stdout",
     "output_type": "stream",
     "text": [
      "✅ Morning Star: 453/500\n",
      "✅ Evening Star: 97/500\n",
      "✅ Evening Star: 98/500\n"
     ]
    },
    {
     "name": "stderr",
     "output_type": "stream",
     "text": [
      "[*********************100%***********************]  1 of 1 completed"
     ]
    },
    {
     "name": "stdout",
     "output_type": "stream",
     "text": [
      "✅ Head and Shoulders: 405/500\n",
      "📈 Fetching data for JPM\n"
     ]
    },
    {
     "name": "stderr",
     "output_type": "stream",
     "text": [
      "\n"
     ]
    },
    {
     "name": "stdout",
     "output_type": "stream",
     "text": [
      "✅ Evening Star: 99/500\n",
      "✅ Evening Star: 100/500\n",
      "✅ Head and Shoulders: 406/500\n",
      "✅ Shooting Star: 179/500\n"
     ]
    },
    {
     "name": "stderr",
     "output_type": "stream",
     "text": [
      "[*********************100%***********************]  1 of 1 completed"
     ]
    },
    {
     "name": "stdout",
     "output_type": "stream",
     "text": [
      "📈 Fetching data for BAC\n"
     ]
    },
    {
     "name": "stderr",
     "output_type": "stream",
     "text": [
      "\n"
     ]
    },
    {
     "name": "stdout",
     "output_type": "stream",
     "text": [
      "✅ Head and Shoulders: 407/500\n"
     ]
    },
    {
     "name": "stderr",
     "output_type": "stream",
     "text": [
      "[*********************100%***********************]  1 of 1 completed"
     ]
    },
    {
     "name": "stdout",
     "output_type": "stream",
     "text": [
      "📈 Fetching data for V\n"
     ]
    },
    {
     "name": "stderr",
     "output_type": "stream",
     "text": [
      "\n"
     ]
    },
    {
     "name": "stdout",
     "output_type": "stream",
     "text": [
      "✅ Ascending Triangle: 411/500\n",
      "✅ Ascending Triangle: 412/500\n"
     ]
    },
    {
     "name": "stderr",
     "output_type": "stream",
     "text": [
      "[*********************100%***********************]  1 of 1 completed"
     ]
    },
    {
     "name": "stdout",
     "output_type": "stream",
     "text": [
      "✅ Inverted Hammer: 17/500\n",
      "📈 Fetching data for MA\n"
     ]
    },
    {
     "name": "stderr",
     "output_type": "stream",
     "text": [
      "\n",
      "[*********************100%***********************]  1 of 1 completed"
     ]
    },
    {
     "name": "stdout",
     "output_type": "stream",
     "text": [
      "✅ Ascending Triangle: 413/500\n",
      "📈 Fetching data for SOFI\n"
     ]
    },
    {
     "name": "stderr",
     "output_type": "stream",
     "text": [
      "\n"
     ]
    },
    {
     "name": "stdout",
     "output_type": "stream",
     "text": [
      "✅ Ascending Triangle: 414/500\n",
      "✅ Ascending Triangle: 415/500\n"
     ]
    },
    {
     "name": "stderr",
     "output_type": "stream",
     "text": [
      "[*********************100%***********************]  1 of 1 completed"
     ]
    },
    {
     "name": "stdout",
     "output_type": "stream",
     "text": [
      "✅ Ascending Triangle: 416/500\n",
      "📈 Fetching data for COIN\n"
     ]
    },
    {
     "name": "stderr",
     "output_type": "stream",
     "text": [
      "\n"
     ]
    },
    {
     "name": "stdout",
     "output_type": "stream",
     "text": [
      "✅ Morning Star: 454/500\n",
      "✅ Morning Star: 455/500\n",
      "✅ Ascending Triangle: 417/500\n",
      "✅ Descending Triangle: 197/500\n",
      "✅ Descending Triangle: 198/500\n",
      "✅ Hanging Man: 292/500\n",
      "✅ Hanging Man: 293/500\n",
      "✅ Hanging Man: 294/500\n",
      "✅ Hanging Man: 295/500\n",
      "✅ Hanging Man: 296/500\n",
      "📈 Fetching data for XOM\n"
     ]
    },
    {
     "name": "stderr",
     "output_type": "stream",
     "text": [
      "[*********************100%***********************]  1 of 1 completed\n"
     ]
    },
    {
     "name": "stdout",
     "output_type": "stream",
     "text": [
      "✅ Shooting Star: 180/500\n",
      "✅ Morning Star: 456/500\n",
      "✅ Morning Star: 457/500\n"
     ]
    },
    {
     "name": "stderr",
     "output_type": "stream",
     "text": [
      "[*********************100%***********************]  1 of 1 completed"
     ]
    },
    {
     "name": "stdout",
     "output_type": "stream",
     "text": [
      "✅ Head and Shoulders: 408/500\n",
      "📈 Fetching data for CVX\n"
     ]
    },
    {
     "name": "stderr",
     "output_type": "stream",
     "text": [
      "\n"
     ]
    },
    {
     "name": "stdout",
     "output_type": "stream",
     "text": [
      "✅ Evening Star: 101/500\n"
     ]
    },
    {
     "name": "stderr",
     "output_type": "stream",
     "text": [
      "[*********************100%***********************]  1 of 1 completed"
     ]
    },
    {
     "name": "stdout",
     "output_type": "stream",
     "text": [
      "✅ Head and Shoulders: 409/500\n",
      "📈 Fetching data for BA\n"
     ]
    },
    {
     "name": "stderr",
     "output_type": "stream",
     "text": [
      "\n"
     ]
    },
    {
     "name": "stdout",
     "output_type": "stream",
     "text": [
      "✅ Descending Triangle: 199/500\n",
      "✅ Descending Triangle: 200/500\n",
      "✅ Morning Star: 458/500\n",
      "✅ Morning Star: 459/500\n",
      "✅ Morning Star: 460/500\n",
      "✅ Morning Star: 461/500\n",
      "✅ Morning Star: 462/500\n",
      "✅ Morning Star: 463/500\n",
      "✅ Morning Star: 464/500\n"
     ]
    },
    {
     "name": "stderr",
     "output_type": "stream",
     "text": [
      "[*********************100%***********************]  1 of 1 completed"
     ]
    },
    {
     "name": "stdout",
     "output_type": "stream",
     "text": [
      "✅ Morning Star: 465/500\n",
      "📈 Fetching data for CAT\n"
     ]
    },
    {
     "name": "stderr",
     "output_type": "stream",
     "text": [
      "\n"
     ]
    },
    {
     "name": "stdout",
     "output_type": "stream",
     "text": [
      "✅ Hammer: 181/500\n",
      "✅ Hammer: 182/500\n",
      "✅ Hammer: 183/500\n",
      "✅ Hammer: 184/500\n",
      "✅ Hammer: 185/500\n",
      "✅ Hammer: 186/500\n"
     ]
    },
    {
     "name": "stderr",
     "output_type": "stream",
     "text": [
      "[*********************100%***********************]  1 of 1 completed"
     ]
    },
    {
     "name": "stdout",
     "output_type": "stream",
     "text": [
      "✅ Shooting Star: 181/500\n",
      "📈 Fetching data for DE\n"
     ]
    },
    {
     "name": "stderr",
     "output_type": "stream",
     "text": [
      "\n"
     ]
    },
    {
     "name": "stdout",
     "output_type": "stream",
     "text": [
      "✅ Morning Star: 466/500\n",
      "✅ Shooting Star: 182/500\n",
      "✅ Shooting Star: 183/500\n",
      "✅ Shooting Star: 184/500\n",
      "✅ Ascending Triangle: 418/500\n",
      "✅ Ascending Triangle: 419/500\n",
      "✅ Head and Shoulders: 410/500\n",
      "✅ Head and Shoulders: 411/500\n",
      "✅ Head and Shoulders: 412/500\n",
      "✅ Head and Shoulders: 413/500\n",
      "📈 Fetching data for PFE\n"
     ]
    },
    {
     "name": "stderr",
     "output_type": "stream",
     "text": [
      "[*********************100%***********************]  1 of 1 completed\n"
     ]
    },
    {
     "name": "stdout",
     "output_type": "stream",
     "text": [
      "✅ Shooting Star: 185/500\n",
      "✅ Morning Star: 467/500\n",
      "✅ Morning Star: 468/500\n",
      "✅ Morning Star: 469/500\n",
      "✅ Morning Star: 470/500\n",
      "✅ Hanging Man: 297/500\n",
      "✅ Hanging Man: 298/500\n",
      "✅ Hanging Man: 299/500\n",
      "✅ Hanging Man: 300/500\n",
      "✅ Ascending Triangle: 420/500\n",
      "📈 Fetching data for JNJ\n"
     ]
    },
    {
     "name": "stderr",
     "output_type": "stream",
     "text": [
      "[*********************100%***********************]  1 of 1 completed\n"
     ]
    },
    {
     "name": "stdout",
     "output_type": "stream",
     "text": [
      "✅ Head and Shoulders: 414/500\n",
      "📈 Fetching data for MRK\n"
     ]
    },
    {
     "name": "stderr",
     "output_type": "stream",
     "text": [
      "[*********************100%***********************]  1 of 1 completed\n"
     ]
    },
    {
     "name": "stdout",
     "output_type": "stream",
     "text": [
      "✅ Ascending Triangle: 421/500\n",
      "✅ Head and Shoulders: 415/500\n",
      "✅ Head and Shoulders: 416/500\n",
      "✅ Head and Shoulders: 417/500\n",
      "📈 Fetching data for LLY\n"
     ]
    },
    {
     "name": "stderr",
     "output_type": "stream",
     "text": [
      "[*********************100%***********************]  1 of 1 completed\n"
     ]
    },
    {
     "name": "stdout",
     "output_type": "stream",
     "text": [
      "✅ Hanging Man: 301/500\n",
      "✅ Hanging Man: 302/500\n",
      "✅ Hanging Man: 303/500\n",
      "✅ Head and Shoulders: 418/500\n",
      "✅ Head and Shoulders: 419/500\n",
      "✅ Head and Shoulders: 420/500\n",
      "✅ Ascending Triangle: 422/500\n",
      "✅ Shooting Star: 186/500\n",
      "📈 Fetching data for PLTR\n"
     ]
    },
    {
     "name": "stderr",
     "output_type": "stream",
     "text": [
      "[*********************100%***********************]  1 of 1 completed\n"
     ]
    },
    {
     "name": "stdout",
     "output_type": "stream",
     "text": [
      "✅ Head and Shoulders: 421/500\n"
     ]
    },
    {
     "name": "stderr",
     "output_type": "stream",
     "text": [
      "[*********************100%***********************]  1 of 1 completed"
     ]
    },
    {
     "name": "stdout",
     "output_type": "stream",
     "text": [
      "✅ Evening Star: 102/500\n",
      "📈 Fetching data for SNOW\n"
     ]
    },
    {
     "name": "stderr",
     "output_type": "stream",
     "text": [
      "\n",
      "[*********************100%***********************]  1 of 1 completed"
     ]
    },
    {
     "name": "stdout",
     "output_type": "stream",
     "text": [
      "✅ Descending Triangle: 201/500\n",
      "📈 Fetching data for SHOP\n"
     ]
    },
    {
     "name": "stderr",
     "output_type": "stream",
     "text": [
      "\n"
     ]
    },
    {
     "name": "stdout",
     "output_type": "stream",
     "text": [
      "✅ Morning Star: 471/500\n",
      "✅ Morning Star: 472/500\n",
      "✅ Morning Star: 473/500\n",
      "✅ Shooting Star: 187/500\n",
      "✅ Ascending Triangle: 423/500\n",
      "📈 Fetching data for RIVN\n"
     ]
    },
    {
     "name": "stderr",
     "output_type": "stream",
     "text": [
      "[*********************100%***********************]  1 of 1 completed\n",
      "[*********************100%***********************]  1 of 1 completed"
     ]
    },
    {
     "name": "stdout",
     "output_type": "stream",
     "text": [
      "✅ Descending Triangle: 202/500\n",
      "📈 Fetching data for UBER\n"
     ]
    },
    {
     "name": "stderr",
     "output_type": "stream",
     "text": [
      "\n"
     ]
    },
    {
     "name": "stdout",
     "output_type": "stream",
     "text": [
      "✅ Descending Triangle: 203/500\n"
     ]
    },
    {
     "name": "stderr",
     "output_type": "stream",
     "text": [
      "[*********************100%***********************]  1 of 1 completed"
     ]
    },
    {
     "name": "stdout",
     "output_type": "stream",
     "text": [
      "✅ Hanging Man: 304/500\n",
      "📈 Fetching data for SPY\n"
     ]
    },
    {
     "name": "stderr",
     "output_type": "stream",
     "text": [
      "\n"
     ]
    },
    {
     "name": "stdout",
     "output_type": "stream",
     "text": [
      "✅ Hanging Man: 305/500\n",
      "✅ Head and Shoulders: 422/500\n",
      "✅ Head and Shoulders: 423/500\n",
      "✅ Head and Shoulders: 424/500\n",
      "✅ Head and Shoulders: 425/500\n",
      "📈 Fetching data for QQQ\n"
     ]
    },
    {
     "name": "stderr",
     "output_type": "stream",
     "text": [
      "[*********************100%***********************]  1 of 1 completed\n"
     ]
    },
    {
     "name": "stdout",
     "output_type": "stream",
     "text": [
      "✅ Ascending Triangle: 424/500\n",
      "✅ Ascending Triangle: 425/500\n",
      "✅ Morning Star: 474/500\n",
      "✅ Hanging Man: 306/500\n",
      "✅ Hammer: 187/500\n",
      "✅ Descending Triangle: 204/500\n",
      "✅ Morning Star: 475/500\n",
      "✅ Morning Star: 476/500\n",
      "🔁 Pass 18 over symbols...\n",
      "📈 Fetching data for AAPL\n"
     ]
    },
    {
     "name": "stderr",
     "output_type": "stream",
     "text": [
      "[*********************100%***********************]  1 of 1 completed\n"
     ]
    },
    {
     "name": "stdout",
     "output_type": "stream",
     "text": [
      "✅ Hammer: 188/500\n",
      "✅ Descending Triangle: 205/500\n",
      "✅ Ascending Triangle: 426/500\n",
      "✅ Ascending Triangle: 427/500\n",
      "✅ Ascending Triangle: 428/500\n",
      "✅ Hanging Man: 307/500\n"
     ]
    },
    {
     "name": "stderr",
     "output_type": "stream",
     "text": [
      "[*********************100%***********************]  1 of 1 completed"
     ]
    },
    {
     "name": "stdout",
     "output_type": "stream",
     "text": [
      "📈 Fetching data for MSFT\n"
     ]
    },
    {
     "name": "stderr",
     "output_type": "stream",
     "text": [
      "\n"
     ]
    },
    {
     "name": "stdout",
     "output_type": "stream",
     "text": [
      "✅ Hammer: 189/500\n",
      "✅ Hammer: 190/500\n",
      "✅ Head and Shoulders: 426/500\n",
      "📈 Fetching data for GOOGL\n"
     ]
    },
    {
     "name": "stderr",
     "output_type": "stream",
     "text": [
      "[*********************100%***********************]  1 of 1 completed\n"
     ]
    },
    {
     "name": "stdout",
     "output_type": "stream",
     "text": [
      "✅ Morning Star: 477/500\n",
      "✅ Morning Star: 478/500\n",
      "📈 Fetching data for AMZN\n"
     ]
    },
    {
     "name": "stderr",
     "output_type": "stream",
     "text": [
      "[*********************100%***********************]  1 of 1 completed\n"
     ]
    },
    {
     "name": "stdout",
     "output_type": "stream",
     "text": [
      "✅ Morning Star: 479/500\n",
      "✅ Morning Star: 480/500\n",
      "✅ Descending Triangle: 206/500\n",
      "✅ Descending Triangle: 207/500\n"
     ]
    },
    {
     "name": "stderr",
     "output_type": "stream",
     "text": [
      "[*********************100%***********************]  1 of 1 completed"
     ]
    },
    {
     "name": "stdout",
     "output_type": "stream",
     "text": [
      "✅ Hammer: 191/500\n",
      "📈 Fetching data for META\n"
     ]
    },
    {
     "name": "stderr",
     "output_type": "stream",
     "text": [
      "\n"
     ]
    },
    {
     "name": "stdout",
     "output_type": "stream",
     "text": [
      "✅ Head and Shoulders: 427/500\n",
      "✅ Head and Shoulders: 428/500\n",
      "✅ Head and Shoulders: 429/500\n",
      "✅ Hanging Man: 308/500\n",
      "📈 Fetching data for NVDA\n"
     ]
    },
    {
     "name": "stderr",
     "output_type": "stream",
     "text": [
      "[*********************100%***********************]  1 of 1 completed\n"
     ]
    },
    {
     "name": "stdout",
     "output_type": "stream",
     "text": [
      "✅ Ascending Triangle: 429/500\n",
      "✅ Ascending Triangle: 430/500\n",
      "✅ Ascending Triangle: 431/500\n",
      "✅ Shooting Star: 188/500\n",
      "✅ Ascending Triangle: 432/500\n",
      "✅ Hanging Man: 309/500\n",
      "✅ Ascending Triangle: 433/500\n"
     ]
    },
    {
     "name": "stderr",
     "output_type": "stream",
     "text": [
      "[*********************100%***********************]  1 of 1 completed"
     ]
    },
    {
     "name": "stdout",
     "output_type": "stream",
     "text": [
      "✅ Ascending Triangle: 434/500\n",
      "📈 Fetching data for TSLA\n"
     ]
    },
    {
     "name": "stderr",
     "output_type": "stream",
     "text": [
      "\n"
     ]
    },
    {
     "name": "stdout",
     "output_type": "stream",
     "text": [
      "✅ Descending Triangle: 208/500\n",
      "✅ Ascending Triangle: 435/500\n",
      "✅ Shooting Star: 189/500\n"
     ]
    },
    {
     "name": "stderr",
     "output_type": "stream",
     "text": [
      "[*********************100%***********************]  1 of 1 completed"
     ]
    },
    {
     "name": "stdout",
     "output_type": "stream",
     "text": [
      "📈 Fetching data for NFLX\n"
     ]
    },
    {
     "name": "stderr",
     "output_type": "stream",
     "text": [
      "\n"
     ]
    },
    {
     "name": "stdout",
     "output_type": "stream",
     "text": [
      "✅ Morning Star: 481/500\n",
      "✅ Evening Star: 103/500\n",
      "✅ Evening Star: 104/500\n"
     ]
    },
    {
     "name": "stderr",
     "output_type": "stream",
     "text": [
      "[*********************100%***********************]  1 of 1 completed"
     ]
    },
    {
     "name": "stdout",
     "output_type": "stream",
     "text": [
      "✅ Head and Shoulders: 430/500\n",
      "📈 Fetching data for JPM\n"
     ]
    },
    {
     "name": "stderr",
     "output_type": "stream",
     "text": [
      "\n"
     ]
    },
    {
     "name": "stdout",
     "output_type": "stream",
     "text": [
      "✅ Evening Star: 105/500\n",
      "✅ Evening Star: 106/500\n",
      "✅ Head and Shoulders: 431/500\n",
      "✅ Shooting Star: 190/500\n"
     ]
    },
    {
     "name": "stderr",
     "output_type": "stream",
     "text": [
      "[*********************100%***********************]  1 of 1 completed"
     ]
    },
    {
     "name": "stdout",
     "output_type": "stream",
     "text": [
      "📈 Fetching data for BAC\n"
     ]
    },
    {
     "name": "stderr",
     "output_type": "stream",
     "text": [
      "\n"
     ]
    },
    {
     "name": "stdout",
     "output_type": "stream",
     "text": [
      "✅ Head and Shoulders: 432/500\n"
     ]
    },
    {
     "name": "stderr",
     "output_type": "stream",
     "text": [
      "[*********************100%***********************]  1 of 1 completed"
     ]
    },
    {
     "name": "stdout",
     "output_type": "stream",
     "text": [
      "📈 Fetching data for V\n"
     ]
    },
    {
     "name": "stderr",
     "output_type": "stream",
     "text": [
      "\n"
     ]
    },
    {
     "name": "stdout",
     "output_type": "stream",
     "text": [
      "✅ Ascending Triangle: 436/500\n",
      "✅ Ascending Triangle: 437/500\n"
     ]
    },
    {
     "name": "stderr",
     "output_type": "stream",
     "text": [
      "[*********************100%***********************]  1 of 1 completed"
     ]
    },
    {
     "name": "stdout",
     "output_type": "stream",
     "text": [
      "✅ Inverted Hammer: 18/500\n",
      "📈 Fetching data for MA\n"
     ]
    },
    {
     "name": "stderr",
     "output_type": "stream",
     "text": [
      "\n",
      "[*********************100%***********************]  1 of 1 completed"
     ]
    },
    {
     "name": "stdout",
     "output_type": "stream",
     "text": [
      "✅ Ascending Triangle: 438/500\n",
      "📈 Fetching data for SOFI\n"
     ]
    },
    {
     "name": "stderr",
     "output_type": "stream",
     "text": [
      "\n"
     ]
    },
    {
     "name": "stdout",
     "output_type": "stream",
     "text": [
      "✅ Ascending Triangle: 439/500\n",
      "✅ Ascending Triangle: 440/500\n"
     ]
    },
    {
     "name": "stderr",
     "output_type": "stream",
     "text": [
      "[*********************100%***********************]  1 of 1 completed"
     ]
    },
    {
     "name": "stdout",
     "output_type": "stream",
     "text": [
      "✅ Ascending Triangle: 441/500\n",
      "📈 Fetching data for COIN\n"
     ]
    },
    {
     "name": "stderr",
     "output_type": "stream",
     "text": [
      "\n"
     ]
    },
    {
     "name": "stdout",
     "output_type": "stream",
     "text": [
      "✅ Morning Star: 482/500\n",
      "✅ Morning Star: 483/500\n",
      "✅ Ascending Triangle: 442/500\n",
      "✅ Descending Triangle: 209/500\n",
      "✅ Descending Triangle: 210/500\n",
      "✅ Hanging Man: 310/500\n",
      "✅ Hanging Man: 311/500\n",
      "✅ Hanging Man: 312/500\n",
      "✅ Hanging Man: 313/500\n",
      "✅ Hanging Man: 314/500\n",
      "📈 Fetching data for XOM\n"
     ]
    },
    {
     "name": "stderr",
     "output_type": "stream",
     "text": [
      "[*********************100%***********************]  1 of 1 completed\n"
     ]
    },
    {
     "name": "stdout",
     "output_type": "stream",
     "text": [
      "✅ Shooting Star: 191/500\n",
      "✅ Morning Star: 484/500\n",
      "✅ Morning Star: 485/500\n",
      "✅ Head and Shoulders: 433/500\n",
      "📈 Fetching data for CVX\n"
     ]
    },
    {
     "name": "stderr",
     "output_type": "stream",
     "text": [
      "[*********************100%***********************]  1 of 1 completed\n"
     ]
    },
    {
     "name": "stdout",
     "output_type": "stream",
     "text": [
      "✅ Evening Star: 107/500\n"
     ]
    },
    {
     "name": "stderr",
     "output_type": "stream",
     "text": [
      "[*********************100%***********************]  1 of 1 completed"
     ]
    },
    {
     "name": "stdout",
     "output_type": "stream",
     "text": [
      "✅ Head and Shoulders: 434/500\n",
      "📈 Fetching data for BA\n"
     ]
    },
    {
     "name": "stderr",
     "output_type": "stream",
     "text": [
      "\n"
     ]
    },
    {
     "name": "stdout",
     "output_type": "stream",
     "text": [
      "✅ Descending Triangle: 211/500\n",
      "✅ Descending Triangle: 212/500\n",
      "✅ Morning Star: 486/500\n",
      "✅ Morning Star: 487/500\n",
      "✅ Morning Star: 488/500\n",
      "✅ Morning Star: 489/500\n",
      "✅ Morning Star: 490/500\n",
      "✅ Morning Star: 491/500\n",
      "✅ Morning Star: 492/500\n"
     ]
    },
    {
     "name": "stderr",
     "output_type": "stream",
     "text": [
      "[*********************100%***********************]  1 of 1 completed"
     ]
    },
    {
     "name": "stdout",
     "output_type": "stream",
     "text": [
      "✅ Morning Star: 493/500\n",
      "📈 Fetching data for CAT\n"
     ]
    },
    {
     "name": "stderr",
     "output_type": "stream",
     "text": [
      "\n"
     ]
    },
    {
     "name": "stdout",
     "output_type": "stream",
     "text": [
      "✅ Hammer: 192/500\n",
      "✅ Hammer: 193/500\n",
      "✅ Hammer: 194/500\n",
      "✅ Hammer: 195/500\n",
      "✅ Hammer: 196/500\n",
      "✅ Hammer: 197/500\n"
     ]
    },
    {
     "name": "stderr",
     "output_type": "stream",
     "text": [
      "[*********************100%***********************]  1 of 1 completed"
     ]
    },
    {
     "name": "stdout",
     "output_type": "stream",
     "text": [
      "✅ Shooting Star: 192/500\n",
      "📈 Fetching data for DE\n"
     ]
    },
    {
     "name": "stderr",
     "output_type": "stream",
     "text": [
      "\n"
     ]
    },
    {
     "name": "stdout",
     "output_type": "stream",
     "text": [
      "✅ Morning Star: 494/500\n",
      "✅ Shooting Star: 193/500\n",
      "✅ Shooting Star: 194/500\n",
      "✅ Shooting Star: 195/500\n",
      "✅ Ascending Triangle: 443/500\n",
      "✅ Ascending Triangle: 444/500\n",
      "✅ Head and Shoulders: 435/500\n",
      "✅ Head and Shoulders: 436/500\n",
      "✅ Head and Shoulders: 437/500\n",
      "✅ Head and Shoulders: 438/500\n"
     ]
    },
    {
     "name": "stderr",
     "output_type": "stream",
     "text": [
      "[*********************100%***********************]  1 of 1 completed"
     ]
    },
    {
     "name": "stdout",
     "output_type": "stream",
     "text": [
      "📈 Fetching data for PFE\n"
     ]
    },
    {
     "name": "stderr",
     "output_type": "stream",
     "text": [
      "\n"
     ]
    },
    {
     "name": "stdout",
     "output_type": "stream",
     "text": [
      "✅ Shooting Star: 196/500\n",
      "✅ Morning Star: 495/500\n",
      "✅ Morning Star: 496/500\n",
      "✅ Morning Star: 497/500\n",
      "✅ Morning Star: 498/500\n",
      "✅ Hanging Man: 315/500\n",
      "✅ Hanging Man: 316/500\n",
      "✅ Hanging Man: 317/500\n",
      "✅ Hanging Man: 318/500\n",
      "✅ Ascending Triangle: 445/500\n",
      "📈 Fetching data for JNJ\n"
     ]
    },
    {
     "name": "stderr",
     "output_type": "stream",
     "text": [
      "[*********************100%***********************]  1 of 1 completed\n"
     ]
    },
    {
     "name": "stdout",
     "output_type": "stream",
     "text": [
      "✅ Head and Shoulders: 439/500\n",
      "📈 Fetching data for MRK\n"
     ]
    },
    {
     "name": "stderr",
     "output_type": "stream",
     "text": [
      "[*********************100%***********************]  1 of 1 completed\n"
     ]
    },
    {
     "name": "stdout",
     "output_type": "stream",
     "text": [
      "✅ Ascending Triangle: 446/500\n",
      "✅ Head and Shoulders: 440/500\n",
      "✅ Head and Shoulders: 441/500\n",
      "✅ Head and Shoulders: 442/500\n",
      "📈 Fetching data for LLY\n"
     ]
    },
    {
     "name": "stderr",
     "output_type": "stream",
     "text": [
      "[*********************100%***********************]  1 of 1 completed\n"
     ]
    },
    {
     "name": "stdout",
     "output_type": "stream",
     "text": [
      "✅ Hanging Man: 319/500\n",
      "✅ Hanging Man: 320/500\n",
      "✅ Hanging Man: 321/500\n",
      "✅ Head and Shoulders: 443/500\n",
      "✅ Head and Shoulders: 444/500\n",
      "✅ Head and Shoulders: 445/500\n",
      "✅ Ascending Triangle: 447/500\n",
      "✅ Shooting Star: 197/500\n"
     ]
    },
    {
     "name": "stderr",
     "output_type": "stream",
     "text": [
      "[*********************100%***********************]  1 of 1 completed"
     ]
    },
    {
     "name": "stdout",
     "output_type": "stream",
     "text": [
      "📈 Fetching data for PLTR\n"
     ]
    },
    {
     "name": "stderr",
     "output_type": "stream",
     "text": [
      "\n"
     ]
    },
    {
     "name": "stdout",
     "output_type": "stream",
     "text": [
      "✅ Head and Shoulders: 446/500\n"
     ]
    },
    {
     "name": "stderr",
     "output_type": "stream",
     "text": [
      "[*********************100%***********************]  1 of 1 completed"
     ]
    },
    {
     "name": "stdout",
     "output_type": "stream",
     "text": [
      "✅ Evening Star: 108/500\n",
      "📈 Fetching data for SNOW\n"
     ]
    },
    {
     "name": "stderr",
     "output_type": "stream",
     "text": [
      "\n",
      "[*********************100%***********************]  1 of 1 completed"
     ]
    },
    {
     "name": "stdout",
     "output_type": "stream",
     "text": [
      "✅ Descending Triangle: 213/500\n",
      "📈 Fetching data for SHOP\n"
     ]
    },
    {
     "name": "stderr",
     "output_type": "stream",
     "text": [
      "\n"
     ]
    },
    {
     "name": "stdout",
     "output_type": "stream",
     "text": [
      "✅ Morning Star: 499/500\n",
      "✅ Morning Star: 500/500\n",
      "✅ Shooting Star: 198/500\n",
      "✅ Ascending Triangle: 448/500\n"
     ]
    },
    {
     "name": "stderr",
     "output_type": "stream",
     "text": [
      "[*********************100%***********************]  1 of 1 completed"
     ]
    },
    {
     "name": "stdout",
     "output_type": "stream",
     "text": [
      "📈 Fetching data for RIVN\n",
      "✅ Descending Triangle: 214/500\n"
     ]
    },
    {
     "name": "stderr",
     "output_type": "stream",
     "text": [
      "\n",
      "[*********************100%***********************]  1 of 1 completed"
     ]
    },
    {
     "name": "stdout",
     "output_type": "stream",
     "text": [
      "📈 Fetching data for UBER\n"
     ]
    },
    {
     "name": "stderr",
     "output_type": "stream",
     "text": [
      "\n"
     ]
    },
    {
     "name": "stdout",
     "output_type": "stream",
     "text": [
      "✅ Descending Triangle: 215/500\n"
     ]
    },
    {
     "name": "stderr",
     "output_type": "stream",
     "text": [
      "[*********************100%***********************]  1 of 1 completed"
     ]
    },
    {
     "name": "stdout",
     "output_type": "stream",
     "text": [
      "✅ Hanging Man: 322/500\n",
      "📈 Fetching data for SPY\n"
     ]
    },
    {
     "name": "stderr",
     "output_type": "stream",
     "text": [
      "\n"
     ]
    },
    {
     "name": "stdout",
     "output_type": "stream",
     "text": [
      "✅ Hanging Man: 323/500\n",
      "✅ Head and Shoulders: 447/500\n",
      "✅ Head and Shoulders: 448/500\n",
      "✅ Head and Shoulders: 449/500\n",
      "✅ Head and Shoulders: 450/500\n",
      "📈 Fetching data for QQQ\n"
     ]
    },
    {
     "name": "stderr",
     "output_type": "stream",
     "text": [
      "[*********************100%***********************]  1 of 1 completed\n"
     ]
    },
    {
     "name": "stdout",
     "output_type": "stream",
     "text": [
      "✅ Ascending Triangle: 449/500\n",
      "✅ Ascending Triangle: 450/500\n",
      "✅ Hanging Man: 324/500\n",
      "✅ Hammer: 198/500\n",
      "✅ Descending Triangle: 216/500\n"
     ]
    },
    {
     "name": "stderr",
     "output_type": "stream",
     "text": [
      "[*********************100%***********************]  1 of 1 completed"
     ]
    },
    {
     "name": "stdout",
     "output_type": "stream",
     "text": [
      "🔁 Pass 19 over symbols...\n",
      "📈 Fetching data for AAPL\n"
     ]
    },
    {
     "name": "stderr",
     "output_type": "stream",
     "text": [
      "\n"
     ]
    },
    {
     "name": "stdout",
     "output_type": "stream",
     "text": [
      "✅ Hammer: 199/500\n",
      "✅ Descending Triangle: 217/500\n",
      "✅ Ascending Triangle: 451/500\n",
      "✅ Ascending Triangle: 452/500\n",
      "✅ Ascending Triangle: 453/500\n",
      "✅ Hanging Man: 325/500\n"
     ]
    },
    {
     "name": "stderr",
     "output_type": "stream",
     "text": [
      "[*********************100%***********************]  1 of 1 completed"
     ]
    },
    {
     "name": "stdout",
     "output_type": "stream",
     "text": [
      "📈 Fetching data for MSFT\n"
     ]
    },
    {
     "name": "stderr",
     "output_type": "stream",
     "text": [
      "\n"
     ]
    },
    {
     "name": "stdout",
     "output_type": "stream",
     "text": [
      "✅ Hammer: 200/500\n",
      "✅ Hammer: 201/500\n",
      "✅ Head and Shoulders: 451/500\n",
      "📈 Fetching data for GOOGL\n"
     ]
    },
    {
     "name": "stderr",
     "output_type": "stream",
     "text": [
      "[*********************100%***********************]  1 of 1 completed\n",
      "[*********************100%***********************]  1 of 1 completed"
     ]
    },
    {
     "name": "stdout",
     "output_type": "stream",
     "text": [
      "📈 Fetching data for AMZN\n"
     ]
    },
    {
     "name": "stderr",
     "output_type": "stream",
     "text": [
      "\n"
     ]
    },
    {
     "name": "stdout",
     "output_type": "stream",
     "text": [
      "✅ Descending Triangle: 218/500\n",
      "✅ Descending Triangle: 219/500\n"
     ]
    },
    {
     "name": "stderr",
     "output_type": "stream",
     "text": [
      "[*********************100%***********************]  1 of 1 completed"
     ]
    },
    {
     "name": "stdout",
     "output_type": "stream",
     "text": [
      "✅ Hammer: 202/500\n",
      "📈 Fetching data for META\n"
     ]
    },
    {
     "name": "stderr",
     "output_type": "stream",
     "text": [
      "\n"
     ]
    },
    {
     "name": "stdout",
     "output_type": "stream",
     "text": [
      "✅ Head and Shoulders: 452/500\n",
      "✅ Head and Shoulders: 453/500\n",
      "✅ Head and Shoulders: 454/500\n",
      "✅ Hanging Man: 326/500\n",
      "📈 Fetching data for NVDA\n"
     ]
    },
    {
     "name": "stderr",
     "output_type": "stream",
     "text": [
      "[*********************100%***********************]  1 of 1 completed\n"
     ]
    },
    {
     "name": "stdout",
     "output_type": "stream",
     "text": [
      "✅ Ascending Triangle: 454/500\n",
      "✅ Ascending Triangle: 455/500\n",
      "✅ Ascending Triangle: 456/500\n",
      "✅ Shooting Star: 199/500\n",
      "✅ Ascending Triangle: 457/500\n",
      "✅ Hanging Man: 327/500\n",
      "✅ Ascending Triangle: 458/500\n"
     ]
    },
    {
     "name": "stderr",
     "output_type": "stream",
     "text": [
      "[*********************100%***********************]  1 of 1 completed"
     ]
    },
    {
     "name": "stdout",
     "output_type": "stream",
     "text": [
      "✅ Ascending Triangle: 459/500\n",
      "📈 Fetching data for TSLA\n"
     ]
    },
    {
     "name": "stderr",
     "output_type": "stream",
     "text": [
      "\n"
     ]
    },
    {
     "name": "stdout",
     "output_type": "stream",
     "text": [
      "✅ Descending Triangle: 220/500\n",
      "✅ Ascending Triangle: 460/500\n",
      "✅ Shooting Star: 200/500\n"
     ]
    },
    {
     "name": "stderr",
     "output_type": "stream",
     "text": [
      "[*********************100%***********************]  1 of 1 completed"
     ]
    },
    {
     "name": "stdout",
     "output_type": "stream",
     "text": [
      "📈 Fetching data for NFLX\n"
     ]
    },
    {
     "name": "stderr",
     "output_type": "stream",
     "text": [
      "\n"
     ]
    },
    {
     "name": "stdout",
     "output_type": "stream",
     "text": [
      "✅ Evening Star: 109/500\n",
      "✅ Evening Star: 110/500\n"
     ]
    },
    {
     "name": "stderr",
     "output_type": "stream",
     "text": [
      "[*********************100%***********************]  1 of 1 completed"
     ]
    },
    {
     "name": "stdout",
     "output_type": "stream",
     "text": [
      "✅ Head and Shoulders: 455/500\n",
      "📈 Fetching data for JPM\n"
     ]
    },
    {
     "name": "stderr",
     "output_type": "stream",
     "text": [
      "\n"
     ]
    },
    {
     "name": "stdout",
     "output_type": "stream",
     "text": [
      "✅ Evening Star: 111/500\n",
      "✅ Evening Star: 112/500\n",
      "✅ Head and Shoulders: 456/500\n",
      "✅ Shooting Star: 201/500\n"
     ]
    },
    {
     "name": "stderr",
     "output_type": "stream",
     "text": [
      "[*********************100%***********************]  1 of 1 completed"
     ]
    },
    {
     "name": "stdout",
     "output_type": "stream",
     "text": [
      "📈 Fetching data for BAC\n"
     ]
    },
    {
     "name": "stderr",
     "output_type": "stream",
     "text": [
      "\n"
     ]
    },
    {
     "name": "stdout",
     "output_type": "stream",
     "text": [
      "✅ Head and Shoulders: 457/500\n"
     ]
    },
    {
     "name": "stderr",
     "output_type": "stream",
     "text": [
      "[*********************100%***********************]  1 of 1 completed"
     ]
    },
    {
     "name": "stdout",
     "output_type": "stream",
     "text": [
      "📈 Fetching data for V\n"
     ]
    },
    {
     "name": "stderr",
     "output_type": "stream",
     "text": [
      "\n"
     ]
    },
    {
     "name": "stdout",
     "output_type": "stream",
     "text": [
      "✅ Ascending Triangle: 461/500\n",
      "✅ Ascending Triangle: 462/500\n"
     ]
    },
    {
     "name": "stderr",
     "output_type": "stream",
     "text": [
      "[*********************100%***********************]  1 of 1 completed"
     ]
    },
    {
     "name": "stdout",
     "output_type": "stream",
     "text": [
      "✅ Inverted Hammer: 19/500\n",
      "📈 Fetching data for MA\n"
     ]
    },
    {
     "name": "stderr",
     "output_type": "stream",
     "text": [
      "\n",
      "[*********************100%***********************]  1 of 1 completed"
     ]
    },
    {
     "name": "stdout",
     "output_type": "stream",
     "text": [
      "✅ Ascending Triangle: 463/500\n",
      "📈 Fetching data for SOFI\n"
     ]
    },
    {
     "name": "stderr",
     "output_type": "stream",
     "text": [
      "\n"
     ]
    },
    {
     "name": "stdout",
     "output_type": "stream",
     "text": [
      "✅ Ascending Triangle: 464/500\n",
      "✅ Ascending Triangle: 465/500\n"
     ]
    },
    {
     "name": "stderr",
     "output_type": "stream",
     "text": [
      "[*********************100%***********************]  1 of 1 completed"
     ]
    },
    {
     "name": "stdout",
     "output_type": "stream",
     "text": [
      "✅ Ascending Triangle: 466/500\n",
      "📈 Fetching data for COIN\n"
     ]
    },
    {
     "name": "stderr",
     "output_type": "stream",
     "text": [
      "\n"
     ]
    },
    {
     "name": "stdout",
     "output_type": "stream",
     "text": [
      "✅ Ascending Triangle: 467/500\n",
      "✅ Descending Triangle: 221/500\n",
      "✅ Descending Triangle: 222/500\n",
      "✅ Hanging Man: 328/500\n",
      "✅ Hanging Man: 329/500\n",
      "✅ Hanging Man: 330/500\n",
      "✅ Hanging Man: 331/500\n",
      "✅ Hanging Man: 332/500\n",
      "📈 Fetching data for XOM\n"
     ]
    },
    {
     "name": "stderr",
     "output_type": "stream",
     "text": [
      "[*********************100%***********************]  1 of 1 completed\n"
     ]
    },
    {
     "name": "stdout",
     "output_type": "stream",
     "text": [
      "✅ Shooting Star: 202/500\n"
     ]
    },
    {
     "name": "stderr",
     "output_type": "stream",
     "text": [
      "[*********************100%***********************]  1 of 1 completed"
     ]
    },
    {
     "name": "stdout",
     "output_type": "stream",
     "text": [
      "✅ Head and Shoulders: 458/500\n",
      "📈 Fetching data for CVX\n"
     ]
    },
    {
     "name": "stderr",
     "output_type": "stream",
     "text": [
      "\n"
     ]
    },
    {
     "name": "stdout",
     "output_type": "stream",
     "text": [
      "✅ Evening Star: 113/500\n"
     ]
    },
    {
     "name": "stderr",
     "output_type": "stream",
     "text": [
      "[*********************100%***********************]  1 of 1 completed"
     ]
    },
    {
     "name": "stdout",
     "output_type": "stream",
     "text": [
      "✅ Head and Shoulders: 459/500\n",
      "📈 Fetching data for BA\n"
     ]
    },
    {
     "name": "stderr",
     "output_type": "stream",
     "text": [
      "\n"
     ]
    },
    {
     "name": "stdout",
     "output_type": "stream",
     "text": [
      "✅ Descending Triangle: 223/500\n",
      "✅ Descending Triangle: 224/500\n"
     ]
    },
    {
     "name": "stderr",
     "output_type": "stream",
     "text": [
      "[*********************100%***********************]  1 of 1 completed"
     ]
    },
    {
     "name": "stdout",
     "output_type": "stream",
     "text": [
      "📈 Fetching data for CAT\n"
     ]
    },
    {
     "name": "stderr",
     "output_type": "stream",
     "text": [
      "\n"
     ]
    },
    {
     "name": "stdout",
     "output_type": "stream",
     "text": [
      "✅ Hammer: 203/500\n",
      "✅ Hammer: 204/500\n",
      "✅ Hammer: 205/500\n",
      "✅ Hammer: 206/500\n",
      "✅ Hammer: 207/500\n",
      "✅ Hammer: 208/500\n"
     ]
    },
    {
     "name": "stderr",
     "output_type": "stream",
     "text": [
      "[*********************100%***********************]  1 of 1 completed"
     ]
    },
    {
     "name": "stdout",
     "output_type": "stream",
     "text": [
      "✅ Shooting Star: 203/500\n",
      "📈 Fetching data for DE\n"
     ]
    },
    {
     "name": "stderr",
     "output_type": "stream",
     "text": [
      "\n"
     ]
    },
    {
     "name": "stdout",
     "output_type": "stream",
     "text": [
      "✅ Shooting Star: 204/500\n",
      "✅ Shooting Star: 205/500\n",
      "✅ Shooting Star: 206/500\n",
      "✅ Ascending Triangle: 468/500\n",
      "✅ Ascending Triangle: 469/500\n",
      "✅ Head and Shoulders: 460/500\n",
      "✅ Head and Shoulders: 461/500\n",
      "✅ Head and Shoulders: 462/500\n",
      "✅ Head and Shoulders: 463/500\n",
      "📈 Fetching data for PFE\n"
     ]
    },
    {
     "name": "stderr",
     "output_type": "stream",
     "text": [
      "[*********************100%***********************]  1 of 1 completed\n"
     ]
    },
    {
     "name": "stdout",
     "output_type": "stream",
     "text": [
      "✅ Shooting Star: 207/500\n",
      "✅ Hanging Man: 333/500\n",
      "✅ Hanging Man: 334/500\n",
      "✅ Hanging Man: 335/500\n",
      "✅ Hanging Man: 336/500\n",
      "✅ Ascending Triangle: 470/500\n",
      "📈 Fetching data for JNJ\n"
     ]
    },
    {
     "name": "stderr",
     "output_type": "stream",
     "text": [
      "[*********************100%***********************]  1 of 1 completed\n"
     ]
    },
    {
     "name": "stdout",
     "output_type": "stream",
     "text": [
      "✅ Head and Shoulders: 464/500\n",
      "📈 Fetching data for MRK\n"
     ]
    },
    {
     "name": "stderr",
     "output_type": "stream",
     "text": [
      "[*********************100%***********************]  1 of 1 completed\n"
     ]
    },
    {
     "name": "stdout",
     "output_type": "stream",
     "text": [
      "✅ Ascending Triangle: 471/500\n",
      "✅ Head and Shoulders: 465/500\n",
      "✅ Head and Shoulders: 466/500\n",
      "✅ Head and Shoulders: 467/500\n",
      "📈 Fetching data for LLY\n"
     ]
    },
    {
     "name": "stderr",
     "output_type": "stream",
     "text": [
      "[*********************100%***********************]  1 of 1 completed\n"
     ]
    },
    {
     "name": "stdout",
     "output_type": "stream",
     "text": [
      "✅ Hanging Man: 337/500\n",
      "✅ Hanging Man: 338/500\n",
      "✅ Hanging Man: 339/500\n",
      "✅ Head and Shoulders: 468/500\n",
      "✅ Head and Shoulders: 469/500\n",
      "✅ Head and Shoulders: 470/500\n",
      "✅ Ascending Triangle: 472/500\n",
      "✅ Shooting Star: 208/500\n"
     ]
    },
    {
     "name": "stderr",
     "output_type": "stream",
     "text": [
      "[*********************100%***********************]  1 of 1 completed"
     ]
    },
    {
     "name": "stdout",
     "output_type": "stream",
     "text": [
      "📈 Fetching data for PLTR\n"
     ]
    },
    {
     "name": "stderr",
     "output_type": "stream",
     "text": [
      "\n"
     ]
    },
    {
     "name": "stdout",
     "output_type": "stream",
     "text": [
      "✅ Head and Shoulders: 471/500\n"
     ]
    },
    {
     "name": "stderr",
     "output_type": "stream",
     "text": [
      "[*********************100%***********************]  1 of 1 completed"
     ]
    },
    {
     "name": "stdout",
     "output_type": "stream",
     "text": [
      "✅ Evening Star: 114/500\n",
      "📈 Fetching data for SNOW\n"
     ]
    },
    {
     "name": "stderr",
     "output_type": "stream",
     "text": [
      "\n",
      "[*********************100%***********************]  1 of 1 completed"
     ]
    },
    {
     "name": "stdout",
     "output_type": "stream",
     "text": [
      "✅ Descending Triangle: 225/500\n",
      "📈 Fetching data for SHOP\n"
     ]
    },
    {
     "name": "stderr",
     "output_type": "stream",
     "text": [
      "\n"
     ]
    },
    {
     "name": "stdout",
     "output_type": "stream",
     "text": [
      "✅ Shooting Star: 209/500\n",
      "✅ Ascending Triangle: 473/500\n",
      "📈 Fetching data for RIVN\n"
     ]
    },
    {
     "name": "stderr",
     "output_type": "stream",
     "text": [
      "[*********************100%***********************]  1 of 1 completed\n",
      "[*********************100%***********************]  1 of 1 completed"
     ]
    },
    {
     "name": "stdout",
     "output_type": "stream",
     "text": [
      "✅ Descending Triangle: 226/500\n",
      "📈 Fetching data for UBER\n"
     ]
    },
    {
     "name": "stderr",
     "output_type": "stream",
     "text": [
      "\n"
     ]
    },
    {
     "name": "stdout",
     "output_type": "stream",
     "text": [
      "✅ Descending Triangle: 227/500\n"
     ]
    },
    {
     "name": "stderr",
     "output_type": "stream",
     "text": [
      "[*********************100%***********************]  1 of 1 completed"
     ]
    },
    {
     "name": "stdout",
     "output_type": "stream",
     "text": [
      "✅ Hanging Man: 340/500\n",
      "📈 Fetching data for SPY\n"
     ]
    },
    {
     "name": "stderr",
     "output_type": "stream",
     "text": [
      "\n"
     ]
    },
    {
     "name": "stdout",
     "output_type": "stream",
     "text": [
      "✅ Hanging Man: 341/500\n",
      "✅ Head and Shoulders: 472/500\n",
      "✅ Head and Shoulders: 473/500\n",
      "✅ Head and Shoulders: 474/500\n",
      "✅ Head and Shoulders: 475/500\n"
     ]
    },
    {
     "name": "stderr",
     "output_type": "stream",
     "text": [
      "[*********************100%***********************]  1 of 1 completed"
     ]
    },
    {
     "name": "stdout",
     "output_type": "stream",
     "text": [
      "📈 Fetching data for QQQ\n"
     ]
    },
    {
     "name": "stderr",
     "output_type": "stream",
     "text": [
      "\n"
     ]
    },
    {
     "name": "stdout",
     "output_type": "stream",
     "text": [
      "✅ Ascending Triangle: 474/500\n",
      "✅ Ascending Triangle: 475/500\n",
      "✅ Hanging Man: 342/500\n",
      "✅ Hammer: 209/500\n",
      "✅ Descending Triangle: 228/500\n"
     ]
    },
    {
     "name": "stderr",
     "output_type": "stream",
     "text": [
      "[*********************100%***********************]  1 of 1 completed"
     ]
    },
    {
     "name": "stdout",
     "output_type": "stream",
     "text": [
      "🔁 Pass 20 over symbols...\n",
      "📈 Fetching data for AAPL\n"
     ]
    },
    {
     "name": "stderr",
     "output_type": "stream",
     "text": [
      "\n"
     ]
    },
    {
     "name": "stdout",
     "output_type": "stream",
     "text": [
      "✅ Hammer: 210/500\n",
      "✅ Descending Triangle: 229/500\n",
      "✅ Ascending Triangle: 476/500\n",
      "✅ Ascending Triangle: 477/500\n",
      "✅ Ascending Triangle: 478/500\n",
      "✅ Hanging Man: 343/500\n"
     ]
    },
    {
     "name": "stderr",
     "output_type": "stream",
     "text": [
      "[*********************100%***********************]  1 of 1 completed"
     ]
    },
    {
     "name": "stdout",
     "output_type": "stream",
     "text": [
      "📈 Fetching data for MSFT\n"
     ]
    },
    {
     "name": "stderr",
     "output_type": "stream",
     "text": [
      "\n"
     ]
    },
    {
     "name": "stdout",
     "output_type": "stream",
     "text": [
      "✅ Hammer: 211/500\n",
      "✅ Hammer: 212/500\n",
      "✅ Head and Shoulders: 476/500\n",
      "📈 Fetching data for GOOGL\n"
     ]
    },
    {
     "name": "stderr",
     "output_type": "stream",
     "text": [
      "[*********************100%***********************]  1 of 1 completed\n",
      "[*********************100%***********************]  1 of 1 completed"
     ]
    },
    {
     "name": "stdout",
     "output_type": "stream",
     "text": [
      "📈 Fetching data for AMZN\n"
     ]
    },
    {
     "name": "stderr",
     "output_type": "stream",
     "text": [
      "\n"
     ]
    },
    {
     "name": "stdout",
     "output_type": "stream",
     "text": [
      "✅ Descending Triangle: 230/500\n",
      "✅ Descending Triangle: 231/500\n"
     ]
    },
    {
     "name": "stderr",
     "output_type": "stream",
     "text": [
      "[*********************100%***********************]  1 of 1 completed"
     ]
    },
    {
     "name": "stdout",
     "output_type": "stream",
     "text": [
      "✅ Hammer: 213/500\n",
      "📈 Fetching data for META\n"
     ]
    },
    {
     "name": "stderr",
     "output_type": "stream",
     "text": [
      "\n"
     ]
    },
    {
     "name": "stdout",
     "output_type": "stream",
     "text": [
      "✅ Head and Shoulders: 477/500\n",
      "✅ Head and Shoulders: 478/500\n",
      "✅ Head and Shoulders: 479/500\n",
      "✅ Hanging Man: 344/500\n",
      "📈 Fetching data for NVDA\n"
     ]
    },
    {
     "name": "stderr",
     "output_type": "stream",
     "text": [
      "[*********************100%***********************]  1 of 1 completed\n"
     ]
    },
    {
     "name": "stdout",
     "output_type": "stream",
     "text": [
      "✅ Ascending Triangle: 479/500\n",
      "✅ Ascending Triangle: 480/500\n",
      "✅ Ascending Triangle: 481/500\n",
      "✅ Shooting Star: 210/500\n",
      "✅ Ascending Triangle: 482/500\n",
      "✅ Hanging Man: 345/500\n",
      "✅ Ascending Triangle: 483/500\n"
     ]
    },
    {
     "name": "stderr",
     "output_type": "stream",
     "text": [
      "[*********************100%***********************]  1 of 1 completed"
     ]
    },
    {
     "name": "stdout",
     "output_type": "stream",
     "text": [
      "✅ Ascending Triangle: 484/500\n",
      "📈 Fetching data for TSLA\n"
     ]
    },
    {
     "name": "stderr",
     "output_type": "stream",
     "text": [
      "\n"
     ]
    },
    {
     "name": "stdout",
     "output_type": "stream",
     "text": [
      "✅ Descending Triangle: 232/500\n",
      "✅ Ascending Triangle: 485/500\n",
      "✅ Shooting Star: 211/500\n"
     ]
    },
    {
     "name": "stderr",
     "output_type": "stream",
     "text": [
      "[*********************100%***********************]  1 of 1 completed"
     ]
    },
    {
     "name": "stdout",
     "output_type": "stream",
     "text": [
      "📈 Fetching data for NFLX\n"
     ]
    },
    {
     "name": "stderr",
     "output_type": "stream",
     "text": [
      "\n"
     ]
    },
    {
     "name": "stdout",
     "output_type": "stream",
     "text": [
      "✅ Evening Star: 115/500\n",
      "✅ Evening Star: 116/500\n",
      "✅ Head and Shoulders: 480/500\n",
      "📈 Fetching data for JPM\n"
     ]
    },
    {
     "name": "stderr",
     "output_type": "stream",
     "text": [
      "[*********************100%***********************]  1 of 1 completed\n"
     ]
    },
    {
     "name": "stdout",
     "output_type": "stream",
     "text": [
      "✅ Evening Star: 117/500\n",
      "✅ Evening Star: 118/500\n",
      "✅ Head and Shoulders: 481/500\n",
      "✅ Shooting Star: 212/500\n"
     ]
    },
    {
     "name": "stderr",
     "output_type": "stream",
     "text": [
      "[*********************100%***********************]  1 of 1 completed"
     ]
    },
    {
     "name": "stdout",
     "output_type": "stream",
     "text": [
      "📈 Fetching data for BAC\n"
     ]
    },
    {
     "name": "stderr",
     "output_type": "stream",
     "text": [
      "\n"
     ]
    },
    {
     "name": "stdout",
     "output_type": "stream",
     "text": [
      "✅ Head and Shoulders: 482/500\n"
     ]
    },
    {
     "name": "stderr",
     "output_type": "stream",
     "text": [
      "[*********************100%***********************]  1 of 1 completed"
     ]
    },
    {
     "name": "stdout",
     "output_type": "stream",
     "text": [
      "📈 Fetching data for V\n"
     ]
    },
    {
     "name": "stderr",
     "output_type": "stream",
     "text": [
      "\n"
     ]
    },
    {
     "name": "stdout",
     "output_type": "stream",
     "text": [
      "✅ Ascending Triangle: 486/500\n",
      "✅ Ascending Triangle: 487/500\n"
     ]
    },
    {
     "name": "stderr",
     "output_type": "stream",
     "text": [
      "[*********************100%***********************]  1 of 1 completed"
     ]
    },
    {
     "name": "stdout",
     "output_type": "stream",
     "text": [
      "✅ Inverted Hammer: 20/500\n",
      "📈 Fetching data for MA\n"
     ]
    },
    {
     "name": "stderr",
     "output_type": "stream",
     "text": [
      "\n",
      "[*********************100%***********************]  1 of 1 completed"
     ]
    },
    {
     "name": "stdout",
     "output_type": "stream",
     "text": [
      "✅ Ascending Triangle: 488/500\n",
      "📈 Fetching data for SOFI\n"
     ]
    },
    {
     "name": "stderr",
     "output_type": "stream",
     "text": [
      "\n"
     ]
    },
    {
     "name": "stdout",
     "output_type": "stream",
     "text": [
      "✅ Ascending Triangle: 489/500\n",
      "✅ Ascending Triangle: 490/500\n",
      "✅ Ascending Triangle: 491/500\n"
     ]
    },
    {
     "name": "stderr",
     "output_type": "stream",
     "text": [
      "[*********************100%***********************]  1 of 1 completed"
     ]
    },
    {
     "name": "stdout",
     "output_type": "stream",
     "text": [
      "📈 Fetching data for COIN\n"
     ]
    },
    {
     "name": "stderr",
     "output_type": "stream",
     "text": [
      "\n"
     ]
    },
    {
     "name": "stdout",
     "output_type": "stream",
     "text": [
      "✅ Ascending Triangle: 492/500\n",
      "✅ Descending Triangle: 233/500\n",
      "✅ Descending Triangle: 234/500\n",
      "✅ Hanging Man: 346/500\n",
      "✅ Hanging Man: 347/500\n",
      "✅ Hanging Man: 348/500\n",
      "✅ Hanging Man: 349/500\n",
      "✅ Hanging Man: 350/500\n",
      "📈 Fetching data for XOM\n"
     ]
    },
    {
     "name": "stderr",
     "output_type": "stream",
     "text": [
      "[*********************100%***********************]  1 of 1 completed\n"
     ]
    },
    {
     "name": "stdout",
     "output_type": "stream",
     "text": [
      "✅ Shooting Star: 213/500\n"
     ]
    },
    {
     "name": "stderr",
     "output_type": "stream",
     "text": [
      "[*********************100%***********************]  1 of 1 completed"
     ]
    },
    {
     "name": "stdout",
     "output_type": "stream",
     "text": [
      "✅ Head and Shoulders: 483/500\n",
      "📈 Fetching data for CVX\n"
     ]
    },
    {
     "name": "stderr",
     "output_type": "stream",
     "text": [
      "\n"
     ]
    },
    {
     "name": "stdout",
     "output_type": "stream",
     "text": [
      "✅ Evening Star: 119/500\n"
     ]
    },
    {
     "name": "stderr",
     "output_type": "stream",
     "text": [
      "[*********************100%***********************]  1 of 1 completed"
     ]
    },
    {
     "name": "stdout",
     "output_type": "stream",
     "text": [
      "✅ Head and Shoulders: 484/500\n",
      "📈 Fetching data for BA\n"
     ]
    },
    {
     "name": "stderr",
     "output_type": "stream",
     "text": [
      "\n"
     ]
    },
    {
     "name": "stdout",
     "output_type": "stream",
     "text": [
      "✅ Descending Triangle: 235/500\n",
      "✅ Descending Triangle: 236/500\n"
     ]
    },
    {
     "name": "stderr",
     "output_type": "stream",
     "text": [
      "[*********************100%***********************]  1 of 1 completed"
     ]
    },
    {
     "name": "stdout",
     "output_type": "stream",
     "text": [
      "📈 Fetching data for CAT\n"
     ]
    },
    {
     "name": "stderr",
     "output_type": "stream",
     "text": [
      "\n"
     ]
    },
    {
     "name": "stdout",
     "output_type": "stream",
     "text": [
      "✅ Hammer: 214/500\n",
      "✅ Hammer: 215/500\n",
      "✅ Hammer: 216/500\n",
      "✅ Hammer: 217/500\n",
      "✅ Hammer: 218/500\n",
      "✅ Hammer: 219/500\n"
     ]
    },
    {
     "name": "stderr",
     "output_type": "stream",
     "text": [
      "[*********************100%***********************]  1 of 1 completed"
     ]
    },
    {
     "name": "stdout",
     "output_type": "stream",
     "text": [
      "✅ Shooting Star: 214/500\n",
      "📈 Fetching data for DE\n"
     ]
    },
    {
     "name": "stderr",
     "output_type": "stream",
     "text": [
      "\n"
     ]
    },
    {
     "name": "stdout",
     "output_type": "stream",
     "text": [
      "✅ Shooting Star: 215/500\n",
      "✅ Shooting Star: 216/500\n",
      "✅ Shooting Star: 217/500\n",
      "✅ Ascending Triangle: 493/500\n",
      "✅ Ascending Triangle: 494/500\n",
      "✅ Head and Shoulders: 485/500\n",
      "✅ Head and Shoulders: 486/500\n",
      "✅ Head and Shoulders: 487/500\n",
      "✅ Head and Shoulders: 488/500\n",
      "📈 Fetching data for PFE\n"
     ]
    },
    {
     "name": "stderr",
     "output_type": "stream",
     "text": [
      "[*********************100%***********************]  1 of 1 completed\n"
     ]
    },
    {
     "name": "stdout",
     "output_type": "stream",
     "text": [
      "✅ Shooting Star: 218/500\n",
      "✅ Hanging Man: 351/500\n",
      "✅ Hanging Man: 352/500\n",
      "✅ Hanging Man: 353/500\n",
      "✅ Hanging Man: 354/500\n",
      "✅ Ascending Triangle: 495/500\n",
      "📈 Fetching data for JNJ\n"
     ]
    },
    {
     "name": "stderr",
     "output_type": "stream",
     "text": [
      "[*********************100%***********************]  1 of 1 completed\n"
     ]
    },
    {
     "name": "stdout",
     "output_type": "stream",
     "text": [
      "✅ Head and Shoulders: 489/500\n",
      "📈 Fetching data for MRK\n"
     ]
    },
    {
     "name": "stderr",
     "output_type": "stream",
     "text": [
      "[*********************100%***********************]  1 of 1 completed\n"
     ]
    },
    {
     "name": "stdout",
     "output_type": "stream",
     "text": [
      "✅ Ascending Triangle: 496/500\n",
      "✅ Head and Shoulders: 490/500\n",
      "✅ Head and Shoulders: 491/500\n",
      "✅ Head and Shoulders: 492/500\n",
      "📈 Fetching data for LLY\n"
     ]
    },
    {
     "name": "stderr",
     "output_type": "stream",
     "text": [
      "[*********************100%***********************]  1 of 1 completed\n"
     ]
    },
    {
     "name": "stdout",
     "output_type": "stream",
     "text": [
      "✅ Hanging Man: 355/500\n",
      "✅ Hanging Man: 356/500\n",
      "✅ Hanging Man: 357/500\n",
      "✅ Head and Shoulders: 493/500\n",
      "✅ Head and Shoulders: 494/500\n",
      "✅ Head and Shoulders: 495/500\n",
      "✅ Ascending Triangle: 497/500\n",
      "✅ Shooting Star: 219/500\n"
     ]
    },
    {
     "name": "stderr",
     "output_type": "stream",
     "text": [
      "[*********************100%***********************]  1 of 1 completed"
     ]
    },
    {
     "name": "stdout",
     "output_type": "stream",
     "text": [
      "📈 Fetching data for PLTR\n"
     ]
    },
    {
     "name": "stderr",
     "output_type": "stream",
     "text": [
      "\n"
     ]
    },
    {
     "name": "stdout",
     "output_type": "stream",
     "text": [
      "✅ Head and Shoulders: 496/500\n"
     ]
    },
    {
     "name": "stderr",
     "output_type": "stream",
     "text": [
      "[*********************100%***********************]  1 of 1 completed"
     ]
    },
    {
     "name": "stdout",
     "output_type": "stream",
     "text": [
      "✅ Evening Star: 120/500\n",
      "📈 Fetching data for SNOW\n"
     ]
    },
    {
     "name": "stderr",
     "output_type": "stream",
     "text": [
      "\n",
      "[*********************100%***********************]  1 of 1 completed"
     ]
    },
    {
     "name": "stdout",
     "output_type": "stream",
     "text": [
      "✅ Descending Triangle: 237/500\n",
      "📈 Fetching data for SHOP\n"
     ]
    },
    {
     "name": "stderr",
     "output_type": "stream",
     "text": [
      "\n"
     ]
    },
    {
     "name": "stdout",
     "output_type": "stream",
     "text": [
      "✅ Shooting Star: 220/500\n",
      "✅ Ascending Triangle: 498/500\n"
     ]
    },
    {
     "name": "stderr",
     "output_type": "stream",
     "text": [
      "[*********************100%***********************]  1 of 1 completed"
     ]
    },
    {
     "name": "stdout",
     "output_type": "stream",
     "text": [
      "📈 Fetching data for RIVN\n"
     ]
    },
    {
     "name": "stderr",
     "output_type": "stream",
     "text": [
      "\n",
      "[*********************100%***********************]  1 of 1 completed"
     ]
    },
    {
     "name": "stdout",
     "output_type": "stream",
     "text": [
      "✅ Descending Triangle: 238/500\n",
      "📈 Fetching data for UBER\n"
     ]
    },
    {
     "name": "stderr",
     "output_type": "stream",
     "text": [
      "\n"
     ]
    },
    {
     "name": "stdout",
     "output_type": "stream",
     "text": [
      "✅ Descending Triangle: 239/500\n"
     ]
    },
    {
     "name": "stderr",
     "output_type": "stream",
     "text": [
      "[*********************100%***********************]  1 of 1 completed"
     ]
    },
    {
     "name": "stdout",
     "output_type": "stream",
     "text": [
      "✅ Hanging Man: 358/500\n",
      "📈 Fetching data for SPY\n"
     ]
    },
    {
     "name": "stderr",
     "output_type": "stream",
     "text": [
      "\n"
     ]
    },
    {
     "name": "stdout",
     "output_type": "stream",
     "text": [
      "✅ Hanging Man: 359/500\n",
      "✅ Head and Shoulders: 497/500\n",
      "✅ Head and Shoulders: 498/500\n",
      "✅ Head and Shoulders: 499/500\n",
      "✅ Head and Shoulders: 500/500\n"
     ]
    },
    {
     "name": "stderr",
     "output_type": "stream",
     "text": [
      "[*********************100%***********************]  1 of 1 completed"
     ]
    },
    {
     "name": "stdout",
     "output_type": "stream",
     "text": [
      "📈 Fetching data for QQQ\n"
     ]
    },
    {
     "name": "stderr",
     "output_type": "stream",
     "text": [
      "\n"
     ]
    },
    {
     "name": "stdout",
     "output_type": "stream",
     "text": [
      "✅ Ascending Triangle: 499/500\n",
      "✅ Ascending Triangle: 500/500\n",
      "✅ Hanging Man: 360/500\n",
      "✅ Hammer: 220/500\n",
      "✅ Descending Triangle: 240/500\n"
     ]
    },
    {
     "name": "stderr",
     "output_type": "stream",
     "text": [
      "[*********************100%***********************]  1 of 1 completed"
     ]
    },
    {
     "name": "stdout",
     "output_type": "stream",
     "text": [
      "🔁 Pass 21 over symbols...\n",
      "📈 Fetching data for AAPL\n"
     ]
    },
    {
     "name": "stderr",
     "output_type": "stream",
     "text": [
      "\n"
     ]
    },
    {
     "name": "stdout",
     "output_type": "stream",
     "text": [
      "✅ Hammer: 221/500\n",
      "✅ Descending Triangle: 241/500\n",
      "✅ Hanging Man: 361/500\n"
     ]
    },
    {
     "name": "stderr",
     "output_type": "stream",
     "text": [
      "[*********************100%***********************]  1 of 1 completed"
     ]
    },
    {
     "name": "stdout",
     "output_type": "stream",
     "text": [
      "📈 Fetching data for MSFT\n"
     ]
    },
    {
     "name": "stderr",
     "output_type": "stream",
     "text": [
      "\n"
     ]
    },
    {
     "name": "stdout",
     "output_type": "stream",
     "text": [
      "✅ Hammer: 222/500\n",
      "✅ Hammer: 223/500\n"
     ]
    },
    {
     "name": "stderr",
     "output_type": "stream",
     "text": [
      "[*********************100%***********************]  1 of 1 completed"
     ]
    },
    {
     "name": "stdout",
     "output_type": "stream",
     "text": [
      "📈 Fetching data for GOOGL\n"
     ]
    },
    {
     "name": "stderr",
     "output_type": "stream",
     "text": [
      "\n",
      "[*********************100%***********************]  1 of 1 completed"
     ]
    },
    {
     "name": "stdout",
     "output_type": "stream",
     "text": [
      "📈 Fetching data for AMZN\n"
     ]
    },
    {
     "name": "stderr",
     "output_type": "stream",
     "text": [
      "\n"
     ]
    },
    {
     "name": "stdout",
     "output_type": "stream",
     "text": [
      "✅ Descending Triangle: 242/500\n",
      "✅ Descending Triangle: 243/500\n"
     ]
    },
    {
     "name": "stderr",
     "output_type": "stream",
     "text": [
      "[*********************100%***********************]  1 of 1 completed"
     ]
    },
    {
     "name": "stdout",
     "output_type": "stream",
     "text": [
      "✅ Hammer: 224/500\n",
      "📈 Fetching data for META\n"
     ]
    },
    {
     "name": "stderr",
     "output_type": "stream",
     "text": [
      "\n"
     ]
    },
    {
     "name": "stdout",
     "output_type": "stream",
     "text": [
      "✅ Hanging Man: 362/500\n",
      "📈 Fetching data for NVDA\n"
     ]
    },
    {
     "name": "stderr",
     "output_type": "stream",
     "text": [
      "[*********************100%***********************]  1 of 1 completed\n"
     ]
    },
    {
     "name": "stdout",
     "output_type": "stream",
     "text": [
      "✅ Shooting Star: 221/500\n"
     ]
    },
    {
     "name": "stderr",
     "output_type": "stream",
     "text": [
      "[*********************100%***********************]  1 of 1 completed"
     ]
    },
    {
     "name": "stdout",
     "output_type": "stream",
     "text": [
      "✅ Hanging Man: 363/500\n",
      "📈 Fetching data for TSLA\n"
     ]
    },
    {
     "name": "stderr",
     "output_type": "stream",
     "text": [
      "\n"
     ]
    },
    {
     "name": "stdout",
     "output_type": "stream",
     "text": [
      "✅ Descending Triangle: 244/500\n",
      "✅ Shooting Star: 222/500\n"
     ]
    },
    {
     "name": "stderr",
     "output_type": "stream",
     "text": [
      "[*********************100%***********************]  1 of 1 completed"
     ]
    },
    {
     "name": "stdout",
     "output_type": "stream",
     "text": [
      "📈 Fetching data for NFLX\n"
     ]
    },
    {
     "name": "stderr",
     "output_type": "stream",
     "text": [
      "\n"
     ]
    },
    {
     "name": "stdout",
     "output_type": "stream",
     "text": [
      "✅ Evening Star: 121/500\n",
      "✅ Evening Star: 122/500\n"
     ]
    },
    {
     "name": "stderr",
     "output_type": "stream",
     "text": [
      "[*********************100%***********************]  1 of 1 completed"
     ]
    },
    {
     "name": "stdout",
     "output_type": "stream",
     "text": [
      "📈 Fetching data for JPM\n"
     ]
    },
    {
     "name": "stderr",
     "output_type": "stream",
     "text": [
      "\n"
     ]
    },
    {
     "name": "stdout",
     "output_type": "stream",
     "text": [
      "✅ Evening Star: 123/500\n",
      "✅ Evening Star: 124/500\n",
      "✅ Shooting Star: 223/500\n"
     ]
    },
    {
     "name": "stderr",
     "output_type": "stream",
     "text": [
      "[*********************100%***********************]  1 of 1 completed"
     ]
    },
    {
     "name": "stdout",
     "output_type": "stream",
     "text": [
      "📈 Fetching data for BAC\n"
     ]
    },
    {
     "name": "stderr",
     "output_type": "stream",
     "text": [
      "\n",
      "[*********************100%***********************]  1 of 1 completed"
     ]
    },
    {
     "name": "stdout",
     "output_type": "stream",
     "text": [
      "📈 Fetching data for V\n"
     ]
    },
    {
     "name": "stderr",
     "output_type": "stream",
     "text": [
      "\n"
     ]
    },
    {
     "name": "stdout",
     "output_type": "stream",
     "text": [
      "✅ Inverted Hammer: 21/500\n",
      "📈 Fetching data for MA\n"
     ]
    },
    {
     "name": "stderr",
     "output_type": "stream",
     "text": [
      "[*********************100%***********************]  1 of 1 completed\n",
      "[*********************100%***********************]  1 of 1 completed"
     ]
    },
    {
     "name": "stdout",
     "output_type": "stream",
     "text": [
      "📈 Fetching data for SOFI\n"
     ]
    },
    {
     "name": "stderr",
     "output_type": "stream",
     "text": [
      "\n",
      "[*********************100%***********************]  1 of 1 completed"
     ]
    },
    {
     "name": "stdout",
     "output_type": "stream",
     "text": [
      "📈 Fetching data for COIN\n"
     ]
    },
    {
     "name": "stderr",
     "output_type": "stream",
     "text": [
      "\n"
     ]
    },
    {
     "name": "stdout",
     "output_type": "stream",
     "text": [
      "✅ Descending Triangle: 245/500\n",
      "✅ Descending Triangle: 246/500\n",
      "✅ Hanging Man: 364/500\n",
      "✅ Hanging Man: 365/500\n",
      "✅ Hanging Man: 366/500\n",
      "✅ Hanging Man: 367/500\n",
      "✅ Hanging Man: 368/500\n",
      "📈 Fetching data for XOM\n"
     ]
    },
    {
     "name": "stderr",
     "output_type": "stream",
     "text": [
      "[*********************100%***********************]  1 of 1 completed\n"
     ]
    },
    {
     "name": "stdout",
     "output_type": "stream",
     "text": [
      "✅ Shooting Star: 224/500\n"
     ]
    },
    {
     "name": "stderr",
     "output_type": "stream",
     "text": [
      "[*********************100%***********************]  1 of 1 completed"
     ]
    },
    {
     "name": "stdout",
     "output_type": "stream",
     "text": [
      "📈 Fetching data for CVX\n"
     ]
    },
    {
     "name": "stderr",
     "output_type": "stream",
     "text": [
      "\n"
     ]
    },
    {
     "name": "stdout",
     "output_type": "stream",
     "text": [
      "✅ Evening Star: 125/500\n",
      "📈 Fetching data for BA\n"
     ]
    },
    {
     "name": "stderr",
     "output_type": "stream",
     "text": [
      "[*********************100%***********************]  1 of 1 completed\n"
     ]
    },
    {
     "name": "stdout",
     "output_type": "stream",
     "text": [
      "✅ Descending Triangle: 247/500\n",
      "✅ Descending Triangle: 248/500\n"
     ]
    },
    {
     "name": "stderr",
     "output_type": "stream",
     "text": [
      "[*********************100%***********************]  1 of 1 completed"
     ]
    },
    {
     "name": "stdout",
     "output_type": "stream",
     "text": [
      "📈 Fetching data for CAT\n"
     ]
    },
    {
     "name": "stderr",
     "output_type": "stream",
     "text": [
      "\n"
     ]
    },
    {
     "name": "stdout",
     "output_type": "stream",
     "text": [
      "✅ Hammer: 225/500\n",
      "✅ Hammer: 226/500\n",
      "✅ Hammer: 227/500\n",
      "✅ Hammer: 228/500\n",
      "✅ Hammer: 229/500\n",
      "✅ Hammer: 230/500\n"
     ]
    },
    {
     "name": "stderr",
     "output_type": "stream",
     "text": [
      "[*********************100%***********************]  1 of 1 completed"
     ]
    },
    {
     "name": "stdout",
     "output_type": "stream",
     "text": [
      "✅ Shooting Star: 225/500\n",
      "📈 Fetching data for DE\n"
     ]
    },
    {
     "name": "stderr",
     "output_type": "stream",
     "text": [
      "\n"
     ]
    },
    {
     "name": "stdout",
     "output_type": "stream",
     "text": [
      "✅ Shooting Star: 226/500\n",
      "✅ Shooting Star: 227/500\n",
      "✅ Shooting Star: 228/500\n",
      "📈 Fetching data for PFE\n"
     ]
    },
    {
     "name": "stderr",
     "output_type": "stream",
     "text": [
      "[*********************100%***********************]  1 of 1 completed\n"
     ]
    },
    {
     "name": "stdout",
     "output_type": "stream",
     "text": [
      "✅ Shooting Star: 229/500\n",
      "✅ Hanging Man: 369/500\n",
      "✅ Hanging Man: 370/500\n",
      "✅ Hanging Man: 371/500\n",
      "✅ Hanging Man: 372/500\n"
     ]
    },
    {
     "name": "stderr",
     "output_type": "stream",
     "text": [
      "[*********************100%***********************]  1 of 1 completed"
     ]
    },
    {
     "name": "stdout",
     "output_type": "stream",
     "text": [
      "📈 Fetching data for JNJ\n"
     ]
    },
    {
     "name": "stderr",
     "output_type": "stream",
     "text": [
      "\n",
      "[*********************100%***********************]  1 of 1 completed"
     ]
    },
    {
     "name": "stdout",
     "output_type": "stream",
     "text": [
      "📈 Fetching data for MRK\n"
     ]
    },
    {
     "name": "stderr",
     "output_type": "stream",
     "text": [
      "\n",
      "[*********************100%***********************]  1 of 1 completed"
     ]
    },
    {
     "name": "stdout",
     "output_type": "stream",
     "text": [
      "📈 Fetching data for LLY\n"
     ]
    },
    {
     "name": "stderr",
     "output_type": "stream",
     "text": [
      "\n"
     ]
    },
    {
     "name": "stdout",
     "output_type": "stream",
     "text": [
      "✅ Hanging Man: 373/500\n",
      "✅ Hanging Man: 374/500\n",
      "✅ Hanging Man: 375/500\n"
     ]
    },
    {
     "name": "stderr",
     "output_type": "stream",
     "text": [
      "[*********************100%***********************]  1 of 1 completed"
     ]
    },
    {
     "name": "stdout",
     "output_type": "stream",
     "text": [
      "✅ Shooting Star: 230/500\n",
      "📈 Fetching data for PLTR\n"
     ]
    },
    {
     "name": "stderr",
     "output_type": "stream",
     "text": [
      "\n",
      "[*********************100%***********************]  1 of 1 completed"
     ]
    },
    {
     "name": "stdout",
     "output_type": "stream",
     "text": [
      "✅ Evening Star: 126/500\n",
      "📈 Fetching data for SNOW\n"
     ]
    },
    {
     "name": "stderr",
     "output_type": "stream",
     "text": [
      "\n",
      "[*********************100%***********************]  1 of 1 completed"
     ]
    },
    {
     "name": "stdout",
     "output_type": "stream",
     "text": [
      "✅ Descending Triangle: 249/500\n",
      "📈 Fetching data for SHOP\n"
     ]
    },
    {
     "name": "stderr",
     "output_type": "stream",
     "text": [
      "\n",
      "[*********************100%***********************]  1 of 1 completed"
     ]
    },
    {
     "name": "stdout",
     "output_type": "stream",
     "text": [
      "✅ Shooting Star: 231/500\n",
      "📈 Fetching data for RIVN\n"
     ]
    },
    {
     "name": "stderr",
     "output_type": "stream",
     "text": [
      "\n",
      "[*********************100%***********************]  1 of 1 completed"
     ]
    },
    {
     "name": "stdout",
     "output_type": "stream",
     "text": [
      "✅ Descending Triangle: 250/500\n",
      "📈 Fetching data for UBER\n"
     ]
    },
    {
     "name": "stderr",
     "output_type": "stream",
     "text": [
      "\n"
     ]
    },
    {
     "name": "stdout",
     "output_type": "stream",
     "text": [
      "✅ Descending Triangle: 251/500\n"
     ]
    },
    {
     "name": "stderr",
     "output_type": "stream",
     "text": [
      "[*********************100%***********************]  1 of 1 completed"
     ]
    },
    {
     "name": "stdout",
     "output_type": "stream",
     "text": [
      "✅ Hanging Man: 376/500\n",
      "📈 Fetching data for SPY\n"
     ]
    },
    {
     "name": "stderr",
     "output_type": "stream",
     "text": [
      "\n"
     ]
    },
    {
     "name": "stdout",
     "output_type": "stream",
     "text": [
      "✅ Hanging Man: 377/500\n"
     ]
    },
    {
     "name": "stderr",
     "output_type": "stream",
     "text": [
      "[*********************100%***********************]  1 of 1 completed"
     ]
    },
    {
     "name": "stdout",
     "output_type": "stream",
     "text": [
      "📈 Fetching data for QQQ\n"
     ]
    },
    {
     "name": "stderr",
     "output_type": "stream",
     "text": [
      "\n"
     ]
    },
    {
     "name": "stdout",
     "output_type": "stream",
     "text": [
      "✅ Hanging Man: 378/500\n",
      "✅ Hammer: 231/500\n",
      "✅ Descending Triangle: 252/500\n"
     ]
    },
    {
     "name": "stderr",
     "output_type": "stream",
     "text": [
      "[*********************100%***********************]  1 of 1 completed"
     ]
    },
    {
     "name": "stdout",
     "output_type": "stream",
     "text": [
      "🔁 Pass 22 over symbols...\n",
      "📈 Fetching data for AAPL\n"
     ]
    },
    {
     "name": "stderr",
     "output_type": "stream",
     "text": [
      "\n"
     ]
    },
    {
     "name": "stdout",
     "output_type": "stream",
     "text": [
      "✅ Hammer: 232/500\n",
      "✅ Descending Triangle: 253/500\n",
      "✅ Hanging Man: 379/500\n"
     ]
    },
    {
     "name": "stderr",
     "output_type": "stream",
     "text": [
      "[*********************100%***********************]  1 of 1 completed"
     ]
    },
    {
     "name": "stdout",
     "output_type": "stream",
     "text": [
      "📈 Fetching data for MSFT\n"
     ]
    },
    {
     "name": "stderr",
     "output_type": "stream",
     "text": [
      "\n"
     ]
    },
    {
     "name": "stdout",
     "output_type": "stream",
     "text": [
      "✅ Hammer: 233/500\n",
      "✅ Hammer: 234/500\n"
     ]
    },
    {
     "name": "stderr",
     "output_type": "stream",
     "text": [
      "[*********************100%***********************]  1 of 1 completed"
     ]
    },
    {
     "name": "stdout",
     "output_type": "stream",
     "text": [
      "📈 Fetching data for GOOGL\n"
     ]
    },
    {
     "name": "stderr",
     "output_type": "stream",
     "text": [
      "\n",
      "[*********************100%***********************]  1 of 1 completed"
     ]
    },
    {
     "name": "stdout",
     "output_type": "stream",
     "text": [
      "📈 Fetching data for AMZN\n"
     ]
    },
    {
     "name": "stderr",
     "output_type": "stream",
     "text": [
      "\n"
     ]
    },
    {
     "name": "stdout",
     "output_type": "stream",
     "text": [
      "✅ Descending Triangle: 254/500\n",
      "✅ Descending Triangle: 255/500\n"
     ]
    },
    {
     "name": "stderr",
     "output_type": "stream",
     "text": [
      "[*********************100%***********************]  1 of 1 completed"
     ]
    },
    {
     "name": "stdout",
     "output_type": "stream",
     "text": [
      "✅ Hammer: 235/500\n",
      "📈 Fetching data for META\n"
     ]
    },
    {
     "name": "stderr",
     "output_type": "stream",
     "text": [
      "\n"
     ]
    },
    {
     "name": "stdout",
     "output_type": "stream",
     "text": [
      "✅ Hanging Man: 380/500\n",
      "📈 Fetching data for NVDA\n"
     ]
    },
    {
     "name": "stderr",
     "output_type": "stream",
     "text": [
      "[*********************100%***********************]  1 of 1 completed\n"
     ]
    },
    {
     "name": "stdout",
     "output_type": "stream",
     "text": [
      "✅ Shooting Star: 232/500\n",
      "✅ Hanging Man: 381/500\n"
     ]
    },
    {
     "name": "stderr",
     "output_type": "stream",
     "text": [
      "[*********************100%***********************]  1 of 1 completed"
     ]
    },
    {
     "name": "stdout",
     "output_type": "stream",
     "text": [
      "📈 Fetching data for TSLA\n",
      "✅ Descending Triangle: 256/500\n"
     ]
    },
    {
     "name": "stderr",
     "output_type": "stream",
     "text": [
      "\n"
     ]
    },
    {
     "name": "stdout",
     "output_type": "stream",
     "text": [
      "✅ Shooting Star: 233/500\n"
     ]
    },
    {
     "name": "stderr",
     "output_type": "stream",
     "text": [
      "[*********************100%***********************]  1 of 1 completed"
     ]
    },
    {
     "name": "stdout",
     "output_type": "stream",
     "text": [
      "📈 Fetching data for NFLX\n"
     ]
    },
    {
     "name": "stderr",
     "output_type": "stream",
     "text": [
      "\n"
     ]
    },
    {
     "name": "stdout",
     "output_type": "stream",
     "text": [
      "✅ Evening Star: 127/500\n",
      "✅ Evening Star: 128/500\n"
     ]
    },
    {
     "name": "stderr",
     "output_type": "stream",
     "text": [
      "[*********************100%***********************]  1 of 1 completed"
     ]
    },
    {
     "name": "stdout",
     "output_type": "stream",
     "text": [
      "📈 Fetching data for JPM\n"
     ]
    },
    {
     "name": "stderr",
     "output_type": "stream",
     "text": [
      "\n"
     ]
    },
    {
     "name": "stdout",
     "output_type": "stream",
     "text": [
      "✅ Evening Star: 129/500\n",
      "✅ Evening Star: 130/500\n",
      "✅ Shooting Star: 234/500\n"
     ]
    },
    {
     "name": "stderr",
     "output_type": "stream",
     "text": [
      "[*********************100%***********************]  1 of 1 completed"
     ]
    },
    {
     "name": "stdout",
     "output_type": "stream",
     "text": [
      "📈 Fetching data for BAC\n"
     ]
    },
    {
     "name": "stderr",
     "output_type": "stream",
     "text": [
      "\n",
      "[*********************100%***********************]  1 of 1 completed"
     ]
    },
    {
     "name": "stdout",
     "output_type": "stream",
     "text": [
      "📈 Fetching data for V\n"
     ]
    },
    {
     "name": "stderr",
     "output_type": "stream",
     "text": [
      "\n",
      "[*********************100%***********************]  1 of 1 completed"
     ]
    },
    {
     "name": "stdout",
     "output_type": "stream",
     "text": [
      "✅ Inverted Hammer: 22/500\n",
      "📈 Fetching data for MA\n"
     ]
    },
    {
     "name": "stderr",
     "output_type": "stream",
     "text": [
      "\n",
      "[*********************100%***********************]  1 of 1 completed"
     ]
    },
    {
     "name": "stdout",
     "output_type": "stream",
     "text": [
      "📈 Fetching data for SOFI\n",
      "📈 Fetching data for COIN\n"
     ]
    },
    {
     "name": "stderr",
     "output_type": "stream",
     "text": [
      "\n",
      "[*********************100%***********************]  1 of 1 completed\n"
     ]
    },
    {
     "name": "stdout",
     "output_type": "stream",
     "text": [
      "✅ Descending Triangle: 257/500\n",
      "✅ Descending Triangle: 258/500\n",
      "✅ Hanging Man: 382/500\n",
      "✅ Hanging Man: 383/500\n",
      "✅ Hanging Man: 384/500\n",
      "✅ Hanging Man: 385/500\n",
      "✅ Hanging Man: 386/500\n",
      "📈 Fetching data for XOM\n"
     ]
    },
    {
     "name": "stderr",
     "output_type": "stream",
     "text": [
      "[*********************100%***********************]  1 of 1 completed\n"
     ]
    },
    {
     "name": "stdout",
     "output_type": "stream",
     "text": [
      "✅ Shooting Star: 235/500\n"
     ]
    },
    {
     "name": "stderr",
     "output_type": "stream",
     "text": [
      "[*********************100%***********************]  1 of 1 completed"
     ]
    },
    {
     "name": "stdout",
     "output_type": "stream",
     "text": [
      "📈 Fetching data for CVX\n"
     ]
    },
    {
     "name": "stderr",
     "output_type": "stream",
     "text": [
      "\n"
     ]
    },
    {
     "name": "stdout",
     "output_type": "stream",
     "text": [
      "✅ Evening Star: 131/500\n",
      "📈 Fetching data for BA\n"
     ]
    },
    {
     "name": "stderr",
     "output_type": "stream",
     "text": [
      "[*********************100%***********************]  1 of 1 completed\n"
     ]
    },
    {
     "name": "stdout",
     "output_type": "stream",
     "text": [
      "✅ Descending Triangle: 259/500\n",
      "✅ Descending Triangle: 260/500\n"
     ]
    },
    {
     "name": "stderr",
     "output_type": "stream",
     "text": [
      "[*********************100%***********************]  1 of 1 completed"
     ]
    },
    {
     "name": "stdout",
     "output_type": "stream",
     "text": [
      "📈 Fetching data for CAT\n"
     ]
    },
    {
     "name": "stderr",
     "output_type": "stream",
     "text": [
      "\n"
     ]
    },
    {
     "name": "stdout",
     "output_type": "stream",
     "text": [
      "✅ Hammer: 236/500\n",
      "✅ Hammer: 237/500\n",
      "✅ Hammer: 238/500\n",
      "✅ Hammer: 239/500\n",
      "✅ Hammer: 240/500\n",
      "✅ Hammer: 241/500\n"
     ]
    },
    {
     "name": "stderr",
     "output_type": "stream",
     "text": [
      "[*********************100%***********************]  1 of 1 completed"
     ]
    },
    {
     "name": "stdout",
     "output_type": "stream",
     "text": [
      "✅ Shooting Star: 236/500\n",
      "📈 Fetching data for DE\n"
     ]
    },
    {
     "name": "stderr",
     "output_type": "stream",
     "text": [
      "\n"
     ]
    },
    {
     "name": "stdout",
     "output_type": "stream",
     "text": [
      "✅ Shooting Star: 237/500\n",
      "✅ Shooting Star: 238/500\n",
      "✅ Shooting Star: 239/500\n",
      "📈 Fetching data for PFE\n"
     ]
    },
    {
     "name": "stderr",
     "output_type": "stream",
     "text": [
      "[*********************100%***********************]  1 of 1 completed\n"
     ]
    },
    {
     "name": "stdout",
     "output_type": "stream",
     "text": [
      "✅ Shooting Star: 240/500\n",
      "✅ Hanging Man: 387/500\n",
      "✅ Hanging Man: 388/500\n",
      "✅ Hanging Man: 389/500\n",
      "✅ Hanging Man: 390/500\n"
     ]
    },
    {
     "name": "stderr",
     "output_type": "stream",
     "text": [
      "[*********************100%***********************]  1 of 1 completed"
     ]
    },
    {
     "name": "stdout",
     "output_type": "stream",
     "text": [
      "📈 Fetching data for JNJ\n"
     ]
    },
    {
     "name": "stderr",
     "output_type": "stream",
     "text": [
      "\n",
      "[*********************100%***********************]  1 of 1 completed"
     ]
    },
    {
     "name": "stdout",
     "output_type": "stream",
     "text": [
      "📈 Fetching data for MRK\n"
     ]
    },
    {
     "name": "stderr",
     "output_type": "stream",
     "text": [
      "\n",
      "[*********************100%***********************]  1 of 1 completed"
     ]
    },
    {
     "name": "stdout",
     "output_type": "stream",
     "text": [
      "📈 Fetching data for LLY\n"
     ]
    },
    {
     "name": "stderr",
     "output_type": "stream",
     "text": [
      "\n"
     ]
    },
    {
     "name": "stdout",
     "output_type": "stream",
     "text": [
      "✅ Hanging Man: 391/500\n",
      "✅ Hanging Man: 392/500\n",
      "✅ Hanging Man: 393/500\n"
     ]
    },
    {
     "name": "stderr",
     "output_type": "stream",
     "text": [
      "[*********************100%***********************]  1 of 1 completed"
     ]
    },
    {
     "name": "stdout",
     "output_type": "stream",
     "text": [
      "✅ Shooting Star: 241/500\n",
      "📈 Fetching data for PLTR\n"
     ]
    },
    {
     "name": "stderr",
     "output_type": "stream",
     "text": [
      "\n",
      "[*********************100%***********************]  1 of 1 completed"
     ]
    },
    {
     "name": "stdout",
     "output_type": "stream",
     "text": [
      "✅ Evening Star: 132/500\n",
      "📈 Fetching data for SNOW\n"
     ]
    },
    {
     "name": "stderr",
     "output_type": "stream",
     "text": [
      "\n",
      "[*********************100%***********************]  1 of 1 completed"
     ]
    },
    {
     "name": "stdout",
     "output_type": "stream",
     "text": [
      "✅ Descending Triangle: 261/500\n",
      "📈 Fetching data for SHOP\n"
     ]
    },
    {
     "name": "stderr",
     "output_type": "stream",
     "text": [
      "\n",
      "[*********************100%***********************]  1 of 1 completed"
     ]
    },
    {
     "name": "stdout",
     "output_type": "stream",
     "text": [
      "✅ Shooting Star: 242/500\n",
      "📈 Fetching data for RIVN\n"
     ]
    },
    {
     "name": "stderr",
     "output_type": "stream",
     "text": [
      "\n",
      "[*********************100%***********************]  1 of 1 completed"
     ]
    },
    {
     "name": "stdout",
     "output_type": "stream",
     "text": [
      "✅ Descending Triangle: 262/500\n",
      "📈 Fetching data for UBER\n"
     ]
    },
    {
     "name": "stderr",
     "output_type": "stream",
     "text": [
      "\n"
     ]
    },
    {
     "name": "stdout",
     "output_type": "stream",
     "text": [
      "✅ Descending Triangle: 263/500\n"
     ]
    },
    {
     "name": "stderr",
     "output_type": "stream",
     "text": [
      "[*********************100%***********************]  1 of 1 completed"
     ]
    },
    {
     "name": "stdout",
     "output_type": "stream",
     "text": [
      "✅ Hanging Man: 394/500\n",
      "📈 Fetching data for SPY\n"
     ]
    },
    {
     "name": "stderr",
     "output_type": "stream",
     "text": [
      "\n"
     ]
    },
    {
     "name": "stdout",
     "output_type": "stream",
     "text": [
      "✅ Hanging Man: 395/500\n"
     ]
    },
    {
     "name": "stderr",
     "output_type": "stream",
     "text": [
      "[*********************100%***********************]  1 of 1 completed"
     ]
    },
    {
     "name": "stdout",
     "output_type": "stream",
     "text": [
      "📈 Fetching data for QQQ\n"
     ]
    },
    {
     "name": "stderr",
     "output_type": "stream",
     "text": [
      "\n"
     ]
    },
    {
     "name": "stdout",
     "output_type": "stream",
     "text": [
      "✅ Hanging Man: 396/500\n",
      "✅ Hammer: 242/500\n",
      "✅ Descending Triangle: 264/500\n"
     ]
    },
    {
     "name": "stderr",
     "output_type": "stream",
     "text": [
      "[*********************100%***********************]  1 of 1 completed"
     ]
    },
    {
     "name": "stdout",
     "output_type": "stream",
     "text": [
      "🔁 Pass 23 over symbols...\n",
      "📈 Fetching data for AAPL\n"
     ]
    },
    {
     "name": "stderr",
     "output_type": "stream",
     "text": [
      "\n"
     ]
    },
    {
     "name": "stdout",
     "output_type": "stream",
     "text": [
      "✅ Hammer: 243/500\n",
      "✅ Descending Triangle: 265/500\n",
      "✅ Hanging Man: 397/500\n"
     ]
    },
    {
     "name": "stderr",
     "output_type": "stream",
     "text": [
      "[*********************100%***********************]  1 of 1 completed"
     ]
    },
    {
     "name": "stdout",
     "output_type": "stream",
     "text": [
      "📈 Fetching data for MSFT\n"
     ]
    },
    {
     "name": "stderr",
     "output_type": "stream",
     "text": [
      "\n"
     ]
    },
    {
     "name": "stdout",
     "output_type": "stream",
     "text": [
      "✅ Hammer: 244/500\n",
      "✅ Hammer: 245/500\n"
     ]
    },
    {
     "name": "stderr",
     "output_type": "stream",
     "text": [
      "[*********************100%***********************]  1 of 1 completed"
     ]
    },
    {
     "name": "stdout",
     "output_type": "stream",
     "text": [
      "📈 Fetching data for GOOGL\n"
     ]
    },
    {
     "name": "stderr",
     "output_type": "stream",
     "text": [
      "\n",
      "[*********************100%***********************]  1 of 1 completed"
     ]
    },
    {
     "name": "stdout",
     "output_type": "stream",
     "text": [
      "📈 Fetching data for AMZN\n"
     ]
    },
    {
     "name": "stderr",
     "output_type": "stream",
     "text": [
      "\n"
     ]
    },
    {
     "name": "stdout",
     "output_type": "stream",
     "text": [
      "✅ Descending Triangle: 266/500\n",
      "✅ Descending Triangle: 267/500\n"
     ]
    },
    {
     "name": "stderr",
     "output_type": "stream",
     "text": [
      "[*********************100%***********************]  1 of 1 completed"
     ]
    },
    {
     "name": "stdout",
     "output_type": "stream",
     "text": [
      "✅ Hammer: 246/500\n",
      "📈 Fetching data for META\n"
     ]
    },
    {
     "name": "stderr",
     "output_type": "stream",
     "text": [
      "\n"
     ]
    },
    {
     "name": "stdout",
     "output_type": "stream",
     "text": [
      "✅ Hanging Man: 398/500\n",
      "📈 Fetching data for NVDA\n"
     ]
    },
    {
     "name": "stderr",
     "output_type": "stream",
     "text": [
      "[*********************100%***********************]  1 of 1 completed\n"
     ]
    },
    {
     "name": "stdout",
     "output_type": "stream",
     "text": [
      "✅ Shooting Star: 243/500\n",
      "✅ Hanging Man: 399/500\n"
     ]
    },
    {
     "name": "stderr",
     "output_type": "stream",
     "text": [
      "[*********************100%***********************]  1 of 1 completed"
     ]
    },
    {
     "name": "stdout",
     "output_type": "stream",
     "text": [
      "📈 Fetching data for TSLA\n",
      "✅ Descending Triangle: 268/500\n"
     ]
    },
    {
     "name": "stderr",
     "output_type": "stream",
     "text": [
      "\n"
     ]
    },
    {
     "name": "stdout",
     "output_type": "stream",
     "text": [
      "✅ Shooting Star: 244/500\n"
     ]
    },
    {
     "name": "stderr",
     "output_type": "stream",
     "text": [
      "[*********************100%***********************]  1 of 1 completed"
     ]
    },
    {
     "name": "stdout",
     "output_type": "stream",
     "text": [
      "📈 Fetching data for NFLX\n"
     ]
    },
    {
     "name": "stderr",
     "output_type": "stream",
     "text": [
      "\n"
     ]
    },
    {
     "name": "stdout",
     "output_type": "stream",
     "text": [
      "✅ Evening Star: 133/500\n",
      "✅ Evening Star: 134/500\n"
     ]
    },
    {
     "name": "stderr",
     "output_type": "stream",
     "text": [
      "[*********************100%***********************]  1 of 1 completed"
     ]
    },
    {
     "name": "stdout",
     "output_type": "stream",
     "text": [
      "📈 Fetching data for JPM\n"
     ]
    },
    {
     "name": "stderr",
     "output_type": "stream",
     "text": [
      "\n"
     ]
    },
    {
     "name": "stdout",
     "output_type": "stream",
     "text": [
      "✅ Evening Star: 135/500\n",
      "✅ Evening Star: 136/500\n",
      "✅ Shooting Star: 245/500\n"
     ]
    },
    {
     "name": "stderr",
     "output_type": "stream",
     "text": [
      "[*********************100%***********************]  1 of 1 completed"
     ]
    },
    {
     "name": "stdout",
     "output_type": "stream",
     "text": [
      "📈 Fetching data for BAC\n"
     ]
    },
    {
     "name": "stderr",
     "output_type": "stream",
     "text": [
      "\n",
      "[*********************100%***********************]  1 of 1 completed"
     ]
    },
    {
     "name": "stdout",
     "output_type": "stream",
     "text": [
      "📈 Fetching data for V\n"
     ]
    },
    {
     "name": "stderr",
     "output_type": "stream",
     "text": [
      "\n",
      "[*********************100%***********************]  1 of 1 completed"
     ]
    },
    {
     "name": "stdout",
     "output_type": "stream",
     "text": [
      "✅ Inverted Hammer: 23/500\n",
      "📈 Fetching data for MA\n"
     ]
    },
    {
     "name": "stderr",
     "output_type": "stream",
     "text": [
      "\n",
      "[*********************100%***********************]  1 of 1 completed"
     ]
    },
    {
     "name": "stdout",
     "output_type": "stream",
     "text": [
      "📈 Fetching data for SOFI\n"
     ]
    },
    {
     "name": "stderr",
     "output_type": "stream",
     "text": [
      "\n",
      "[*********************100%***********************]  1 of 1 completed"
     ]
    },
    {
     "name": "stdout",
     "output_type": "stream",
     "text": [
      "📈 Fetching data for COIN\n"
     ]
    },
    {
     "name": "stderr",
     "output_type": "stream",
     "text": [
      "\n"
     ]
    },
    {
     "name": "stdout",
     "output_type": "stream",
     "text": [
      "✅ Descending Triangle: 269/500\n",
      "✅ Descending Triangle: 270/500\n",
      "✅ Hanging Man: 400/500\n",
      "✅ Hanging Man: 401/500\n",
      "✅ Hanging Man: 402/500\n",
      "✅ Hanging Man: 403/500\n",
      "✅ Hanging Man: 404/500\n",
      "📈 Fetching data for XOM\n"
     ]
    },
    {
     "name": "stderr",
     "output_type": "stream",
     "text": [
      "[*********************100%***********************]  1 of 1 completed\n"
     ]
    },
    {
     "name": "stdout",
     "output_type": "stream",
     "text": [
      "✅ Shooting Star: 246/500\n",
      "📈 Fetching data for CVX\n"
     ]
    },
    {
     "name": "stderr",
     "output_type": "stream",
     "text": [
      "[*********************100%***********************]  1 of 1 completed\n"
     ]
    },
    {
     "name": "stdout",
     "output_type": "stream",
     "text": [
      "✅ Evening Star: 137/500\n",
      "📈 Fetching data for BA\n"
     ]
    },
    {
     "name": "stderr",
     "output_type": "stream",
     "text": [
      "[*********************100%***********************]  1 of 1 completed\n"
     ]
    },
    {
     "name": "stdout",
     "output_type": "stream",
     "text": [
      "✅ Descending Triangle: 271/500\n",
      "✅ Descending Triangle: 272/500\n"
     ]
    },
    {
     "name": "stderr",
     "output_type": "stream",
     "text": [
      "[*********************100%***********************]  1 of 1 completed"
     ]
    },
    {
     "name": "stdout",
     "output_type": "stream",
     "text": [
      "📈 Fetching data for CAT\n"
     ]
    },
    {
     "name": "stderr",
     "output_type": "stream",
     "text": [
      "\n"
     ]
    },
    {
     "name": "stdout",
     "output_type": "stream",
     "text": [
      "✅ Hammer: 247/500\n",
      "✅ Hammer: 248/500\n",
      "✅ Hammer: 249/500\n",
      "✅ Hammer: 250/500\n",
      "✅ Hammer: 251/500\n",
      "✅ Hammer: 252/500\n"
     ]
    },
    {
     "name": "stderr",
     "output_type": "stream",
     "text": [
      "[*********************100%***********************]  1 of 1 completed"
     ]
    },
    {
     "name": "stdout",
     "output_type": "stream",
     "text": [
      "✅ Shooting Star: 247/500\n",
      "📈 Fetching data for DE\n"
     ]
    },
    {
     "name": "stderr",
     "output_type": "stream",
     "text": [
      "\n"
     ]
    },
    {
     "name": "stdout",
     "output_type": "stream",
     "text": [
      "✅ Shooting Star: 248/500\n",
      "✅ Shooting Star: 249/500\n",
      "✅ Shooting Star: 250/500\n",
      "📈 Fetching data for PFE\n"
     ]
    },
    {
     "name": "stderr",
     "output_type": "stream",
     "text": [
      "[*********************100%***********************]  1 of 1 completed\n"
     ]
    },
    {
     "name": "stdout",
     "output_type": "stream",
     "text": [
      "✅ Shooting Star: 251/500\n",
      "✅ Hanging Man: 405/500\n",
      "✅ Hanging Man: 406/500\n",
      "✅ Hanging Man: 407/500\n",
      "✅ Hanging Man: 408/500\n"
     ]
    },
    {
     "name": "stderr",
     "output_type": "stream",
     "text": [
      "[*********************100%***********************]  1 of 1 completed"
     ]
    },
    {
     "name": "stdout",
     "output_type": "stream",
     "text": [
      "📈 Fetching data for JNJ\n"
     ]
    },
    {
     "name": "stderr",
     "output_type": "stream",
     "text": [
      "\n",
      "[*********************100%***********************]  1 of 1 completed"
     ]
    },
    {
     "name": "stdout",
     "output_type": "stream",
     "text": [
      "📈 Fetching data for MRK\n"
     ]
    },
    {
     "name": "stderr",
     "output_type": "stream",
     "text": [
      "\n",
      "[*********************100%***********************]  1 of 1 completed"
     ]
    },
    {
     "name": "stdout",
     "output_type": "stream",
     "text": [
      "📈 Fetching data for LLY\n"
     ]
    },
    {
     "name": "stderr",
     "output_type": "stream",
     "text": [
      "\n"
     ]
    },
    {
     "name": "stdout",
     "output_type": "stream",
     "text": [
      "✅ Hanging Man: 409/500\n",
      "✅ Hanging Man: 410/500\n",
      "✅ Hanging Man: 411/500\n"
     ]
    },
    {
     "name": "stderr",
     "output_type": "stream",
     "text": [
      "[*********************100%***********************]  1 of 1 completed"
     ]
    },
    {
     "name": "stdout",
     "output_type": "stream",
     "text": [
      "✅ Shooting Star: 252/500\n",
      "📈 Fetching data for PLTR\n"
     ]
    },
    {
     "name": "stderr",
     "output_type": "stream",
     "text": [
      "\n",
      "[*********************100%***********************]  1 of 1 completed"
     ]
    },
    {
     "name": "stdout",
     "output_type": "stream",
     "text": [
      "✅ Evening Star: 138/500\n",
      "📈 Fetching data for SNOW\n"
     ]
    },
    {
     "name": "stderr",
     "output_type": "stream",
     "text": [
      "\n",
      "[*********************100%***********************]  1 of 1 completed"
     ]
    },
    {
     "name": "stdout",
     "output_type": "stream",
     "text": [
      "✅ Descending Triangle: 273/500\n",
      "📈 Fetching data for SHOP\n"
     ]
    },
    {
     "name": "stderr",
     "output_type": "stream",
     "text": [
      "\n",
      "[*********************100%***********************]  1 of 1 completed"
     ]
    },
    {
     "name": "stdout",
     "output_type": "stream",
     "text": [
      "✅ Shooting Star: 253/500\n",
      "📈 Fetching data for RIVN\n"
     ]
    },
    {
     "name": "stderr",
     "output_type": "stream",
     "text": [
      "\n",
      "[*********************100%***********************]  1 of 1 completed"
     ]
    },
    {
     "name": "stdout",
     "output_type": "stream",
     "text": [
      "✅ Descending Triangle: 274/500\n",
      "📈 Fetching data for UBER\n"
     ]
    },
    {
     "name": "stderr",
     "output_type": "stream",
     "text": [
      "\n"
     ]
    },
    {
     "name": "stdout",
     "output_type": "stream",
     "text": [
      "✅ Descending Triangle: 275/500\n"
     ]
    },
    {
     "name": "stderr",
     "output_type": "stream",
     "text": [
      "[*********************100%***********************]  1 of 1 completed"
     ]
    },
    {
     "name": "stdout",
     "output_type": "stream",
     "text": [
      "✅ Hanging Man: 412/500\n",
      "📈 Fetching data for SPY\n"
     ]
    },
    {
     "name": "stderr",
     "output_type": "stream",
     "text": [
      "\n"
     ]
    },
    {
     "name": "stdout",
     "output_type": "stream",
     "text": [
      "✅ Hanging Man: 413/500\n"
     ]
    },
    {
     "name": "stderr",
     "output_type": "stream",
     "text": [
      "[*********************100%***********************]  1 of 1 completed"
     ]
    },
    {
     "name": "stdout",
     "output_type": "stream",
     "text": [
      "📈 Fetching data for QQQ\n"
     ]
    },
    {
     "name": "stderr",
     "output_type": "stream",
     "text": [
      "\n"
     ]
    },
    {
     "name": "stdout",
     "output_type": "stream",
     "text": [
      "✅ Hanging Man: 414/500\n",
      "✅ Hammer: 253/500\n",
      "✅ Descending Triangle: 276/500\n"
     ]
    },
    {
     "name": "stderr",
     "output_type": "stream",
     "text": [
      "[*********************100%***********************]  1 of 1 completed"
     ]
    },
    {
     "name": "stdout",
     "output_type": "stream",
     "text": [
      "🔁 Pass 24 over symbols...\n",
      "📈 Fetching data for AAPL\n"
     ]
    },
    {
     "name": "stderr",
     "output_type": "stream",
     "text": [
      "\n"
     ]
    },
    {
     "name": "stdout",
     "output_type": "stream",
     "text": [
      "✅ Hammer: 254/500\n",
      "✅ Descending Triangle: 277/500\n",
      "✅ Hanging Man: 415/500\n"
     ]
    },
    {
     "name": "stderr",
     "output_type": "stream",
     "text": [
      "[*********************100%***********************]  1 of 1 completed"
     ]
    },
    {
     "name": "stdout",
     "output_type": "stream",
     "text": [
      "📈 Fetching data for MSFT\n"
     ]
    },
    {
     "name": "stderr",
     "output_type": "stream",
     "text": [
      "\n"
     ]
    },
    {
     "name": "stdout",
     "output_type": "stream",
     "text": [
      "✅ Hammer: 255/500\n",
      "✅ Hammer: 256/500\n"
     ]
    },
    {
     "name": "stderr",
     "output_type": "stream",
     "text": [
      "[*********************100%***********************]  1 of 1 completed"
     ]
    },
    {
     "name": "stdout",
     "output_type": "stream",
     "text": [
      "📈 Fetching data for GOOGL\n"
     ]
    },
    {
     "name": "stderr",
     "output_type": "stream",
     "text": [
      "\n",
      "[*********************100%***********************]  1 of 1 completed"
     ]
    },
    {
     "name": "stdout",
     "output_type": "stream",
     "text": [
      "📈 Fetching data for AMZN\n"
     ]
    },
    {
     "name": "stderr",
     "output_type": "stream",
     "text": [
      "\n"
     ]
    },
    {
     "name": "stdout",
     "output_type": "stream",
     "text": [
      "✅ Descending Triangle: 278/500\n",
      "✅ Descending Triangle: 279/500\n"
     ]
    },
    {
     "name": "stderr",
     "output_type": "stream",
     "text": [
      "[*********************100%***********************]  1 of 1 completed"
     ]
    },
    {
     "name": "stdout",
     "output_type": "stream",
     "text": [
      "✅ Hammer: 257/500\n",
      "📈 Fetching data for META\n"
     ]
    },
    {
     "name": "stderr",
     "output_type": "stream",
     "text": [
      "\n"
     ]
    },
    {
     "name": "stdout",
     "output_type": "stream",
     "text": [
      "✅ Hanging Man: 416/500\n",
      "📈 Fetching data for NVDA\n"
     ]
    },
    {
     "name": "stderr",
     "output_type": "stream",
     "text": [
      "[*********************100%***********************]  1 of 1 completed\n"
     ]
    },
    {
     "name": "stdout",
     "output_type": "stream",
     "text": [
      "✅ Shooting Star: 254/500\n",
      "✅ Hanging Man: 417/500\n"
     ]
    },
    {
     "name": "stderr",
     "output_type": "stream",
     "text": [
      "[*********************100%***********************]  1 of 1 completed"
     ]
    },
    {
     "name": "stdout",
     "output_type": "stream",
     "text": [
      "📈 Fetching data for TSLA\n",
      "✅ Descending Triangle: 280/500\n"
     ]
    },
    {
     "name": "stderr",
     "output_type": "stream",
     "text": [
      "\n"
     ]
    },
    {
     "name": "stdout",
     "output_type": "stream",
     "text": [
      "✅ Shooting Star: 255/500\n"
     ]
    },
    {
     "name": "stderr",
     "output_type": "stream",
     "text": [
      "[*********************100%***********************]  1 of 1 completed"
     ]
    },
    {
     "name": "stdout",
     "output_type": "stream",
     "text": [
      "📈 Fetching data for NFLX\n"
     ]
    },
    {
     "name": "stderr",
     "output_type": "stream",
     "text": [
      "\n"
     ]
    },
    {
     "name": "stdout",
     "output_type": "stream",
     "text": [
      "✅ Evening Star: 139/500\n",
      "✅ Evening Star: 140/500\n"
     ]
    },
    {
     "name": "stderr",
     "output_type": "stream",
     "text": [
      "[*********************100%***********************]  1 of 1 completed"
     ]
    },
    {
     "name": "stdout",
     "output_type": "stream",
     "text": [
      "📈 Fetching data for JPM\n"
     ]
    },
    {
     "name": "stderr",
     "output_type": "stream",
     "text": [
      "\n"
     ]
    },
    {
     "name": "stdout",
     "output_type": "stream",
     "text": [
      "✅ Evening Star: 141/500\n",
      "✅ Evening Star: 142/500\n",
      "✅ Shooting Star: 256/500\n"
     ]
    },
    {
     "name": "stderr",
     "output_type": "stream",
     "text": [
      "[*********************100%***********************]  1 of 1 completed"
     ]
    },
    {
     "name": "stdout",
     "output_type": "stream",
     "text": [
      "📈 Fetching data for BAC\n"
     ]
    },
    {
     "name": "stderr",
     "output_type": "stream",
     "text": [
      "\n",
      "[*********************100%***********************]  1 of 1 completed"
     ]
    },
    {
     "name": "stdout",
     "output_type": "stream",
     "text": [
      "📈 Fetching data for V\n"
     ]
    },
    {
     "name": "stderr",
     "output_type": "stream",
     "text": [
      "\n",
      "[*********************100%***********************]  1 of 1 completed"
     ]
    },
    {
     "name": "stdout",
     "output_type": "stream",
     "text": [
      "✅ Inverted Hammer: 24/500\n",
      "📈 Fetching data for MA\n"
     ]
    },
    {
     "name": "stderr",
     "output_type": "stream",
     "text": [
      "\n",
      "[*********************100%***********************]  1 of 1 completed"
     ]
    },
    {
     "name": "stdout",
     "output_type": "stream",
     "text": [
      "📈 Fetching data for SOFI\n"
     ]
    },
    {
     "name": "stderr",
     "output_type": "stream",
     "text": [
      "\n",
      "[*********************100%***********************]  1 of 1 completed"
     ]
    },
    {
     "name": "stdout",
     "output_type": "stream",
     "text": [
      "📈 Fetching data for COIN\n"
     ]
    },
    {
     "name": "stderr",
     "output_type": "stream",
     "text": [
      "\n"
     ]
    },
    {
     "name": "stdout",
     "output_type": "stream",
     "text": [
      "✅ Descending Triangle: 281/500\n",
      "✅ Descending Triangle: 282/500\n",
      "✅ Hanging Man: 418/500\n",
      "✅ Hanging Man: 419/500\n",
      "✅ Hanging Man: 420/500\n",
      "✅ Hanging Man: 421/500\n"
     ]
    },
    {
     "name": "stderr",
     "output_type": "stream",
     "text": [
      "[*********************100%***********************]  1 of 1 completed"
     ]
    },
    {
     "name": "stdout",
     "output_type": "stream",
     "text": [
      "✅ Hanging Man: 422/500\n",
      "📈 Fetching data for XOM\n"
     ]
    },
    {
     "name": "stderr",
     "output_type": "stream",
     "text": [
      "\n"
     ]
    },
    {
     "name": "stdout",
     "output_type": "stream",
     "text": [
      "✅ Shooting Star: 257/500\n"
     ]
    },
    {
     "name": "stderr",
     "output_type": "stream",
     "text": [
      "[*********************100%***********************]  1 of 1 completed"
     ]
    },
    {
     "name": "stdout",
     "output_type": "stream",
     "text": [
      "📈 Fetching data for CVX\n"
     ]
    },
    {
     "name": "stderr",
     "output_type": "stream",
     "text": [
      "\n"
     ]
    },
    {
     "name": "stdout",
     "output_type": "stream",
     "text": [
      "✅ Evening Star: 143/500\n",
      "📈 Fetching data for BA\n"
     ]
    },
    {
     "name": "stderr",
     "output_type": "stream",
     "text": [
      "[*********************100%***********************]  1 of 1 completed\n"
     ]
    },
    {
     "name": "stdout",
     "output_type": "stream",
     "text": [
      "✅ Descending Triangle: 283/500\n",
      "✅ Descending Triangle: 284/500\n"
     ]
    },
    {
     "name": "stderr",
     "output_type": "stream",
     "text": [
      "[*********************100%***********************]  1 of 1 completed"
     ]
    },
    {
     "name": "stdout",
     "output_type": "stream",
     "text": [
      "📈 Fetching data for CAT\n"
     ]
    },
    {
     "name": "stderr",
     "output_type": "stream",
     "text": [
      "\n"
     ]
    },
    {
     "name": "stdout",
     "output_type": "stream",
     "text": [
      "✅ Hammer: 258/500\n",
      "✅ Hammer: 259/500\n",
      "✅ Hammer: 260/500\n",
      "✅ Hammer: 261/500\n",
      "✅ Hammer: 262/500\n",
      "✅ Hammer: 263/500\n"
     ]
    },
    {
     "name": "stderr",
     "output_type": "stream",
     "text": [
      "[*********************100%***********************]  1 of 1 completed"
     ]
    },
    {
     "name": "stdout",
     "output_type": "stream",
     "text": [
      "✅ Shooting Star: 258/500\n",
      "📈 Fetching data for DE\n"
     ]
    },
    {
     "name": "stderr",
     "output_type": "stream",
     "text": [
      "\n"
     ]
    },
    {
     "name": "stdout",
     "output_type": "stream",
     "text": [
      "✅ Shooting Star: 259/500\n",
      "✅ Shooting Star: 260/500\n",
      "✅ Shooting Star: 261/500\n",
      "📈 Fetching data for PFE\n"
     ]
    },
    {
     "name": "stderr",
     "output_type": "stream",
     "text": [
      "[*********************100%***********************]  1 of 1 completed\n"
     ]
    },
    {
     "name": "stdout",
     "output_type": "stream",
     "text": [
      "✅ Shooting Star: 262/500\n",
      "✅ Hanging Man: 423/500\n",
      "✅ Hanging Man: 424/500\n",
      "✅ Hanging Man: 425/500\n",
      "✅ Hanging Man: 426/500\n"
     ]
    },
    {
     "name": "stderr",
     "output_type": "stream",
     "text": [
      "[*********************100%***********************]  1 of 1 completed"
     ]
    },
    {
     "name": "stdout",
     "output_type": "stream",
     "text": [
      "📈 Fetching data for JNJ\n"
     ]
    },
    {
     "name": "stderr",
     "output_type": "stream",
     "text": [
      "\n",
      "[*********************100%***********************]  1 of 1 completed"
     ]
    },
    {
     "name": "stdout",
     "output_type": "stream",
     "text": [
      "📈 Fetching data for MRK\n"
     ]
    },
    {
     "name": "stderr",
     "output_type": "stream",
     "text": [
      "\n",
      "[*********************100%***********************]  1 of 1 completed"
     ]
    },
    {
     "name": "stdout",
     "output_type": "stream",
     "text": [
      "📈 Fetching data for LLY\n"
     ]
    },
    {
     "name": "stderr",
     "output_type": "stream",
     "text": [
      "\n"
     ]
    },
    {
     "name": "stdout",
     "output_type": "stream",
     "text": [
      "✅ Hanging Man: 427/500\n",
      "✅ Hanging Man: 428/500\n",
      "✅ Hanging Man: 429/500\n"
     ]
    },
    {
     "name": "stderr",
     "output_type": "stream",
     "text": [
      "[*********************100%***********************]  1 of 1 completed"
     ]
    },
    {
     "name": "stdout",
     "output_type": "stream",
     "text": [
      "✅ Shooting Star: 263/500\n",
      "📈 Fetching data for PLTR\n"
     ]
    },
    {
     "name": "stderr",
     "output_type": "stream",
     "text": [
      "\n",
      "[*********************100%***********************]  1 of 1 completed"
     ]
    },
    {
     "name": "stdout",
     "output_type": "stream",
     "text": [
      "✅ Evening Star: 144/500\n",
      "📈 Fetching data for SNOW\n"
     ]
    },
    {
     "name": "stderr",
     "output_type": "stream",
     "text": [
      "\n",
      "[*********************100%***********************]  1 of 1 completed"
     ]
    },
    {
     "name": "stdout",
     "output_type": "stream",
     "text": [
      "✅ Descending Triangle: 285/500\n",
      "📈 Fetching data for SHOP\n"
     ]
    },
    {
     "name": "stderr",
     "output_type": "stream",
     "text": [
      "\n",
      "[*********************100%***********************]  1 of 1 completed"
     ]
    },
    {
     "name": "stdout",
     "output_type": "stream",
     "text": [
      "✅ Shooting Star: 264/500\n",
      "📈 Fetching data for RIVN\n"
     ]
    },
    {
     "name": "stderr",
     "output_type": "stream",
     "text": [
      "\n",
      "[*********************100%***********************]  1 of 1 completed"
     ]
    },
    {
     "name": "stdout",
     "output_type": "stream",
     "text": [
      "✅ Descending Triangle: 286/500\n",
      "📈 Fetching data for UBER\n"
     ]
    },
    {
     "name": "stderr",
     "output_type": "stream",
     "text": [
      "\n"
     ]
    },
    {
     "name": "stdout",
     "output_type": "stream",
     "text": [
      "✅ Descending Triangle: 287/500\n"
     ]
    },
    {
     "name": "stderr",
     "output_type": "stream",
     "text": [
      "[*********************100%***********************]  1 of 1 completed"
     ]
    },
    {
     "name": "stdout",
     "output_type": "stream",
     "text": [
      "✅ Hanging Man: 430/500\n",
      "📈 Fetching data for SPY\n"
     ]
    },
    {
     "name": "stderr",
     "output_type": "stream",
     "text": [
      "\n"
     ]
    },
    {
     "name": "stdout",
     "output_type": "stream",
     "text": [
      "✅ Hanging Man: 431/500\n"
     ]
    },
    {
     "name": "stderr",
     "output_type": "stream",
     "text": [
      "[*********************100%***********************]  1 of 1 completed"
     ]
    },
    {
     "name": "stdout",
     "output_type": "stream",
     "text": [
      "📈 Fetching data for QQQ\n"
     ]
    },
    {
     "name": "stderr",
     "output_type": "stream",
     "text": [
      "\n"
     ]
    },
    {
     "name": "stdout",
     "output_type": "stream",
     "text": [
      "✅ Hanging Man: 432/500\n",
      "✅ Hammer: 264/500\n",
      "✅ Descending Triangle: 288/500\n"
     ]
    },
    {
     "name": "stderr",
     "output_type": "stream",
     "text": [
      "[*********************100%***********************]  1 of 1 completed"
     ]
    },
    {
     "name": "stdout",
     "output_type": "stream",
     "text": [
      "🔁 Pass 25 over symbols...\n",
      "📈 Fetching data for AAPL\n"
     ]
    },
    {
     "name": "stderr",
     "output_type": "stream",
     "text": [
      "\n"
     ]
    },
    {
     "name": "stdout",
     "output_type": "stream",
     "text": [
      "✅ Hammer: 265/500\n",
      "✅ Descending Triangle: 289/500\n",
      "✅ Hanging Man: 433/500\n"
     ]
    },
    {
     "name": "stderr",
     "output_type": "stream",
     "text": [
      "[*********************100%***********************]  1 of 1 completed"
     ]
    },
    {
     "name": "stdout",
     "output_type": "stream",
     "text": [
      "📈 Fetching data for MSFT\n"
     ]
    },
    {
     "name": "stderr",
     "output_type": "stream",
     "text": [
      "\n"
     ]
    },
    {
     "name": "stdout",
     "output_type": "stream",
     "text": [
      "✅ Hammer: 266/500\n",
      "✅ Hammer: 267/500\n"
     ]
    },
    {
     "name": "stderr",
     "output_type": "stream",
     "text": [
      "[*********************100%***********************]  1 of 1 completed"
     ]
    },
    {
     "name": "stdout",
     "output_type": "stream",
     "text": [
      "📈 Fetching data for GOOGL\n"
     ]
    },
    {
     "name": "stderr",
     "output_type": "stream",
     "text": [
      "\n",
      "[*********************100%***********************]  1 of 1 completed"
     ]
    },
    {
     "name": "stdout",
     "output_type": "stream",
     "text": [
      "📈 Fetching data for AMZN\n"
     ]
    },
    {
     "name": "stderr",
     "output_type": "stream",
     "text": [
      "\n"
     ]
    },
    {
     "name": "stdout",
     "output_type": "stream",
     "text": [
      "✅ Descending Triangle: 290/500\n",
      "✅ Descending Triangle: 291/500\n"
     ]
    },
    {
     "name": "stderr",
     "output_type": "stream",
     "text": [
      "[*********************100%***********************]  1 of 1 completed"
     ]
    },
    {
     "name": "stdout",
     "output_type": "stream",
     "text": [
      "✅ Hammer: 268/500\n",
      "📈 Fetching data for META\n"
     ]
    },
    {
     "name": "stderr",
     "output_type": "stream",
     "text": [
      "\n"
     ]
    },
    {
     "name": "stdout",
     "output_type": "stream",
     "text": [
      "✅ Hanging Man: 434/500\n",
      "📈 Fetching data for NVDA\n"
     ]
    },
    {
     "name": "stderr",
     "output_type": "stream",
     "text": [
      "[*********************100%***********************]  1 of 1 completed\n"
     ]
    },
    {
     "name": "stdout",
     "output_type": "stream",
     "text": [
      "✅ Shooting Star: 265/500\n",
      "✅ Hanging Man: 435/500\n"
     ]
    },
    {
     "name": "stderr",
     "output_type": "stream",
     "text": [
      "[*********************100%***********************]  1 of 1 completed"
     ]
    },
    {
     "name": "stdout",
     "output_type": "stream",
     "text": [
      "📈 Fetching data for TSLA\n"
     ]
    },
    {
     "name": "stderr",
     "output_type": "stream",
     "text": [
      "\n"
     ]
    },
    {
     "name": "stdout",
     "output_type": "stream",
     "text": [
      "✅ Descending Triangle: 292/500\n",
      "✅ Shooting Star: 266/500\n"
     ]
    },
    {
     "name": "stderr",
     "output_type": "stream",
     "text": [
      "[*********************100%***********************]  1 of 1 completed"
     ]
    },
    {
     "name": "stdout",
     "output_type": "stream",
     "text": [
      "📈 Fetching data for NFLX\n"
     ]
    },
    {
     "name": "stderr",
     "output_type": "stream",
     "text": [
      "\n"
     ]
    },
    {
     "name": "stdout",
     "output_type": "stream",
     "text": [
      "✅ Evening Star: 145/500\n",
      "✅ Evening Star: 146/500\n"
     ]
    },
    {
     "name": "stderr",
     "output_type": "stream",
     "text": [
      "[*********************100%***********************]  1 of 1 completed"
     ]
    },
    {
     "name": "stdout",
     "output_type": "stream",
     "text": [
      "📈 Fetching data for JPM\n"
     ]
    },
    {
     "name": "stderr",
     "output_type": "stream",
     "text": [
      "\n"
     ]
    },
    {
     "name": "stdout",
     "output_type": "stream",
     "text": [
      "✅ Evening Star: 147/500\n",
      "✅ Evening Star: 148/500\n",
      "✅ Shooting Star: 267/500\n"
     ]
    },
    {
     "name": "stderr",
     "output_type": "stream",
     "text": [
      "[*********************100%***********************]  1 of 1 completed"
     ]
    },
    {
     "name": "stdout",
     "output_type": "stream",
     "text": [
      "📈 Fetching data for BAC\n"
     ]
    },
    {
     "name": "stderr",
     "output_type": "stream",
     "text": [
      "\n",
      "[*********************100%***********************]  1 of 1 completed"
     ]
    },
    {
     "name": "stdout",
     "output_type": "stream",
     "text": [
      "📈 Fetching data for V\n"
     ]
    },
    {
     "name": "stderr",
     "output_type": "stream",
     "text": [
      "\n",
      "[*********************100%***********************]  1 of 1 completed"
     ]
    },
    {
     "name": "stdout",
     "output_type": "stream",
     "text": [
      "✅ Inverted Hammer: 25/500\n",
      "📈 Fetching data for MA\n"
     ]
    },
    {
     "name": "stderr",
     "output_type": "stream",
     "text": [
      "\n",
      "[*********************100%***********************]  1 of 1 completed"
     ]
    },
    {
     "name": "stdout",
     "output_type": "stream",
     "text": [
      "📈 Fetching data for SOFI\n",
      "📈 Fetching data for COIN\n"
     ]
    },
    {
     "name": "stderr",
     "output_type": "stream",
     "text": [
      "\n",
      "[*********************100%***********************]  1 of 1 completed\n"
     ]
    },
    {
     "name": "stdout",
     "output_type": "stream",
     "text": [
      "✅ Descending Triangle: 293/500\n",
      "✅ Descending Triangle: 294/500\n",
      "✅ Hanging Man: 436/500\n",
      "✅ Hanging Man: 437/500\n",
      "✅ Hanging Man: 438/500\n",
      "✅ Hanging Man: 439/500\n"
     ]
    },
    {
     "name": "stderr",
     "output_type": "stream",
     "text": [
      "[*********************100%***********************]  1 of 1 completed"
     ]
    },
    {
     "name": "stdout",
     "output_type": "stream",
     "text": [
      "✅ Hanging Man: 440/500\n",
      "📈 Fetching data for XOM\n"
     ]
    },
    {
     "name": "stderr",
     "output_type": "stream",
     "text": [
      "\n"
     ]
    },
    {
     "name": "stdout",
     "output_type": "stream",
     "text": [
      "✅ Shooting Star: 268/500\n"
     ]
    },
    {
     "name": "stderr",
     "output_type": "stream",
     "text": [
      "[*********************100%***********************]  1 of 1 completed"
     ]
    },
    {
     "name": "stdout",
     "output_type": "stream",
     "text": [
      "📈 Fetching data for CVX\n"
     ]
    },
    {
     "name": "stderr",
     "output_type": "stream",
     "text": [
      "\n"
     ]
    },
    {
     "name": "stdout",
     "output_type": "stream",
     "text": [
      "✅ Evening Star: 149/500\n",
      "📈 Fetching data for BA\n"
     ]
    },
    {
     "name": "stderr",
     "output_type": "stream",
     "text": [
      "[*********************100%***********************]  1 of 1 completed\n"
     ]
    },
    {
     "name": "stdout",
     "output_type": "stream",
     "text": [
      "✅ Descending Triangle: 295/500\n",
      "✅ Descending Triangle: 296/500\n"
     ]
    },
    {
     "name": "stderr",
     "output_type": "stream",
     "text": [
      "[*********************100%***********************]  1 of 1 completed"
     ]
    },
    {
     "name": "stdout",
     "output_type": "stream",
     "text": [
      "📈 Fetching data for CAT\n"
     ]
    },
    {
     "name": "stderr",
     "output_type": "stream",
     "text": [
      "\n"
     ]
    },
    {
     "name": "stdout",
     "output_type": "stream",
     "text": [
      "✅ Hammer: 269/500\n",
      "✅ Hammer: 270/500\n",
      "✅ Hammer: 271/500\n",
      "✅ Hammer: 272/500\n",
      "✅ Hammer: 273/500\n",
      "✅ Hammer: 274/500\n"
     ]
    },
    {
     "name": "stderr",
     "output_type": "stream",
     "text": [
      "[*********************100%***********************]  1 of 1 completed"
     ]
    },
    {
     "name": "stdout",
     "output_type": "stream",
     "text": [
      "✅ Shooting Star: 269/500\n",
      "📈 Fetching data for DE\n"
     ]
    },
    {
     "name": "stderr",
     "output_type": "stream",
     "text": [
      "\n"
     ]
    },
    {
     "name": "stdout",
     "output_type": "stream",
     "text": [
      "✅ Shooting Star: 270/500\n",
      "✅ Shooting Star: 271/500\n",
      "✅ Shooting Star: 272/500\n",
      "📈 Fetching data for PFE\n"
     ]
    },
    {
     "name": "stderr",
     "output_type": "stream",
     "text": [
      "[*********************100%***********************]  1 of 1 completed\n"
     ]
    },
    {
     "name": "stdout",
     "output_type": "stream",
     "text": [
      "✅ Shooting Star: 273/500\n",
      "✅ Hanging Man: 441/500\n",
      "✅ Hanging Man: 442/500\n",
      "✅ Hanging Man: 443/500\n",
      "✅ Hanging Man: 444/500\n"
     ]
    },
    {
     "name": "stderr",
     "output_type": "stream",
     "text": [
      "[*********************100%***********************]  1 of 1 completed"
     ]
    },
    {
     "name": "stdout",
     "output_type": "stream",
     "text": [
      "📈 Fetching data for JNJ\n"
     ]
    },
    {
     "name": "stderr",
     "output_type": "stream",
     "text": [
      "\n",
      "[*********************100%***********************]  1 of 1 completed"
     ]
    },
    {
     "name": "stdout",
     "output_type": "stream",
     "text": [
      "📈 Fetching data for MRK\n"
     ]
    },
    {
     "name": "stderr",
     "output_type": "stream",
     "text": [
      "\n",
      "[*********************100%***********************]  1 of 1 completed"
     ]
    },
    {
     "name": "stdout",
     "output_type": "stream",
     "text": [
      "📈 Fetching data for LLY\n"
     ]
    },
    {
     "name": "stderr",
     "output_type": "stream",
     "text": [
      "\n"
     ]
    },
    {
     "name": "stdout",
     "output_type": "stream",
     "text": [
      "✅ Hanging Man: 445/500\n",
      "✅ Hanging Man: 446/500\n",
      "✅ Hanging Man: 447/500\n"
     ]
    },
    {
     "name": "stderr",
     "output_type": "stream",
     "text": [
      "[*********************100%***********************]  1 of 1 completed"
     ]
    },
    {
     "name": "stdout",
     "output_type": "stream",
     "text": [
      "✅ Shooting Star: 274/500\n",
      "📈 Fetching data for PLTR\n"
     ]
    },
    {
     "name": "stderr",
     "output_type": "stream",
     "text": [
      "\n",
      "[*********************100%***********************]  1 of 1 completed"
     ]
    },
    {
     "name": "stdout",
     "output_type": "stream",
     "text": [
      "✅ Evening Star: 150/500\n",
      "📈 Fetching data for SNOW\n"
     ]
    },
    {
     "name": "stderr",
     "output_type": "stream",
     "text": [
      "\n",
      "[*********************100%***********************]  1 of 1 completed"
     ]
    },
    {
     "name": "stdout",
     "output_type": "stream",
     "text": [
      "✅ Descending Triangle: 297/500\n",
      "📈 Fetching data for SHOP\n"
     ]
    },
    {
     "name": "stderr",
     "output_type": "stream",
     "text": [
      "\n",
      "[*********************100%***********************]  1 of 1 completed"
     ]
    },
    {
     "name": "stdout",
     "output_type": "stream",
     "text": [
      "✅ Shooting Star: 275/500\n",
      "📈 Fetching data for RIVN\n"
     ]
    },
    {
     "name": "stderr",
     "output_type": "stream",
     "text": [
      "\n",
      "[*********************100%***********************]  1 of 1 completed"
     ]
    },
    {
     "name": "stdout",
     "output_type": "stream",
     "text": [
      "✅ Descending Triangle: 298/500\n",
      "📈 Fetching data for UBER\n"
     ]
    },
    {
     "name": "stderr",
     "output_type": "stream",
     "text": [
      "\n"
     ]
    },
    {
     "name": "stdout",
     "output_type": "stream",
     "text": [
      "✅ Descending Triangle: 299/500\n"
     ]
    },
    {
     "name": "stderr",
     "output_type": "stream",
     "text": [
      "[*********************100%***********************]  1 of 1 completed"
     ]
    },
    {
     "name": "stdout",
     "output_type": "stream",
     "text": [
      "✅ Hanging Man: 448/500\n",
      "📈 Fetching data for SPY\n"
     ]
    },
    {
     "name": "stderr",
     "output_type": "stream",
     "text": [
      "\n"
     ]
    },
    {
     "name": "stdout",
     "output_type": "stream",
     "text": [
      "✅ Hanging Man: 449/500\n"
     ]
    },
    {
     "name": "stderr",
     "output_type": "stream",
     "text": [
      "[*********************100%***********************]  1 of 1 completed"
     ]
    },
    {
     "name": "stdout",
     "output_type": "stream",
     "text": [
      "📈 Fetching data for QQQ\n"
     ]
    },
    {
     "name": "stderr",
     "output_type": "stream",
     "text": [
      "\n"
     ]
    },
    {
     "name": "stdout",
     "output_type": "stream",
     "text": [
      "✅ Hanging Man: 450/500\n",
      "✅ Hammer: 275/500\n",
      "✅ Descending Triangle: 300/500\n"
     ]
    },
    {
     "name": "stderr",
     "output_type": "stream",
     "text": [
      "[*********************100%***********************]  1 of 1 completed"
     ]
    },
    {
     "name": "stdout",
     "output_type": "stream",
     "text": [
      "🔁 Pass 26 over symbols...\n",
      "📈 Fetching data for AAPL\n"
     ]
    },
    {
     "name": "stderr",
     "output_type": "stream",
     "text": [
      "\n"
     ]
    },
    {
     "name": "stdout",
     "output_type": "stream",
     "text": [
      "✅ Hammer: 276/500\n",
      "✅ Descending Triangle: 301/500\n",
      "✅ Hanging Man: 451/500\n"
     ]
    },
    {
     "name": "stderr",
     "output_type": "stream",
     "text": [
      "[*********************100%***********************]  1 of 1 completed"
     ]
    },
    {
     "name": "stdout",
     "output_type": "stream",
     "text": [
      "📈 Fetching data for MSFT\n"
     ]
    },
    {
     "name": "stderr",
     "output_type": "stream",
     "text": [
      "\n"
     ]
    },
    {
     "name": "stdout",
     "output_type": "stream",
     "text": [
      "✅ Hammer: 277/500\n",
      "✅ Hammer: 278/500\n"
     ]
    },
    {
     "name": "stderr",
     "output_type": "stream",
     "text": [
      "[*********************100%***********************]  1 of 1 completed"
     ]
    },
    {
     "name": "stdout",
     "output_type": "stream",
     "text": [
      "📈 Fetching data for GOOGL\n"
     ]
    },
    {
     "name": "stderr",
     "output_type": "stream",
     "text": [
      "\n",
      "[*********************100%***********************]  1 of 1 completed"
     ]
    },
    {
     "name": "stdout",
     "output_type": "stream",
     "text": [
      "📈 Fetching data for AMZN\n"
     ]
    },
    {
     "name": "stderr",
     "output_type": "stream",
     "text": [
      "\n"
     ]
    },
    {
     "name": "stdout",
     "output_type": "stream",
     "text": [
      "✅ Descending Triangle: 302/500\n",
      "✅ Descending Triangle: 303/500\n"
     ]
    },
    {
     "name": "stderr",
     "output_type": "stream",
     "text": [
      "[*********************100%***********************]  1 of 1 completed"
     ]
    },
    {
     "name": "stdout",
     "output_type": "stream",
     "text": [
      "✅ Hammer: 279/500\n",
      "📈 Fetching data for META\n"
     ]
    },
    {
     "name": "stderr",
     "output_type": "stream",
     "text": [
      "\n"
     ]
    },
    {
     "name": "stdout",
     "output_type": "stream",
     "text": [
      "✅ Hanging Man: 452/500\n",
      "📈 Fetching data for NVDA\n"
     ]
    },
    {
     "name": "stderr",
     "output_type": "stream",
     "text": [
      "[*********************100%***********************]  1 of 1 completed\n"
     ]
    },
    {
     "name": "stdout",
     "output_type": "stream",
     "text": [
      "✅ Shooting Star: 276/500\n",
      "✅ Hanging Man: 453/500\n"
     ]
    },
    {
     "name": "stderr",
     "output_type": "stream",
     "text": [
      "[*********************100%***********************]  1 of 1 completed"
     ]
    },
    {
     "name": "stdout",
     "output_type": "stream",
     "text": [
      "📈 Fetching data for TSLA\n"
     ]
    },
    {
     "name": "stderr",
     "output_type": "stream",
     "text": [
      "\n"
     ]
    },
    {
     "name": "stdout",
     "output_type": "stream",
     "text": [
      "✅ Descending Triangle: 304/500\n",
      "✅ Shooting Star: 277/500\n"
     ]
    },
    {
     "name": "stderr",
     "output_type": "stream",
     "text": [
      "[*********************100%***********************]  1 of 1 completed"
     ]
    },
    {
     "name": "stdout",
     "output_type": "stream",
     "text": [
      "📈 Fetching data for NFLX\n"
     ]
    },
    {
     "name": "stderr",
     "output_type": "stream",
     "text": [
      "\n"
     ]
    },
    {
     "name": "stdout",
     "output_type": "stream",
     "text": [
      "✅ Evening Star: 151/500\n",
      "✅ Evening Star: 152/500\n"
     ]
    },
    {
     "name": "stderr",
     "output_type": "stream",
     "text": [
      "[*********************100%***********************]  1 of 1 completed"
     ]
    },
    {
     "name": "stdout",
     "output_type": "stream",
     "text": [
      "📈 Fetching data for JPM\n"
     ]
    },
    {
     "name": "stderr",
     "output_type": "stream",
     "text": [
      "\n"
     ]
    },
    {
     "name": "stdout",
     "output_type": "stream",
     "text": [
      "✅ Evening Star: 153/500\n",
      "✅ Evening Star: 154/500\n",
      "✅ Shooting Star: 278/500\n"
     ]
    },
    {
     "name": "stderr",
     "output_type": "stream",
     "text": [
      "[*********************100%***********************]  1 of 1 completed"
     ]
    },
    {
     "name": "stdout",
     "output_type": "stream",
     "text": [
      "📈 Fetching data for BAC\n"
     ]
    },
    {
     "name": "stderr",
     "output_type": "stream",
     "text": [
      "\n",
      "[*********************100%***********************]  1 of 1 completed"
     ]
    },
    {
     "name": "stdout",
     "output_type": "stream",
     "text": [
      "📈 Fetching data for V\n"
     ]
    },
    {
     "name": "stderr",
     "output_type": "stream",
     "text": [
      "\n",
      "[*********************100%***********************]  1 of 1 completed"
     ]
    },
    {
     "name": "stdout",
     "output_type": "stream",
     "text": [
      "✅ Inverted Hammer: 26/500\n",
      "📈 Fetching data for MA\n"
     ]
    },
    {
     "name": "stderr",
     "output_type": "stream",
     "text": [
      "\n",
      "[*********************100%***********************]  1 of 1 completed"
     ]
    },
    {
     "name": "stdout",
     "output_type": "stream",
     "text": [
      "📈 Fetching data for SOFI\n"
     ]
    },
    {
     "name": "stderr",
     "output_type": "stream",
     "text": [
      "\n",
      "[*********************100%***********************]  1 of 1 completed"
     ]
    },
    {
     "name": "stdout",
     "output_type": "stream",
     "text": [
      "📈 Fetching data for COIN\n"
     ]
    },
    {
     "name": "stderr",
     "output_type": "stream",
     "text": [
      "\n"
     ]
    },
    {
     "name": "stdout",
     "output_type": "stream",
     "text": [
      "✅ Descending Triangle: 305/500\n",
      "✅ Descending Triangle: 306/500\n",
      "✅ Hanging Man: 454/500\n",
      "✅ Hanging Man: 455/500\n",
      "✅ Hanging Man: 456/500\n",
      "✅ Hanging Man: 457/500\n"
     ]
    },
    {
     "name": "stderr",
     "output_type": "stream",
     "text": [
      "[*********************100%***********************]  1 of 1 completed"
     ]
    },
    {
     "name": "stdout",
     "output_type": "stream",
     "text": [
      "✅ Hanging Man: 458/500\n",
      "📈 Fetching data for XOM\n"
     ]
    },
    {
     "name": "stderr",
     "output_type": "stream",
     "text": [
      "\n"
     ]
    },
    {
     "name": "stdout",
     "output_type": "stream",
     "text": [
      "✅ Shooting Star: 279/500\n",
      "📈 Fetching data for CVX\n"
     ]
    },
    {
     "name": "stderr",
     "output_type": "stream",
     "text": [
      "[*********************100%***********************]  1 of 1 completed\n"
     ]
    },
    {
     "name": "stdout",
     "output_type": "stream",
     "text": [
      "✅ Evening Star: 155/500\n",
      "📈 Fetching data for BA\n"
     ]
    },
    {
     "name": "stderr",
     "output_type": "stream",
     "text": [
      "[*********************100%***********************]  1 of 1 completed\n"
     ]
    },
    {
     "name": "stdout",
     "output_type": "stream",
     "text": [
      "✅ Descending Triangle: 307/500\n",
      "✅ Descending Triangle: 308/500\n"
     ]
    },
    {
     "name": "stderr",
     "output_type": "stream",
     "text": [
      "[*********************100%***********************]  1 of 1 completed"
     ]
    },
    {
     "name": "stdout",
     "output_type": "stream",
     "text": [
      "📈 Fetching data for CAT\n"
     ]
    },
    {
     "name": "stderr",
     "output_type": "stream",
     "text": [
      "\n"
     ]
    },
    {
     "name": "stdout",
     "output_type": "stream",
     "text": [
      "✅ Hammer: 280/500\n",
      "✅ Hammer: 281/500\n",
      "✅ Hammer: 282/500\n",
      "✅ Hammer: 283/500\n",
      "✅ Hammer: 284/500\n",
      "✅ Hammer: 285/500\n"
     ]
    },
    {
     "name": "stderr",
     "output_type": "stream",
     "text": [
      "[*********************100%***********************]  1 of 1 completed"
     ]
    },
    {
     "name": "stdout",
     "output_type": "stream",
     "text": [
      "✅ Shooting Star: 280/500\n",
      "📈 Fetching data for DE\n"
     ]
    },
    {
     "name": "stderr",
     "output_type": "stream",
     "text": [
      "\n"
     ]
    },
    {
     "name": "stdout",
     "output_type": "stream",
     "text": [
      "✅ Shooting Star: 281/500\n",
      "✅ Shooting Star: 282/500\n",
      "✅ Shooting Star: 283/500\n"
     ]
    },
    {
     "name": "stderr",
     "output_type": "stream",
     "text": [
      "[*********************100%***********************]  1 of 1 completed"
     ]
    },
    {
     "name": "stdout",
     "output_type": "stream",
     "text": [
      "📈 Fetching data for PFE\n"
     ]
    },
    {
     "name": "stderr",
     "output_type": "stream",
     "text": [
      "\n"
     ]
    },
    {
     "name": "stdout",
     "output_type": "stream",
     "text": [
      "✅ Shooting Star: 284/500\n",
      "✅ Hanging Man: 459/500\n",
      "✅ Hanging Man: 460/500\n",
      "✅ Hanging Man: 461/500\n",
      "✅ Hanging Man: 462/500\n"
     ]
    },
    {
     "name": "stderr",
     "output_type": "stream",
     "text": [
      "[*********************100%***********************]  1 of 1 completed"
     ]
    },
    {
     "name": "stdout",
     "output_type": "stream",
     "text": [
      "📈 Fetching data for JNJ\n"
     ]
    },
    {
     "name": "stderr",
     "output_type": "stream",
     "text": [
      "\n",
      "[*********************100%***********************]  1 of 1 completed"
     ]
    },
    {
     "name": "stdout",
     "output_type": "stream",
     "text": [
      "📈 Fetching data for MRK\n"
     ]
    },
    {
     "name": "stderr",
     "output_type": "stream",
     "text": [
      "\n",
      "[*********************100%***********************]  1 of 1 completed"
     ]
    },
    {
     "name": "stdout",
     "output_type": "stream",
     "text": [
      "📈 Fetching data for LLY\n"
     ]
    },
    {
     "name": "stderr",
     "output_type": "stream",
     "text": [
      "\n"
     ]
    },
    {
     "name": "stdout",
     "output_type": "stream",
     "text": [
      "✅ Hanging Man: 463/500\n",
      "✅ Hanging Man: 464/500\n",
      "✅ Hanging Man: 465/500\n",
      "✅ Shooting Star: 285/500\n"
     ]
    },
    {
     "name": "stderr",
     "output_type": "stream",
     "text": [
      "[*********************100%***********************]  1 of 1 completed"
     ]
    },
    {
     "name": "stdout",
     "output_type": "stream",
     "text": [
      "📈 Fetching data for PLTR\n"
     ]
    },
    {
     "name": "stderr",
     "output_type": "stream",
     "text": [
      "\n",
      "[*********************100%***********************]  1 of 1 completed"
     ]
    },
    {
     "name": "stdout",
     "output_type": "stream",
     "text": [
      "✅ Evening Star: 156/500\n",
      "📈 Fetching data for SNOW\n"
     ]
    },
    {
     "name": "stderr",
     "output_type": "stream",
     "text": [
      "\n",
      "[*********************100%***********************]  1 of 1 completed"
     ]
    },
    {
     "name": "stdout",
     "output_type": "stream",
     "text": [
      "✅ Descending Triangle: 309/500\n",
      "📈 Fetching data for SHOP\n"
     ]
    },
    {
     "name": "stderr",
     "output_type": "stream",
     "text": [
      "\n",
      "[*********************100%***********************]  1 of 1 completed"
     ]
    },
    {
     "name": "stdout",
     "output_type": "stream",
     "text": [
      "✅ Shooting Star: 286/500\n",
      "📈 Fetching data for RIVN\n"
     ]
    },
    {
     "name": "stderr",
     "output_type": "stream",
     "text": [
      "\n",
      "[*********************100%***********************]  1 of 1 completed"
     ]
    },
    {
     "name": "stdout",
     "output_type": "stream",
     "text": [
      "✅ Descending Triangle: 310/500\n",
      "📈 Fetching data for UBER\n"
     ]
    },
    {
     "name": "stderr",
     "output_type": "stream",
     "text": [
      "\n"
     ]
    },
    {
     "name": "stdout",
     "output_type": "stream",
     "text": [
      "✅ Descending Triangle: 311/500\n"
     ]
    },
    {
     "name": "stderr",
     "output_type": "stream",
     "text": [
      "[*********************100%***********************]  1 of 1 completed"
     ]
    },
    {
     "name": "stdout",
     "output_type": "stream",
     "text": [
      "✅ Hanging Man: 466/500\n",
      "📈 Fetching data for SPY\n"
     ]
    },
    {
     "name": "stderr",
     "output_type": "stream",
     "text": [
      "\n"
     ]
    },
    {
     "name": "stdout",
     "output_type": "stream",
     "text": [
      "✅ Hanging Man: 467/500\n"
     ]
    },
    {
     "name": "stderr",
     "output_type": "stream",
     "text": [
      "[*********************100%***********************]  1 of 1 completed"
     ]
    },
    {
     "name": "stdout",
     "output_type": "stream",
     "text": [
      "📈 Fetching data for QQQ\n"
     ]
    },
    {
     "name": "stderr",
     "output_type": "stream",
     "text": [
      "\n"
     ]
    },
    {
     "name": "stdout",
     "output_type": "stream",
     "text": [
      "✅ Hanging Man: 468/500\n",
      "✅ Hammer: 286/500\n",
      "✅ Descending Triangle: 312/500\n"
     ]
    },
    {
     "name": "stderr",
     "output_type": "stream",
     "text": [
      "[*********************100%***********************]  1 of 1 completed"
     ]
    },
    {
     "name": "stdout",
     "output_type": "stream",
     "text": [
      "🔁 Pass 27 over symbols...\n",
      "📈 Fetching data for AAPL\n"
     ]
    },
    {
     "name": "stderr",
     "output_type": "stream",
     "text": [
      "\n"
     ]
    },
    {
     "name": "stdout",
     "output_type": "stream",
     "text": [
      "✅ Hammer: 287/500\n",
      "✅ Descending Triangle: 313/500\n",
      "✅ Hanging Man: 469/500\n"
     ]
    },
    {
     "name": "stderr",
     "output_type": "stream",
     "text": [
      "[*********************100%***********************]  1 of 1 completed"
     ]
    },
    {
     "name": "stdout",
     "output_type": "stream",
     "text": [
      "📈 Fetching data for MSFT\n"
     ]
    },
    {
     "name": "stderr",
     "output_type": "stream",
     "text": [
      "\n"
     ]
    },
    {
     "name": "stdout",
     "output_type": "stream",
     "text": [
      "✅ Hammer: 288/500\n",
      "✅ Hammer: 289/500\n"
     ]
    },
    {
     "name": "stderr",
     "output_type": "stream",
     "text": [
      "[*********************100%***********************]  1 of 1 completed"
     ]
    },
    {
     "name": "stdout",
     "output_type": "stream",
     "text": [
      "📈 Fetching data for GOOGL\n"
     ]
    },
    {
     "name": "stderr",
     "output_type": "stream",
     "text": [
      "\n",
      "[*********************100%***********************]  1 of 1 completed"
     ]
    },
    {
     "name": "stdout",
     "output_type": "stream",
     "text": [
      "📈 Fetching data for AMZN\n"
     ]
    },
    {
     "name": "stderr",
     "output_type": "stream",
     "text": [
      "\n"
     ]
    },
    {
     "name": "stdout",
     "output_type": "stream",
     "text": [
      "✅ Descending Triangle: 314/500\n",
      "✅ Descending Triangle: 315/500\n"
     ]
    },
    {
     "name": "stderr",
     "output_type": "stream",
     "text": [
      "[*********************100%***********************]  1 of 1 completed"
     ]
    },
    {
     "name": "stdout",
     "output_type": "stream",
     "text": [
      "✅ Hammer: 290/500\n",
      "📈 Fetching data for META\n"
     ]
    },
    {
     "name": "stderr",
     "output_type": "stream",
     "text": [
      "\n"
     ]
    },
    {
     "name": "stdout",
     "output_type": "stream",
     "text": [
      "✅ Hanging Man: 470/500\n",
      "📈 Fetching data for NVDA\n"
     ]
    },
    {
     "name": "stderr",
     "output_type": "stream",
     "text": [
      "[*********************100%***********************]  1 of 1 completed\n"
     ]
    },
    {
     "name": "stdout",
     "output_type": "stream",
     "text": [
      "✅ Shooting Star: 287/500\n",
      "✅ Hanging Man: 471/500\n"
     ]
    },
    {
     "name": "stderr",
     "output_type": "stream",
     "text": [
      "[*********************100%***********************]  1 of 1 completed"
     ]
    },
    {
     "name": "stdout",
     "output_type": "stream",
     "text": [
      "📈 Fetching data for TSLA\n"
     ]
    },
    {
     "name": "stderr",
     "output_type": "stream",
     "text": [
      "\n"
     ]
    },
    {
     "name": "stdout",
     "output_type": "stream",
     "text": [
      "✅ Descending Triangle: 316/500\n",
      "✅ Shooting Star: 288/500\n"
     ]
    },
    {
     "name": "stderr",
     "output_type": "stream",
     "text": [
      "[*********************100%***********************]  1 of 1 completed"
     ]
    },
    {
     "name": "stdout",
     "output_type": "stream",
     "text": [
      "📈 Fetching data for NFLX\n"
     ]
    },
    {
     "name": "stderr",
     "output_type": "stream",
     "text": [
      "\n"
     ]
    },
    {
     "name": "stdout",
     "output_type": "stream",
     "text": [
      "✅ Evening Star: 157/500\n",
      "✅ Evening Star: 158/500\n"
     ]
    },
    {
     "name": "stderr",
     "output_type": "stream",
     "text": [
      "[*********************100%***********************]  1 of 1 completed"
     ]
    },
    {
     "name": "stdout",
     "output_type": "stream",
     "text": [
      "📈 Fetching data for JPM\n"
     ]
    },
    {
     "name": "stderr",
     "output_type": "stream",
     "text": [
      "\n"
     ]
    },
    {
     "name": "stdout",
     "output_type": "stream",
     "text": [
      "✅ Evening Star: 159/500\n",
      "✅ Evening Star: 160/500\n",
      "✅ Shooting Star: 289/500\n"
     ]
    },
    {
     "name": "stderr",
     "output_type": "stream",
     "text": [
      "[*********************100%***********************]  1 of 1 completed"
     ]
    },
    {
     "name": "stdout",
     "output_type": "stream",
     "text": [
      "📈 Fetching data for BAC\n"
     ]
    },
    {
     "name": "stderr",
     "output_type": "stream",
     "text": [
      "\n",
      "[*********************100%***********************]  1 of 1 completed"
     ]
    },
    {
     "name": "stdout",
     "output_type": "stream",
     "text": [
      "📈 Fetching data for V\n"
     ]
    },
    {
     "name": "stderr",
     "output_type": "stream",
     "text": [
      "\n",
      "[*********************100%***********************]  1 of 1 completed"
     ]
    },
    {
     "name": "stdout",
     "output_type": "stream",
     "text": [
      "✅ Inverted Hammer: 27/500\n",
      "📈 Fetching data for MA\n"
     ]
    },
    {
     "name": "stderr",
     "output_type": "stream",
     "text": [
      "\n",
      "[*********************100%***********************]  1 of 1 completed"
     ]
    },
    {
     "name": "stdout",
     "output_type": "stream",
     "text": [
      "📈 Fetching data for SOFI\n"
     ]
    },
    {
     "name": "stderr",
     "output_type": "stream",
     "text": [
      "\n",
      "[*********************100%***********************]  1 of 1 completed"
     ]
    },
    {
     "name": "stdout",
     "output_type": "stream",
     "text": [
      "📈 Fetching data for COIN\n"
     ]
    },
    {
     "name": "stderr",
     "output_type": "stream",
     "text": [
      "\n"
     ]
    },
    {
     "name": "stdout",
     "output_type": "stream",
     "text": [
      "✅ Descending Triangle: 317/500\n",
      "✅ Descending Triangle: 318/500\n",
      "✅ Hanging Man: 472/500\n",
      "✅ Hanging Man: 473/500\n",
      "✅ Hanging Man: 474/500\n",
      "✅ Hanging Man: 475/500\n"
     ]
    },
    {
     "name": "stderr",
     "output_type": "stream",
     "text": [
      "[*********************100%***********************]  1 of 1 completed"
     ]
    },
    {
     "name": "stdout",
     "output_type": "stream",
     "text": [
      "✅ Hanging Man: 476/500\n",
      "📈 Fetching data for XOM\n"
     ]
    },
    {
     "name": "stderr",
     "output_type": "stream",
     "text": [
      "\n"
     ]
    },
    {
     "name": "stdout",
     "output_type": "stream",
     "text": [
      "✅ Shooting Star: 290/500\n",
      "📈 Fetching data for CVX\n"
     ]
    },
    {
     "name": "stderr",
     "output_type": "stream",
     "text": [
      "[*********************100%***********************]  1 of 1 completed\n"
     ]
    },
    {
     "name": "stdout",
     "output_type": "stream",
     "text": [
      "✅ Evening Star: 161/500\n"
     ]
    },
    {
     "name": "stderr",
     "output_type": "stream",
     "text": [
      "[*********************100%***********************]  1 of 1 completed"
     ]
    },
    {
     "name": "stdout",
     "output_type": "stream",
     "text": [
      "📈 Fetching data for BA\n"
     ]
    },
    {
     "name": "stderr",
     "output_type": "stream",
     "text": [
      "\n"
     ]
    },
    {
     "name": "stdout",
     "output_type": "stream",
     "text": [
      "✅ Descending Triangle: 319/500\n",
      "✅ Descending Triangle: 320/500\n"
     ]
    },
    {
     "name": "stderr",
     "output_type": "stream",
     "text": [
      "[*********************100%***********************]  1 of 1 completed"
     ]
    },
    {
     "name": "stdout",
     "output_type": "stream",
     "text": [
      "📈 Fetching data for CAT\n"
     ]
    },
    {
     "name": "stderr",
     "output_type": "stream",
     "text": [
      "\n"
     ]
    },
    {
     "name": "stdout",
     "output_type": "stream",
     "text": [
      "✅ Hammer: 291/500\n",
      "✅ Hammer: 292/500\n",
      "✅ Hammer: 293/500\n",
      "✅ Hammer: 294/500\n",
      "✅ Hammer: 295/500\n",
      "✅ Hammer: 296/500\n"
     ]
    },
    {
     "name": "stderr",
     "output_type": "stream",
     "text": [
      "[*********************100%***********************]  1 of 1 completed"
     ]
    },
    {
     "name": "stdout",
     "output_type": "stream",
     "text": [
      "✅ Shooting Star: 291/500\n",
      "📈 Fetching data for DE\n"
     ]
    },
    {
     "name": "stderr",
     "output_type": "stream",
     "text": [
      "\n"
     ]
    },
    {
     "name": "stdout",
     "output_type": "stream",
     "text": [
      "✅ Shooting Star: 292/500\n",
      "✅ Shooting Star: 293/500\n",
      "✅ Shooting Star: 294/500\n",
      "📈 Fetching data for PFE\n"
     ]
    },
    {
     "name": "stderr",
     "output_type": "stream",
     "text": [
      "[*********************100%***********************]  1 of 1 completed\n"
     ]
    },
    {
     "name": "stdout",
     "output_type": "stream",
     "text": [
      "✅ Shooting Star: 295/500\n",
      "✅ Hanging Man: 477/500\n",
      "✅ Hanging Man: 478/500\n",
      "✅ Hanging Man: 479/500\n",
      "✅ Hanging Man: 480/500\n"
     ]
    },
    {
     "name": "stderr",
     "output_type": "stream",
     "text": [
      "[*********************100%***********************]  1 of 1 completed"
     ]
    },
    {
     "name": "stdout",
     "output_type": "stream",
     "text": [
      "📈 Fetching data for JNJ\n"
     ]
    },
    {
     "name": "stderr",
     "output_type": "stream",
     "text": [
      "\n",
      "[*********************100%***********************]  1 of 1 completed"
     ]
    },
    {
     "name": "stdout",
     "output_type": "stream",
     "text": [
      "📈 Fetching data for MRK\n"
     ]
    },
    {
     "name": "stderr",
     "output_type": "stream",
     "text": [
      "\n",
      "[*********************100%***********************]  1 of 1 completed"
     ]
    },
    {
     "name": "stdout",
     "output_type": "stream",
     "text": [
      "📈 Fetching data for LLY\n"
     ]
    },
    {
     "name": "stderr",
     "output_type": "stream",
     "text": [
      "\n"
     ]
    },
    {
     "name": "stdout",
     "output_type": "stream",
     "text": [
      "✅ Hanging Man: 481/500\n",
      "✅ Hanging Man: 482/500\n",
      "✅ Hanging Man: 483/500\n"
     ]
    },
    {
     "name": "stderr",
     "output_type": "stream",
     "text": [
      "[*********************100%***********************]  1 of 1 completed"
     ]
    },
    {
     "name": "stdout",
     "output_type": "stream",
     "text": [
      "✅ Shooting Star: 296/500\n",
      "📈 Fetching data for PLTR\n"
     ]
    },
    {
     "name": "stderr",
     "output_type": "stream",
     "text": [
      "\n",
      "[*********************100%***********************]  1 of 1 completed"
     ]
    },
    {
     "name": "stdout",
     "output_type": "stream",
     "text": [
      "✅ Evening Star: 162/500\n",
      "📈 Fetching data for SNOW\n"
     ]
    },
    {
     "name": "stderr",
     "output_type": "stream",
     "text": [
      "\n",
      "[*********************100%***********************]  1 of 1 completed"
     ]
    },
    {
     "name": "stdout",
     "output_type": "stream",
     "text": [
      "✅ Descending Triangle: 321/500\n",
      "📈 Fetching data for SHOP\n"
     ]
    },
    {
     "name": "stderr",
     "output_type": "stream",
     "text": [
      "\n",
      "[*********************100%***********************]  1 of 1 completed"
     ]
    },
    {
     "name": "stdout",
     "output_type": "stream",
     "text": [
      "✅ Shooting Star: 297/500\n",
      "📈 Fetching data for RIVN\n"
     ]
    },
    {
     "name": "stderr",
     "output_type": "stream",
     "text": [
      "\n",
      "[*********************100%***********************]  1 of 1 completed"
     ]
    },
    {
     "name": "stdout",
     "output_type": "stream",
     "text": [
      "✅ Descending Triangle: 322/500\n",
      "📈 Fetching data for UBER\n"
     ]
    },
    {
     "name": "stderr",
     "output_type": "stream",
     "text": [
      "\n"
     ]
    },
    {
     "name": "stdout",
     "output_type": "stream",
     "text": [
      "✅ Descending Triangle: 323/500\n"
     ]
    },
    {
     "name": "stderr",
     "output_type": "stream",
     "text": [
      "[*********************100%***********************]  1 of 1 completed"
     ]
    },
    {
     "name": "stdout",
     "output_type": "stream",
     "text": [
      "✅ Hanging Man: 484/500\n",
      "📈 Fetching data for SPY\n"
     ]
    },
    {
     "name": "stderr",
     "output_type": "stream",
     "text": [
      "\n"
     ]
    },
    {
     "name": "stdout",
     "output_type": "stream",
     "text": [
      "✅ Hanging Man: 485/500\n"
     ]
    },
    {
     "name": "stderr",
     "output_type": "stream",
     "text": [
      "[*********************100%***********************]  1 of 1 completed"
     ]
    },
    {
     "name": "stdout",
     "output_type": "stream",
     "text": [
      "📈 Fetching data for QQQ\n"
     ]
    },
    {
     "name": "stderr",
     "output_type": "stream",
     "text": [
      "\n"
     ]
    },
    {
     "name": "stdout",
     "output_type": "stream",
     "text": [
      "✅ Hanging Man: 486/500\n",
      "✅ Hammer: 297/500\n",
      "✅ Descending Triangle: 324/500\n"
     ]
    },
    {
     "name": "stderr",
     "output_type": "stream",
     "text": [
      "[*********************100%***********************]  1 of 1 completed"
     ]
    },
    {
     "name": "stdout",
     "output_type": "stream",
     "text": [
      "🔁 Pass 28 over symbols...\n",
      "📈 Fetching data for AAPL\n"
     ]
    },
    {
     "name": "stderr",
     "output_type": "stream",
     "text": [
      "\n"
     ]
    },
    {
     "name": "stdout",
     "output_type": "stream",
     "text": [
      "✅ Hammer: 298/500\n",
      "✅ Descending Triangle: 325/500\n",
      "✅ Hanging Man: 487/500\n"
     ]
    },
    {
     "name": "stderr",
     "output_type": "stream",
     "text": [
      "[*********************100%***********************]  1 of 1 completed"
     ]
    },
    {
     "name": "stdout",
     "output_type": "stream",
     "text": [
      "📈 Fetching data for MSFT\n"
     ]
    },
    {
     "name": "stderr",
     "output_type": "stream",
     "text": [
      "\n"
     ]
    },
    {
     "name": "stdout",
     "output_type": "stream",
     "text": [
      "✅ Hammer: 299/500\n",
      "✅ Hammer: 300/500\n"
     ]
    },
    {
     "name": "stderr",
     "output_type": "stream",
     "text": [
      "[*********************100%***********************]  1 of 1 completed"
     ]
    },
    {
     "name": "stdout",
     "output_type": "stream",
     "text": [
      "📈 Fetching data for GOOGL\n"
     ]
    },
    {
     "name": "stderr",
     "output_type": "stream",
     "text": [
      "\n",
      "[*********************100%***********************]  1 of 1 completed"
     ]
    },
    {
     "name": "stdout",
     "output_type": "stream",
     "text": [
      "📈 Fetching data for AMZN\n"
     ]
    },
    {
     "name": "stderr",
     "output_type": "stream",
     "text": [
      "\n"
     ]
    },
    {
     "name": "stdout",
     "output_type": "stream",
     "text": [
      "✅ Descending Triangle: 326/500\n",
      "✅ Descending Triangle: 327/500\n"
     ]
    },
    {
     "name": "stderr",
     "output_type": "stream",
     "text": [
      "[*********************100%***********************]  1 of 1 completed"
     ]
    },
    {
     "name": "stdout",
     "output_type": "stream",
     "text": [
      "✅ Hammer: 301/500\n",
      "📈 Fetching data for META\n"
     ]
    },
    {
     "name": "stderr",
     "output_type": "stream",
     "text": [
      "\n"
     ]
    },
    {
     "name": "stdout",
     "output_type": "stream",
     "text": [
      "✅ Hanging Man: 488/500\n",
      "📈 Fetching data for NVDA\n"
     ]
    },
    {
     "name": "stderr",
     "output_type": "stream",
     "text": [
      "[*********************100%***********************]  1 of 1 completed\n"
     ]
    },
    {
     "name": "stdout",
     "output_type": "stream",
     "text": [
      "✅ Shooting Star: 298/500\n",
      "✅ Hanging Man: 489/500\n"
     ]
    },
    {
     "name": "stderr",
     "output_type": "stream",
     "text": [
      "[*********************100%***********************]  1 of 1 completed"
     ]
    },
    {
     "name": "stdout",
     "output_type": "stream",
     "text": [
      "📈 Fetching data for TSLA\n",
      "✅ Descending Triangle: 328/500\n"
     ]
    },
    {
     "name": "stderr",
     "output_type": "stream",
     "text": [
      "\n"
     ]
    },
    {
     "name": "stdout",
     "output_type": "stream",
     "text": [
      "✅ Shooting Star: 299/500\n"
     ]
    },
    {
     "name": "stderr",
     "output_type": "stream",
     "text": [
      "[*********************100%***********************]  1 of 1 completed"
     ]
    },
    {
     "name": "stdout",
     "output_type": "stream",
     "text": [
      "📈 Fetching data for NFLX\n"
     ]
    },
    {
     "name": "stderr",
     "output_type": "stream",
     "text": [
      "\n"
     ]
    },
    {
     "name": "stdout",
     "output_type": "stream",
     "text": [
      "✅ Evening Star: 163/500\n",
      "✅ Evening Star: 164/500\n"
     ]
    },
    {
     "name": "stderr",
     "output_type": "stream",
     "text": [
      "[*********************100%***********************]  1 of 1 completed"
     ]
    },
    {
     "name": "stdout",
     "output_type": "stream",
     "text": [
      "📈 Fetching data for JPM\n"
     ]
    },
    {
     "name": "stderr",
     "output_type": "stream",
     "text": [
      "\n"
     ]
    },
    {
     "name": "stdout",
     "output_type": "stream",
     "text": [
      "✅ Evening Star: 165/500\n",
      "✅ Evening Star: 166/500\n",
      "✅ Shooting Star: 300/500\n"
     ]
    },
    {
     "name": "stderr",
     "output_type": "stream",
     "text": [
      "[*********************100%***********************]  1 of 1 completed"
     ]
    },
    {
     "name": "stdout",
     "output_type": "stream",
     "text": [
      "📈 Fetching data for BAC\n"
     ]
    },
    {
     "name": "stderr",
     "output_type": "stream",
     "text": [
      "\n",
      "[*********************100%***********************]  1 of 1 completed"
     ]
    },
    {
     "name": "stdout",
     "output_type": "stream",
     "text": [
      "📈 Fetching data for V\n"
     ]
    },
    {
     "name": "stderr",
     "output_type": "stream",
     "text": [
      "\n",
      "[*********************100%***********************]  1 of 1 completed"
     ]
    },
    {
     "name": "stdout",
     "output_type": "stream",
     "text": [
      "✅ Inverted Hammer: 28/500\n",
      "📈 Fetching data for MA\n"
     ]
    },
    {
     "name": "stderr",
     "output_type": "stream",
     "text": [
      "\n",
      "[*********************100%***********************]  1 of 1 completed"
     ]
    },
    {
     "name": "stdout",
     "output_type": "stream",
     "text": [
      "📈 Fetching data for SOFI\n"
     ]
    },
    {
     "name": "stderr",
     "output_type": "stream",
     "text": [
      "\n",
      "[*********************100%***********************]  1 of 1 completed"
     ]
    },
    {
     "name": "stdout",
     "output_type": "stream",
     "text": [
      "📈 Fetching data for COIN\n"
     ]
    },
    {
     "name": "stderr",
     "output_type": "stream",
     "text": [
      "\n"
     ]
    },
    {
     "name": "stdout",
     "output_type": "stream",
     "text": [
      "✅ Descending Triangle: 329/500\n",
      "✅ Descending Triangle: 330/500\n",
      "✅ Hanging Man: 490/500\n",
      "✅ Hanging Man: 491/500\n",
      "✅ Hanging Man: 492/500\n",
      "✅ Hanging Man: 493/500\n",
      "✅ Hanging Man: 494/500\n",
      "📈 Fetching data for XOM\n"
     ]
    },
    {
     "name": "stderr",
     "output_type": "stream",
     "text": [
      "[*********************100%***********************]  1 of 1 completed\n"
     ]
    },
    {
     "name": "stdout",
     "output_type": "stream",
     "text": [
      "✅ Shooting Star: 301/500\n"
     ]
    },
    {
     "name": "stderr",
     "output_type": "stream",
     "text": [
      "[*********************100%***********************]  1 of 1 completed"
     ]
    },
    {
     "name": "stdout",
     "output_type": "stream",
     "text": [
      "📈 Fetching data for CVX\n"
     ]
    },
    {
     "name": "stderr",
     "output_type": "stream",
     "text": [
      "\n"
     ]
    },
    {
     "name": "stdout",
     "output_type": "stream",
     "text": [
      "✅ Evening Star: 167/500\n"
     ]
    },
    {
     "name": "stderr",
     "output_type": "stream",
     "text": [
      "[*********************100%***********************]  1 of 1 completed"
     ]
    },
    {
     "name": "stdout",
     "output_type": "stream",
     "text": [
      "📈 Fetching data for BA\n"
     ]
    },
    {
     "name": "stderr",
     "output_type": "stream",
     "text": [
      "\n"
     ]
    },
    {
     "name": "stdout",
     "output_type": "stream",
     "text": [
      "✅ Descending Triangle: 331/500\n",
      "✅ Descending Triangle: 332/500\n"
     ]
    },
    {
     "name": "stderr",
     "output_type": "stream",
     "text": [
      "[*********************100%***********************]  1 of 1 completed"
     ]
    },
    {
     "name": "stdout",
     "output_type": "stream",
     "text": [
      "📈 Fetching data for CAT\n"
     ]
    },
    {
     "name": "stderr",
     "output_type": "stream",
     "text": [
      "\n"
     ]
    },
    {
     "name": "stdout",
     "output_type": "stream",
     "text": [
      "✅ Hammer: 302/500\n",
      "✅ Hammer: 303/500\n",
      "✅ Hammer: 304/500\n",
      "✅ Hammer: 305/500\n",
      "✅ Hammer: 306/500\n",
      "✅ Hammer: 307/500\n"
     ]
    },
    {
     "name": "stderr",
     "output_type": "stream",
     "text": [
      "[*********************100%***********************]  1 of 1 completed"
     ]
    },
    {
     "name": "stdout",
     "output_type": "stream",
     "text": [
      "✅ Shooting Star: 302/500\n",
      "📈 Fetching data for DE\n"
     ]
    },
    {
     "name": "stderr",
     "output_type": "stream",
     "text": [
      "\n"
     ]
    },
    {
     "name": "stdout",
     "output_type": "stream",
     "text": [
      "✅ Shooting Star: 303/500\n",
      "✅ Shooting Star: 304/500\n",
      "✅ Shooting Star: 305/500\n",
      "📈 Fetching data for PFE\n"
     ]
    },
    {
     "name": "stderr",
     "output_type": "stream",
     "text": [
      "[*********************100%***********************]  1 of 1 completed\n"
     ]
    },
    {
     "name": "stdout",
     "output_type": "stream",
     "text": [
      "✅ Shooting Star: 306/500\n",
      "✅ Hanging Man: 495/500\n",
      "✅ Hanging Man: 496/500\n",
      "✅ Hanging Man: 497/500\n",
      "✅ Hanging Man: 498/500\n"
     ]
    },
    {
     "name": "stderr",
     "output_type": "stream",
     "text": [
      "[*********************100%***********************]  1 of 1 completed"
     ]
    },
    {
     "name": "stdout",
     "output_type": "stream",
     "text": [
      "📈 Fetching data for JNJ\n"
     ]
    },
    {
     "name": "stderr",
     "output_type": "stream",
     "text": [
      "\n",
      "[*********************100%***********************]  1 of 1 completed"
     ]
    },
    {
     "name": "stdout",
     "output_type": "stream",
     "text": [
      "📈 Fetching data for MRK\n"
     ]
    },
    {
     "name": "stderr",
     "output_type": "stream",
     "text": [
      "\n",
      "[*********************100%***********************]  1 of 1 completed"
     ]
    },
    {
     "name": "stdout",
     "output_type": "stream",
     "text": [
      "📈 Fetching data for LLY\n"
     ]
    },
    {
     "name": "stderr",
     "output_type": "stream",
     "text": [
      "\n"
     ]
    },
    {
     "name": "stdout",
     "output_type": "stream",
     "text": [
      "✅ Hanging Man: 499/500\n",
      "✅ Hanging Man: 500/500\n"
     ]
    },
    {
     "name": "stderr",
     "output_type": "stream",
     "text": [
      "[*********************100%***********************]  1 of 1 completed"
     ]
    },
    {
     "name": "stdout",
     "output_type": "stream",
     "text": [
      "✅ Shooting Star: 307/500\n",
      "📈 Fetching data for PLTR\n"
     ]
    },
    {
     "name": "stderr",
     "output_type": "stream",
     "text": [
      "\n",
      "[*********************100%***********************]  1 of 1 completed"
     ]
    },
    {
     "name": "stdout",
     "output_type": "stream",
     "text": [
      "✅ Evening Star: 168/500\n",
      "📈 Fetching data for SNOW\n"
     ]
    },
    {
     "name": "stderr",
     "output_type": "stream",
     "text": [
      "\n",
      "[*********************100%***********************]  1 of 1 completed"
     ]
    },
    {
     "name": "stdout",
     "output_type": "stream",
     "text": [
      "✅ Descending Triangle: 333/500\n",
      "📈 Fetching data for SHOP\n"
     ]
    },
    {
     "name": "stderr",
     "output_type": "stream",
     "text": [
      "\n",
      "[*********************100%***********************]  1 of 1 completed"
     ]
    },
    {
     "name": "stdout",
     "output_type": "stream",
     "text": [
      "✅ Shooting Star: 308/500\n",
      "📈 Fetching data for RIVN\n"
     ]
    },
    {
     "name": "stderr",
     "output_type": "stream",
     "text": [
      "\n",
      "[*********************100%***********************]  1 of 1 completed"
     ]
    },
    {
     "name": "stdout",
     "output_type": "stream",
     "text": [
      "✅ Descending Triangle: 334/500\n",
      "📈 Fetching data for UBER\n"
     ]
    },
    {
     "name": "stderr",
     "output_type": "stream",
     "text": [
      "\n"
     ]
    },
    {
     "name": "stdout",
     "output_type": "stream",
     "text": [
      "✅ Descending Triangle: 335/500\n",
      "📈 Fetching data for SPY\n"
     ]
    },
    {
     "name": "stderr",
     "output_type": "stream",
     "text": [
      "[*********************100%***********************]  1 of 1 completed\n",
      "[*********************100%***********************]  1 of 1 completed"
     ]
    },
    {
     "name": "stdout",
     "output_type": "stream",
     "text": [
      "📈 Fetching data for QQQ\n"
     ]
    },
    {
     "name": "stderr",
     "output_type": "stream",
     "text": [
      "\n"
     ]
    },
    {
     "name": "stdout",
     "output_type": "stream",
     "text": [
      "✅ Hammer: 308/500\n",
      "✅ Descending Triangle: 336/500\n"
     ]
    },
    {
     "name": "stderr",
     "output_type": "stream",
     "text": [
      "[*********************100%***********************]  1 of 1 completed"
     ]
    },
    {
     "name": "stdout",
     "output_type": "stream",
     "text": [
      "🔁 Pass 29 over symbols...\n",
      "📈 Fetching data for AAPL\n"
     ]
    },
    {
     "name": "stderr",
     "output_type": "stream",
     "text": [
      "\n"
     ]
    },
    {
     "name": "stdout",
     "output_type": "stream",
     "text": [
      "✅ Hammer: 309/500\n",
      "✅ Descending Triangle: 337/500\n"
     ]
    },
    {
     "name": "stderr",
     "output_type": "stream",
     "text": [
      "[*********************100%***********************]  1 of 1 completed"
     ]
    },
    {
     "name": "stdout",
     "output_type": "stream",
     "text": [
      "📈 Fetching data for MSFT\n"
     ]
    },
    {
     "name": "stderr",
     "output_type": "stream",
     "text": [
      "\n"
     ]
    },
    {
     "name": "stdout",
     "output_type": "stream",
     "text": [
      "✅ Hammer: 310/500\n",
      "✅ Hammer: 311/500\n"
     ]
    },
    {
     "name": "stderr",
     "output_type": "stream",
     "text": [
      "[*********************100%***********************]  1 of 1 completed"
     ]
    },
    {
     "name": "stdout",
     "output_type": "stream",
     "text": [
      "📈 Fetching data for GOOGL\n"
     ]
    },
    {
     "name": "stderr",
     "output_type": "stream",
     "text": [
      "\n",
      "[*********************100%***********************]  1 of 1 completed"
     ]
    },
    {
     "name": "stdout",
     "output_type": "stream",
     "text": [
      "📈 Fetching data for AMZN\n"
     ]
    },
    {
     "name": "stderr",
     "output_type": "stream",
     "text": [
      "\n"
     ]
    },
    {
     "name": "stdout",
     "output_type": "stream",
     "text": [
      "✅ Descending Triangle: 338/500\n",
      "✅ Descending Triangle: 339/500\n"
     ]
    },
    {
     "name": "stderr",
     "output_type": "stream",
     "text": [
      "[*********************100%***********************]  1 of 1 completed"
     ]
    },
    {
     "name": "stdout",
     "output_type": "stream",
     "text": [
      "✅ Hammer: 312/500\n",
      "📈 Fetching data for META\n"
     ]
    },
    {
     "name": "stderr",
     "output_type": "stream",
     "text": [
      "\n"
     ]
    },
    {
     "name": "stdout",
     "output_type": "stream",
     "text": [
      "📈 Fetching data for NVDA\n"
     ]
    },
    {
     "name": "stderr",
     "output_type": "stream",
     "text": [
      "[*********************100%***********************]  1 of 1 completed\n"
     ]
    },
    {
     "name": "stdout",
     "output_type": "stream",
     "text": [
      "✅ Shooting Star: 309/500\n",
      "📈 Fetching data for TSLA\n"
     ]
    },
    {
     "name": "stderr",
     "output_type": "stream",
     "text": [
      "[*********************100%***********************]  1 of 1 completed\n"
     ]
    },
    {
     "name": "stdout",
     "output_type": "stream",
     "text": [
      "✅ Descending Triangle: 340/500\n",
      "✅ Shooting Star: 310/500\n"
     ]
    },
    {
     "name": "stderr",
     "output_type": "stream",
     "text": [
      "[*********************100%***********************]  1 of 1 completed"
     ]
    },
    {
     "name": "stdout",
     "output_type": "stream",
     "text": [
      "📈 Fetching data for NFLX\n"
     ]
    },
    {
     "name": "stderr",
     "output_type": "stream",
     "text": [
      "\n"
     ]
    },
    {
     "name": "stdout",
     "output_type": "stream",
     "text": [
      "✅ Evening Star: 169/500\n",
      "✅ Evening Star: 170/500\n"
     ]
    },
    {
     "name": "stderr",
     "output_type": "stream",
     "text": [
      "[*********************100%***********************]  1 of 1 completed"
     ]
    },
    {
     "name": "stdout",
     "output_type": "stream",
     "text": [
      "📈 Fetching data for JPM\n"
     ]
    },
    {
     "name": "stderr",
     "output_type": "stream",
     "text": [
      "\n"
     ]
    },
    {
     "name": "stdout",
     "output_type": "stream",
     "text": [
      "✅ Evening Star: 171/500\n",
      "✅ Evening Star: 172/500\n",
      "✅ Shooting Star: 311/500\n"
     ]
    },
    {
     "name": "stderr",
     "output_type": "stream",
     "text": [
      "[*********************100%***********************]  1 of 1 completed"
     ]
    },
    {
     "name": "stdout",
     "output_type": "stream",
     "text": [
      "📈 Fetching data for BAC\n"
     ]
    },
    {
     "name": "stderr",
     "output_type": "stream",
     "text": [
      "\n",
      "[*********************100%***********************]  1 of 1 completed"
     ]
    },
    {
     "name": "stdout",
     "output_type": "stream",
     "text": [
      "📈 Fetching data for V\n"
     ]
    },
    {
     "name": "stderr",
     "output_type": "stream",
     "text": [
      "\n",
      "[*********************100%***********************]  1 of 1 completed"
     ]
    },
    {
     "name": "stdout",
     "output_type": "stream",
     "text": [
      "✅ Inverted Hammer: 29/500\n",
      "📈 Fetching data for MA\n"
     ]
    },
    {
     "name": "stderr",
     "output_type": "stream",
     "text": [
      "\n",
      "[*********************100%***********************]  1 of 1 completed"
     ]
    },
    {
     "name": "stdout",
     "output_type": "stream",
     "text": [
      "📈 Fetching data for SOFI\n"
     ]
    },
    {
     "name": "stderr",
     "output_type": "stream",
     "text": [
      "\n",
      "[*********************100%***********************]  1 of 1 completed"
     ]
    },
    {
     "name": "stdout",
     "output_type": "stream",
     "text": [
      "📈 Fetching data for COIN\n"
     ]
    },
    {
     "name": "stderr",
     "output_type": "stream",
     "text": [
      "\n"
     ]
    },
    {
     "name": "stdout",
     "output_type": "stream",
     "text": [
      "✅ Descending Triangle: 341/500\n",
      "✅ Descending Triangle: 342/500\n"
     ]
    },
    {
     "name": "stderr",
     "output_type": "stream",
     "text": [
      "[*********************100%***********************]  1 of 1 completed"
     ]
    },
    {
     "name": "stdout",
     "output_type": "stream",
     "text": [
      "📈 Fetching data for XOM\n"
     ]
    },
    {
     "name": "stderr",
     "output_type": "stream",
     "text": [
      "\n"
     ]
    },
    {
     "name": "stdout",
     "output_type": "stream",
     "text": [
      "✅ Shooting Star: 312/500\n",
      "📈 Fetching data for CVX\n"
     ]
    },
    {
     "name": "stderr",
     "output_type": "stream",
     "text": [
      "[*********************100%***********************]  1 of 1 completed\n"
     ]
    },
    {
     "name": "stdout",
     "output_type": "stream",
     "text": [
      "✅ Evening Star: 173/500\n",
      "📈 Fetching data for BA\n"
     ]
    },
    {
     "name": "stderr",
     "output_type": "stream",
     "text": [
      "[*********************100%***********************]  1 of 1 completed\n"
     ]
    },
    {
     "name": "stdout",
     "output_type": "stream",
     "text": [
      "✅ Descending Triangle: 343/500\n",
      "✅ Descending Triangle: 344/500\n"
     ]
    },
    {
     "name": "stderr",
     "output_type": "stream",
     "text": [
      "[*********************100%***********************]  1 of 1 completed"
     ]
    },
    {
     "name": "stdout",
     "output_type": "stream",
     "text": [
      "📈 Fetching data for CAT\n"
     ]
    },
    {
     "name": "stderr",
     "output_type": "stream",
     "text": [
      "\n"
     ]
    },
    {
     "name": "stdout",
     "output_type": "stream",
     "text": [
      "✅ Hammer: 313/500\n",
      "✅ Hammer: 314/500\n",
      "✅ Hammer: 315/500\n",
      "✅ Hammer: 316/500\n",
      "✅ Hammer: 317/500\n",
      "✅ Hammer: 318/500\n"
     ]
    },
    {
     "name": "stderr",
     "output_type": "stream",
     "text": [
      "[*********************100%***********************]  1 of 1 completed"
     ]
    },
    {
     "name": "stdout",
     "output_type": "stream",
     "text": [
      "✅ Shooting Star: 313/500\n",
      "📈 Fetching data for DE\n"
     ]
    },
    {
     "name": "stderr",
     "output_type": "stream",
     "text": [
      "\n"
     ]
    },
    {
     "name": "stdout",
     "output_type": "stream",
     "text": [
      "✅ Shooting Star: 314/500\n",
      "✅ Shooting Star: 315/500\n",
      "✅ Shooting Star: 316/500\n",
      "📈 Fetching data for PFE\n"
     ]
    },
    {
     "name": "stderr",
     "output_type": "stream",
     "text": [
      "[*********************100%***********************]  1 of 1 completed\n"
     ]
    },
    {
     "name": "stdout",
     "output_type": "stream",
     "text": [
      "✅ Shooting Star: 317/500\n"
     ]
    },
    {
     "name": "stderr",
     "output_type": "stream",
     "text": [
      "[*********************100%***********************]  1 of 1 completed"
     ]
    },
    {
     "name": "stdout",
     "output_type": "stream",
     "text": [
      "📈 Fetching data for JNJ\n"
     ]
    },
    {
     "name": "stderr",
     "output_type": "stream",
     "text": [
      "\n",
      "[*********************100%***********************]  1 of 1 completed"
     ]
    },
    {
     "name": "stdout",
     "output_type": "stream",
     "text": [
      "📈 Fetching data for MRK\n"
     ]
    },
    {
     "name": "stderr",
     "output_type": "stream",
     "text": [
      "\n",
      "[*********************100%***********************]  1 of 1 completed"
     ]
    },
    {
     "name": "stdout",
     "output_type": "stream",
     "text": [
      "📈 Fetching data for LLY\n"
     ]
    },
    {
     "name": "stderr",
     "output_type": "stream",
     "text": [
      "\n",
      "[*********************100%***********************]  1 of 1 completed"
     ]
    },
    {
     "name": "stdout",
     "output_type": "stream",
     "text": [
      "✅ Shooting Star: 318/500\n",
      "📈 Fetching data for PLTR\n"
     ]
    },
    {
     "name": "stderr",
     "output_type": "stream",
     "text": [
      "\n",
      "[*********************100%***********************]  1 of 1 completed"
     ]
    },
    {
     "name": "stdout",
     "output_type": "stream",
     "text": [
      "✅ Evening Star: 174/500\n",
      "📈 Fetching data for SNOW\n"
     ]
    },
    {
     "name": "stderr",
     "output_type": "stream",
     "text": [
      "\n",
      "[*********************100%***********************]  1 of 1 completed"
     ]
    },
    {
     "name": "stdout",
     "output_type": "stream",
     "text": [
      "✅ Descending Triangle: 345/500\n",
      "📈 Fetching data for SHOP\n"
     ]
    },
    {
     "name": "stderr",
     "output_type": "stream",
     "text": [
      "\n",
      "[*********************100%***********************]  1 of 1 completed"
     ]
    },
    {
     "name": "stdout",
     "output_type": "stream",
     "text": [
      "✅ Shooting Star: 319/500\n",
      "📈 Fetching data for RIVN\n"
     ]
    },
    {
     "name": "stderr",
     "output_type": "stream",
     "text": [
      "\n",
      "[*********************100%***********************]  1 of 1 completed"
     ]
    },
    {
     "name": "stdout",
     "output_type": "stream",
     "text": [
      "✅ Descending Triangle: 346/500\n",
      "📈 Fetching data for UBER\n"
     ]
    },
    {
     "name": "stderr",
     "output_type": "stream",
     "text": [
      "\n"
     ]
    },
    {
     "name": "stdout",
     "output_type": "stream",
     "text": [
      "✅ Descending Triangle: 347/500\n",
      "📈 Fetching data for SPY\n"
     ]
    },
    {
     "name": "stderr",
     "output_type": "stream",
     "text": [
      "[*********************100%***********************]  1 of 1 completed\n",
      "[*********************100%***********************]  1 of 1 completed"
     ]
    },
    {
     "name": "stdout",
     "output_type": "stream",
     "text": [
      "📈 Fetching data for QQQ\n"
     ]
    },
    {
     "name": "stderr",
     "output_type": "stream",
     "text": [
      "\n"
     ]
    },
    {
     "name": "stdout",
     "output_type": "stream",
     "text": [
      "✅ Hammer: 319/500\n",
      "✅ Descending Triangle: 348/500\n"
     ]
    },
    {
     "name": "stderr",
     "output_type": "stream",
     "text": [
      "[*********************100%***********************]  1 of 1 completed"
     ]
    },
    {
     "name": "stdout",
     "output_type": "stream",
     "text": [
      "🔁 Pass 30 over symbols...\n",
      "📈 Fetching data for AAPL\n"
     ]
    },
    {
     "name": "stderr",
     "output_type": "stream",
     "text": [
      "\n"
     ]
    },
    {
     "name": "stdout",
     "output_type": "stream",
     "text": [
      "✅ Hammer: 320/500\n",
      "✅ Descending Triangle: 349/500\n"
     ]
    },
    {
     "name": "stderr",
     "output_type": "stream",
     "text": [
      "[*********************100%***********************]  1 of 1 completed"
     ]
    },
    {
     "name": "stdout",
     "output_type": "stream",
     "text": [
      "📈 Fetching data for MSFT\n"
     ]
    },
    {
     "name": "stderr",
     "output_type": "stream",
     "text": [
      "\n"
     ]
    },
    {
     "name": "stdout",
     "output_type": "stream",
     "text": [
      "✅ Hammer: 321/500\n",
      "✅ Hammer: 322/500\n"
     ]
    },
    {
     "name": "stderr",
     "output_type": "stream",
     "text": [
      "[*********************100%***********************]  1 of 1 completed"
     ]
    },
    {
     "name": "stdout",
     "output_type": "stream",
     "text": [
      "📈 Fetching data for GOOGL\n"
     ]
    },
    {
     "name": "stderr",
     "output_type": "stream",
     "text": [
      "\n",
      "[*********************100%***********************]  1 of 1 completed"
     ]
    },
    {
     "name": "stdout",
     "output_type": "stream",
     "text": [
      "📈 Fetching data for AMZN\n"
     ]
    },
    {
     "name": "stderr",
     "output_type": "stream",
     "text": [
      "\n"
     ]
    },
    {
     "name": "stdout",
     "output_type": "stream",
     "text": [
      "✅ Descending Triangle: 350/500\n",
      "✅ Descending Triangle: 351/500\n"
     ]
    },
    {
     "name": "stderr",
     "output_type": "stream",
     "text": [
      "[*********************100%***********************]  1 of 1 completed"
     ]
    },
    {
     "name": "stdout",
     "output_type": "stream",
     "text": [
      "✅ Hammer: 323/500\n",
      "📈 Fetching data for META\n"
     ]
    },
    {
     "name": "stderr",
     "output_type": "stream",
     "text": [
      "\n"
     ]
    },
    {
     "name": "stdout",
     "output_type": "stream",
     "text": [
      "📈 Fetching data for NVDA\n"
     ]
    },
    {
     "name": "stderr",
     "output_type": "stream",
     "text": [
      "[*********************100%***********************]  1 of 1 completed\n",
      "[*********************100%***********************]  1 of 1 completed"
     ]
    },
    {
     "name": "stdout",
     "output_type": "stream",
     "text": [
      "✅ Shooting Star: 320/500\n",
      "📈 Fetching data for TSLA\n"
     ]
    },
    {
     "name": "stderr",
     "output_type": "stream",
     "text": [
      "\n"
     ]
    },
    {
     "name": "stdout",
     "output_type": "stream",
     "text": [
      "✅ Descending Triangle: 352/500\n",
      "✅ Shooting Star: 321/500\n"
     ]
    },
    {
     "name": "stderr",
     "output_type": "stream",
     "text": [
      "[*********************100%***********************]  1 of 1 completed"
     ]
    },
    {
     "name": "stdout",
     "output_type": "stream",
     "text": [
      "📈 Fetching data for NFLX\n"
     ]
    },
    {
     "name": "stderr",
     "output_type": "stream",
     "text": [
      "\n"
     ]
    },
    {
     "name": "stdout",
     "output_type": "stream",
     "text": [
      "✅ Evening Star: 175/500\n",
      "✅ Evening Star: 176/500\n"
     ]
    },
    {
     "name": "stderr",
     "output_type": "stream",
     "text": [
      "[*********************100%***********************]  1 of 1 completed"
     ]
    },
    {
     "name": "stdout",
     "output_type": "stream",
     "text": [
      "📈 Fetching data for JPM\n"
     ]
    },
    {
     "name": "stderr",
     "output_type": "stream",
     "text": [
      "\n"
     ]
    },
    {
     "name": "stdout",
     "output_type": "stream",
     "text": [
      "✅ Evening Star: 177/500\n",
      "✅ Evening Star: 178/500\n",
      "✅ Shooting Star: 322/500\n"
     ]
    },
    {
     "name": "stderr",
     "output_type": "stream",
     "text": [
      "[*********************100%***********************]  1 of 1 completed"
     ]
    },
    {
     "name": "stdout",
     "output_type": "stream",
     "text": [
      "📈 Fetching data for BAC\n"
     ]
    },
    {
     "name": "stderr",
     "output_type": "stream",
     "text": [
      "\n",
      "[*********************100%***********************]  1 of 1 completed"
     ]
    },
    {
     "name": "stdout",
     "output_type": "stream",
     "text": [
      "📈 Fetching data for V\n"
     ]
    },
    {
     "name": "stderr",
     "output_type": "stream",
     "text": [
      "\n",
      "[*********************100%***********************]  1 of 1 completed"
     ]
    },
    {
     "name": "stdout",
     "output_type": "stream",
     "text": [
      "✅ Inverted Hammer: 30/500\n",
      "📈 Fetching data for MA\n"
     ]
    },
    {
     "name": "stderr",
     "output_type": "stream",
     "text": [
      "\n",
      "[*********************100%***********************]  1 of 1 completed"
     ]
    },
    {
     "name": "stdout",
     "output_type": "stream",
     "text": [
      "📈 Fetching data for SOFI\n"
     ]
    },
    {
     "name": "stderr",
     "output_type": "stream",
     "text": [
      "\n",
      "[*********************100%***********************]  1 of 1 completed"
     ]
    },
    {
     "name": "stdout",
     "output_type": "stream",
     "text": [
      "📈 Fetching data for COIN\n"
     ]
    },
    {
     "name": "stderr",
     "output_type": "stream",
     "text": [
      "\n"
     ]
    },
    {
     "name": "stdout",
     "output_type": "stream",
     "text": [
      "✅ Descending Triangle: 353/500\n",
      "✅ Descending Triangle: 354/500\n"
     ]
    },
    {
     "name": "stderr",
     "output_type": "stream",
     "text": [
      "[*********************100%***********************]  1 of 1 completed"
     ]
    },
    {
     "name": "stdout",
     "output_type": "stream",
     "text": [
      "📈 Fetching data for XOM\n"
     ]
    },
    {
     "name": "stderr",
     "output_type": "stream",
     "text": [
      "\n"
     ]
    },
    {
     "name": "stdout",
     "output_type": "stream",
     "text": [
      "✅ Shooting Star: 323/500\n"
     ]
    },
    {
     "name": "stderr",
     "output_type": "stream",
     "text": [
      "[*********************100%***********************]  1 of 1 completed"
     ]
    },
    {
     "name": "stdout",
     "output_type": "stream",
     "text": [
      "📈 Fetching data for CVX\n"
     ]
    },
    {
     "name": "stderr",
     "output_type": "stream",
     "text": [
      "\n"
     ]
    },
    {
     "name": "stdout",
     "output_type": "stream",
     "text": [
      "✅ Evening Star: 179/500\n",
      "📈 Fetching data for BA\n"
     ]
    },
    {
     "name": "stderr",
     "output_type": "stream",
     "text": [
      "[*********************100%***********************]  1 of 1 completed\n"
     ]
    },
    {
     "name": "stdout",
     "output_type": "stream",
     "text": [
      "✅ Descending Triangle: 355/500\n",
      "✅ Descending Triangle: 356/500\n"
     ]
    },
    {
     "name": "stderr",
     "output_type": "stream",
     "text": [
      "[*********************100%***********************]  1 of 1 completed"
     ]
    },
    {
     "name": "stdout",
     "output_type": "stream",
     "text": [
      "📈 Fetching data for CAT\n"
     ]
    },
    {
     "name": "stderr",
     "output_type": "stream",
     "text": [
      "\n"
     ]
    },
    {
     "name": "stdout",
     "output_type": "stream",
     "text": [
      "✅ Hammer: 324/500\n",
      "✅ Hammer: 325/500\n",
      "✅ Hammer: 326/500\n",
      "✅ Hammer: 327/500\n",
      "✅ Hammer: 328/500\n",
      "✅ Hammer: 329/500\n"
     ]
    },
    {
     "name": "stderr",
     "output_type": "stream",
     "text": [
      "[*********************100%***********************]  1 of 1 completed"
     ]
    },
    {
     "name": "stdout",
     "output_type": "stream",
     "text": [
      "✅ Shooting Star: 324/500\n",
      "📈 Fetching data for DE\n"
     ]
    },
    {
     "name": "stderr",
     "output_type": "stream",
     "text": [
      "\n"
     ]
    },
    {
     "name": "stdout",
     "output_type": "stream",
     "text": [
      "✅ Shooting Star: 325/500\n",
      "✅ Shooting Star: 326/500\n",
      "✅ Shooting Star: 327/500\n",
      "📈 Fetching data for PFE\n"
     ]
    },
    {
     "name": "stderr",
     "output_type": "stream",
     "text": [
      "[*********************100%***********************]  1 of 1 completed\n"
     ]
    },
    {
     "name": "stdout",
     "output_type": "stream",
     "text": [
      "✅ Shooting Star: 328/500\n"
     ]
    },
    {
     "name": "stderr",
     "output_type": "stream",
     "text": [
      "[*********************100%***********************]  1 of 1 completed"
     ]
    },
    {
     "name": "stdout",
     "output_type": "stream",
     "text": [
      "📈 Fetching data for JNJ\n"
     ]
    },
    {
     "name": "stderr",
     "output_type": "stream",
     "text": [
      "\n",
      "[*********************100%***********************]  1 of 1 completed"
     ]
    },
    {
     "name": "stdout",
     "output_type": "stream",
     "text": [
      "📈 Fetching data for MRK\n"
     ]
    },
    {
     "name": "stderr",
     "output_type": "stream",
     "text": [
      "\n",
      "[*********************100%***********************]  1 of 1 completed"
     ]
    },
    {
     "name": "stdout",
     "output_type": "stream",
     "text": [
      "📈 Fetching data for LLY\n"
     ]
    },
    {
     "name": "stderr",
     "output_type": "stream",
     "text": [
      "\n",
      "[*********************100%***********************]  1 of 1 completed"
     ]
    },
    {
     "name": "stdout",
     "output_type": "stream",
     "text": [
      "✅ Shooting Star: 329/500\n",
      "📈 Fetching data for PLTR\n"
     ]
    },
    {
     "name": "stderr",
     "output_type": "stream",
     "text": [
      "\n",
      "[*********************100%***********************]  1 of 1 completed"
     ]
    },
    {
     "name": "stdout",
     "output_type": "stream",
     "text": [
      "✅ Evening Star: 180/500\n",
      "📈 Fetching data for SNOW\n"
     ]
    },
    {
     "name": "stderr",
     "output_type": "stream",
     "text": [
      "\n",
      "[*********************100%***********************]  1 of 1 completed"
     ]
    },
    {
     "name": "stdout",
     "output_type": "stream",
     "text": [
      "✅ Descending Triangle: 357/500\n",
      "📈 Fetching data for SHOP\n"
     ]
    },
    {
     "name": "stderr",
     "output_type": "stream",
     "text": [
      "\n",
      "[*********************100%***********************]  1 of 1 completed"
     ]
    },
    {
     "name": "stdout",
     "output_type": "stream",
     "text": [
      "✅ Shooting Star: 330/500\n",
      "📈 Fetching data for RIVN\n"
     ]
    },
    {
     "name": "stderr",
     "output_type": "stream",
     "text": [
      "\n"
     ]
    },
    {
     "name": "stdout",
     "output_type": "stream",
     "text": [
      "✅ Descending Triangle: 358/500\n",
      "📈 Fetching data for UBER\n"
     ]
    },
    {
     "name": "stderr",
     "output_type": "stream",
     "text": [
      "[*********************100%***********************]  1 of 1 completed\n"
     ]
    },
    {
     "name": "stdout",
     "output_type": "stream",
     "text": [
      "✅ Descending Triangle: 359/500\n",
      "📈 Fetching data for SPY\n"
     ]
    },
    {
     "name": "stderr",
     "output_type": "stream",
     "text": [
      "[*********************100%***********************]  1 of 1 completed\n",
      "[*********************100%***********************]  1 of 1 completed"
     ]
    },
    {
     "name": "stdout",
     "output_type": "stream",
     "text": [
      "📈 Fetching data for QQQ\n"
     ]
    },
    {
     "name": "stderr",
     "output_type": "stream",
     "text": [
      "\n"
     ]
    },
    {
     "name": "stdout",
     "output_type": "stream",
     "text": [
      "✅ Hammer: 330/500\n",
      "✅ Descending Triangle: 360/500\n"
     ]
    },
    {
     "name": "stderr",
     "output_type": "stream",
     "text": [
      "[*********************100%***********************]  1 of 1 completed"
     ]
    },
    {
     "name": "stdout",
     "output_type": "stream",
     "text": [
      "🔁 Pass 31 over symbols...\n",
      "📈 Fetching data for AAPL\n"
     ]
    },
    {
     "name": "stderr",
     "output_type": "stream",
     "text": [
      "\n"
     ]
    },
    {
     "name": "stdout",
     "output_type": "stream",
     "text": [
      "✅ Hammer: 331/500\n",
      "✅ Descending Triangle: 361/500\n"
     ]
    },
    {
     "name": "stderr",
     "output_type": "stream",
     "text": [
      "[*********************100%***********************]  1 of 1 completed"
     ]
    },
    {
     "name": "stdout",
     "output_type": "stream",
     "text": [
      "📈 Fetching data for MSFT\n"
     ]
    },
    {
     "name": "stderr",
     "output_type": "stream",
     "text": [
      "\n"
     ]
    },
    {
     "name": "stdout",
     "output_type": "stream",
     "text": [
      "✅ Hammer: 332/500\n",
      "✅ Hammer: 333/500\n"
     ]
    },
    {
     "name": "stderr",
     "output_type": "stream",
     "text": [
      "[*********************100%***********************]  1 of 1 completed"
     ]
    },
    {
     "name": "stdout",
     "output_type": "stream",
     "text": [
      "📈 Fetching data for GOOGL\n"
     ]
    },
    {
     "name": "stderr",
     "output_type": "stream",
     "text": [
      "\n",
      "[*********************100%***********************]  1 of 1 completed"
     ]
    },
    {
     "name": "stdout",
     "output_type": "stream",
     "text": [
      "📈 Fetching data for AMZN\n"
     ]
    },
    {
     "name": "stderr",
     "output_type": "stream",
     "text": [
      "\n"
     ]
    },
    {
     "name": "stdout",
     "output_type": "stream",
     "text": [
      "✅ Descending Triangle: 362/500\n",
      "✅ Descending Triangle: 363/500\n"
     ]
    },
    {
     "name": "stderr",
     "output_type": "stream",
     "text": [
      "[*********************100%***********************]  1 of 1 completed"
     ]
    },
    {
     "name": "stdout",
     "output_type": "stream",
     "text": [
      "✅ Hammer: 334/500\n",
      "📈 Fetching data for META\n"
     ]
    },
    {
     "name": "stderr",
     "output_type": "stream",
     "text": [
      "\n"
     ]
    },
    {
     "name": "stdout",
     "output_type": "stream",
     "text": [
      "📈 Fetching data for NVDA\n"
     ]
    },
    {
     "name": "stderr",
     "output_type": "stream",
     "text": [
      "[*********************100%***********************]  1 of 1 completed\n",
      "[*********************100%***********************]  1 of 1 completed"
     ]
    },
    {
     "name": "stdout",
     "output_type": "stream",
     "text": [
      "✅ Shooting Star: 331/500\n",
      "📈 Fetching data for TSLA\n"
     ]
    },
    {
     "name": "stderr",
     "output_type": "stream",
     "text": [
      "\n"
     ]
    },
    {
     "name": "stdout",
     "output_type": "stream",
     "text": [
      "✅ Descending Triangle: 364/500\n",
      "✅ Shooting Star: 332/500\n"
     ]
    },
    {
     "name": "stderr",
     "output_type": "stream",
     "text": [
      "[*********************100%***********************]  1 of 1 completed"
     ]
    },
    {
     "name": "stdout",
     "output_type": "stream",
     "text": [
      "📈 Fetching data for NFLX\n"
     ]
    },
    {
     "name": "stderr",
     "output_type": "stream",
     "text": [
      "\n"
     ]
    },
    {
     "name": "stdout",
     "output_type": "stream",
     "text": [
      "✅ Evening Star: 181/500\n",
      "✅ Evening Star: 182/500\n"
     ]
    },
    {
     "name": "stderr",
     "output_type": "stream",
     "text": [
      "[*********************100%***********************]  1 of 1 completed"
     ]
    },
    {
     "name": "stdout",
     "output_type": "stream",
     "text": [
      "📈 Fetching data for JPM\n"
     ]
    },
    {
     "name": "stderr",
     "output_type": "stream",
     "text": [
      "\n"
     ]
    },
    {
     "name": "stdout",
     "output_type": "stream",
     "text": [
      "✅ Evening Star: 183/500\n",
      "✅ Evening Star: 184/500\n",
      "✅ Shooting Star: 333/500\n"
     ]
    },
    {
     "name": "stderr",
     "output_type": "stream",
     "text": [
      "[*********************100%***********************]  1 of 1 completed"
     ]
    },
    {
     "name": "stdout",
     "output_type": "stream",
     "text": [
      "📈 Fetching data for BAC\n"
     ]
    },
    {
     "name": "stderr",
     "output_type": "stream",
     "text": [
      "\n",
      "[*********************100%***********************]  1 of 1 completed"
     ]
    },
    {
     "name": "stdout",
     "output_type": "stream",
     "text": [
      "📈 Fetching data for V\n"
     ]
    },
    {
     "name": "stderr",
     "output_type": "stream",
     "text": [
      "\n",
      "[*********************100%***********************]  1 of 1 completed"
     ]
    },
    {
     "name": "stdout",
     "output_type": "stream",
     "text": [
      "✅ Inverted Hammer: 31/500\n",
      "📈 Fetching data for MA\n"
     ]
    },
    {
     "name": "stderr",
     "output_type": "stream",
     "text": [
      "\n",
      "[*********************100%***********************]  1 of 1 completed"
     ]
    },
    {
     "name": "stdout",
     "output_type": "stream",
     "text": [
      "📈 Fetching data for SOFI\n"
     ]
    },
    {
     "name": "stderr",
     "output_type": "stream",
     "text": [
      "\n",
      "[*********************100%***********************]  1 of 1 completed"
     ]
    },
    {
     "name": "stdout",
     "output_type": "stream",
     "text": [
      "📈 Fetching data for COIN\n"
     ]
    },
    {
     "name": "stderr",
     "output_type": "stream",
     "text": [
      "\n"
     ]
    },
    {
     "name": "stdout",
     "output_type": "stream",
     "text": [
      "✅ Descending Triangle: 365/500\n",
      "✅ Descending Triangle: 366/500\n"
     ]
    },
    {
     "name": "stderr",
     "output_type": "stream",
     "text": [
      "[*********************100%***********************]  1 of 1 completed"
     ]
    },
    {
     "name": "stdout",
     "output_type": "stream",
     "text": [
      "📈 Fetching data for XOM\n"
     ]
    },
    {
     "name": "stderr",
     "output_type": "stream",
     "text": [
      "\n"
     ]
    },
    {
     "name": "stdout",
     "output_type": "stream",
     "text": [
      "✅ Shooting Star: 334/500\n",
      "📈 Fetching data for CVX\n"
     ]
    },
    {
     "name": "stderr",
     "output_type": "stream",
     "text": [
      "[*********************100%***********************]  1 of 1 completed\n"
     ]
    },
    {
     "name": "stdout",
     "output_type": "stream",
     "text": [
      "✅ Evening Star: 185/500\n"
     ]
    },
    {
     "name": "stderr",
     "output_type": "stream",
     "text": [
      "[*********************100%***********************]  1 of 1 completed"
     ]
    },
    {
     "name": "stdout",
     "output_type": "stream",
     "text": [
      "📈 Fetching data for BA\n"
     ]
    },
    {
     "name": "stderr",
     "output_type": "stream",
     "text": [
      "\n"
     ]
    },
    {
     "name": "stdout",
     "output_type": "stream",
     "text": [
      "✅ Descending Triangle: 367/500\n",
      "✅ Descending Triangle: 368/500\n"
     ]
    },
    {
     "name": "stderr",
     "output_type": "stream",
     "text": [
      "[*********************100%***********************]  1 of 1 completed"
     ]
    },
    {
     "name": "stdout",
     "output_type": "stream",
     "text": [
      "📈 Fetching data for CAT\n"
     ]
    },
    {
     "name": "stderr",
     "output_type": "stream",
     "text": [
      "\n"
     ]
    },
    {
     "name": "stdout",
     "output_type": "stream",
     "text": [
      "✅ Hammer: 335/500\n",
      "✅ Hammer: 336/500\n",
      "✅ Hammer: 337/500\n",
      "✅ Hammer: 338/500\n",
      "✅ Hammer: 339/500\n",
      "✅ Hammer: 340/500\n"
     ]
    },
    {
     "name": "stderr",
     "output_type": "stream",
     "text": [
      "[*********************100%***********************]  1 of 1 completed"
     ]
    },
    {
     "name": "stdout",
     "output_type": "stream",
     "text": [
      "✅ Shooting Star: 335/500\n",
      "📈 Fetching data for DE\n"
     ]
    },
    {
     "name": "stderr",
     "output_type": "stream",
     "text": [
      "\n"
     ]
    },
    {
     "name": "stdout",
     "output_type": "stream",
     "text": [
      "✅ Shooting Star: 336/500\n",
      "✅ Shooting Star: 337/500\n",
      "✅ Shooting Star: 338/500\n",
      "📈 Fetching data for PFE\n"
     ]
    },
    {
     "name": "stderr",
     "output_type": "stream",
     "text": [
      "[*********************100%***********************]  1 of 1 completed\n"
     ]
    },
    {
     "name": "stdout",
     "output_type": "stream",
     "text": [
      "✅ Shooting Star: 339/500\n"
     ]
    },
    {
     "name": "stderr",
     "output_type": "stream",
     "text": [
      "[*********************100%***********************]  1 of 1 completed"
     ]
    },
    {
     "name": "stdout",
     "output_type": "stream",
     "text": [
      "📈 Fetching data for JNJ\n"
     ]
    },
    {
     "name": "stderr",
     "output_type": "stream",
     "text": [
      "\n",
      "[*********************100%***********************]  1 of 1 completed"
     ]
    },
    {
     "name": "stdout",
     "output_type": "stream",
     "text": [
      "📈 Fetching data for MRK\n"
     ]
    },
    {
     "name": "stderr",
     "output_type": "stream",
     "text": [
      "\n",
      "[*********************100%***********************]  1 of 1 completed"
     ]
    },
    {
     "name": "stdout",
     "output_type": "stream",
     "text": [
      "📈 Fetching data for LLY\n"
     ]
    },
    {
     "name": "stderr",
     "output_type": "stream",
     "text": [
      "\n",
      "[*********************100%***********************]  1 of 1 completed"
     ]
    },
    {
     "name": "stdout",
     "output_type": "stream",
     "text": [
      "✅ Shooting Star: 340/500\n",
      "📈 Fetching data for PLTR\n"
     ]
    },
    {
     "name": "stderr",
     "output_type": "stream",
     "text": [
      "\n",
      "[*********************100%***********************]  1 of 1 completed"
     ]
    },
    {
     "name": "stdout",
     "output_type": "stream",
     "text": [
      "✅ Evening Star: 186/500\n",
      "📈 Fetching data for SNOW\n"
     ]
    },
    {
     "name": "stderr",
     "output_type": "stream",
     "text": [
      "\n",
      "[*********************100%***********************]  1 of 1 completed"
     ]
    },
    {
     "name": "stdout",
     "output_type": "stream",
     "text": [
      "✅ Descending Triangle: 369/500\n",
      "📈 Fetching data for SHOP\n"
     ]
    },
    {
     "name": "stderr",
     "output_type": "stream",
     "text": [
      "\n",
      "[*********************100%***********************]  1 of 1 completed"
     ]
    },
    {
     "name": "stdout",
     "output_type": "stream",
     "text": [
      "✅ Shooting Star: 341/500\n",
      "📈 Fetching data for RIVN\n"
     ]
    },
    {
     "name": "stderr",
     "output_type": "stream",
     "text": [
      "\n",
      "[*********************100%***********************]  1 of 1 completed"
     ]
    },
    {
     "name": "stdout",
     "output_type": "stream",
     "text": [
      "✅ Descending Triangle: 370/500\n",
      "📈 Fetching data for UBER\n"
     ]
    },
    {
     "name": "stderr",
     "output_type": "stream",
     "text": [
      "\n"
     ]
    },
    {
     "name": "stdout",
     "output_type": "stream",
     "text": [
      "✅ Descending Triangle: 371/500\n",
      "📈 Fetching data for SPY\n"
     ]
    },
    {
     "name": "stderr",
     "output_type": "stream",
     "text": [
      "[*********************100%***********************]  1 of 1 completed\n",
      "[*********************100%***********************]  1 of 1 completed"
     ]
    },
    {
     "name": "stdout",
     "output_type": "stream",
     "text": [
      "📈 Fetching data for QQQ\n"
     ]
    },
    {
     "name": "stderr",
     "output_type": "stream",
     "text": [
      "\n"
     ]
    },
    {
     "name": "stdout",
     "output_type": "stream",
     "text": [
      "✅ Hammer: 341/500\n",
      "✅ Descending Triangle: 372/500\n"
     ]
    },
    {
     "name": "stderr",
     "output_type": "stream",
     "text": [
      "[*********************100%***********************]  1 of 1 completed"
     ]
    },
    {
     "name": "stdout",
     "output_type": "stream",
     "text": [
      "🔁 Pass 32 over symbols...\n",
      "📈 Fetching data for AAPL\n"
     ]
    },
    {
     "name": "stderr",
     "output_type": "stream",
     "text": [
      "\n"
     ]
    },
    {
     "name": "stdout",
     "output_type": "stream",
     "text": [
      "✅ Hammer: 342/500\n",
      "✅ Descending Triangle: 373/500\n"
     ]
    },
    {
     "name": "stderr",
     "output_type": "stream",
     "text": [
      "[*********************100%***********************]  1 of 1 completed"
     ]
    },
    {
     "name": "stdout",
     "output_type": "stream",
     "text": [
      "📈 Fetching data for MSFT\n"
     ]
    },
    {
     "name": "stderr",
     "output_type": "stream",
     "text": [
      "\n"
     ]
    },
    {
     "name": "stdout",
     "output_type": "stream",
     "text": [
      "✅ Hammer: 343/500\n",
      "✅ Hammer: 344/500\n"
     ]
    },
    {
     "name": "stderr",
     "output_type": "stream",
     "text": [
      "[*********************100%***********************]  1 of 1 completed"
     ]
    },
    {
     "name": "stdout",
     "output_type": "stream",
     "text": [
      "📈 Fetching data for GOOGL\n"
     ]
    },
    {
     "name": "stderr",
     "output_type": "stream",
     "text": [
      "\n",
      "[*********************100%***********************]  1 of 1 completed"
     ]
    },
    {
     "name": "stdout",
     "output_type": "stream",
     "text": [
      "📈 Fetching data for AMZN\n"
     ]
    },
    {
     "name": "stderr",
     "output_type": "stream",
     "text": [
      "\n"
     ]
    },
    {
     "name": "stdout",
     "output_type": "stream",
     "text": [
      "✅ Descending Triangle: 374/500\n",
      "✅ Descending Triangle: 375/500\n"
     ]
    },
    {
     "name": "stderr",
     "output_type": "stream",
     "text": [
      "[*********************100%***********************]  1 of 1 completed"
     ]
    },
    {
     "name": "stdout",
     "output_type": "stream",
     "text": [
      "✅ Hammer: 345/500\n",
      "📈 Fetching data for META\n"
     ]
    },
    {
     "name": "stderr",
     "output_type": "stream",
     "text": [
      "\n"
     ]
    },
    {
     "name": "stdout",
     "output_type": "stream",
     "text": [
      "📈 Fetching data for NVDA\n"
     ]
    },
    {
     "name": "stderr",
     "output_type": "stream",
     "text": [
      "[*********************100%***********************]  1 of 1 completed\n"
     ]
    },
    {
     "name": "stdout",
     "output_type": "stream",
     "text": [
      "✅ Shooting Star: 342/500\n",
      "📈 Fetching data for TSLA\n"
     ]
    },
    {
     "name": "stderr",
     "output_type": "stream",
     "text": [
      "[*********************100%***********************]  1 of 1 completed\n"
     ]
    },
    {
     "name": "stdout",
     "output_type": "stream",
     "text": [
      "✅ Descending Triangle: 376/500\n",
      "✅ Shooting Star: 343/500\n"
     ]
    },
    {
     "name": "stderr",
     "output_type": "stream",
     "text": [
      "[*********************100%***********************]  1 of 1 completed"
     ]
    },
    {
     "name": "stdout",
     "output_type": "stream",
     "text": [
      "📈 Fetching data for NFLX\n"
     ]
    },
    {
     "name": "stderr",
     "output_type": "stream",
     "text": [
      "\n"
     ]
    },
    {
     "name": "stdout",
     "output_type": "stream",
     "text": [
      "✅ Evening Star: 187/500\n",
      "✅ Evening Star: 188/500\n"
     ]
    },
    {
     "name": "stderr",
     "output_type": "stream",
     "text": [
      "[*********************100%***********************]  1 of 1 completed"
     ]
    },
    {
     "name": "stdout",
     "output_type": "stream",
     "text": [
      "📈 Fetching data for JPM\n"
     ]
    },
    {
     "name": "stderr",
     "output_type": "stream",
     "text": [
      "\n"
     ]
    },
    {
     "name": "stdout",
     "output_type": "stream",
     "text": [
      "✅ Evening Star: 189/500\n",
      "✅ Evening Star: 190/500\n",
      "✅ Shooting Star: 344/500\n"
     ]
    },
    {
     "name": "stderr",
     "output_type": "stream",
     "text": [
      "[*********************100%***********************]  1 of 1 completed"
     ]
    },
    {
     "name": "stdout",
     "output_type": "stream",
     "text": [
      "📈 Fetching data for BAC\n"
     ]
    },
    {
     "name": "stderr",
     "output_type": "stream",
     "text": [
      "\n",
      "[*********************100%***********************]  1 of 1 completed"
     ]
    },
    {
     "name": "stdout",
     "output_type": "stream",
     "text": [
      "📈 Fetching data for V\n"
     ]
    },
    {
     "name": "stderr",
     "output_type": "stream",
     "text": [
      "\n",
      "[*********************100%***********************]  1 of 1 completed"
     ]
    },
    {
     "name": "stdout",
     "output_type": "stream",
     "text": [
      "✅ Inverted Hammer: 32/500\n",
      "📈 Fetching data for MA\n"
     ]
    },
    {
     "name": "stderr",
     "output_type": "stream",
     "text": [
      "\n",
      "[*********************100%***********************]  1 of 1 completed"
     ]
    },
    {
     "name": "stdout",
     "output_type": "stream",
     "text": [
      "📈 Fetching data for SOFI\n"
     ]
    },
    {
     "name": "stderr",
     "output_type": "stream",
     "text": [
      "\n",
      "[*********************100%***********************]  1 of 1 completed"
     ]
    },
    {
     "name": "stdout",
     "output_type": "stream",
     "text": [
      "📈 Fetching data for COIN\n"
     ]
    },
    {
     "name": "stderr",
     "output_type": "stream",
     "text": [
      "\n"
     ]
    },
    {
     "name": "stdout",
     "output_type": "stream",
     "text": [
      "✅ Descending Triangle: 377/500\n",
      "✅ Descending Triangle: 378/500\n"
     ]
    },
    {
     "name": "stderr",
     "output_type": "stream",
     "text": [
      "[*********************100%***********************]  1 of 1 completed"
     ]
    },
    {
     "name": "stdout",
     "output_type": "stream",
     "text": [
      "📈 Fetching data for XOM\n"
     ]
    },
    {
     "name": "stderr",
     "output_type": "stream",
     "text": [
      "\n"
     ]
    },
    {
     "name": "stdout",
     "output_type": "stream",
     "text": [
      "✅ Shooting Star: 345/500\n"
     ]
    },
    {
     "name": "stderr",
     "output_type": "stream",
     "text": [
      "[*********************100%***********************]  1 of 1 completed"
     ]
    },
    {
     "name": "stdout",
     "output_type": "stream",
     "text": [
      "📈 Fetching data for CVX\n"
     ]
    },
    {
     "name": "stderr",
     "output_type": "stream",
     "text": [
      "\n"
     ]
    },
    {
     "name": "stdout",
     "output_type": "stream",
     "text": [
      "✅ Evening Star: 191/500\n",
      "📈 Fetching data for BA\n"
     ]
    },
    {
     "name": "stderr",
     "output_type": "stream",
     "text": [
      "[*********************100%***********************]  1 of 1 completed\n"
     ]
    },
    {
     "name": "stdout",
     "output_type": "stream",
     "text": [
      "✅ Descending Triangle: 379/500\n",
      "✅ Descending Triangle: 380/500\n"
     ]
    },
    {
     "name": "stderr",
     "output_type": "stream",
     "text": [
      "[*********************100%***********************]  1 of 1 completed"
     ]
    },
    {
     "name": "stdout",
     "output_type": "stream",
     "text": [
      "📈 Fetching data for CAT\n"
     ]
    },
    {
     "name": "stderr",
     "output_type": "stream",
     "text": [
      "\n"
     ]
    },
    {
     "name": "stdout",
     "output_type": "stream",
     "text": [
      "✅ Hammer: 346/500\n",
      "✅ Hammer: 347/500\n",
      "✅ Hammer: 348/500\n",
      "✅ Hammer: 349/500\n",
      "✅ Hammer: 350/500\n",
      "✅ Hammer: 351/500\n"
     ]
    },
    {
     "name": "stderr",
     "output_type": "stream",
     "text": [
      "[*********************100%***********************]  1 of 1 completed"
     ]
    },
    {
     "name": "stdout",
     "output_type": "stream",
     "text": [
      "✅ Shooting Star: 346/500\n",
      "📈 Fetching data for DE\n"
     ]
    },
    {
     "name": "stderr",
     "output_type": "stream",
     "text": [
      "\n"
     ]
    },
    {
     "name": "stdout",
     "output_type": "stream",
     "text": [
      "✅ Shooting Star: 347/500\n",
      "✅ Shooting Star: 348/500\n",
      "✅ Shooting Star: 349/500\n",
      "📈 Fetching data for PFE\n"
     ]
    },
    {
     "name": "stderr",
     "output_type": "stream",
     "text": [
      "[*********************100%***********************]  1 of 1 completed\n"
     ]
    },
    {
     "name": "stdout",
     "output_type": "stream",
     "text": [
      "✅ Shooting Star: 350/500\n"
     ]
    },
    {
     "name": "stderr",
     "output_type": "stream",
     "text": [
      "[*********************100%***********************]  1 of 1 completed"
     ]
    },
    {
     "name": "stdout",
     "output_type": "stream",
     "text": [
      "📈 Fetching data for JNJ\n"
     ]
    },
    {
     "name": "stderr",
     "output_type": "stream",
     "text": [
      "\n",
      "[*********************100%***********************]  1 of 1 completed"
     ]
    },
    {
     "name": "stdout",
     "output_type": "stream",
     "text": [
      "📈 Fetching data for MRK\n"
     ]
    },
    {
     "name": "stderr",
     "output_type": "stream",
     "text": [
      "\n",
      "[*********************100%***********************]  1 of 1 completed"
     ]
    },
    {
     "name": "stdout",
     "output_type": "stream",
     "text": [
      "📈 Fetching data for LLY\n"
     ]
    },
    {
     "name": "stderr",
     "output_type": "stream",
     "text": [
      "\n",
      "[*********************100%***********************]  1 of 1 completed"
     ]
    },
    {
     "name": "stdout",
     "output_type": "stream",
     "text": [
      "✅ Shooting Star: 351/500\n",
      "📈 Fetching data for PLTR\n"
     ]
    },
    {
     "name": "stderr",
     "output_type": "stream",
     "text": [
      "\n",
      "[*********************100%***********************]  1 of 1 completed"
     ]
    },
    {
     "name": "stdout",
     "output_type": "stream",
     "text": [
      "✅ Evening Star: 192/500\n",
      "📈 Fetching data for SNOW\n"
     ]
    },
    {
     "name": "stderr",
     "output_type": "stream",
     "text": [
      "\n",
      "[*********************100%***********************]  1 of 1 completed"
     ]
    },
    {
     "name": "stdout",
     "output_type": "stream",
     "text": [
      "✅ Descending Triangle: 381/500\n",
      "📈 Fetching data for SHOP\n"
     ]
    },
    {
     "name": "stderr",
     "output_type": "stream",
     "text": [
      "\n",
      "[*********************100%***********************]  1 of 1 completed"
     ]
    },
    {
     "name": "stdout",
     "output_type": "stream",
     "text": [
      "✅ Shooting Star: 352/500\n",
      "📈 Fetching data for RIVN\n"
     ]
    },
    {
     "name": "stderr",
     "output_type": "stream",
     "text": [
      "\n",
      "[*********************100%***********************]  1 of 1 completed"
     ]
    },
    {
     "name": "stdout",
     "output_type": "stream",
     "text": [
      "✅ Descending Triangle: 382/500\n",
      "📈 Fetching data for UBER\n"
     ]
    },
    {
     "name": "stderr",
     "output_type": "stream",
     "text": [
      "\n"
     ]
    },
    {
     "name": "stdout",
     "output_type": "stream",
     "text": [
      "✅ Descending Triangle: 383/500\n",
      "📈 Fetching data for SPY\n"
     ]
    },
    {
     "name": "stderr",
     "output_type": "stream",
     "text": [
      "[*********************100%***********************]  1 of 1 completed\n",
      "[*********************100%***********************]  1 of 1 completed"
     ]
    },
    {
     "name": "stdout",
     "output_type": "stream",
     "text": [
      "📈 Fetching data for QQQ\n"
     ]
    },
    {
     "name": "stderr",
     "output_type": "stream",
     "text": [
      "\n"
     ]
    },
    {
     "name": "stdout",
     "output_type": "stream",
     "text": [
      "✅ Hammer: 352/500\n",
      "✅ Descending Triangle: 384/500\n"
     ]
    },
    {
     "name": "stderr",
     "output_type": "stream",
     "text": [
      "[*********************100%***********************]  1 of 1 completed"
     ]
    },
    {
     "name": "stdout",
     "output_type": "stream",
     "text": [
      "🔁 Pass 33 over symbols...\n",
      "📈 Fetching data for AAPL\n"
     ]
    },
    {
     "name": "stderr",
     "output_type": "stream",
     "text": [
      "\n"
     ]
    },
    {
     "name": "stdout",
     "output_type": "stream",
     "text": [
      "✅ Hammer: 353/500\n",
      "✅ Descending Triangle: 385/500\n"
     ]
    },
    {
     "name": "stderr",
     "output_type": "stream",
     "text": [
      "[*********************100%***********************]  1 of 1 completed"
     ]
    },
    {
     "name": "stdout",
     "output_type": "stream",
     "text": [
      "📈 Fetching data for MSFT\n"
     ]
    },
    {
     "name": "stderr",
     "output_type": "stream",
     "text": [
      "\n"
     ]
    },
    {
     "name": "stdout",
     "output_type": "stream",
     "text": [
      "✅ Hammer: 354/500\n",
      "✅ Hammer: 355/500\n"
     ]
    },
    {
     "name": "stderr",
     "output_type": "stream",
     "text": [
      "[*********************100%***********************]  1 of 1 completed"
     ]
    },
    {
     "name": "stdout",
     "output_type": "stream",
     "text": [
      "📈 Fetching data for GOOGL\n"
     ]
    },
    {
     "name": "stderr",
     "output_type": "stream",
     "text": [
      "\n",
      "[*********************100%***********************]  1 of 1 completed"
     ]
    },
    {
     "name": "stdout",
     "output_type": "stream",
     "text": [
      "📈 Fetching data for AMZN\n"
     ]
    },
    {
     "name": "stderr",
     "output_type": "stream",
     "text": [
      "\n"
     ]
    },
    {
     "name": "stdout",
     "output_type": "stream",
     "text": [
      "✅ Descending Triangle: 386/500\n",
      "✅ Descending Triangle: 387/500\n"
     ]
    },
    {
     "name": "stderr",
     "output_type": "stream",
     "text": [
      "[*********************100%***********************]  1 of 1 completed"
     ]
    },
    {
     "name": "stdout",
     "output_type": "stream",
     "text": [
      "✅ Hammer: 356/500\n",
      "📈 Fetching data for META\n"
     ]
    },
    {
     "name": "stderr",
     "output_type": "stream",
     "text": [
      "\n"
     ]
    },
    {
     "name": "stdout",
     "output_type": "stream",
     "text": [
      "📈 Fetching data for NVDA\n"
     ]
    },
    {
     "name": "stderr",
     "output_type": "stream",
     "text": [
      "[*********************100%***********************]  1 of 1 completed\n"
     ]
    },
    {
     "name": "stdout",
     "output_type": "stream",
     "text": [
      "✅ Shooting Star: 353/500\n",
      "📈 Fetching data for TSLA\n"
     ]
    },
    {
     "name": "stderr",
     "output_type": "stream",
     "text": [
      "[*********************100%***********************]  1 of 1 completed\n"
     ]
    },
    {
     "name": "stdout",
     "output_type": "stream",
     "text": [
      "✅ Descending Triangle: 388/500\n",
      "✅ Shooting Star: 354/500\n"
     ]
    },
    {
     "name": "stderr",
     "output_type": "stream",
     "text": [
      "[*********************100%***********************]  1 of 1 completed"
     ]
    },
    {
     "name": "stdout",
     "output_type": "stream",
     "text": [
      "📈 Fetching data for NFLX\n"
     ]
    },
    {
     "name": "stderr",
     "output_type": "stream",
     "text": [
      "\n"
     ]
    },
    {
     "name": "stdout",
     "output_type": "stream",
     "text": [
      "✅ Evening Star: 193/500\n",
      "✅ Evening Star: 194/500\n"
     ]
    },
    {
     "name": "stderr",
     "output_type": "stream",
     "text": [
      "[*********************100%***********************]  1 of 1 completed"
     ]
    },
    {
     "name": "stdout",
     "output_type": "stream",
     "text": [
      "📈 Fetching data for JPM\n"
     ]
    },
    {
     "name": "stderr",
     "output_type": "stream",
     "text": [
      "\n"
     ]
    },
    {
     "name": "stdout",
     "output_type": "stream",
     "text": [
      "✅ Evening Star: 195/500\n",
      "✅ Evening Star: 196/500\n",
      "✅ Shooting Star: 355/500\n"
     ]
    },
    {
     "name": "stderr",
     "output_type": "stream",
     "text": [
      "[*********************100%***********************]  1 of 1 completed"
     ]
    },
    {
     "name": "stdout",
     "output_type": "stream",
     "text": [
      "📈 Fetching data for BAC\n"
     ]
    },
    {
     "name": "stderr",
     "output_type": "stream",
     "text": [
      "\n",
      "[*********************100%***********************]  1 of 1 completed"
     ]
    },
    {
     "name": "stdout",
     "output_type": "stream",
     "text": [
      "📈 Fetching data for V\n"
     ]
    },
    {
     "name": "stderr",
     "output_type": "stream",
     "text": [
      "\n",
      "[*********************100%***********************]  1 of 1 completed"
     ]
    },
    {
     "name": "stdout",
     "output_type": "stream",
     "text": [
      "✅ Inverted Hammer: 33/500\n",
      "📈 Fetching data for MA\n"
     ]
    },
    {
     "name": "stderr",
     "output_type": "stream",
     "text": [
      "\n",
      "[*********************100%***********************]  1 of 1 completed"
     ]
    },
    {
     "name": "stdout",
     "output_type": "stream",
     "text": [
      "📈 Fetching data for SOFI\n"
     ]
    },
    {
     "name": "stderr",
     "output_type": "stream",
     "text": [
      "\n",
      "[*********************100%***********************]  1 of 1 completed"
     ]
    },
    {
     "name": "stdout",
     "output_type": "stream",
     "text": [
      "📈 Fetching data for COIN\n"
     ]
    },
    {
     "name": "stderr",
     "output_type": "stream",
     "text": [
      "\n"
     ]
    },
    {
     "name": "stdout",
     "output_type": "stream",
     "text": [
      "✅ Descending Triangle: 389/500\n",
      "✅ Descending Triangle: 390/500\n"
     ]
    },
    {
     "name": "stderr",
     "output_type": "stream",
     "text": [
      "[*********************100%***********************]  1 of 1 completed"
     ]
    },
    {
     "name": "stdout",
     "output_type": "stream",
     "text": [
      "📈 Fetching data for XOM\n"
     ]
    },
    {
     "name": "stderr",
     "output_type": "stream",
     "text": [
      "\n"
     ]
    },
    {
     "name": "stdout",
     "output_type": "stream",
     "text": [
      "✅ Shooting Star: 356/500\n"
     ]
    },
    {
     "name": "stderr",
     "output_type": "stream",
     "text": [
      "[*********************100%***********************]  1 of 1 completed"
     ]
    },
    {
     "name": "stdout",
     "output_type": "stream",
     "text": [
      "📈 Fetching data for CVX\n"
     ]
    },
    {
     "name": "stderr",
     "output_type": "stream",
     "text": [
      "\n"
     ]
    },
    {
     "name": "stdout",
     "output_type": "stream",
     "text": [
      "✅ Evening Star: 197/500\n",
      "📈 Fetching data for BA\n"
     ]
    },
    {
     "name": "stderr",
     "output_type": "stream",
     "text": [
      "[*********************100%***********************]  1 of 1 completed\n"
     ]
    },
    {
     "name": "stdout",
     "output_type": "stream",
     "text": [
      "✅ Descending Triangle: 391/500\n",
      "✅ Descending Triangle: 392/500\n"
     ]
    },
    {
     "name": "stderr",
     "output_type": "stream",
     "text": [
      "[*********************100%***********************]  1 of 1 completed"
     ]
    },
    {
     "name": "stdout",
     "output_type": "stream",
     "text": [
      "📈 Fetching data for CAT\n"
     ]
    },
    {
     "name": "stderr",
     "output_type": "stream",
     "text": [
      "\n"
     ]
    },
    {
     "name": "stdout",
     "output_type": "stream",
     "text": [
      "✅ Hammer: 357/500\n",
      "✅ Hammer: 358/500\n",
      "✅ Hammer: 359/500\n",
      "✅ Hammer: 360/500\n",
      "✅ Hammer: 361/500\n",
      "✅ Hammer: 362/500\n"
     ]
    },
    {
     "name": "stderr",
     "output_type": "stream",
     "text": [
      "[*********************100%***********************]  1 of 1 completed"
     ]
    },
    {
     "name": "stdout",
     "output_type": "stream",
     "text": [
      "✅ Shooting Star: 357/500\n",
      "📈 Fetching data for DE\n"
     ]
    },
    {
     "name": "stderr",
     "output_type": "stream",
     "text": [
      "\n"
     ]
    },
    {
     "name": "stdout",
     "output_type": "stream",
     "text": [
      "✅ Shooting Star: 358/500\n",
      "✅ Shooting Star: 359/500\n",
      "✅ Shooting Star: 360/500\n",
      "📈 Fetching data for PFE\n"
     ]
    },
    {
     "name": "stderr",
     "output_type": "stream",
     "text": [
      "[*********************100%***********************]  1 of 1 completed\n"
     ]
    },
    {
     "name": "stdout",
     "output_type": "stream",
     "text": [
      "✅ Shooting Star: 361/500\n"
     ]
    },
    {
     "name": "stderr",
     "output_type": "stream",
     "text": [
      "[*********************100%***********************]  1 of 1 completed"
     ]
    },
    {
     "name": "stdout",
     "output_type": "stream",
     "text": [
      "📈 Fetching data for JNJ\n"
     ]
    },
    {
     "name": "stderr",
     "output_type": "stream",
     "text": [
      "\n",
      "[*********************100%***********************]  1 of 1 completed"
     ]
    },
    {
     "name": "stdout",
     "output_type": "stream",
     "text": [
      "📈 Fetching data for MRK\n"
     ]
    },
    {
     "name": "stderr",
     "output_type": "stream",
     "text": [
      "\n",
      "[*********************100%***********************]  1 of 1 completed"
     ]
    },
    {
     "name": "stdout",
     "output_type": "stream",
     "text": [
      "📈 Fetching data for LLY\n"
     ]
    },
    {
     "name": "stderr",
     "output_type": "stream",
     "text": [
      "\n",
      "[*********************100%***********************]  1 of 1 completed"
     ]
    },
    {
     "name": "stdout",
     "output_type": "stream",
     "text": [
      "✅ Shooting Star: 362/500\n",
      "📈 Fetching data for PLTR\n"
     ]
    },
    {
     "name": "stderr",
     "output_type": "stream",
     "text": [
      "\n",
      "[*********************100%***********************]  1 of 1 completed"
     ]
    },
    {
     "name": "stdout",
     "output_type": "stream",
     "text": [
      "✅ Evening Star: 198/500\n",
      "📈 Fetching data for SNOW\n"
     ]
    },
    {
     "name": "stderr",
     "output_type": "stream",
     "text": [
      "\n",
      "[*********************100%***********************]  1 of 1 completed"
     ]
    },
    {
     "name": "stdout",
     "output_type": "stream",
     "text": [
      "✅ Descending Triangle: 393/500\n",
      "📈 Fetching data for SHOP\n"
     ]
    },
    {
     "name": "stderr",
     "output_type": "stream",
     "text": [
      "\n",
      "[*********************100%***********************]  1 of 1 completed"
     ]
    },
    {
     "name": "stdout",
     "output_type": "stream",
     "text": [
      "✅ Shooting Star: 363/500\n",
      "📈 Fetching data for RIVN\n"
     ]
    },
    {
     "name": "stderr",
     "output_type": "stream",
     "text": [
      "\n",
      "[*********************100%***********************]  1 of 1 completed"
     ]
    },
    {
     "name": "stdout",
     "output_type": "stream",
     "text": [
      "✅ Descending Triangle: 394/500\n",
      "📈 Fetching data for UBER\n"
     ]
    },
    {
     "name": "stderr",
     "output_type": "stream",
     "text": [
      "\n"
     ]
    },
    {
     "name": "stdout",
     "output_type": "stream",
     "text": [
      "✅ Descending Triangle: 395/500\n",
      "📈 Fetching data for SPY\n"
     ]
    },
    {
     "name": "stderr",
     "output_type": "stream",
     "text": [
      "[*********************100%***********************]  1 of 1 completed\n",
      "[*********************100%***********************]  1 of 1 completed"
     ]
    },
    {
     "name": "stdout",
     "output_type": "stream",
     "text": [
      "📈 Fetching data for QQQ\n"
     ]
    },
    {
     "name": "stderr",
     "output_type": "stream",
     "text": [
      "\n"
     ]
    },
    {
     "name": "stdout",
     "output_type": "stream",
     "text": [
      "✅ Hammer: 363/500\n",
      "✅ Descending Triangle: 396/500\n"
     ]
    },
    {
     "name": "stderr",
     "output_type": "stream",
     "text": [
      "[*********************100%***********************]  1 of 1 completed"
     ]
    },
    {
     "name": "stdout",
     "output_type": "stream",
     "text": [
      "🔁 Pass 34 over symbols...\n",
      "📈 Fetching data for AAPL\n"
     ]
    },
    {
     "name": "stderr",
     "output_type": "stream",
     "text": [
      "\n"
     ]
    },
    {
     "name": "stdout",
     "output_type": "stream",
     "text": [
      "✅ Hammer: 364/500\n",
      "✅ Descending Triangle: 397/500\n"
     ]
    },
    {
     "name": "stderr",
     "output_type": "stream",
     "text": [
      "[*********************100%***********************]  1 of 1 completed"
     ]
    },
    {
     "name": "stdout",
     "output_type": "stream",
     "text": [
      "📈 Fetching data for MSFT\n"
     ]
    },
    {
     "name": "stderr",
     "output_type": "stream",
     "text": [
      "\n"
     ]
    },
    {
     "name": "stdout",
     "output_type": "stream",
     "text": [
      "✅ Hammer: 365/500\n",
      "✅ Hammer: 366/500\n"
     ]
    },
    {
     "name": "stderr",
     "output_type": "stream",
     "text": [
      "[*********************100%***********************]  1 of 1 completed"
     ]
    },
    {
     "name": "stdout",
     "output_type": "stream",
     "text": [
      "📈 Fetching data for GOOGL\n"
     ]
    },
    {
     "name": "stderr",
     "output_type": "stream",
     "text": [
      "\n",
      "[*********************100%***********************]  1 of 1 completed"
     ]
    },
    {
     "name": "stdout",
     "output_type": "stream",
     "text": [
      "📈 Fetching data for AMZN\n"
     ]
    },
    {
     "name": "stderr",
     "output_type": "stream",
     "text": [
      "\n"
     ]
    },
    {
     "name": "stdout",
     "output_type": "stream",
     "text": [
      "✅ Descending Triangle: 398/500\n",
      "✅ Descending Triangle: 399/500\n"
     ]
    },
    {
     "name": "stderr",
     "output_type": "stream",
     "text": [
      "[*********************100%***********************]  1 of 1 completed"
     ]
    },
    {
     "name": "stdout",
     "output_type": "stream",
     "text": [
      "✅ Hammer: 367/500\n",
      "📈 Fetching data for META\n"
     ]
    },
    {
     "name": "stderr",
     "output_type": "stream",
     "text": [
      "\n"
     ]
    },
    {
     "name": "stdout",
     "output_type": "stream",
     "text": [
      "📈 Fetching data for NVDA\n"
     ]
    },
    {
     "name": "stderr",
     "output_type": "stream",
     "text": [
      "[*********************100%***********************]  1 of 1 completed\n",
      "[*********************100%***********************]  1 of 1 completed"
     ]
    },
    {
     "name": "stdout",
     "output_type": "stream",
     "text": [
      "✅ Shooting Star: 364/500\n",
      "📈 Fetching data for TSLA\n"
     ]
    },
    {
     "name": "stderr",
     "output_type": "stream",
     "text": [
      "\n"
     ]
    },
    {
     "name": "stdout",
     "output_type": "stream",
     "text": [
      "✅ Descending Triangle: 400/500\n",
      "✅ Shooting Star: 365/500\n"
     ]
    },
    {
     "name": "stderr",
     "output_type": "stream",
     "text": [
      "[*********************100%***********************]  1 of 1 completed"
     ]
    },
    {
     "name": "stdout",
     "output_type": "stream",
     "text": [
      "📈 Fetching data for NFLX\n"
     ]
    },
    {
     "name": "stderr",
     "output_type": "stream",
     "text": [
      "\n"
     ]
    },
    {
     "name": "stdout",
     "output_type": "stream",
     "text": [
      "✅ Evening Star: 199/500\n",
      "✅ Evening Star: 200/500\n"
     ]
    },
    {
     "name": "stderr",
     "output_type": "stream",
     "text": [
      "[*********************100%***********************]  1 of 1 completed"
     ]
    },
    {
     "name": "stdout",
     "output_type": "stream",
     "text": [
      "📈 Fetching data for JPM\n"
     ]
    },
    {
     "name": "stderr",
     "output_type": "stream",
     "text": [
      "\n"
     ]
    },
    {
     "name": "stdout",
     "output_type": "stream",
     "text": [
      "✅ Evening Star: 201/500\n",
      "✅ Evening Star: 202/500\n",
      "✅ Shooting Star: 366/500\n"
     ]
    },
    {
     "name": "stderr",
     "output_type": "stream",
     "text": [
      "[*********************100%***********************]  1 of 1 completed"
     ]
    },
    {
     "name": "stdout",
     "output_type": "stream",
     "text": [
      "📈 Fetching data for BAC\n"
     ]
    },
    {
     "name": "stderr",
     "output_type": "stream",
     "text": [
      "\n",
      "[*********************100%***********************]  1 of 1 completed"
     ]
    },
    {
     "name": "stdout",
     "output_type": "stream",
     "text": [
      "📈 Fetching data for V\n"
     ]
    },
    {
     "name": "stderr",
     "output_type": "stream",
     "text": [
      "\n",
      "[*********************100%***********************]  1 of 1 completed"
     ]
    },
    {
     "name": "stdout",
     "output_type": "stream",
     "text": [
      "✅ Inverted Hammer: 34/500\n",
      "📈 Fetching data for MA\n"
     ]
    },
    {
     "name": "stderr",
     "output_type": "stream",
     "text": [
      "\n",
      "[*********************100%***********************]  1 of 1 completed"
     ]
    },
    {
     "name": "stdout",
     "output_type": "stream",
     "text": [
      "📈 Fetching data for SOFI\n",
      "📈 Fetching data for COIN\n"
     ]
    },
    {
     "name": "stderr",
     "output_type": "stream",
     "text": [
      "\n",
      "[*********************100%***********************]  1 of 1 completed\n"
     ]
    },
    {
     "name": "stdout",
     "output_type": "stream",
     "text": [
      "✅ Descending Triangle: 401/500\n",
      "✅ Descending Triangle: 402/500\n"
     ]
    },
    {
     "name": "stderr",
     "output_type": "stream",
     "text": [
      "[*********************100%***********************]  1 of 1 completed"
     ]
    },
    {
     "name": "stdout",
     "output_type": "stream",
     "text": [
      "📈 Fetching data for XOM\n"
     ]
    },
    {
     "name": "stderr",
     "output_type": "stream",
     "text": [
      "\n"
     ]
    },
    {
     "name": "stdout",
     "output_type": "stream",
     "text": [
      "✅ Shooting Star: 367/500\n",
      "📈 Fetching data for CVX\n"
     ]
    },
    {
     "name": "stderr",
     "output_type": "stream",
     "text": [
      "[*********************100%***********************]  1 of 1 completed\n"
     ]
    },
    {
     "name": "stdout",
     "output_type": "stream",
     "text": [
      "✅ Evening Star: 203/500\n",
      "📈 Fetching data for BA\n"
     ]
    },
    {
     "name": "stderr",
     "output_type": "stream",
     "text": [
      "[*********************100%***********************]  1 of 1 completed\n"
     ]
    },
    {
     "name": "stdout",
     "output_type": "stream",
     "text": [
      "✅ Descending Triangle: 403/500\n",
      "✅ Descending Triangle: 404/500\n"
     ]
    },
    {
     "name": "stderr",
     "output_type": "stream",
     "text": [
      "[*********************100%***********************]  1 of 1 completed"
     ]
    },
    {
     "name": "stdout",
     "output_type": "stream",
     "text": [
      "📈 Fetching data for CAT\n"
     ]
    },
    {
     "name": "stderr",
     "output_type": "stream",
     "text": [
      "\n"
     ]
    },
    {
     "name": "stdout",
     "output_type": "stream",
     "text": [
      "✅ Hammer: 368/500\n",
      "✅ Hammer: 369/500\n",
      "✅ Hammer: 370/500\n",
      "✅ Hammer: 371/500\n",
      "✅ Hammer: 372/500\n",
      "✅ Hammer: 373/500\n"
     ]
    },
    {
     "name": "stderr",
     "output_type": "stream",
     "text": [
      "[*********************100%***********************]  1 of 1 completed"
     ]
    },
    {
     "name": "stdout",
     "output_type": "stream",
     "text": [
      "✅ Shooting Star: 368/500\n",
      "📈 Fetching data for DE\n"
     ]
    },
    {
     "name": "stderr",
     "output_type": "stream",
     "text": [
      "\n"
     ]
    },
    {
     "name": "stdout",
     "output_type": "stream",
     "text": [
      "✅ Shooting Star: 369/500\n",
      "✅ Shooting Star: 370/500\n",
      "✅ Shooting Star: 371/500\n",
      "📈 Fetching data for PFE\n"
     ]
    },
    {
     "name": "stderr",
     "output_type": "stream",
     "text": [
      "[*********************100%***********************]  1 of 1 completed\n"
     ]
    },
    {
     "name": "stdout",
     "output_type": "stream",
     "text": [
      "✅ Shooting Star: 372/500\n"
     ]
    },
    {
     "name": "stderr",
     "output_type": "stream",
     "text": [
      "[*********************100%***********************]  1 of 1 completed"
     ]
    },
    {
     "name": "stdout",
     "output_type": "stream",
     "text": [
      "📈 Fetching data for JNJ\n"
     ]
    },
    {
     "name": "stderr",
     "output_type": "stream",
     "text": [
      "\n",
      "[*********************100%***********************]  1 of 1 completed"
     ]
    },
    {
     "name": "stdout",
     "output_type": "stream",
     "text": [
      "📈 Fetching data for MRK\n"
     ]
    },
    {
     "name": "stderr",
     "output_type": "stream",
     "text": [
      "\n",
      "[*********************100%***********************]  1 of 1 completed"
     ]
    },
    {
     "name": "stdout",
     "output_type": "stream",
     "text": [
      "📈 Fetching data for LLY\n"
     ]
    },
    {
     "name": "stderr",
     "output_type": "stream",
     "text": [
      "\n",
      "[*********************100%***********************]  1 of 1 completed"
     ]
    },
    {
     "name": "stdout",
     "output_type": "stream",
     "text": [
      "✅ Shooting Star: 373/500\n",
      "📈 Fetching data for PLTR\n"
     ]
    },
    {
     "name": "stderr",
     "output_type": "stream",
     "text": [
      "\n",
      "[*********************100%***********************]  1 of 1 completed"
     ]
    },
    {
     "name": "stdout",
     "output_type": "stream",
     "text": [
      "✅ Evening Star: 204/500\n",
      "📈 Fetching data for SNOW\n"
     ]
    },
    {
     "name": "stderr",
     "output_type": "stream",
     "text": [
      "\n",
      "[*********************100%***********************]  1 of 1 completed"
     ]
    },
    {
     "name": "stdout",
     "output_type": "stream",
     "text": [
      "✅ Descending Triangle: 405/500\n",
      "📈 Fetching data for SHOP\n"
     ]
    },
    {
     "name": "stderr",
     "output_type": "stream",
     "text": [
      "\n",
      "[*********************100%***********************]  1 of 1 completed"
     ]
    },
    {
     "name": "stdout",
     "output_type": "stream",
     "text": [
      "✅ Shooting Star: 374/500\n",
      "📈 Fetching data for RIVN\n"
     ]
    },
    {
     "name": "stderr",
     "output_type": "stream",
     "text": [
      "\n"
     ]
    },
    {
     "name": "stdout",
     "output_type": "stream",
     "text": [
      "✅ Descending Triangle: 406/500\n",
      "📈 Fetching data for UBER\n"
     ]
    },
    {
     "name": "stderr",
     "output_type": "stream",
     "text": [
      "[*********************100%***********************]  1 of 1 completed\n"
     ]
    },
    {
     "name": "stdout",
     "output_type": "stream",
     "text": [
      "✅ Descending Triangle: 407/500\n"
     ]
    },
    {
     "name": "stderr",
     "output_type": "stream",
     "text": [
      "[*********************100%***********************]  1 of 1 completed"
     ]
    },
    {
     "name": "stdout",
     "output_type": "stream",
     "text": [
      "📈 Fetching data for SPY\n"
     ]
    },
    {
     "name": "stderr",
     "output_type": "stream",
     "text": [
      "\n",
      "[*********************100%***********************]  1 of 1 completed"
     ]
    },
    {
     "name": "stdout",
     "output_type": "stream",
     "text": [
      "📈 Fetching data for QQQ\n"
     ]
    },
    {
     "name": "stderr",
     "output_type": "stream",
     "text": [
      "\n"
     ]
    },
    {
     "name": "stdout",
     "output_type": "stream",
     "text": [
      "✅ Hammer: 374/500\n",
      "✅ Descending Triangle: 408/500\n"
     ]
    },
    {
     "name": "stderr",
     "output_type": "stream",
     "text": [
      "[*********************100%***********************]  1 of 1 completed"
     ]
    },
    {
     "name": "stdout",
     "output_type": "stream",
     "text": [
      "🔁 Pass 35 over symbols...\n",
      "📈 Fetching data for AAPL\n"
     ]
    },
    {
     "name": "stderr",
     "output_type": "stream",
     "text": [
      "\n"
     ]
    },
    {
     "name": "stdout",
     "output_type": "stream",
     "text": [
      "✅ Hammer: 375/500\n",
      "✅ Descending Triangle: 409/500\n"
     ]
    },
    {
     "name": "stderr",
     "output_type": "stream",
     "text": [
      "[*********************100%***********************]  1 of 1 completed"
     ]
    },
    {
     "name": "stdout",
     "output_type": "stream",
     "text": [
      "📈 Fetching data for MSFT\n"
     ]
    },
    {
     "name": "stderr",
     "output_type": "stream",
     "text": [
      "\n"
     ]
    },
    {
     "name": "stdout",
     "output_type": "stream",
     "text": [
      "✅ Hammer: 376/500\n",
      "✅ Hammer: 377/500\n"
     ]
    },
    {
     "name": "stderr",
     "output_type": "stream",
     "text": [
      "[*********************100%***********************]  1 of 1 completed"
     ]
    },
    {
     "name": "stdout",
     "output_type": "stream",
     "text": [
      "📈 Fetching data for GOOGL\n"
     ]
    },
    {
     "name": "stderr",
     "output_type": "stream",
     "text": [
      "\n",
      "[*********************100%***********************]  1 of 1 completed"
     ]
    },
    {
     "name": "stdout",
     "output_type": "stream",
     "text": [
      "📈 Fetching data for AMZN\n"
     ]
    },
    {
     "name": "stderr",
     "output_type": "stream",
     "text": [
      "\n"
     ]
    },
    {
     "name": "stdout",
     "output_type": "stream",
     "text": [
      "✅ Descending Triangle: 410/500\n",
      "✅ Descending Triangle: 411/500\n"
     ]
    },
    {
     "name": "stderr",
     "output_type": "stream",
     "text": [
      "[*********************100%***********************]  1 of 1 completed"
     ]
    },
    {
     "name": "stdout",
     "output_type": "stream",
     "text": [
      "✅ Hammer: 378/500\n",
      "📈 Fetching data for META\n"
     ]
    },
    {
     "name": "stderr",
     "output_type": "stream",
     "text": [
      "\n"
     ]
    },
    {
     "name": "stdout",
     "output_type": "stream",
     "text": [
      "📈 Fetching data for NVDA\n"
     ]
    },
    {
     "name": "stderr",
     "output_type": "stream",
     "text": [
      "[*********************100%***********************]  1 of 1 completed\n",
      "[*********************100%***********************]  1 of 1 completed"
     ]
    },
    {
     "name": "stdout",
     "output_type": "stream",
     "text": [
      "✅ Shooting Star: 375/500\n",
      "📈 Fetching data for TSLA\n"
     ]
    },
    {
     "name": "stderr",
     "output_type": "stream",
     "text": [
      "\n"
     ]
    },
    {
     "name": "stdout",
     "output_type": "stream",
     "text": [
      "✅ Descending Triangle: 412/500\n",
      "✅ Shooting Star: 376/500\n"
     ]
    },
    {
     "name": "stderr",
     "output_type": "stream",
     "text": [
      "[*********************100%***********************]  1 of 1 completed"
     ]
    },
    {
     "name": "stdout",
     "output_type": "stream",
     "text": [
      "📈 Fetching data for NFLX\n"
     ]
    },
    {
     "name": "stderr",
     "output_type": "stream",
     "text": [
      "\n"
     ]
    },
    {
     "name": "stdout",
     "output_type": "stream",
     "text": [
      "✅ Evening Star: 205/500\n",
      "✅ Evening Star: 206/500\n"
     ]
    },
    {
     "name": "stderr",
     "output_type": "stream",
     "text": [
      "[*********************100%***********************]  1 of 1 completed"
     ]
    },
    {
     "name": "stdout",
     "output_type": "stream",
     "text": [
      "📈 Fetching data for JPM\n"
     ]
    },
    {
     "name": "stderr",
     "output_type": "stream",
     "text": [
      "\n"
     ]
    },
    {
     "name": "stdout",
     "output_type": "stream",
     "text": [
      "✅ Evening Star: 207/500\n",
      "✅ Evening Star: 208/500\n",
      "✅ Shooting Star: 377/500\n"
     ]
    },
    {
     "name": "stderr",
     "output_type": "stream",
     "text": [
      "[*********************100%***********************]  1 of 1 completed"
     ]
    },
    {
     "name": "stdout",
     "output_type": "stream",
     "text": [
      "📈 Fetching data for BAC\n"
     ]
    },
    {
     "name": "stderr",
     "output_type": "stream",
     "text": [
      "\n",
      "[*********************100%***********************]  1 of 1 completed"
     ]
    },
    {
     "name": "stdout",
     "output_type": "stream",
     "text": [
      "📈 Fetching data for V\n"
     ]
    },
    {
     "name": "stderr",
     "output_type": "stream",
     "text": [
      "\n",
      "[*********************100%***********************]  1 of 1 completed"
     ]
    },
    {
     "name": "stdout",
     "output_type": "stream",
     "text": [
      "✅ Inverted Hammer: 35/500\n",
      "📈 Fetching data for MA\n"
     ]
    },
    {
     "name": "stderr",
     "output_type": "stream",
     "text": [
      "\n",
      "[*********************100%***********************]  1 of 1 completed"
     ]
    },
    {
     "name": "stdout",
     "output_type": "stream",
     "text": [
      "📈 Fetching data for SOFI\n"
     ]
    },
    {
     "name": "stderr",
     "output_type": "stream",
     "text": [
      "\n",
      "[*********************100%***********************]  1 of 1 completed"
     ]
    },
    {
     "name": "stdout",
     "output_type": "stream",
     "text": [
      "📈 Fetching data for COIN\n"
     ]
    },
    {
     "name": "stderr",
     "output_type": "stream",
     "text": [
      "\n"
     ]
    },
    {
     "name": "stdout",
     "output_type": "stream",
     "text": [
      "✅ Descending Triangle: 413/500\n",
      "✅ Descending Triangle: 414/500\n"
     ]
    },
    {
     "name": "stderr",
     "output_type": "stream",
     "text": [
      "[*********************100%***********************]  1 of 1 completed"
     ]
    },
    {
     "name": "stdout",
     "output_type": "stream",
     "text": [
      "📈 Fetching data for XOM\n"
     ]
    },
    {
     "name": "stderr",
     "output_type": "stream",
     "text": [
      "\n"
     ]
    },
    {
     "name": "stdout",
     "output_type": "stream",
     "text": [
      "✅ Shooting Star: 378/500\n",
      "📈 Fetching data for CVX\n"
     ]
    },
    {
     "name": "stderr",
     "output_type": "stream",
     "text": [
      "[*********************100%***********************]  1 of 1 completed\n"
     ]
    },
    {
     "name": "stdout",
     "output_type": "stream",
     "text": [
      "✅ Evening Star: 209/500\n",
      "📈 Fetching data for BA\n"
     ]
    },
    {
     "name": "stderr",
     "output_type": "stream",
     "text": [
      "[*********************100%***********************]  1 of 1 completed\n"
     ]
    },
    {
     "name": "stdout",
     "output_type": "stream",
     "text": [
      "✅ Descending Triangle: 415/500\n",
      "✅ Descending Triangle: 416/500\n"
     ]
    },
    {
     "name": "stderr",
     "output_type": "stream",
     "text": [
      "[*********************100%***********************]  1 of 1 completed"
     ]
    },
    {
     "name": "stdout",
     "output_type": "stream",
     "text": [
      "📈 Fetching data for CAT\n"
     ]
    },
    {
     "name": "stderr",
     "output_type": "stream",
     "text": [
      "\n"
     ]
    },
    {
     "name": "stdout",
     "output_type": "stream",
     "text": [
      "✅ Hammer: 379/500\n",
      "✅ Hammer: 380/500\n",
      "✅ Hammer: 381/500\n",
      "✅ Hammer: 382/500\n",
      "✅ Hammer: 383/500\n",
      "✅ Hammer: 384/500\n"
     ]
    },
    {
     "name": "stderr",
     "output_type": "stream",
     "text": [
      "[*********************100%***********************]  1 of 1 completed"
     ]
    },
    {
     "name": "stdout",
     "output_type": "stream",
     "text": [
      "✅ Shooting Star: 379/500\n",
      "📈 Fetching data for DE\n"
     ]
    },
    {
     "name": "stderr",
     "output_type": "stream",
     "text": [
      "\n"
     ]
    },
    {
     "name": "stdout",
     "output_type": "stream",
     "text": [
      "✅ Shooting Star: 380/500\n",
      "✅ Shooting Star: 381/500\n",
      "✅ Shooting Star: 382/500\n",
      "📈 Fetching data for PFE\n"
     ]
    },
    {
     "name": "stderr",
     "output_type": "stream",
     "text": [
      "[*********************100%***********************]  1 of 1 completed\n"
     ]
    },
    {
     "name": "stdout",
     "output_type": "stream",
     "text": [
      "✅ Shooting Star: 383/500\n"
     ]
    },
    {
     "name": "stderr",
     "output_type": "stream",
     "text": [
      "[*********************100%***********************]  1 of 1 completed"
     ]
    },
    {
     "name": "stdout",
     "output_type": "stream",
     "text": [
      "📈 Fetching data for JNJ\n"
     ]
    },
    {
     "name": "stderr",
     "output_type": "stream",
     "text": [
      "\n",
      "[*********************100%***********************]  1 of 1 completed"
     ]
    },
    {
     "name": "stdout",
     "output_type": "stream",
     "text": [
      "📈 Fetching data for MRK\n"
     ]
    },
    {
     "name": "stderr",
     "output_type": "stream",
     "text": [
      "\n",
      "[*********************100%***********************]  1 of 1 completed"
     ]
    },
    {
     "name": "stdout",
     "output_type": "stream",
     "text": [
      "📈 Fetching data for LLY\n"
     ]
    },
    {
     "name": "stderr",
     "output_type": "stream",
     "text": [
      "\n",
      "[*********************100%***********************]  1 of 1 completed"
     ]
    },
    {
     "name": "stdout",
     "output_type": "stream",
     "text": [
      "✅ Shooting Star: 384/500\n",
      "📈 Fetching data for PLTR\n"
     ]
    },
    {
     "name": "stderr",
     "output_type": "stream",
     "text": [
      "\n",
      "[*********************100%***********************]  1 of 1 completed"
     ]
    },
    {
     "name": "stdout",
     "output_type": "stream",
     "text": [
      "✅ Evening Star: 210/500\n",
      "📈 Fetching data for SNOW\n"
     ]
    },
    {
     "name": "stderr",
     "output_type": "stream",
     "text": [
      "\n",
      "[*********************100%***********************]  1 of 1 completed"
     ]
    },
    {
     "name": "stdout",
     "output_type": "stream",
     "text": [
      "✅ Descending Triangle: 417/500\n",
      "📈 Fetching data for SHOP\n"
     ]
    },
    {
     "name": "stderr",
     "output_type": "stream",
     "text": [
      "\n",
      "[*********************100%***********************]  1 of 1 completed"
     ]
    },
    {
     "name": "stdout",
     "output_type": "stream",
     "text": [
      "✅ Shooting Star: 385/500\n",
      "📈 Fetching data for RIVN\n"
     ]
    },
    {
     "name": "stderr",
     "output_type": "stream",
     "text": [
      "\n",
      "[*********************100%***********************]  1 of 1 completed"
     ]
    },
    {
     "name": "stdout",
     "output_type": "stream",
     "text": [
      "✅ Descending Triangle: 418/500\n",
      "📈 Fetching data for UBER\n"
     ]
    },
    {
     "name": "stderr",
     "output_type": "stream",
     "text": [
      "\n"
     ]
    },
    {
     "name": "stdout",
     "output_type": "stream",
     "text": [
      "✅ Descending Triangle: 419/500\n",
      "📈 Fetching data for SPY\n"
     ]
    },
    {
     "name": "stderr",
     "output_type": "stream",
     "text": [
      "[*********************100%***********************]  1 of 1 completed\n",
      "[*********************100%***********************]  1 of 1 completed"
     ]
    },
    {
     "name": "stdout",
     "output_type": "stream",
     "text": [
      "📈 Fetching data for QQQ\n"
     ]
    },
    {
     "name": "stderr",
     "output_type": "stream",
     "text": [
      "\n"
     ]
    },
    {
     "name": "stdout",
     "output_type": "stream",
     "text": [
      "✅ Hammer: 385/500\n",
      "✅ Descending Triangle: 420/500\n",
      "🎯 Balanced dataset complete!\n"
     ]
    }
   ],
   "source": [
    "import os\n",
    "import random\n",
    "import numpy as np\n",
    "import pandas as pd\n",
    "import yfinance as yf\n",
    "import mplfinance as mpf\n",
    "import matplotlib.pyplot as plt\n",
    "from scipy.signal import argrelextrema\n",
    "\n",
    "# Parameters\n",
    "IMAGES_DIR = \"balanced_stock_patterns\"\n",
    "os.makedirs(IMAGES_DIR, exist_ok=True)\n",
    "STOCK_SYMBOLS = [\n",
    "    \"AAPL\", \"MSFT\", \"GOOGL\", \"AMZN\", \"META\", \"NVDA\", \"TSLA\", \"NFLX\",\n",
    "    \"JPM\", \"BAC\", \"V\", \"MA\", \"SOFI\", \"COIN\",\n",
    "    \"XOM\", \"CVX\", \"BA\", \"CAT\", \"DE\",\n",
    "    \"PFE\", \"JNJ\", \"MRK\", \"LLY\",\n",
    "    \"PLTR\", \"SNOW\", \"SHOP\", \"RIVN\", \"UBER\",\n",
    "    \"SPY\", \"QQQ\"\n",
    "]\n",
    "\n",
    "START_DATE = \"2019-01-01\"\n",
    "END_DATE = \"2024-04-01\"\n",
    "\n",
    "\n",
    "# Initialize pattern counters\n",
    "pattern_counts = {}\n",
    "\n",
    "def detect_head_and_shoulders(data):\n",
    "    closing_prices = data[\"Close\"].values\n",
    "    indices = np.arange(len(closing_prices))\n",
    "\n",
    "    peaks = argrelextrema(closing_prices, np.greater, order=6)[0]\n",
    "    troughs = argrelextrema(closing_prices, np.less, order=6)[0]\n",
    "\n",
    "    if len(peaks) >= 3 and len(troughs) >= 1:\n",
    "        for i in range(len(peaks) - 2):\n",
    "            left_shoulder, head, right_shoulder = peaks[i], peaks[i + 1], peaks[i + 2]\n",
    "\n",
    "            # Allow some variation in height\n",
    "            shoulder_height_tolerance = 0.1 * closing_prices[head]\n",
    "\n",
    "            if (\n",
    "                closing_prices[left_shoulder] < closing_prices[head] and\n",
    "                closing_prices[right_shoulder] < closing_prices[head] and\n",
    "                abs(closing_prices[left_shoulder] - closing_prices[right_shoulder]) < shoulder_height_tolerance\n",
    "            ):\n",
    "                # Ensure the neckline exists\n",
    "                relevant_troughs = [closing_prices[t] for t in troughs if left_shoulder < t < right_shoulder]\n",
    "                if relevant_troughs and closing_prices[right_shoulder] < np.mean(relevant_troughs):\n",
    "                    return \"Head and Shoulders\"\n",
    "\n",
    "    return \"None\"\n",
    "\n",
    "\n",
    "# Detect Double Top\n",
    "def detect_double_top(data):\n",
    "    closing_prices = data[\"Close\"].values\n",
    "    peaks = argrelextrema(closing_prices, np.greater, order=5)[0]\n",
    "\n",
    "    if len(peaks) >= 2:\n",
    "        for i in range(len(peaks) - 1):\n",
    "            peak1, peak2 = peaks[i], peaks[i + 1]\n",
    "            price_diff = abs(closing_prices[peak1] - closing_prices[peak2])\n",
    "            avg_peak = (closing_prices[peak1] + closing_prices[peak2]) / 2\n",
    "\n",
    "            if price_diff < 0.03 * avg_peak and (peak2 - peak1) >= 5:\n",
    "                return \"Double Top\"\n",
    "    return \"None\"\n",
    "\n",
    "# Detect Double Bottom\n",
    "def detect_double_bottom(data):\n",
    "    closing_prices = data[\"Close\"].values\n",
    "    troughs = argrelextrema(closing_prices, np.less, order=5)[0]\n",
    "\n",
    "    if len(troughs) >= 2:\n",
    "        for i in range(len(troughs) - 1):\n",
    "            t1, t2 = troughs[i], troughs[i + 1]\n",
    "            diff = abs(closing_prices[t1] - closing_prices[t2])\n",
    "            avg = (closing_prices[t1] + closing_prices[t2]) / 2\n",
    "\n",
    "            if diff < 0.03 * avg and (t2 - t1) >= 5:\n",
    "                return \"Double Bottom\"\n",
    "    return \"None\"\n",
    "\n",
    "\n",
    "def detect_cup_and_handle(data):\n",
    "    closing_prices = data[\"Close\"].values\n",
    "    peaks = argrelextrema(closing_prices, np.greater, order=8)[0]\n",
    "    troughs = argrelextrema(closing_prices, np.less, order=8)[0]\n",
    "\n",
    "    if len(peaks) < 2 or len(troughs) < 1:\n",
    "        return \"None\"\n",
    "\n",
    "    for i in range(len(peaks) - 1):\n",
    "        left_peak, right_peak = peaks[i], peaks[i + 1]\n",
    "        relevant_troughs = [t for t in troughs if left_peak < t < right_peak]\n",
    "\n",
    "        if relevant_troughs:\n",
    "            min_trough = min(relevant_troughs, key=lambda x: closing_prices[x])\n",
    "            drop_pct = (closing_prices[left_peak] - closing_prices[min_trough]) / closing_prices[left_peak]\n",
    "\n",
    "            if 0.08 < drop_pct < 0.5 and (right_peak - left_peak) > 8:  # More flexible drop %\n",
    "                return \"Cup and Handle\"\n",
    "\n",
    "    return \"None\"\n",
    "\n",
    "def detect_ascending_triangle(data):\n",
    "    closing_prices = data[\"Close\"].values\n",
    "    peaks = argrelextrema(closing_prices, np.greater, order=6)[0]\n",
    "    troughs = argrelextrema(closing_prices, np.less, order=6)[0]\n",
    "\n",
    "    if len(peaks) < 3 or len(troughs) < 3:\n",
    "        return \"None\"\n",
    "\n",
    "    resistance_level = np.mean(closing_prices[peaks[-3:]])\n",
    "    last_troughs = closing_prices[troughs[-3:]]\n",
    "\n",
    "    if all(last_troughs[i] > last_troughs[i - 1] for i in range(1, len(last_troughs))):\n",
    "        return \"Ascending Triangle\"\n",
    "\n",
    "    return \"None\"\n",
    "\n",
    "def detect_descending_triangle(data):\n",
    "    closing_prices = data[\"Close\"].values\n",
    "    peaks = argrelextrema(closing_prices, np.greater, order=6)[0]\n",
    "    troughs = argrelextrema(closing_prices, np.less, order=6)[0]\n",
    "\n",
    "    if len(peaks) < 3 or len(troughs) < 3:\n",
    "        return \"None\"\n",
    "\n",
    "    support_level = np.mean(closing_prices[troughs[-3:]])\n",
    "    last_peaks = closing_prices[peaks[-3:]]\n",
    "\n",
    "    if all(last_peaks[i] < last_peaks[i - 1] for i in range(1, len(last_peaks))):\n",
    "        return \"Descending Triangle\"\n",
    "\n",
    "    return \"None\"\n",
    "\n",
    "def detect_falling_wedge(data):\n",
    "    closing_prices = data[\"Close\"].values\n",
    "    peaks = argrelextrema(closing_prices, np.greater, order=6)[0]\n",
    "    troughs = argrelextrema(closing_prices, np.less, order=6)[0]\n",
    "\n",
    "    if len(peaks) < 3 or len(troughs) < 3:\n",
    "        return \"None\"\n",
    "\n",
    "    last_peaks = closing_prices[peaks[-3:]]\n",
    "    last_troughs = closing_prices[troughs[-3:]]\n",
    "\n",
    "    if all(last_peaks[i] < last_peaks[i - 1] for i in range(1, len(last_peaks))) and \\\n",
    "       all(last_troughs[i] < last_troughs[i - 1] for i in range(1, len(last_troughs))):\n",
    "        return \"Falling Wedge\"\n",
    "\n",
    "    return \"None\"\n",
    "\n",
    "def detect_rising_wedge(data):\n",
    "    closing_prices = data[\"Close\"].values\n",
    "    peaks = argrelextrema(closing_prices, np.greater, order=6)[0]\n",
    "    troughs = argrelextrema(closing_prices, np.less, order=6)[0]\n",
    "\n",
    "    if len(peaks) < 3 or len(troughs) < 3:\n",
    "        return \"None\"\n",
    "\n",
    "    last_peaks = closing_prices[peaks[-3:]]\n",
    "    last_troughs = closing_prices[troughs[-3:]]\n",
    "\n",
    "    if all(last_peaks[i] > last_peaks[i - 1] for i in range(1, len(last_peaks))) and \\\n",
    "       all(last_troughs[i] > last_troughs[i - 1] for i in range(1, len(last_troughs))):\n",
    "        return \"Rising Wedge\"\n",
    "\n",
    "    return \"None\"\n",
    "\n",
    "def detect_bullish_engulfing(data):\n",
    "    for i in range(1, len(data) - 1):\n",
    "        prev_candle = data.iloc[i - 1]\n",
    "        curr_candle = data.iloc[i]\n",
    "\n",
    "        # Ensure first candle is red (bearish) and second is green (bullish)\n",
    "        if prev_candle[\"Close\"] < prev_candle[\"Open\"] and curr_candle[\"Close\"] > curr_candle[\"Open\"]:\n",
    "            # Ensure the bullish candle completely engulfs the previous bearish candle\n",
    "            if curr_candle[\"Close\"] > prev_candle[\"Open\"] and curr_candle[\"Open\"] < prev_candle[\"Close\"]:\n",
    "                # Extra condition: Higher volume on engulfing candle increases reliability\n",
    "                if curr_candle[\"Volume\"] > prev_candle[\"Volume\"]:\n",
    "                    return \"Bullish Engulfing\"\n",
    "    return \"None\"\n",
    "\n",
    "def detect_bearish_engulfing(data):\n",
    "    for i in range(1, len(data) - 1):\n",
    "        prev_candle = data.iloc[i - 1]\n",
    "        curr_candle = data.iloc[i]\n",
    "\n",
    "        # Ensure first candle is green (bullish) and second is red (bearish)\n",
    "        if prev_candle[\"Close\"] > prev_candle[\"Open\"] and curr_candle[\"Close\"] < curr_candle[\"Open\"]:\n",
    "            # Ensure the bearish candle completely engulfs the previous bullish candle\n",
    "            if curr_candle[\"Close\"] < prev_candle[\"Open\"] and curr_candle[\"Open\"] > prev_candle[\"Close\"]:\n",
    "                # Extra condition: Higher volume on engulfing candle increases reliability\n",
    "                if curr_candle[\"Volume\"] > prev_candle[\"Volume\"]:\n",
    "                    return \"Bearish Engulfing\"\n",
    "    return \"None\"\n",
    "\n",
    "def detect_hammer(data, min_lower_shadow_ratio=2.0):\n",
    "    for i in range(2, len(data)):\n",
    "        candle = data.iloc[i]\n",
    "        prev_candle = data.iloc[i - 1]\n",
    "\n",
    "        open_price = candle[\"Open\"]\n",
    "        close_price = candle[\"Close\"]\n",
    "        high = candle[\"High\"]\n",
    "        low = candle[\"Low\"]\n",
    "\n",
    "        body = abs(close_price - open_price)\n",
    "        lower_shadow = min(open_price, close_price) - low\n",
    "        upper_shadow = high - max(open_price, close_price)\n",
    "\n",
    "        # Basic hammer shape\n",
    "        if lower_shadow > min_lower_shadow_ratio * body and upper_shadow < body * 0.3:\n",
    "            # Context check: downtrend before this\n",
    "            if prev_candle[\"Close\"] < data.iloc[i - 2][\"Close\"] < candle[\"Close\"]:\n",
    "                return \"Hammer\"\n",
    "\n",
    "    return \"None\"\n",
    "\n",
    "def detect_inverted_hammer(data, min_upper_shadow_ratio=2.0):\n",
    "    for i in range(2, len(data)):\n",
    "        candle = data.iloc[i]\n",
    "        prev_candle = data.iloc[i - 1]\n",
    "\n",
    "        open_price = candle[\"Open\"]\n",
    "        close_price = candle[\"Close\"]\n",
    "        high = candle[\"High\"]\n",
    "        low = candle[\"Low\"]\n",
    "\n",
    "        body = abs(close_price - open_price)\n",
    "        upper_shadow = high - max(open_price, close_price)\n",
    "        lower_shadow = min(open_price, close_price) - low\n",
    "\n",
    "        # Inverted hammer shape\n",
    "        if upper_shadow > min_upper_shadow_ratio * body and lower_shadow < body * 0.3:\n",
    "            # Context check: previous candles should be in downtrend\n",
    "            if prev_candle[\"Close\"] < data.iloc[i - 2][\"Close\"] < candle[\"Close\"]:\n",
    "                return \"Inverted Hammer\"\n",
    "\n",
    "    return \"None\"\n",
    "\n",
    "def detect_hanging_man(data, min_lower_shadow_ratio=2.0):\n",
    "    for i in range(2, len(data)):\n",
    "        candle = data.iloc[i]\n",
    "        prev_candle = data.iloc[i - 1]\n",
    "\n",
    "        open_price = candle[\"Open\"]\n",
    "        close_price = candle[\"Close\"]\n",
    "        high = candle[\"High\"]\n",
    "        low = candle[\"Low\"]\n",
    "\n",
    "        body = abs(close_price - open_price)\n",
    "        lower_shadow = min(open_price, close_price) - low\n",
    "        upper_shadow = high - max(open_price, close_price)\n",
    "\n",
    "        # Hanging Man shape\n",
    "        if lower_shadow > min_lower_shadow_ratio * body and upper_shadow < body * 0.3:\n",
    "            # Context: Uptrend before this\n",
    "            if prev_candle[\"Close\"] > data.iloc[i - 2][\"Close\"] < candle[\"Close\"]:\n",
    "                return \"Hanging Man\"\n",
    "\n",
    "    return \"None\"\n",
    "\n",
    "def detect_shooting_star(data, min_upper_shadow_ratio=2.0):\n",
    "    for i in range(2, len(data)):\n",
    "        candle = data.iloc[i]\n",
    "        prev_candle = data.iloc[i - 1]\n",
    "\n",
    "        open_price = candle[\"Open\"]\n",
    "        close_price = candle[\"Close\"]\n",
    "        high = candle[\"High\"]\n",
    "        low = candle[\"Low\"]\n",
    "\n",
    "        body = abs(close_price - open_price)\n",
    "        upper_shadow = high - max(open_price, close_price)\n",
    "        lower_shadow = min(open_price, close_price) - low\n",
    "\n",
    "        # Shooting Star shape\n",
    "        if upper_shadow > min_upper_shadow_ratio * body and lower_shadow < body * 0.3:\n",
    "            # Context: Uptrend before this\n",
    "            if prev_candle[\"Close\"] > data.iloc[i - 2][\"Close\"] < candle[\"Close\"]:\n",
    "                return \"Shooting Star\"\n",
    "\n",
    "    return \"None\"\n",
    "\n",
    "def detect_morning_star(data):\n",
    "    for i in range(2, len(data)):\n",
    "        c1 = data.iloc[i - 2]  # First (bearish)\n",
    "        c2 = data.iloc[i - 1]  # Doji or small\n",
    "        c3 = data.iloc[i]      # Bullish\n",
    "\n",
    "        # Candle 1: Strong bearish\n",
    "        if c1[\"Close\"] < c1[\"Open\"] and abs(c1[\"Open\"] - c1[\"Close\"]) > 0.5 * (c1[\"High\"] - c1[\"Low\"]):\n",
    "            # Candle 2: Small real body\n",
    "            if abs(c2[\"Open\"] - c2[\"Close\"]) <= 0.3 * abs(c1[\"Open\"] - c1[\"Close\"]):\n",
    "                # Candle 3: Strong bullish and closes > midpoint of candle 1\n",
    "                if c3[\"Close\"] > c3[\"Open\"] and c3[\"Close\"] > (c1[\"Open\"] + c1[\"Close\"]) / 2:\n",
    "                    return \"Morning Star\"\n",
    "\n",
    "    return \"None\"\n",
    "\n",
    "def detect_evening_star(data):\n",
    "    for i in range(2, len(data)):\n",
    "        c1 = data.iloc[i - 2]  # First (bullish)\n",
    "        c2 = data.iloc[i - 1]  # Doji or small\n",
    "        c3 = data.iloc[i]      # Bearish\n",
    "\n",
    "        # Candle 1: Strong bullish\n",
    "        if c1[\"Close\"] > c1[\"Open\"] and abs(c1[\"Close\"] - c1[\"Open\"]) > 0.5 * (c1[\"High\"] - c1[\"Low\"]):\n",
    "            # Candle 2: Small real body\n",
    "            if abs(c2[\"Open\"] - c2[\"Close\"]) <= 0.3 * abs(c1[\"Close\"] - c1[\"Open\"]):\n",
    "                # Candle 3: Strong bearish and closes below midpoint of candle 1\n",
    "                if c3[\"Close\"] < c3[\"Open\"] and c3[\"Close\"] < (c1[\"Open\"] + c1[\"Close\"]) / 2:\n",
    "                    return \"Evening Star\"\n",
    "\n",
    "    return \"None\"\n",
    "\n",
    "\n",
    "def detect_patterns(data):\n",
    "    for detector in [\n",
    "        detect_head_and_shoulders,\n",
    "        detect_double_top,\n",
    "        detect_double_bottom,\n",
    "        detect_cup_and_handle,\n",
    "        detect_ascending_triangle,\n",
    "        detect_descending_triangle,\n",
    "        detect_falling_wedge,\n",
    "        detect_rising_wedge,\n",
    "        detect_bullish_engulfing,\n",
    "        detect_bearish_engulfing,\n",
    "        detect_hammer,\n",
    "        detect_inverted_hammer,\n",
    "        detect_hanging_man,\n",
    "        detect_shooting_star,\n",
    "        detect_morning_star,\n",
    "        detect_evening_star,\n",
    "    ]:\n",
    "        pattern = detector(data)\n",
    "        if pattern != \"None\":\n",
    "            return pattern\n",
    "    return \"None\"\n",
    "\n",
    "\n",
    "\n",
    "# Fetch stock data\n",
    "def fetch_stock_data(symbol, start, end):\n",
    "    \"\"\"Fetch stock data and ensure necessary columns exist.\"\"\"\n",
    "    stock = yf.download(symbol, start=start, end=end, auto_adjust=False, actions=False, repair=True)\n",
    "\n",
    "    # Convert multi-index columns to single index\n",
    "    if isinstance(stock.columns, pd.MultiIndex):\n",
    "        stock.columns = stock.columns.get_level_values(0)\n",
    "\n",
    "    # Drop NaNs to avoid mplfinance errors\n",
    "    stock.dropna(subset=[\"Open\", \"High\", \"Low\", \"Close\"], inplace=True)\n",
    "\n",
    "    return stock\n",
    "\n",
    "\n",
    "def create_pattern_folder(pattern_name):\n",
    "    folder = os.path.join(IMAGES_DIR, pattern_name.replace(\" \", \"_\"))\n",
    "    os.makedirs(folder, exist_ok=True)\n",
    "    return folder\n",
    "\n",
    "def save_chart(data, folder, filename):\n",
    "    fig, ax = plt.subplots(figsize=(8, 6))\n",
    "    mpf.plot(data, type=\"candle\", style=\"charles\", ax=ax, volume=False)\n",
    "    path = os.path.join(folder, filename)\n",
    "    plt.savefig(path)\n",
    "    plt.close()\n",
    "\n",
    "print(\"🚀 Starting balanced dataset generation...\")\n",
    "\n",
    "annotations = []\n",
    "TARGET_COUNT = 500 # For debugging\n",
    "WINDOW_SIZE = 50\n",
    "STEP_SIZE = 5\n",
    "\n",
    "all_patterns = [\n",
    "    \"Head and Shoulders\", \"Double Top\", \"Double Bottom\", \"Cup and Handle\", \"Ascending Triangle\",\n",
    "    \"Descending Triangle\", \"Falling Wedge\", \"Rising Wedge\", \"Bullish Engulfing\", \"Bearish Engulfing\",\n",
    "    \"Hammer\", \"Inverted Hammer\", \"Hanging Man\", \"Shooting Star\", \"Morning Star\", \"Evening Star\"\n",
    "]\n",
    "pattern_counts = {pattern: 0 for pattern in all_patterns}\n",
    "\n",
    "print(\"🚀 Starting balanced dataset generation...\")\n",
    "\n",
    "MAX_ATTEMPTS =35  # Fail-safe: how many passes over all symbols before we stop even if not 100% filled\n",
    "attempts = 0\n",
    "\n",
    "while any(count < TARGET_COUNT for count in pattern_counts.values()) and attempts < MAX_ATTEMPTS:\n",
    "    attempts += 1\n",
    "    print(f\"🔁 Pass {attempts} over symbols...\")\n",
    "\n",
    "    for symbol in STOCK_SYMBOLS:\n",
    "        print(f\"📈 Fetching data for {symbol}\")\n",
    "        stock_data = fetch_stock_data(symbol, START_DATE, END_DATE)\n",
    "\n",
    "        for start_idx in range(0, len(stock_data) - WINDOW_SIZE, STEP_SIZE):\n",
    "            subset = stock_data.iloc[start_idx:start_idx + WINDOW_SIZE]\n",
    "            pattern = detect_patterns(subset)\n",
    "\n",
    "            if pattern != \"None\" and pattern_counts.get(pattern, 0) < TARGET_COUNT:\n",
    "                folder = create_pattern_folder(pattern)\n",
    "                filename = f\"{symbol}_{pattern_counts[pattern]}.png\"\n",
    "                save_chart(subset, folder, filename)\n",
    "\n",
    "                annotations.append([filename, symbol, pattern])\n",
    "                pattern_counts[pattern] += 1\n",
    "                print(f\"✅ {pattern}: {pattern_counts[pattern]}/{TARGET_COUNT}\")\n",
    "\n",
    "            # Early stop inside the window loop\n",
    "            if all(c >= TARGET_COUNT for c in pattern_counts.values()):\n",
    "                break\n",
    "\n",
    "        if all(c >= TARGET_COUNT for c in pattern_counts.values()):\n",
    "            break\n",
    "\n",
    "print(\"🎯 Balanced dataset complete!\")\n",
    "df = pd.DataFrame(annotations, columns=[\"Filename\", \"Stock\", \"Pattern\"])\n",
    "df.to_csv(\"balanced_annotations.csv\", index=False)\n",
    "\n"
   ]
  },
  {
   "cell_type": "code",
   "execution_count": 1,
   "metadata": {
    "colab": {
     "base_uri": "https://localhost:8080/",
     "height": 34
    },
    "id": "REeYQyIUP7Y8",
    "outputId": "2d030e5f-654c-4c95-c049-c2a955cfe086"
   },
   "outputs": [
    {
     "name": "stdout",
     "output_type": "stream",
     "text": [
      "Ascending_Triangle: 1202 images\n",
      "Bearish_Engulfing: 1907 images\n",
      "Bullish_Engulfing: 1968 images\n",
      "Cup_and_Handle: 1976 images\n",
      "Descending_Triangle: 1136 images\n",
      "Double_Bottom: 1896 images\n",
      "Double_Top: 1949 images\n",
      "Evening_Star: 710 images\n",
      "Hammer: 885 images\n",
      "Hanging_Man: 1113 images\n",
      "Head_and_Shoulders: 1030 images\n",
      "Inverted_Hammer: 535 images\n",
      "Morning_Star: 1032 images\n",
      "Shooting_Star: 953 images\n"
     ]
    }
   ],
   "source": [
    "import os\n",
    "\n",
    "pattern_dirs = os.listdir(\"balanced_stock_patterns\")  # or your actual IMAGES_DIR path\n",
    "for pattern_dir in pattern_dirs:\n",
    "    count = len(os.listdir(os.path.join(\"balanced_stock_patterns\", pattern_dir)))\n",
    "    print(f\"{pattern_dir}: {count} images\")"
   ]
  },
  {
   "cell_type": "code",
   "execution_count": 12,
   "metadata": {
    "id": "xDSQftZlMyVY"
   },
   "outputs": [
    {
     "name": "stdout",
     "output_type": "stream",
     "text": [
      "annotations.csv file created with 18292 entries.\n"
     ]
    }
   ],
   "source": [
    "import os\n",
    "import pandas as pd\n",
    "\n",
    "# Path to the root folder containing pattern subfolders\n",
    "IMAGE_DIR = \"balanced_stock_patterns\"\n",
    "\n",
    "# List to hold the annotation rows\n",
    "annotations = []\n",
    "\n",
    "# Traverse each pattern folder\n",
    "for pattern_folder in os.listdir(IMAGE_DIR):\n",
    "    pattern_path = os.path.join(IMAGE_DIR, pattern_folder)\n",
    "    \n",
    "    if os.path.isdir(pattern_path):\n",
    "        # Convert folder name back to readable pattern name\n",
    "        pattern_name = pattern_folder.replace(\"_\", \" \")\n",
    "        \n",
    "        for filename in os.listdir(pattern_path):\n",
    "            if filename.endswith(\".png\"):\n",
    "                stock_symbol = filename.split(\"_\")[0]\n",
    "                annotations.append([filename, stock_symbol, pattern_name])\n",
    "\n",
    "# Create and save the annotations CSV\n",
    "df = pd.DataFrame(annotations, columns=[\"Filename\", \"Stock\", \"Pattern\"])\n",
    "df.to_csv(\"annotations.csv\", index=False)\n",
    "\n",
    "print(\"annotations.csv file created with\", len(df),\"entries.\")"
   ]
  },
  {
   "cell_type": "code",
   "execution_count": null,
   "metadata": {},
   "outputs": [],
   "source": []
  },
  {
   "cell_type": "code",
   "execution_count": null,
   "metadata": {},
   "outputs": [],
   "source": []
  }
 ],
 "metadata": {
  "accelerator": "GPU",
  "colab": {
   "gpuType": "T4",
   "provenance": []
  },
  "kernelspec": {
   "display_name": "Python [conda env:base] *",
   "language": "python",
   "name": "conda-base-py"
  },
  "language_info": {
   "codemirror_mode": {
    "name": "ipython",
    "version": 3
   },
   "file_extension": ".py",
   "mimetype": "text/x-python",
   "name": "python",
   "nbconvert_exporter": "python",
   "pygments_lexer": "ipython3",
   "version": "3.12.7"
  }
 },
 "nbformat": 4,
 "nbformat_minor": 4
}
